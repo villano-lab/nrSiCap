{
 "cells": [
  {
   "cell_type": "code",
   "execution_count": 1,
   "metadata": {},
   "outputs": [],
   "source": [
    "#Compare versions of cascade simulations"
   ]
  },
  {
   "cell_type": "code",
   "execution_count": 2,
   "metadata": {},
   "outputs": [
    {
     "data": {
      "text/html": [
       "<style>.container { width:100% !important; }</style>"
      ],
      "text/plain": [
       "<IPython.core.display.HTML object>"
      ]
     },
     "metadata": {},
     "output_type": "display_data"
    }
   ],
   "source": [
    "from IPython.core.display import display, HTML\n",
    "display(HTML(\"<style>.container { width:100% !important; }</style>\"))"
   ]
  },
  {
   "cell_type": "code",
   "execution_count": 3,
   "metadata": {},
   "outputs": [
    {
     "name": "stdout",
     "output_type": "stream",
     "text": [
      "../mplstyles\n",
      "3.1.1\n",
      "/data/chocula/mast/cdms/analysis/run068/R68_paper2019/mplstyles\n"
     ]
    }
   ],
   "source": [
    "#Set up notebook and load some R68 constants (V, eps, etc.)\n",
    "exec(open(\"nb_setup.py\").read())#Is there a better way to do this?\n",
    "from constants import *"
   ]
  },
  {
   "cell_type": "code",
   "execution_count": 4,
   "metadata": {},
   "outputs": [
    {
     "name": "stdout",
     "output_type": "stream",
     "text": [
      "Loading (n,gamma) Data...\n",
      "200000\n",
      "Loading (n,gamma) Data...\n",
      "400000\n"
     ]
    }
   ],
   "source": [
    "#Load the data\n",
    "import R68_load as r68\n",
    "\n",
    "cap_v1=r68.load_simcap('/data/chocula/villaa/cascadeSimData/normsi_fast_200k.pkl')\n",
    "cap_v2=r68.load_simcap('/data/chocula/villaa/cascadeSimData/si28_R68_400k.pkl')"
   ]
  },
  {
   "cell_type": "code",
   "execution_count": 5,
   "metadata": {},
   "outputs": [
    {
     "data": {
      "text/plain": [
       "dict_keys(['E', 'dE', 'N', 'tlive'])"
      ]
     },
     "execution_count": 5,
     "metadata": {},
     "output_type": "execute_result"
    }
   ],
   "source": [
    "cap_v1.keys()"
   ]
  },
  {
   "cell_type": "code",
   "execution_count": 8,
   "metadata": {},
   "outputs": [
    {
     "name": "stderr",
     "output_type": "stream",
     "text": [
      "findfont: Font family ['Arial'] not found. Falling back to DejaVu Sans.\n"
     ]
    },
    {
     "data": {
      "image/png": "[encoded data removed]",
      "text/plain": [
       "<Figure size 432x288 with 1 Axes>"
      ]
     },
     "metadata": {
      "needs_background": "light"
     },
     "output_type": "display_data"
    }
   ],
   "source": [
    "#Just look at the NRs\n",
    "fig, ax = plt.subplots(1,1,figsize=(6.0,4.0))\n",
    "\n",
    "NR_bins=np.linspace(0,5e3,201)\n",
    "\n",
    "ax.hist(np.sum(cap_v1['dE'],1), bins= NR_bins, histtype='step', linewidth=2, density=True, label='v1');\n",
    "ax.hist(np.sum(cap_v2['dE'],1), bins= NR_bins, histtype='step', linewidth=2, density=True, label='v2');\n",
    "\n",
    "ax.set_ylabel('fraction');\n",
    "ax.set_yscale('log')\n",
    "ax.set_xlim(0,4e3)\n",
    "ax.set_xlabel(r'$E_{NR}~[eV]$');\n",
    "\n",
    "plt.legend()\n",
    "plt.tight_layout()"
   ]
  },
  {
   "cell_type": "code",
   "execution_count": 9,
   "metadata": {},
   "outputs": [
    {
     "name": "stdout",
     "output_type": "stream",
     "text": [
      "dict_keys(['xx', 'yy', 'ex', 'ey'])\n"
     ]
    }
   ],
   "source": [
    "#Import yield models\n",
    "import R68_yield as Yield\n",
    "import R68_spec_tools as spec"
   ]
  },
  {
   "cell_type": "code",
   "execution_count": 10,
   "metadata": {},
   "outputs": [],
   "source": [
    "Emax = 2000 #eVee\n",
    "Ebins=np.linspace(0,Emax,201)\n",
    "Ebin_ctr=(Ebins[:-1]+Ebins[1:])/2"
   ]
  },
  {
   "cell_type": "code",
   "execution_count": 11,
   "metadata": {},
   "outputs": [],
   "source": [
    "Y=Yield.Yield('Damic',[])\n",
    "#F=0.1\n",
    "_,_,NG_v1_Fp1=spec.buildAvgSimSpectra_ee(Ebins=Ebins, Evec_nr=np.array([[0]]), Evec_er=np.array([[0]]),\n",
    "                                     Evec_ng=cap_v1['E'], dEvec_ng=cap_v1['dE'],\n",
    "                                     Yield=Y, F_NR=0.1, scale_g4=1, scale_ng=1, doDetRes=False)\n",
    "\n",
    "_,_,NG_v2_Fp1=spec.buildAvgSimSpectra_ee(Ebins=Ebins, Evec_nr=np.array([[0]]), Evec_er=np.array([[0]]),\n",
    "                                     Evec_ng=cap_v2['E'], dEvec_ng=cap_v2['dE'],\n",
    "                                     Yield=Y, F_NR=0.1, scale_g4=1, scale_ng=0.5, doDetRes=False)"
   ]
  },
  {
   "cell_type": "code",
   "execution_count": 12,
   "metadata": {},
   "outputs": [],
   "source": [
    "#F=1\n",
    "_,_,NG_v1_F1=spec.buildAvgSimSpectra_ee(Ebins=Ebins, Evec_nr=np.array([[0]]), Evec_er=np.array([[0]]),\n",
    "                                     Evec_ng=cap_v1['E'], dEvec_ng=cap_v1['dE'],\n",
    "                                     Yield=Y, F_NR=1, scale_g4=1, scale_ng=1, doDetRes=False)\n",
    "_,_,NG_v2_F1=spec.buildAvgSimSpectra_ee(Ebins=Ebins, Evec_nr=np.array([[0]]), Evec_er=np.array([[0]]),\n",
    "                                     Evec_ng=cap_v2['E'], dEvec_ng=cap_v2['dE'],\n",
    "                                     Yield=Y, F_NR=1, scale_g4=1, scale_ng=0.5, doDetRes=False)"
   ]
  },
  {
   "cell_type": "code",
   "execution_count": 13,
   "metadata": {},
   "outputs": [],
   "source": [
    "#F=1 + Detector Resolution\n",
    "_,_,NG_v1_F1_det=spec.buildAvgSimSpectra_ee(Ebins=Ebins, Evec_nr=np.array([[0]]), Evec_er=np.array([[0]]),\n",
    "                                     Evec_ng=cap_v1['E'], dEvec_ng=cap_v1['dE'],\n",
    "                                     Yield=Y, F_NR=1, scale_g4=1, scale_ng=1, doDetRes=True)\n",
    "_,_,NG_v2_F1_det=spec.buildAvgSimSpectra_ee(Ebins=Ebins, Evec_nr=np.array([[0]]), Evec_er=np.array([[0]]),\n",
    "                                     Evec_ng=cap_v2['E'], dEvec_ng=cap_v2['dE'],\n",
    "                                     Yield=Y, F_NR=1, scale_g4=1, scale_ng=0.5, doDetRes=True)"
   ]
  },
  {
   "cell_type": "code",
   "execution_count": 14,
   "metadata": {},
   "outputs": [
    {
     "name": "stderr",
     "output_type": "stream",
     "text": [
      "findfont: Font family ['Arial'] not found. Falling back to DejaVu Sans.\n"
     ]
    },
    {
     "data": {
      "image/png": "[encoded data removed]",
      "text/plain": [
       "<Figure size 864x288 with 3 Axes>"
      ]
     },
     "metadata": {
      "needs_background": "light"
     },
     "output_type": "display_data"
    }
   ],
   "source": [
    "fig, ax = plt.subplots(1,3,figsize=(12.0,4.0),sharex=True)\n",
    "\n",
    "ax[0].step(Ebin_ctr,NG_v1_Fp1,where='mid',label='v1, F=0.1')\n",
    "ax[0].step(Ebin_ctr,NG_v2_Fp1,where='mid',label='v2, F=0.1')\n",
    "\n",
    "ax[1].step(Ebin_ctr,NG_v1_F1,where='mid',label='v1, F=1')\n",
    "ax[1].step(Ebin_ctr,NG_v2_F1,where='mid',label='v2, F=1')\n",
    "\n",
    "ax[2].step(Ebin_ctr,NG_v1_F1_det,where='mid',label='v1, F=1, +Det Res')\n",
    "ax[2].step(Ebin_ctr,NG_v2_F1_det,where='mid',label='v2, F=1, +Det Res')\n",
    "\n",
    "\n",
    "for axi in ax:\n",
    "    axi.set_xlim(0,500)\n",
    "    axi.set_xlabel(r'$E_R~[eV_{ee}]$',fontsize=16)\n",
    "    axi.set_ylabel('Counts',fontsize=16)\n",
    "    axi.legend(title='(n,gamma) sim')\n",
    "    axi.annotate('Damic Yield', xy=(0, 0), xytext=(0.5, 0.7), textcoords='axes fraction')\n",
    "\n",
    "plt.tight_layout()\n",
    "plt.savefig('figures/n_gamma_spectrum_version_compare.png')"
   ]
  },
  {
   "cell_type": "code",
   "execution_count": null,
   "metadata": {},
   "outputs": [],
   "source": [
    "np.argmax(NG_v2_F1_det)/np.argmax(NG_v1_F1_det)"
   ]
  },
  {
   "cell_type": "code",
   "execution_count": null,
   "metadata": {},
   "outputs": [],
   "source": []
  },
  {
   "cell_type": "code",
   "execution_count": null,
   "metadata": {},
   "outputs": [],
   "source": []
  }
 ],
 "metadata": {
  "kernelspec": {
   "display_name": "Python [conda env:nr_fano] *",
   "language": "python",
   "name": "conda-env-nr_fano-py"
  },
  "language_info": {
   "codemirror_mode": {
    "name": "ipython",
    "version": 3
   },
   "file_extension": ".py",
   "mimetype": "text/x-python",
   "name": "python",
   "nbconvert_exporter": "python",
   "pygments_lexer": "ipython3",
   "version": "3.6.9"
  }
 },
 "nbformat": 4,
 "nbformat_minor": 2
}
