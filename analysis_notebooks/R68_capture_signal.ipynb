{
 "cells": [
  {
   "cell_type": "markdown",
   "metadata": {},
   "source": [
    "# Capture Cascades for Si\n",
    "\n",
    "The naturally occuring isotopes of silicon are $^{28}$Si (92.2%), $^{29}$Si (4.7%), and $^{30}$Si (3.1%). Since we suspect that most of the captures will be of neutrons that are essentially thermal, we examined the cross sections from JENDL 4.0 [JENDL][JENDL4_0] to see the relative fractions of capture on each isotope. \n",
    "\n",
    "[JENDL4_0]: https://wwwndc.jaea.go.jp/jendl/j40/j40.html \"JENDL 4.0\"\n",
    "\n",
    "\n",
    "The Figures below are taken from the JENDL 4.0 site [JENDL][JENDL4_0] and show that the thermal cross sections are on order of the same value for each isotope. This means that we expect the isotope with the highest abundance, $^{28}$Si, to have the highest captures. We therefore focus on the strongest cascades from that isotope only. \n",
    "\n",
    "<table><tr>\n",
    "<td> <img src=\"pics/si028_f1.jpg\" alt=\"capture cross section for 28Si\" style=\"width: 300px;\"/> </td>\n",
    "<td> <img src=\"pics/si029_f1.jpg\" alt=\"capture cross section for 29Si\" style=\"width: 300px;\"/> </td>\n",
    "<td> <img src=\"pics/si030_f1.jpg\" alt=\"capture cross section for 30Si\" style=\"width: 300px;\"/> </td>\n",
    "</tr></table>"
   ]
  },
  {
   "cell_type": "code",
   "execution_count": null,
   "metadata": {},
   "outputs": [],
   "source": []
  }
 ],
 "metadata": {
  "kernelspec": {
   "display_name": "Python [conda env:py373_gammapi] *",
   "language": "python",
   "name": "conda-env-py373_gammapi-py"
  },
  "language_info": {
   "codemirror_mode": {
    "name": "ipython",
    "version": 3
   },
   "file_extension": ".py",
   "mimetype": "text/x-python",
   "name": "python",
   "nbconvert_exporter": "python",
   "pygments_lexer": "ipython3",
   "version": "3.7.3"
  }
 },
 "nbformat": 4,
 "nbformat_minor": 2
}
