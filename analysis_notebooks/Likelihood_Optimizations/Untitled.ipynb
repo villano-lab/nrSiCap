{
 "cells": [
  {
   "cell_type": "code",
   "execution_count": null,
   "id": "701e3b8c-5aac-462c-9f8d-02813b0bce7e",
   "metadata": {},
   "outputs": [
    {
     "name": "stdout",
     "output_type": "stream",
     "text": [
      "dict_keys(['xx', 'yy', 'ex', 'ey'])\n"
     ]
    }
   ],
   "source": [
    "import sys\n",
    "sys.path.append('../../pythonv2/')\n",
    "import fittingSO_KCH as opt\n",
    "\n",
    "initial = [0.183,2.94807038e-03, 4.58431131e+00, 2.12647135e+00,7.59037558e+00, 3.99620693e+00]\n",
    "bounds = ((0,1),(0,None),(0,None),(0,None),(0,None),(0,None))\n",
    "opt.get_optimized_stats('Sor',initial,bounds)"
   ]
  },
  {
   "cell_type": "code",
   "execution_count": null,
   "id": "4e188296-d6cd-4bbe-9ce5-ff70d2ff595a",
   "metadata": {},
   "outputs": [],
   "source": []
  }
 ],
 "metadata": {
  "kernelspec": {
   "display_name": "Python 3",
   "language": "python",
   "name": "python3"
  },
  "language_info": {
   "codemirror_mode": {
    "name": "ipython",
    "version": 3
   },
   "file_extension": ".py",
   "mimetype": "text/x-python",
   "name": "python",
   "nbconvert_exporter": "python",
   "pygments_lexer": "ipython3",
   "version": "3.7.9"
  }
 },
 "nbformat": 4,
 "nbformat_minor": 5
}
