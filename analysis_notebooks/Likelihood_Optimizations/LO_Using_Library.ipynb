{
 "cells": [
  {
   "cell_type": "code",
   "execution_count": 1,
   "id": "2f17c195-80a1-4546-bc67-962c3814b81b",
   "metadata": {},
   "outputs": [
    {
     "name": "stdout",
     "output_type": "stream",
     "text": [
      "dict_keys(['xx', 'yy', 'ex', 'ey'])\n"
     ]
    }
   ],
   "source": [
    "#Imports\n",
    "import sys\n",
    "sys.path.append('../../pythonv2/')\n",
    "import fittingSO_KCH as opt"
   ]
  },
  {
   "cell_type": "markdown",
   "id": "3b68c2ed-2458-46e5-936d-3cc2728980e5",
   "metadata": {},
   "source": [
    "# With NG"
   ]
  },
  {
   "cell_type": "code",
   "execution_count": null,
   "id": "5c0f1932-264e-4443-902b-a13c780cb913",
   "metadata": {},
   "outputs": [],
   "source": [
    "# Lindhard\n",
    "initial = [0.11927562,4.36997059,5.97411253,3.1632175,2.58444265]\n",
    "bounds = ((0,1),(0,None),(0,None),(0,None),(0,None))\n",
    "opt.get_optimized_stats('Lind',initial,bounds)"
   ]
  },
  {
   "cell_type": "code",
   "execution_count": null,
   "id": "4773e334-8cad-4df7-90c1-a5a762767ea0",
   "metadata": {},
   "outputs": [],
   "source": [
    "# Sorensen\n",
    "initial = [0.183,2.94807038e-03, 4.58431131e+00, 2.12647135e+00,7.59037558e+00, 3.99620693e+00]\n",
    "bounds = ((0,1),(0,None),(0,None),(0,None),(0,None),(0,None))\n",
    "opt.get_optimized_stats('Sor',initial,bounds)"
   ]
  },
  {
   "cell_type": "code",
   "execution_count": 2,
   "id": "4e188296-d6cd-4bbe-9ce5-ff70d2ff595a",
   "metadata": {},
   "outputs": [
    {
     "name": "stdout",
     "output_type": "stream",
     "text": [
      "MODEL: Chav \n",
      "\n",
      "STATISTICS\n",
      "------------\n",
      "Log likelihood: 1068.334279669268\n",
      "Chisq: 670.3673215856395\n",
      "Chisq/DoF: 3.546917045426664 \n",
      "\n",
      "PARAMETERS\n",
      "------------\n",
      "k = 0.134\n",
      "$a^{-1}$ = 649.679\n",
      "F_NR = 3.827\n",
      "f_ER = 5.738\n",
      "f_NR = 3.546\n",
      "f_ng = 2.660\n",
      "\n"
     ]
    }
   ],
   "source": [
    "# Chav\n",
    "initial = [0.134279505,6.49681079e+02,3.91285667,5.74565561,3.53868871,2.6685195]\n",
    "bounds = ((0,1),(0,None),(0,None),(0,None),(0,None),(0,None))\n",
    "opt.get_optimized_stats('Chav',initial,bounds)"
   ]
  },
  {
   "cell_type": "code",
   "execution_count": 3,
   "id": "4eebdf19-c271-46d1-9564-5aad119a782c",
   "metadata": {},
   "outputs": [
    {
     "name": "stdout",
     "output_type": "stream",
     "text": [
      "MODEL: AC \n",
      "\n",
      "STATISTICS\n",
      "------------\n",
      "Log likelihood: 1141.0340984274753\n",
      "Chisq: 524.967684069222\n",
      "Chisq/DoF: 2.7776067940170472 \n",
      "\n",
      "PARAMETERS\n",
      "------------\n",
      "k = 0.113\n",
      "$\\xi$ = 209.293\n",
      "F_NR = 3.046\n",
      "f_ER = 5.076\n",
      "f_NR = 3.998\n",
      "f_ng = 2.492\n",
      "\n"
     ]
    },
    {
     "name": "stderr",
     "output_type": "stream",
     "text": [
      "../../pythonv2/fittingSO_KCH.py:499: UserWarning: Parameter printing for model 'AC' not yet implemented.\n",
      "  Warn.warn(\"Parameter printing for model 'AC' not yet implemented.\")\n"
     ]
    }
   ],
   "source": [
    "# AC\n",
    "initial = [0.113180032,2.10189777e+02,3.09920982, 5.08553293, 3.9867414,2.50051158]\n",
    "bounds = ((0,1),(0,None),(0,None),(0,None),(0,None),(0,None))\n",
    "opt.get_optimized_stats('AC',initial,bounds)"
   ]
  },
  {
   "cell_type": "markdown",
   "id": "2a90769f-a95f-48e8-b7a7-2a185e94e63e",
   "metadata": {},
   "source": [
    "# No NG"
   ]
  },
  {
   "cell_type": "code",
   "execution_count": 4,
   "id": "8a6464e2-5759-4a92-b7a9-635a8be34db6",
   "metadata": {},
   "outputs": [
    {
     "name": "stdout",
     "output_type": "stream",
     "text": [
      "MODEL: Lind \n",
      "\n",
      "STATISTICS\n",
      "------------\n",
      "Log likelihood: 31.839153110302846\n",
      "Chisq: 2743.357574703624\n",
      "Chisq/DoF: 14.438724077387494 \n",
      "\n",
      "PARAMETERS\n",
      "------------\n",
      "k = 0.302\n",
      "F_NR = 0.000\n",
      "f_ER = 3.187\n",
      "f_NR = 6.902\n",
      "f_ng = 0.000\n",
      "\n"
     ]
    }
   ],
   "source": [
    "# Lindhard\n",
    "initial = [0.11927562,4.36997059,5.97411253,3.1632175,0]\n",
    "bounds = ((0,1),(0,None),(0,None),(0,None),(0,1e-9))\n",
    "opt.get_optimized_stats('Lind',initial,bounds,f_ngzero=True)\n",
    "\n",
    "#Note: slight discrepancies from old version and notable discrepancy in the log likelihood - why?"
   ]
  },
  {
   "cell_type": "code",
   "execution_count": 6,
   "id": "2fc8cfcb-7f16-4f36-9984-e5a10daec7de",
   "metadata": {},
   "outputs": [
    {
     "name": "stdout",
     "output_type": "stream",
     "text": [
      "MODEL: Sor \n",
      "\n",
      "STATISTICS\n",
      "------------\n",
      "Log likelihood: -4489.495081734059\n",
      "Chisq: 11786.026044392846\n",
      "Chisq/DoF: 62.359926160808705 \n",
      "\n",
      "PARAMETERS\n",
      "------------\n",
      "k = 0.183\n",
      "q = 2.94807e-03\n",
      "F_NR = 4.584\n",
      "f_ER = 2.126\n",
      "f_NR = 7.590\n",
      "f_ng = 0.000\n",
      "\n"
     ]
    }
   ],
   "source": [
    "# Sorensen\n",
    "initial = [0.183,2.94807038e-03, 4.58431131e+00, 2.12647135e+00,7.59037558e+00, 0]\n",
    "bounds = ((0,1),(0,None),(0,None),(0,None),(0,None),(0,0))\n",
    "opt.get_optimized_stats('Sor',initial,bounds,f_ngzero=True)\n",
    "\n",
    "# Discrepancies continue here - something may be wrong with the f_ngzero, \n",
    "# Or it could be the result of increased precision in initial values."
   ]
  },
  {
   "cell_type": "code",
   "execution_count": null,
   "id": "64636180-616d-4085-92b8-96947aae1666",
   "metadata": {},
   "outputs": [],
   "source": [
    "# Chav\n",
    "initial = [0.134279505,6.49681079e+02,3.91285667,5.74565561,3.53868871,0]\n",
    "bounds = ((0,1),(0,None),(0,None),(0,None),(0,None),(0,1e-9))\n",
    "opt.get_optimized_stats('Chav',initial,bounds,f_ngzero=True)"
   ]
  },
  {
   "cell_type": "code",
   "execution_count": null,
   "id": "806ac483-24a1-40d3-af26-f03bcc5d2c0f",
   "metadata": {},
   "outputs": [],
   "source": [
    "# AC\n",
    "initial = [0.113180032,2.10189777e+02,3.09920982, 5.08553293, 3.9867414,0]\n",
    "bounds = ((0,1),(0,None),(0,None),(0,None),(0,None),(0,1e-9))\n",
    "opt.get_optimized_stats('AC',initial,bounds,f_ngzero=True)"
   ]
  }
 ],
 "metadata": {
  "kernelspec": {
   "display_name": "Python 3",
   "language": "python",
   "name": "python3"
  },
  "language_info": {
   "codemirror_mode": {
    "name": "ipython",
    "version": 3
   },
   "file_extension": ".py",
   "mimetype": "text/x-python",
   "name": "python",
   "nbconvert_exporter": "python",
   "pygments_lexer": "ipython3",
   "version": "3.7.9"
  }
 },
 "nbformat": 4,
 "nbformat_minor": 5
}
