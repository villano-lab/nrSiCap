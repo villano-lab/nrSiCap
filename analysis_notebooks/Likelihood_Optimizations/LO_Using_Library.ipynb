{
 "cells": [
  {
   "cell_type": "code",
   "execution_count": 1,
   "id": "2f17c195-80a1-4546-bc67-962c3814b81b",
   "metadata": {},
   "outputs": [
    {
     "name": "stdout",
     "output_type": "stream",
     "text": [
      "dict_keys(['xx', 'yy', 'ex', 'ey'])\n"
     ]
    }
   ],
   "source": [
    "#Imports\n",
    "import sys\n",
    "sys.path.append('../../pythonv2/')\n",
    "import fittingSO_KCH as opt"
   ]
  },
  {
   "cell_type": "markdown",
   "id": "3b68c2ed-2458-46e5-936d-3cc2728980e5",
   "metadata": {},
   "source": [
    "# With NG"
   ]
  },
  {
   "cell_type": "code",
   "execution_count": null,
   "id": "5c0f1932-264e-4443-902b-a13c780cb913",
   "metadata": {},
   "outputs": [],
   "source": [
    "# Lindhard\n",
    "initial = [0.11927562,4.36997059,5.97411253,3.1632175,2.58444265]\n",
    "bounds = ((0,1),(0,None),(0,None),(0,None),(0,None))\n",
    "opt.get_optimized_stats('Lind',initial,bounds)"
   ]
  },
  {
   "cell_type": "code",
   "execution_count": null,
   "id": "4773e334-8cad-4df7-90c1-a5a762767ea0",
   "metadata": {},
   "outputs": [],
   "source": [
    "# Sorensen\n",
    "initial = [0.183,2.94807038e-03, 4.58431131e+00, 2.12647135e+00,7.59037558e+00, 3.99620693e+00]\n",
    "bounds = ((0,1),(0,None),(0,None),(0,None),(0,None),(0,None))\n",
    "opt.get_optimized_stats('Sor',initial,bounds)"
   ]
  },
  {
   "cell_type": "code",
   "execution_count": 2,
   "id": "4e188296-d6cd-4bbe-9ce5-ff70d2ff595a",
   "metadata": {},
   "outputs": [
    {
     "name": "stdout",
     "output_type": "stream",
     "text": [
      "MODEL: Chav \n",
      "\n",
      "STATISTICS\n",
      "------------\n",
      "Log likelihood: 1068.334279669268\n",
      "Chisq: 670.3673215856395\n",
      "Chisq/DoF: 3.546917045426664 \n",
      "\n",
      "PARAMETERS\n",
      "------------\n",
      "k = 0.134\n",
      "$a^{-1}$ = 649.679\n",
      "F_NR = 3.827\n",
      "f_ER = 5.738\n",
      "f_NR = 3.546\n",
      "f_ng = 2.660\n",
      "\n"
     ]
    }
   ],
   "source": [
    "# Chav\n",
    "initial = [0.134279505,6.49681079e+02,3.91285667,5.74565561,3.53868871,2.6685195]\n",
    "bounds = ((0,1),(0,None),(0,None),(0,None),(0,None),(0,None))\n",
    "opt.get_optimized_stats('Chav',initial,bounds)"
   ]
  },
  {
   "cell_type": "code",
   "execution_count": null,
   "id": "4eebdf19-c271-46d1-9564-5aad119a782c",
   "metadata": {},
   "outputs": [],
   "source": [
    "# AC\n",
    "initial = [0.113180032,2.10189777e+02,3.09920982, 5.08553293, 3.9867414,2.50051158]\n",
    "bounds = ((0,1),(0,None),(0,None),(0,None),(0,None),(0,None))\n",
    "opt.get_optimized_stats('AC',initial,bounds)"
   ]
  },
  {
   "cell_type": "markdown",
   "id": "2a90769f-a95f-48e8-b7a7-2a185e94e63e",
   "metadata": {},
   "source": [
    "# No NG"
   ]
  },
  {
   "cell_type": "code",
   "execution_count": null,
   "id": "8a6464e2-5759-4a92-b7a9-635a8be34db6",
   "metadata": {},
   "outputs": [],
   "source": [
    "# Lindhard\n",
    "initial = [0.11927562,4.36997059,5.97411253,3.1632175,0]\n",
    "bounds = ((0,1),(0,None),(0,None),(0,None),(0,1e-9))\n",
    "opt.get_optimized_stats('Lind',initial,bounds,f_ngzero=True)"
   ]
  },
  {
   "cell_type": "code",
   "execution_count": null,
   "id": "2fc8cfcb-7f16-4f36-9984-e5a10daec7de",
   "metadata": {},
   "outputs": [],
   "source": [
    "# Sorensen\n",
    "initial = [0.183,2.94807038e-03, 4.58431131e+00, 2.12647135e+00,7.59037558e+00, 0]\n",
    "bounds = ((0,1),(0,None),(0,None),(0,None),(0,None),(0,0))\n",
    "opt.get_optimized_stats('Sor',initial,bounds,fng_zero=True)"
   ]
  },
  {
   "cell_type": "code",
   "execution_count": null,
   "id": "64636180-616d-4085-92b8-96947aae1666",
   "metadata": {},
   "outputs": [],
   "source": [
    "# Chav\n",
    "initial = [0.134279505,6.49681079e+02,3.91285667,5.74565561,3.53868871,0]\n",
    "bounds = ((0,1),(0,None),(0,None),(0,None),(0,None),(0,1e-9))\n",
    "opt.get_optimized_stats('Chav',initial,bounds,fng_zero=True)"
   ]
  },
  {
   "cell_type": "code",
   "execution_count": null,
   "id": "806ac483-24a1-40d3-af26-f03bcc5d2c0f",
   "metadata": {},
   "outputs": [],
   "source": [
    "# AC\n",
    "initial = [0.113180032,2.10189777e+02,3.09920982, 5.08553293, 3.9867414,0]\n",
    "bounds = ((0,1),(0,None),(0,None),(0,None),(0,None),(0,1e-9))\n",
    "opt.get_optimized_stats('AC',initial,bounds,fng_zero=True)"
   ]
  }
 ],
 "metadata": {
  "kernelspec": {
   "display_name": "Python 3",
   "language": "python",
   "name": "python3"
  },
  "language_info": {
   "codemirror_mode": {
    "name": "ipython",
    "version": 3
   },
   "file_extension": ".py",
   "mimetype": "text/x-python",
   "name": "python",
   "nbconvert_exporter": "python",
   "pygments_lexer": "ipython3",
   "version": "3.7.9"
  }
 },
 "nbformat": 4,
 "nbformat_minor": 5
}
