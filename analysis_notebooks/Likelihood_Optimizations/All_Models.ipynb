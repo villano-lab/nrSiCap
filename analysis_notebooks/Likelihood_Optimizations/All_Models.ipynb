{
 "cells": [
  {
   "cell_type": "code",
   "execution_count": 1,
   "id": "2f17c195-80a1-4546-bc67-962c3814b81b",
   "metadata": {},
   "outputs": [
    {
     "name": "stdout",
     "output_type": "stream",
     "text": [
      "dict_keys(['xx', 'yy', 'ex', 'ey'])\n"
     ]
    }
   ],
   "source": [
    "#Imports\n",
    "import sys\n",
    "sys.path.append('../../python/')\n",
    "import fittingSO as opt"
   ]
  },
  {
   "cell_type": "markdown",
   "id": "3b68c2ed-2458-46e5-936d-3cc2728980e5",
   "metadata": {},
   "source": [
    "# With NG"
   ]
  },
  {
   "cell_type": "code",
   "execution_count": 2,
   "id": "5c0f1932-264e-4443-902b-a13c780cb913",
   "metadata": {},
   "outputs": [
    {
     "name": "stderr",
     "output_type": "stream",
     "text": [
      "/home/gerudo7/anaconda3/envs/r68/lib/python3.6/importlib/_bootstrap.py:219: RuntimeWarning: numpy.ufunc size changed, may indicate binary incompatibility. Expected 192 from C header, got 216 from PyObject\n",
      "  return f(*args, **kwds)\n"
     ]
    },
    {
     "name": "stdout",
     "output_type": "stream",
     "text": [
      "     fun: -1042.1055390872561\n",
      "     jac: array([-4.79980469e-01, -3.50952148e-04,  5.82885742e-03,  5.37109375e-03,\n",
      "       -4.48608398e-03])\n",
      " message: 'Optimization terminated successfully'\n",
      "    nfev: 75\n",
      "     nit: 10\n",
      "    njev: 10\n",
      "  status: 0\n",
      " success: True\n",
      "       x: array([0.11928303, 4.30741757, 5.97009708, 3.16801593, 2.57928233])\n",
      "MODEL: Lind \n",
      "\n",
      "STATISTICS\n",
      "------------\n",
      "Log likelihood: 1042.1055390872561\n",
      "Chisq: 722.8248027496472\n",
      "Chisq/DoF: 3.8043410671034064 \n",
      "\n",
      "PARAMETERS\n",
      "------------\n",
      "k = 0.119\n",
      "F_NR = 4.307\n",
      "f_ER = 5.970\n",
      "f_NR = 3.168\n",
      "f_ng = 2.579\n",
      "\n"
     ]
    }
   ],
   "source": [
    "# Lindhard\n",
    "initial = [0.11927562,4.36997059,5.97411253,3.1632175,2.58444265]\n",
    "bounds = ((0,1),(0,None),(0,None),(0,None),(0,None))\n",
    "opt.get_optimized_stats('Lind',initial,bounds)"
   ]
  },
  {
   "cell_type": "code",
   "execution_count": 3,
   "id": "4773e334-8cad-4df7-90c1-a5a762767ea0",
   "metadata": {},
   "outputs": [
    {
     "name": "stdout",
     "output_type": "stream",
     "text": [
      "     fun: -1215.2199509812754\n",
      "     jac: array([-8.83361816e-01,  4.63411407e+01,  5.03540039e-03,  1.14440918e-02,\n",
      "        6.74438477e-03, -2.19726562e-02])\n",
      " message: 'Optimization terminated successfully'\n",
      "    nfev: 169\n",
      "     nit: 20\n",
      "    njev: 20\n",
      "  status: 0\n",
      " success: True\n",
      "       x: array([1.50617060e-01, 1.78273534e-03, 4.10662381e+00, 4.17767957e+00,\n",
      "       5.50461622e+00, 3.52790672e+00])\n",
      "MODEL: Sor \n",
      "\n",
      "STATISTICS\n",
      "------------\n",
      "Log likelihood: 1215.2199509812754\n",
      "Chisq: 376.5959789616131\n",
      "Chisq/DoF: 1.9925713172572124 \n",
      "\n",
      "PARAMETERS\n",
      "------------\n",
      "k = 0.151\n",
      "q = 1.78274e-03\n",
      "F_NR = 4.107\n",
      "f_ER = 4.178\n",
      "f_NR = 5.505\n",
      "f_ng = 3.528\n",
      "\n"
     ]
    }
   ],
   "source": [
    "# Sorensen\n",
    "initial = [0.183,2.94807038e-03, 4.58431131e+00, 2.12647135e+00,7.59037558e+00, 3.99620693e+00]\n",
    "bounds = ((0,1),(0,None),(0,None),(0,None),(0,None),(0,None))\n",
    "opt.get_optimized_stats('Sor',initial,bounds)"
   ]
  },
  {
   "cell_type": "code",
   "execution_count": 4,
   "id": "4e188296-d6cd-4bbe-9ce5-ff70d2ff595a",
   "metadata": {},
   "outputs": [
    {
     "name": "stdout",
     "output_type": "stream",
     "text": [
      "     fun: -1068.3342878072062\n",
      "     jac: array([ 0.52680969,  0.00054932, -0.00215149,  0.00350952,  0.00387573,\n",
      "        0.00209045])\n",
      " message: 'Optimization terminated successfully'\n",
      "    nfev: 73\n",
      "     nit: 8\n",
      "    njev: 8\n",
      "  status: 0\n",
      " success: True\n",
      "       x: array([1.34156561e-01, 6.49679280e+02, 3.82643996e+00, 5.73832088e+00,\n",
      "       3.54568088e+00, 2.66042099e+00])\n",
      "MODEL: Chav \n",
      "\n",
      "STATISTICS\n",
      "------------\n",
      "Log likelihood: 1068.3342878072062\n",
      "Chisq: 670.3673053097481\n",
      "Chisq/DoF: 3.5469169593108365 \n",
      "\n",
      "PARAMETERS\n",
      "------------\n",
      "k = 0.134\n",
      "$a^{-1}$ = 649.679\n",
      "F_NR = 3.826\n",
      "f_ER = 5.738\n",
      "f_NR = 3.546\n",
      "f_ng = 2.660\n",
      "\n"
     ]
    }
   ],
   "source": [
    "# Chav\n",
    "initial = [0.134279505,6.49681079e+02,3.91285667,5.74565561,3.53868871,2.6685195]\n",
    "bounds = ((0,1),(0,None),(0,None),(0,None),(0,None),(0,None))\n",
    "opt.get_optimized_stats('Chav',initial,bounds)"
   ]
  },
  {
   "cell_type": "code",
   "execution_count": 5,
   "id": "4eebdf19-c271-46d1-9564-5aad119a782c",
   "metadata": {},
   "outputs": [
    {
     "name": "stdout",
     "output_type": "stream",
     "text": [
      "     fun: -1141.0341262594454\n",
      "     jac: array([3.92272949e-01, 1.52587891e-04, 6.86645508e-03, 2.48870850e-02,\n",
      "       3.00598145e-02, 1.22985840e-02])\n",
      " message: 'Optimization terminated successfully'\n",
      "    nfev: 180\n",
      "     nit: 22\n",
      "    njev: 22\n",
      "  status: 0\n",
      " success: True\n",
      "       x: array([1.13127166e-01, 2.09340101e+02, 3.04828997e+00, 5.07585300e+00,\n",
      "       3.99783463e+00, 2.49255599e+00])\n",
      "MODEL: AC \n",
      "\n",
      "STATISTICS\n",
      "------------\n",
      "Log likelihood: 1141.0341262594454\n",
      "Chisq: 524.9676284052713\n",
      "Chisq/DoF: 2.77760649949879 \n",
      "\n",
      "PARAMETERS\n",
      "------------\n",
      "k = 0.113\n",
      "$\\xi$ = 209.340\n",
      "F_NR = 3.048\n",
      "f_ER = 5.076\n",
      "f_NR = 3.998\n",
      "f_ng = 2.493\n",
      "\n"
     ]
    }
   ],
   "source": [
    "# AC\n",
    "initial = [0.113180032,2.10189777e+02,3.09920982, 5.08553293, 3.9867414,2.50051158]\n",
    "bounds = ((0,1),(0,None),(0,None),(0,None),(0,None),(0,None))\n",
    "opt.get_optimized_stats('AC',initial,bounds)"
   ]
  },
  {
   "cell_type": "markdown",
   "id": "2a90769f-a95f-48e8-b7a7-2a185e94e63e",
   "metadata": {},
   "source": [
    "# No NG"
   ]
  },
  {
   "cell_type": "code",
   "execution_count": 6,
   "id": "8a6464e2-5759-4a92-b7a9-635a8be34db6",
   "metadata": {},
   "outputs": [
    {
     "name": "stdout",
     "output_type": "stream",
     "text": [
      "     fun: -29.6289124205818\n",
      "     jac: array([ 0.00000000e+00,  1.00883212e+07,  1.54329300e+00, -7.57701874e-01,\n",
      "        0.00000000e+00])\n",
      " message: 'Inequality constraints incompatible'\n",
      "    nfev: 43\n",
      "     nit: 6\n",
      "    njev: 6\n",
      "  status: 4\n",
      " success: False\n",
      "       x: array([0.30177559, 0.        , 3.18586957, 6.90260208, 0.        ])\n",
      "MODEL: Lind \n",
      "\n",
      "STATISTICS\n",
      "------------\n",
      "Log likelihood: 29.6289124205818\n",
      "Chisq: 2747.7780560829806\n",
      "Chisq/DoF: 14.461989768857793 \n",
      "\n",
      "PARAMETERS\n",
      "------------\n",
      "k = 0.302\n",
      "F_NR = 0.000\n",
      "f_ER = 3.186\n",
      "f_NR = 6.903\n",
      "f_ng = 0.000\n",
      "\n"
     ]
    }
   ],
   "source": [
    "# Lindhard\n",
    "import numpy as np\n",
    "initial = np.asarray([0.119,4.370, 5.974, 3.163,0])\n",
    "bounds = ((0,1),(0,None),(0,None),(0,None),(0,1e-9))\n",
    "opt.get_optimized_stats('Lind',initial,bounds,f_ngzero=True)\n",
    "\n",
    "#Note: slight discrepancies from old version and notable discrepancy in the log likelihood - why?"
   ]
  },
  {
   "cell_type": "code",
   "execution_count": 7,
   "id": "2fc8cfcb-7f16-4f36-9984-e5a10daec7de",
   "metadata": {},
   "outputs": [
    {
     "name": "stdout",
     "output_type": "stream",
     "text": [
      "     fun: -450.4427459986814\n",
      "     jac: array([-4.19898033e+01,  5.95692890e+06,  3.75495911e-01,  2.53147835e+02,\n",
      "        1.43907242e+01,  0.00000000e+00])\n",
      " message: 'Optimization terminated successfully'\n",
      "    nfev: 62\n",
      "     nit: 10\n",
      "    njev: 6\n",
      "  status: 0\n",
      " success: True\n",
      "       x: array([4.05332920e-01, 3.09442007e-10, 4.13424863e+02, 3.36481249e+00,\n",
      "       7.36182855e+00, 0.00000000e+00])\n",
      "MODEL: Sor \n",
      "\n",
      "STATISTICS\n",
      "------------\n",
      "Log likelihood: 450.4427459986814\n",
      "Chisq: 1906.150388926797\n",
      "Chisq/DoF: 10.085451793263475 \n",
      "\n",
      "PARAMETERS\n",
      "------------\n",
      "k = 0.405\n",
      "q = 3.09442e-10\n",
      "F_NR = 413.425\n",
      "f_ER = 3.365\n",
      "f_NR = 7.362\n",
      "f_ng = 0.000\n",
      "\n"
     ]
    }
   ],
   "source": [
    "# Sorensen\n",
    "initial = [4.05799815e-01, 3.00071404e-10, 4.14018676e+02, 3.39896851e+00,7.43590283e+00, 0]\n",
    "bounds = ((0,1),(0,1e-9),(0,None),(0,None),(0,None),(0,1e-9))\n",
    "opt.get_optimized_stats('Sor',initial,bounds,f_ngzero=True)\n",
    "\n",
    "# Discrepancies continue here - something may be wrong with the f_ngzero, \n",
    "# Or it could be the result of increased precision in initial values."
   ]
  },
  {
   "cell_type": "code",
   "execution_count": 8,
   "id": "64636180-616d-4085-92b8-96947aae1666",
   "metadata": {},
   "outputs": [
    {
     "name": "stdout",
     "output_type": "stream",
     "text": [
      "     fun: -398.35107548395877\n",
      "     jac: array([-0.20030975,  0.00022125, -0.02024841,  0.00209427,  0.00352478,\n",
      "        0.        ])\n",
      " message: 'Optimization terminated successfully'\n",
      "    nfev: 304\n",
      "     nit: 40\n",
      "    njev: 40\n",
      "  status: 0\n",
      " success: True\n",
      "       x: array([  0.60744827, 298.18911069,   1.02942019,   2.14544884,\n",
      "         8.75176569,   0.        ])\n",
      "MODEL: Chav \n",
      "\n",
      "STATISTICS\n",
      "------------\n",
      "Log likelihood: 398.35107548395877\n",
      "Chisq: 2010.3337299562313\n",
      "Chisq/DoF: 10.636686401884822 \n",
      "\n",
      "PARAMETERS\n",
      "------------\n",
      "k = 0.607\n",
      "$a^{-1}$ = 298.189\n",
      "F_NR = 1.029\n",
      "f_ER = 2.145\n",
      "f_NR = 8.752\n",
      "f_ng = 0.000\n",
      "\n"
     ]
    }
   ],
   "source": [
    "# Chav\n",
    "initial = [0.134279505,6.49681079e+02,3.91285667,5.74565561,3.53868871,0]\n",
    "bounds = ((0,1),(0,None),(0,None),(0,None),(0,None),(0,1e-9))\n",
    "opt.get_optimized_stats('Chav',initial,bounds,f_ngzero=True)"
   ]
  },
  {
   "cell_type": "code",
   "execution_count": 9,
   "id": "806ac483-24a1-40d3-af26-f03bcc5d2c0f",
   "metadata": {},
   "outputs": [
    {
     "name": "stdout",
     "output_type": "stream",
     "text": [
      "     fun: -499.3191400488597\n",
      "     jac: array([-5.47622681e-01, -2.59399414e-04, -6.14936829e-01,  2.74658203e-03,\n",
      "        5.68771362e-03,  0.00000000e+00])\n",
      " message: 'Optimization terminated successfully'\n",
      "    nfev: 184\n",
      "     nit: 23\n",
      "    njev: 23\n",
      "  status: 0\n",
      " success: True\n",
      "       x: array([ 0.45164907, 78.89598813,  0.98819251,  2.25751024,  8.01131174,\n",
      "        0.        ])\n",
      "MODEL: AC \n",
      "\n",
      "STATISTICS\n",
      "------------\n",
      "Log likelihood: 499.3191400488597\n",
      "Chisq: 1808.3976008264322\n",
      "Chisq/DoF: 9.568241274213927 \n",
      "\n",
      "PARAMETERS\n",
      "------------\n",
      "k = 0.452\n",
      "$\\xi$ = 78.896\n",
      "F_NR = 0.988\n",
      "f_ER = 2.258\n",
      "f_NR = 8.011\n",
      "f_ng = 0.000\n",
      "\n"
     ]
    }
   ],
   "source": [
    "# AC\n",
    "initial = [0.113180032,2.10189777e+02,3.09920982, 5.08553293, 3.9867414,0]\n",
    "bounds = ((0,1),(0,None),(0,None),(0,None),(0,None),(0,1e-9))\n",
    "opt.get_optimized_stats('AC',initial,bounds,f_ngzero=True)"
   ]
  }
 ],
 "metadata": {
  "kernelspec": {
   "display_name": "Python 3",
   "language": "python",
   "name": "python3"
  },
  "language_info": {
   "codemirror_mode": {
    "name": "ipython",
    "version": 3
   },
   "file_extension": ".py",
   "mimetype": "text/x-python",
   "name": "python",
   "nbconvert_exporter": "python",
   "pygments_lexer": "ipython3",
   "version": "3.6.13"
  }
 },
 "nbformat": 4,
 "nbformat_minor": 5
}
