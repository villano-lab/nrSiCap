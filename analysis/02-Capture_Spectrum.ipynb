{
 "cells": [
  {
   "cell_type": "markdown",
   "id": "fa7a080a-3a52-4794-a5c7-79acc6bc26f2",
   "metadata": {},
   "source": [
    "# Capture Spectrum"
   ]
  },
  {
   "cell_type": "code",
   "execution_count": null,
   "id": "f7db2dc2-7cca-4a12-9bd9-20f8c05e202f",
   "metadata": {},
   "outputs": [],
   "source": []
  }
 ],
 "metadata": {
  "kernelspec": {
   "display_name": "Python [conda env:r68] *",
   "language": "python",
   "name": "conda-env-r68-py"
  },
  "language_info": {
   "codemirror_mode": {
    "name": "ipython",
    "version": 3
   },
   "file_extension": ".py",
   "mimetype": "text/x-python",
   "name": "python",
   "nbconvert_exporter": "python",
   "pygments_lexer": "ipython3",
   "version": "3.6.13"
  }
 },
 "nbformat": 4,
 "nbformat_minor": 5
}
