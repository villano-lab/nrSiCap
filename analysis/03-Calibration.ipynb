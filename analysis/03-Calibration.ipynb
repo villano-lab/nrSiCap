{
 "cells": [
  {
   "cell_type": "markdown",
   "id": "02d342af-5187-4c8b-a1af-ef2463f93349",
   "metadata": {},
   "source": [
    "# Calibration\n",
    "\n",
    "Below are two figures pertaining to the calibration data. \n",
    "The first shows the full background spectrum,\n",
    "while the second shows the detector resolution model fitted based on this data."
   ]
  },
  {
   "cell_type": "markdown",
   "id": "3e98973c-cf63-47bd-a8e6-a34885c24699",
   "metadata": {},
   "source": [
    "## Spectrum\n",
    "\n",
    "Calibration lines in the background energy spectrum with selection of events near the Am-241 calibration source.\n",
    "\n",
    "![A spectrum of background data, shown as counts vs energy, with calibration lines overlaid on the peaks of the spectrum. The clearest peaks are Am-241, but Pb, Au, and Ag fluorescent lines are present as well. A 60keV Comptom simulation with a flat background is also present, and roughly follows the curve of the data from 0 to 10 keV, but cannot account for the large peaks past this point.](../figures/r68_calall_bg_am_pb_au_ag.png)\n",
    "\n",
    "The majority of discernable events are due to Am-241. \n",
    "A Compton simulation with a flat background is used to establish the \"baseline\" of the spectrum. \n",
    "The calibration was ultimately based on two lines - those at 13.95 and 17.74 keV, both due to the Am-241 source,\n",
    "as well as the assumption that zero energy produces a zero OF amplitude.\n",
    "The resulting calibration showed a good fit to the five identified lines below 20 keV. \n",
    "As the region of interest in this experiment is 50 eVee to 2 keVee, it was necessary to extrapolate below the lowest identified line,\n",
    "which was 9.6 keV due to Au fluorescence."
   ]
  },
  {
   "cell_type": "markdown",
   "id": "51c0c293-78a9-4558-852e-cd2b3c15eac8",
   "metadata": {},
   "source": [
    "## Resolution Model Fit\n",
    "\n",
    "Detector resolution model fit using widths of identified peaks seen in the previous figure.  \n",
    "Blue points were used for the fit; other points were rejected to avoid peak shape distortions.\n",
    "\n",
    "![A best-fit line of resolution vs. energy over a few data points. Seven out of twelve data points were kept; the remaining five were rejected. The line has a chisquare 20.66 with 5 degrees of freedom. The parameter res0 is given as 10.27 ± 5.066 eVee and the parameter B is given as 1.941 ±0.05832 eVee. The line has the general shape of a square root function.](../figures/r68_bg_resolution_bparam.png)\n",
    "\n",
    "The total resolution in eVee is defined as $\\sigma_{ee}^2 = \\sigma_0^2 + (B+\\epsilon_{\\gamma}F)E_{ee}$, \n",
    "where $\\sigma_0$ is the baseline resolution, F is the Fano factor (value 0.1161), and B represents any additional resolution effects intrinsic to the detector. \n",
    "The observed peaks used for the fit were not entirely symmetrical, instead having a Gaussian shape plus a low-energy tail. \n",
    "The associated distortion was avoided in the peak fits, \n",
    "and lines without a clear high-energy edge were rejected for the fitting process. \n",
    "The highest energy line was also rejected based on a suspicion that it was distorted by partial saturation of the TES sensors. \n",
    "The resolution model is specific to electron recoils as the Fano factor is known to be different for nuclear recoils."
   ]
  }
 ],
 "metadata": {
  "kernelspec": {
   "display_name": "Python [conda env:r68] *",
   "language": "python",
   "name": "conda-env-r68-py"
  },
  "language_info": {
   "codemirror_mode": {
    "name": "ipython",
    "version": 3
   },
   "file_extension": ".py",
   "mimetype": "text/x-python",
   "name": "python",
   "nbconvert_exporter": "python",
   "pygments_lexer": "ipython3",
   "version": "3.6.13"
  }
 },
 "nbformat": 4,
 "nbformat_minor": 5
}
