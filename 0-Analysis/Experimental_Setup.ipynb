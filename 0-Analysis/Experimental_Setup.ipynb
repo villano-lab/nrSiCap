{
 "cells": [
  {
   "cell_type": "markdown",
   "id": "8473570c",
   "metadata": {},
   "source": [
    "# Experimental Setup\n",
    "\n",
    "Below is a top-down diagram of experimental setup, as outlined in the main paper `[CITATION NEEDED]`.  The jagged green line shows a possible path of a thermalizing neutron."
   ]
  },
  {
   "cell_type": "markdown",
   "id": "a066a7bc",
   "metadata": {
    "tags": []
   },
   "source": [
    "![Diagram of detector setup. The SNOLAB HV detector is protected by poly shielding on three sides, which is encased in lead shielding on all four sides. To the right of the main lead shielding box is a block of lead. Past this block is the \"Plutinium Beryllium paraffin drum\". A neutron travels in a jagged path from the paraffin drum, through the lead shielding, through the poly shielding, and into the detector. It changes directions many times along the way, but does most of its changing in direction inside the block of lead.](../figures/Fig01_Copy.svg)"
   ]
  },
  {
   "cell_type": "markdown",
   "id": "b1eddace-bd0d-4b88-a518-75213850638d",
   "metadata": {},
   "source": [
    "The PuBe  (1.4 Ciα,62 μCi n) acts as the neutron source, where the neutrons' energies are reduced by the paraffin-filled drum. \n",
    "This drum also blocked gamma emissions below 5 keV.\n",
    "A 1.7 mm thick disk of lead with a 0.46 mm hole collimated the source gammas and restricted the emission rate to less than 25 Hz.\n",
    "A strip of Kapton tape placed over the collimator blocked alpha emissions.\n",
    "The 1' thick lead block serves to block ~MeV gammas from the PuBe source. \n",
    "Lead shielding 5/8\" thick around and below the detector reduces the detection of background gammas, \n",
    "and the 8\" thick polyethylene shielding on three sides of and below the detector is present for further neutron energy reduction.\n",
    "\n",
    "For calibration, a 1 μCi $^{241}$Am source was mounted inside the housing of the HV detector."
   ]
  }
 ],
 "metadata": {
  "kernelspec": {
   "display_name": "Python 3",
   "language": "python",
   "name": "python3"
  },
  "language_info": {
   "codemirror_mode": {
    "name": "ipython",
    "version": 3
   },
   "file_extension": ".py",
   "mimetype": "text/x-python",
   "name": "python",
   "nbconvert_exporter": "python",
   "pygments_lexer": "ipython3",
   "version": "3.6.13"
  }
 },
 "nbformat": 4,
 "nbformat_minor": 5
}
