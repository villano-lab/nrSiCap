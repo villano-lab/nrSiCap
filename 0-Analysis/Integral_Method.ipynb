{
 "cells": [
  {
   "cell_type": "markdown",
   "id": "7f599c3e-eaeb-45b8-acfe-e66e84c57988",
   "metadata": {},
   "source": [
    "# Integral Method\n",
    "\n",
    "The \"integral method\" of fitting refers to"
   ]
  },
  {
   "cell_type": "code",
   "execution_count": null,
   "id": "68765f84-e274-46a3-9b33-49d0b716d26b",
   "metadata": {},
   "outputs": [],
   "source": []
  }
 ],
 "metadata": {
  "kernelspec": {
   "display_name": "Python 3",
   "language": "python",
   "name": "python3"
  },
  "language_info": {
   "codemirror_mode": {
    "name": "ipython",
    "version": 3
   },
   "file_extension": ".py",
   "mimetype": "text/x-python",
   "name": "python",
   "nbconvert_exporter": "python",
   "pygments_lexer": "ipython3",
   "version": "3.6.13"
  }
 },
 "nbformat": 4,
 "nbformat_minor": 5
}
