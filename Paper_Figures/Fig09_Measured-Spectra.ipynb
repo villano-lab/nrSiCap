{
 "cells": [
  {
   "cell_type": "markdown",
   "metadata": {},
   "source": [
    "From `analysis_notebooks/R68_meas_spectra_plot.ipynb`"
   ]
  },
  {
   "cell_type": "code",
   "execution_count": 1,
   "metadata": {},
   "outputs": [
    {
     "data": {
      "text/html": [
       "<style>.container { width:100% !important; }</style>"
      ],
      "text/plain": [
       "<IPython.core.display.HTML object>"
      ]
     },
     "metadata": {},
     "output_type": "display_data"
    },
    {
     "name": "stdout",
     "output_type": "stream",
     "text": [
      "../mplstyles\n",
      "3.3.4\n",
      "/mnt/d/git/R68_paper2019/mplstyles\n",
      "Loading Measured Data...\n",
      "PuBe events:  (476731,)\n",
      "Bkg events:  (174636,)\n"
     ]
    }
   ],
   "source": [
    "#Import libraries and settings\n",
    "\n",
    "from IPython.core.display import display, HTML\n",
    "display(HTML(\"<style>.container { width:100% !important; }</style>\"))\n",
    "exec(open(\"../analysis_notebooks/nb_setup.py\").read())\n",
    "from constants import *\n",
    "import R68_load as r68\n",
    "import R68_efficiencies as eff\n",
    "meas=r68.load_measured()\n",
    "import R68_spec_tools as spec\n",
    "\n",
    "fig_w=7 #Used later for figure width"
   ]
  },
  {
   "cell_type": "code",
   "execution_count": 2,
   "metadata": {},
   "outputs": [
    {
     "data": {
      "text/plain": [
       "(170,)"
      ]
     },
     "execution_count": 2,
     "metadata": {},
     "output_type": "execute_result"
    }
   ],
   "source": [
    "Emax = 2000 #eVee\n",
    "Ebins=np.linspace(0,Emax,201)\n",
    "Ebins_ctr=(Ebins[:-1]+Ebins[1:])/2\n",
    "Efit_min=50#[eVee]\n",
    "Efit_max=1750#[eVee]\n",
    "spec_bounds=(np.digitize(Efit_min,Ebins)-1,np.digitize(Efit_max,Ebins)-1)\n",
    "\n",
    "Ebins_ctr[slice(*spec_bounds)].shape"
   ]
  },
  {
   "cell_type": "code",
   "execution_count": 3,
   "metadata": {},
   "outputs": [
    {
     "name": "stderr",
     "output_type": "stream",
     "text": [
      "/home/gerudo7/anaconda3/lib/python3.7/site-packages/ipykernel_launcher.py:12: RuntimeWarning: divide by zero encountered in true_divide\n",
      "  if sys.path[0] == '':\n",
      "/home/gerudo7/anaconda3/lib/python3.7/site-packages/ipykernel_launcher.py:18: RuntimeWarning: divide by zero encountered in true_divide\n",
      "/home/gerudo7/anaconda3/lib/python3.7/site-packages/ipykernel_launcher.py:20: RuntimeWarning: divide by zero encountered in true_divide\n",
      "/home/gerudo7/anaconda3/lib/python3.7/site-packages/ipykernel_launcher.py:23: RuntimeWarning: invalid value encountered in true_divide\n"
     ]
    }
   ],
   "source": [
    "#Measured\n",
    "N_meas_PuBe,_ = np.histogram(meas['PuBe']['E'],bins=Ebins)\n",
    "N_meas_Bkg,_ = np.histogram(meas['Bkg']['E'],bins=Ebins)\n",
    "#Count uncertainties are Poisson\n",
    "dN_meas_PuBe_Pois=np.sqrt(N_meas_PuBe)\n",
    "dN_meas_Bkg_Pois=np.sqrt(N_meas_Bkg)\n",
    "\n",
    "#Include uncertainty from efficiencies\n",
    "dN_meas_PuBe = N_meas_PuBe*np.sqrt( (dN_meas_PuBe_Pois/N_meas_PuBe)**2 + (eff.deff_write/eff.eff_write)**2 +\n",
    "                                   (eff.dcutEffFit(Ebins_ctr)/eff.cutEffFit(Ebins_ctr))**2)\n",
    "dN_meas_Bkg = N_meas_Bkg*np.sqrt( (dN_meas_Bkg_Pois/N_meas_Bkg)**2 + (eff.deff_write_bkg/eff.eff_write_bkg)**2 +\n",
    "                                   (eff.dcutEffFit_bkg(Ebins_ctr)/eff.cutEffFit_bkg(Ebins_ctr))**2)\n",
    "#Scaling factors\n",
    "tlive_ratio=meas['PuBe']['tlive']/meas['Bkg']['tlive']\n",
    "writeEff_ratio=eff.eff_write/eff.eff_write_bkg\n",
    "dwriteEff_ratio=writeEff_ratio*np.sqrt( (eff.deff_write/eff.eff_write)**2 + (eff.deff_write_bkg/eff.eff_write_bkg)**2 )\n",
    "\n",
    "cutEff_ratio=eff.cutEffFit(Ebins_ctr)/eff.cutEffFit_bkg(Ebins_ctr)\n",
    "dcutEff_ratio = cutEff_ratio*np.sqrt( (eff.dcutEffFit(Ebins_ctr)/eff.cutEffFit(Ebins_ctr))**2 + \n",
    "                                     (eff.dcutEffFit_bkg(Ebins_ctr)/eff.cutEffFit_bkg(Ebins_ctr))**2 )\n",
    "\n",
    "ratio=tlive_ratio*writeEff_ratio*cutEff_ratio\n",
    "dratio=ratio*np.sqrt( (dwriteEff_ratio/writeEff_ratio)**2 +(dcutEff_ratio/cutEff_ratio)**2 )\n",
    "\n",
    "#Make sure any divide by 0s happened below threshold\n",
    "if (not np.all(np.isfinite(ratio[slice(*spec_bounds)]))) or (not np.all(np.isfinite(dratio[slice(*spec_bounds)]))):\n",
    "    print('Error: Bad background scaling ratio in fit range.')\n",
    "\n",
    "#Bkg-subtracted measured PuBe signal\n",
    "N_bkg_scaled=N_meas_Bkg*ratio\n",
    "dN_bkg_scaled=N_bkg_scaled*np.sqrt( (dN_meas_Bkg/N_meas_Bkg)**2 + (dratio/ratio)**2 )\n",
    "\n",
    "N_meas = N_meas_PuBe - N_bkg_scaled\n",
    "dN_meas = np.sqrt( dN_meas_PuBe**2 + dN_bkg_scaled**2 ) #All errors are symmetric here when using the conservative cut eff fits\n",
    "dN_meas_stat = np.sqrt( dN_meas_PuBe_Pois**2 + (dN_meas_Bkg_Pois*ratio)**2 )"
   ]
  },
  {
   "cell_type": "code",
   "execution_count": 4,
   "metadata": {},
   "outputs": [
    {
     "name": "stderr",
     "output_type": "stream",
     "text": [
      "/home/gerudo7/anaconda3/lib/python3.7/site-packages/ipykernel_launcher.py:4: RuntimeWarning: divide by zero encountered in true_divide\n",
      "  after removing the cwd from sys.path.\n",
      "/home/gerudo7/anaconda3/lib/python3.7/site-packages/ipykernel_launcher.py:16: RuntimeWarning: divide by zero encountered in true_divide\n",
      "  app.launch_new_instance()\n"
     ]
    }
   ],
   "source": [
    "Denom_PuBe = meas['PuBe']['tlive']*eff.eff_write*eff.cutEffFit(Ebins_ctr)*eff.trigEff(Ebins_ctr)\n",
    "R_meas_PuBe = N_meas_PuBe/Denom_PuBe\n",
    "Denom_Bkg = meas['Bkg']['tlive']*eff.eff_write_bkg*eff.cutEffFit_bkg(Ebins_ctr)*eff.trigEff(Ebins_ctr)\n",
    "R_meas_Bkg = N_meas_Bkg/Denom_Bkg\n",
    "\n",
    "R_meas = R_meas_PuBe - R_meas_Bkg\n",
    "\n",
    "dR_meas_stat_PuBe = R_meas_PuBe*dN_meas_PuBe_Pois/N_meas_PuBe\n",
    "dR_meas_PuBe = R_meas_PuBe*np.sqrt( (dN_meas_PuBe_Pois/N_meas_PuBe)**2 +\\\n",
    "                                   (eff.deff_write/eff.eff_write)**2 +\\\n",
    "                                   (eff.dcutEffFit(Ebins_ctr)/eff.cutEffFit(Ebins_ctr))**2 +\\\n",
    "                                   (eff.dtrigEff(Ebins_ctr)/eff.trigEff(Ebins_ctr))**2 )\n",
    "dR_meas_stat_Bkg = R_meas_Bkg*dN_meas_Bkg_Pois/N_meas_Bkg\n",
    "dR_meas_Bkg = R_meas_Bkg*np.sqrt( (dN_meas_Bkg_Pois/N_meas_Bkg)**2 +\\\n",
    "                                 (eff.deff_write_bkg/eff.eff_write_bkg)**2 +\\\n",
    "                                 (eff.dcutEffFit_bkg(Ebins_ctr)/eff.cutEffFit_bkg(Ebins_ctr))**2 +\\\n",
    "                                 (eff.dtrigEff(Ebins_ctr)/eff.trigEff(Ebins_ctr))**2 )\n",
    "\n",
    "dR_meas_stat = np.sqrt(dR_meas_stat_PuBe**2 + dR_meas_stat_Bkg**2)\n",
    "dR_meas = np.sqrt(dR_meas_PuBe**2 + dR_meas_Bkg**2)"
   ]
  },
  {
   "cell_type": "code",
   "execution_count": 5,
   "metadata": {},
   "outputs": [
    {
     "name": "stderr",
     "output_type": "stream",
     "text": [
      "../python/R68_spec_tools.py:55: RuntimeWarning: divide by zero encountered in true_divide\n",
      "  (eff.dcutEffFit_bkg(Ebins_ctr)/eff.cutEffFit_bkg(Ebins_ctr))**2 +\\\n",
      "../python/R68_spec_tools.py:80: RuntimeWarning: divide by zero encountered in true_divide\n",
      "  N_bkg_scaled=N_meas_Bkg*TE_PuBe/TE_Bkg\n",
      "../python/R68_spec_tools.py:96: RuntimeWarning: divide by zero encountered in true_divide\n",
      "  doEffsyst*(eff.dcutEffFit_bkg(Ebins_ctr)/eff.cutEffFit_bkg(Ebins_ctr))**2)\n",
      "../python/R68_spec_tools.py:96: RuntimeWarning: invalid value encountered in multiply\n",
      "  doEffsyst*(eff.dcutEffFit_bkg(Ebins_ctr)/eff.cutEffFit_bkg(Ebins_ctr))**2)\n",
      "../python/R68_spec_tools.py:100: RuntimeWarning: invalid value encountered in multiply\n",
      "  doEffsyst*(dTE_Bkg/TE_Bkg)**2 )\n",
      "../python/R68_spec_tools.py:60: RuntimeWarning: divide by zero encountered in true_divide\n",
      "  R_meas_Bkg = N_meas_Bkg/TE_Bkg\n",
      "../python/R68_spec_tools.py:69: RuntimeWarning: invalid value encountered in multiply\n",
      "  doEffsyst*(dTE_Bkg/TE_Bkg)**2 )\n"
     ]
    }
   ],
   "source": [
    "c_stat,dc_stat=spec.doBkgSub(r68.load_measured(verbose=False), Ebins, Efit_min, Efit_max, doEffsyst=False, doBurstLeaksyst=False, output='counts')\n",
    "c_syst,dc_syst=spec.doBkgSub(r68.load_measured(verbose=False), Ebins, Efit_min, Efit_max, doEffsyst=True, doBurstLeaksyst=False, output='counts')\n",
    "c_syst2,dc_syst2=spec.doBkgSub(r68.load_measured(verbose=False), Ebins, Efit_min, Efit_max, doEffsyst=True, doBurstLeaksyst=True, output='counts')\n",
    "\n",
    "r_stat,dr_stat=spec.doBkgSub(r68.load_measured(verbose=False), Ebins, Efit_min, Efit_max, doEffsyst=False, doBurstLeaksyst=False, output='reco-rate')\n",
    "r_syst,dr_syst=spec.doBkgSub(r68.load_measured(verbose=False), Ebins, Efit_min, Efit_max, doEffsyst=True, doBurstLeaksyst=False, output='reco-rate')\n",
    "r_syst2,dr_syst2=spec.doBkgSub(r68.load_measured(verbose=False), Ebins, Efit_min, Efit_max, doEffsyst=True, doBurstLeaksyst=True, output='reco-rate')"
   ]
  },
  {
   "cell_type": "code",
   "execution_count": 6,
   "metadata": {},
   "outputs": [
    {
     "data": {
      "image/png": "[encoded data removed]",
      "text/plain": [
       "<Figure size 504x567 with 2 Axes>"
      ]
     },
     "metadata": {
      "needs_background": "light"
     },
     "output_type": "display_data"
    }
   ],
   "source": [
    "fig,ax = plt.subplots(2,1,figsize=(fig_w, 1.5*fig_w*(.75)) ,sharex=True)\n",
    "fill_noise=ax[1].axvspan(0,50,color='r', alpha=0.25, label='No efficiency data',zorder=0)\n",
    "\n",
    "cthresh=Ebins_ctr>=50 #Only plot hists above threshold\n",
    "\n",
    "#Raw Count histograms\n",
    "ax[0].set_title('Raw Counts, Statistical Uncertainties',size='16')\n",
    "\n",
    "line_c_PuBe=ax[0].errorbar(Ebins_ctr,N_meas_PuBe,yerr=dN_meas_PuBe_Pois, drawstyle = 'steps-mid', linewidth=2)\n",
    "line_c_Bkg=ax[0].errorbar(Ebins_ctr,N_meas_Bkg,yerr=dN_meas_Bkg_Pois, drawstyle = 'steps-mid', linewidth=2)\n",
    "line_thresh=ax[0].axvline(50,linestyle='--',color='r', label='50 eVee threshold',zorder=5)\n",
    "\n",
    "ax[0].set_xlim(0,5e2)\n",
    "#ax[0].set_yscale('log')\n",
    "ax[0].set_ylim(0,3e3)\n",
    "ax[0].set_ylabel('Counts/bin')\n",
    "\n",
    "\n",
    "ax[0].legend([line_c_PuBe, line_c_Bkg, line_thresh, fill_noise],\n",
    "             [f\"PuBe, run time = {meas['PuBe']['tlive']/3600:.1f} hrs\",\n",
    "              f\"Bkg, run time = {meas['Bkg']['tlive']/3600:.1f} hrs\",\n",
    "              '50 eVee threshold'])\n",
    "     \n",
    "                                       \n",
    "#Reconstructed rate\n",
    "                                       \n",
    "#Reverse errorbar order to be [lower,upper]\n",
    "ax[1].set_title('Reconstructed Background-Subtracted Rate',size='16')\n",
    "line_r_syst=ax[1].errorbar(Ebins_ctr[cthresh],60*r_syst2[cthresh],yerr=(60*dr_syst2[::-1])[:,cthresh],drawstyle = 'steps-mid', linewidth=2, label='Stat + Syst')\n",
    "line_r_stat=ax[1].errorbar(Ebins_ctr[cthresh],60*r_stat[cthresh],yerr=60*dr_stat[::-1][:,cthresh],drawstyle = 'steps-mid', linewidth=2, label='Stat')\n",
    "                                       \n",
    "line_thresh=ax[1].axvline(50,linestyle='--',color='r', label='50 eVee threshold',zorder=5)\n",
    "fill_noise=ax[1].axvspan(0,50,color='r', alpha=0.25, label='No efficiency data',zorder=0)\n",
    "                                       \n",
    "ax[1].legend([line_r_stat, line_r_syst, line_thresh, fill_noise],\n",
    "             ['Stat', 'Stat + Syst', '50 eVee threshold', 'No efficiency info'])\n",
    "    \n",
    "ax[1].set_ylim(0,3)\n",
    "ax[1].set_xlim(0,500)\n",
    "ax[1].set_ylabel('Counts/min/bin')\n",
    "ax[1].set_xlabel('Energy [eVee]')\n",
    "\n",
    "\n",
    "plt.tight_layout()"
   ]
  }
 ],
 "metadata": {
  "kernelspec": {
   "display_name": "Python 3",
   "language": "python",
   "name": "python3"
  },
  "language_info": {
   "codemirror_mode": {
    "name": "ipython",
    "version": 3
   },
   "file_extension": ".py",
   "mimetype": "text/x-python",
   "name": "python",
   "nbconvert_exporter": "python",
   "pygments_lexer": "ipython3",
   "version": "3.7.9"
  }
 },
 "nbformat": 4,
 "nbformat_minor": 4
}
