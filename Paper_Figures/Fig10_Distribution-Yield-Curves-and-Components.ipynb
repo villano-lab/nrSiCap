{
 "cells": [
  {
   "cell_type": "markdown",
   "metadata": {},
   "source": [
    "Figure from `analysis_notebooks/R68_integral_yield_analysis.ipynb`."
   ]
  },
  {
   "cell_type": "code",
   "execution_count": 1,
   "metadata": {},
   "outputs": [
    {
     "name": "stdout",
     "output_type": "stream",
     "text": [
      "../mplstyles\n",
      "3.3.4\n",
      "/mnt/d/git/R68_paper2019/mplstyles\n",
      "dict_keys(['xx', 'yy', 'ex', 'ey'])\n"
     ]
    },
    {
     "data": {
      "text/html": [
       "<style>.container { width:100% !important; }</style>"
      ],
      "text/plain": [
       "<IPython.core.display.HTML object>"
      ]
     },
     "metadata": {},
     "output_type": "display_data"
    },
    {
     "name": "stdout",
     "output_type": "stream",
     "text": [
      "Loading Measured Data...\n",
      "PuBe events:  (829944,)\n",
      "Bkg events:  (222484,)\n",
      "Loading Geant4 Data...\n",
      "(528848, 7)\n",
      "(129555, 7)\n",
      "Loading NRs...\n",
      "0.1  min\n",
      "Loading ERs...\n",
      "0.0  min\n",
      "Loading (n,gamma) Data...\n",
      "382155\n"
     ]
    }
   ],
   "source": [
    "#Import libraries & data\n",
    "\n",
    "exec(open(\"../analysis_notebooks/nb_setup.py\").read())#Is there a better way to do this?\n",
    "\n",
    "from IPython.core.display import display, HTML\n",
    "from matplotlib.pyplot import *\n",
    "from tqdm.notebook import tqdm\n",
    "from scipy.optimize import fsolve\n",
    "from scipy.special import erf\n",
    "from scipy.interpolate import CubicSpline\n",
    "import pickle\n",
    "import sys\n",
    "sys.path.append('../python')\n",
    "import R68_yield as Yield\n",
    "import R68_spec_tools as spec\n",
    "import R68_plot_tools as pt\n",
    "display(HTML(\"<style>.container { width:100% !important; }</style>\"))\n",
    "\n",
    "#Set up notebook and load some R68 constants (V, eps, etc.)\n",
    "from constants import *\n",
    "\n",
    "#Load the data\n",
    "import R68_load as r68\n",
    "\n",
    "meas=r68.load_measured(keVmax=10)\n",
    "g4=r68.load_G4(load_frac=1)\n",
    "cap=r68.load_simcap(file='../analysis_notebooks/data/v3_400k.pkl',\n",
    "                    rcapture=0.218, load_frac=1)"
   ]
  },
  {
   "cell_type": "code",
   "execution_count": 2,
   "metadata": {
    "tags": []
   },
   "outputs": [
    {
     "name": "stderr",
     "output_type": "stream",
     "text": [
      "/home/gerudo7/anaconda3/lib/python3.7/site-packages/ipykernel/ipkernel.py:287: DeprecationWarning: `should_run_async` will not call `transform_cell` automatically in the future. Please pass the result to `transformed_cell` argument and any exception that happen during thetransform in `preprocessing_exc_tuple` in IPython 7.17 and above.\n",
      "  and should_run_async(code)\n"
     ]
    }
   ],
   "source": [
    "#Function Definitions\n",
    "\n",
    "def extract_Y_v2(E_er, E_nr, E_ng, fer, fnr, fng, Y_max, Ebins=None):\n",
    "    #Assumed global variables:\n",
    "    #Ebins: eVee bins\n",
    "    #R_meas: Measured, bkg-subtracted, efficiency-corrected rate\n",
    "    #tlive_er(nr,ng): livetime of ER(NR,NG) hits\n",
    "    global tlive_er,tlive_nr,tlive_ng, V, eps\n",
    "    \n",
    "    if Ebins is None:\n",
    "        Ebins=np.linspace(0,2e3,201)\n",
    "    Ebin_ctr=(Ebins[:-1]+Ebins[1:])/2\n",
    "    \n",
    "    R_meas,dR_meas=spec.doBkgSub(meas, Ebins, Efit_min=50,Efit_max=2e3,\n",
    "                                 doEffsyst=False, doBurstLeaksyst=False,\n",
    "                                 output='reco-rate')\n",
    "    \n",
    "    E_er_max=Ebins[-1]\n",
    "    E_nr_max=ERtoNR(E_er_max,Y_max,V,eps)\n",
    "\n",
    "    Ebin_ctr_rev=Ebin_ctr[::-1]\n",
    "\n",
    "    rev_csum_meas=np.cumsum(R_meas[::-1])\n",
    "\n",
    "    R_sim_er=fer*np.histogram(E_er,Ebins)[0]/tlive_er\n",
    "    rev_csum_er=np.cumsum(R_sim_er[::-1])\n",
    "\n",
    "    w_nr=fnr/tlive_nr*np.ones(np.sum(E_nr<=E_nr_max))\n",
    "    w_ng=fng/tlive_ng*np.ones(np.sum(E_ng<=E_nr_max))\n",
    "        \n",
    "    E_nrng=np.concatenate((E_nr[E_nr<=E_nr_max],E_ng[E_ng<=E_nr_max]))\n",
    "    w_nrng=np.concatenate((w_nr,w_ng))\n",
    "\n",
    "    E_nrng_rev_srt=(E_nrng[np.argsort(E_nrng)])[::-1]\n",
    "    w_nrng_rev_srt=(w_nrng[np.argsort(E_nrng)])[::-1]\n",
    "    rev_csum_nrng=np.cumsum(w_nrng_rev_srt)\n",
    "\n",
    "    diff=rev_csum_meas-rev_csum_er\n",
    "    E_nrs=[]\n",
    "    error=[]\n",
    "    for entry in diff:\n",
    "        if np.isfinite(entry):\n",
    "            args=np.argwhere(rev_csum_nrng>=entry)\n",
    "            if len(args)==0:\n",
    "                E_nrs.append(-99)\n",
    "            else:\n",
    "                E_nr_this=E_nrng_rev_srt[args[0][0]]\n",
    "                error.append(rev_csum_nrng[args[0][0]]-entry)\n",
    "                if len(E_nrs)>0:\n",
    "                    E_nrs.append(min(E_nr_this,E_nrs[-1]))\n",
    "                else:\n",
    "                    E_nrs.append(E_nr_this)\n",
    "        else:\n",
    "            E_nrs.append(-999)\n",
    "            error.append(-999)\n",
    "    E_nrs=np.array(E_nrs[::-1])\n",
    "    Ys=((Ebins[:-1]/E_nrs)*(1+V/eps)-1)*eps/V\n",
    "    error=np.array(error)\n",
    "    \n",
    "    return (E_nrs,Ys,error)\n",
    "\n",
    "#Extract yield curve using the integral method\n",
    "#Treats each event as a single scatter of the total energy\n",
    "#fer: ER livetime factor\n",
    "#fnr: NR livetime factor\n",
    "#fng: NG livetime factor\n",
    "#Y_max: Yield value that corresponds to the highest bin edge of Ebins\n",
    "\n",
    "def extract_Y_wSmear_v2(E_er, E_nr, E_ng, fer, fnr, fng, Y_max, nIt=2, F=0, Ebins=None, seed=None):\n",
    "    #Assumed global variables:\n",
    "    #Ebins: eVee bins\n",
    "    #R_meas: Measured, bkg-subtracted, efficiency-corrected rate\n",
    "    #tlive_er(nr,ng): livetime of ER(NR,NG) hits\n",
    "    global tlive_er,tlive_nr,tlive_ng, V, eps\n",
    "    \n",
    "    if Ebins is None:\n",
    "        Ebins=np.linspace(0,2e3,201)\n",
    "    Ebin_ctr=(Ebins[:-1]+Ebins[1:])/2\n",
    "    \n",
    "    #Initial yield, with no resolution effects\n",
    "    E_nrs,Ys,errors=extract_Y_v2(E_er, E_nr, E_ng, fer, fnr, fng, Y_max, Ebins)\n",
    "    \n",
    "    iIt=0\n",
    "    while iIt<nIt:\n",
    "        iIt+=1\n",
    "            \n",
    "        cFit=(Ebin_ctr>50) &(E_nrs>0) & (np.isfinite(E_nrs)) & (np.insert(np.diff(E_nrs)>0,-1,True))\n",
    "        #Y_fCS=CubicSpline(E_nrs[cFit],Ys[cFit],extrapolate=True)\n",
    "        \n",
    "        Y_fCS=lambda E: np.interp(E,E_nrs[cFit],Ys[cFit])\n",
    "\n",
    "        Y_fit = lambda E: Y_conditioned_test(E,Y_fCS,E_nrs[cFit],Ys[cFit])\n",
    "        Y=Yield.Yield('User',[Y_fit])\n",
    "        \n",
    "        E_nr_eVee=NRtoER(E_nr,Y,V,eps)\n",
    "        E_ng_eVee=NRtoER(E_ng,Y,V,eps)\n",
    "\n",
    "        #Use this correspondence to map back to NR\n",
    "        #But need to condition it outside of the spline region.\n",
    "        #Just extrapolate with linear from each end\n",
    "        xx=NRtoER(E_nrs[cFit],Y,V,eps)\n",
    "        yy=E_nrs[cFit]\n",
    "        #ERtoNR_fCS=CubicSpline(xx,yy,extrapolate=True)\n",
    "        ERtoNR_fCS=lambda E: np.interp(E,xx,yy)\n",
    "        pf_low=np.poly1d(np.polyfit([0,xx[0]], [0,yy[0]], 1))\n",
    "        pf_hi=np.poly1d(np.polyfit(xx[-10:], yy[-10:], 1))\n",
    "        ERtoNR_fcombo = lambda E: (E<xx[0])*pf_low(E) + (E>=xx[0])*(E<=xx[-1])*ERtoNR_fCS(E) + (E>xx[-1])*pf_hi(E)\n",
    "\n",
    "        E_er_sm=spec.getSmeared(E_er,seed=seed,F=F)\n",
    "        E_er_sm[E_er_sm<0]=0\n",
    "\n",
    "        E_nr_sm=ERtoNR_fcombo(spec.getSmeared(E_nr_eVee,seed=seed,F=F))\n",
    "        E_nr_sm[E_nr_sm<0]=0\n",
    "\n",
    "        E_ng_sm=ERtoNR_fcombo(spec.getSmeared(E_ng_eVee,seed=seed,F=F))\n",
    "        E_ng_sm[E_ng_sm<0]=0\n",
    "        \n",
    "        E_nrs,Ys,errors=extract_Y_v2(E_er_sm, E_nr_sm, E_ng_sm, fer, fnr, fng, Y_max, Ebins)\n",
    "        \n",
    "    return (E_nrs,Ys,errors)\n",
    "\n",
    "def Y_conditioned(E, Y_fCS, Emin, Ymin, Emax, Ymax):\n",
    "    y=Y_fCS(E)\n",
    "    y[E>=Emax]=Ymax\n",
    "    y[E<=Emin]=Ymin\n",
    "    return y\n",
    "\n",
    "def Y_conditioned_test(E, Y_fCS, E_nrs_fit, Ys_fit):\n",
    "    y=Y_fCS(E)\n",
    "    \n",
    "    ylow=np.poly1d(np.polyfit(E_nrs_fit[:2],Ys_fit[:2], 1))\n",
    "    y[E<=E_nrs_fit[0]]=ylow(E[E<=E_nrs_fit[0]])\n",
    "    #y[E<=E_nrs_fit[0]]=Ys_fit[0]\n",
    "    \n",
    "    yhi=np.poly1d(np.polyfit(E_nrs_fit[-2:],Ys_fit[-2:], 1))\n",
    "    y[E>=E_nrs_fit[-1]]=yhi(E[E>=E_nrs_fit[-1]])\n",
    "    #y[E>=E_nrs_fit[-1]]=Ys_fit[-1]\n",
    "    \n",
    "    y[y<0]=0\n",
    "    return y\n",
    "\n",
    "def ERtoNR(ER,Y,V,eps):\n",
    "    if isinstance(Y,(float,int)):\n",
    "        return ER*(1+V/eps)/(1+Y*V/eps)    \n",
    "    else:\n",
    "        func = lambda NR : NR-ER*(1+V/eps)/(1+Y.calc(NR)*V/eps)\n",
    "        NR_guess = ER\n",
    "        return fsolve(func, NR_guess)\n",
    "\n",
    "def NRtoER(NR,Y,V,eps):\n",
    "    if isinstance(Y,(float,int)):\n",
    "        return NR*(1+Y*V/eps)/(1+V/eps)\n",
    "    else:\n",
    "        return NR*(1+Y.calc(NR)*V/eps)/(1+V/eps)\n",
    "\n",
    "def Nint(Es,Emin,Emax):\n",
    "    return np.sum((Es>=Emin)&(Es<Emax))\n",
    "\n",
    "def extract_Y(E_er, E_nr, E_ng, fer, fnr, fng, Y_max, E_nr_step=1):\n",
    "    #Assumed global variables:\n",
    "    #Ebins: eVee bins\n",
    "    #R_meas: Measured, bkg-subtracted, efficiency-corrected rate\n",
    "    #tlive_er(nr,ng): livetime of ER(NR,NG) hits\n",
    "    global Ebins,R_meas,tlive_er,tlive_nr,tlive_ng, V, eps\n",
    "    \n",
    "    Ebin_ctr=(Ebins[:-1]+Ebins[1:])/2\n",
    "    E_er_max=Ebins[-1]\n",
    "    E_nr_max=ERtoNR(E_er_max,Y_max,V,eps)\n",
    "\n",
    "    E_nrs=[]\n",
    "    E_nr_test=E_nr_max\n",
    "    for i in tqdm(range(len(Ebin_ctr))[::-1]):\n",
    "        if np.isfinite(R_meas[i]):\n",
    "            #Is there a more efficienct way to do this? Yep\n",
    "            # Am I going to spend time working it out? Nope\n",
    "            while True:\n",
    "                R_meas_this=np.sum(R_meas[(Ebin_ctr>=Ebin_ctr[i])&(Ebin_ctr<E_er_max)])\n",
    "                R_sim_er=fer*Nint(E_er,Ebin_ctr[i],E_er_max)/tlive_er\n",
    "                R_sim_nr=fnr*Nint(E_nr,E_nr_test,E_nr_max)/tlive_nr\n",
    "                R_sim_ng=fng*Nint(E_ng,E_nr_test,E_nr_max)/tlive_ng\n",
    "                R_sim_this=R_sim_er+R_sim_nr+R_sim_ng\n",
    "\n",
    "                if (R_sim_this>=R_meas_this) or (E_nr_test<0):\n",
    "                    break\n",
    "                E_nr_test-=E_nr_step\n",
    "\n",
    "            E_nrs.append(E_nr_test)\n",
    "        else:\n",
    "            E_nrs.append(-999)\n",
    "    E_nrs=np.array(E_nrs[::-1])\n",
    "    \n",
    "    #E_ee=E_nr*(1+Y*V/eps)/(1+V/eps)\n",
    "    #=> Y=((E_ee/E_nr)*(1+V/eps)-1)*eps/V\n",
    "    Ys=((Ebin_ctr/E_nrs)*(1+V/eps)-1)*eps/V\n",
    "    \n",
    "    return (E_nrs,Ys)\n",
    "\n",
    "def Y_fit(E):\n",
    "    y=Y_fCS(E)\n",
    "    y[E>E_nrs[-1]]=Ys[-1]\n",
    "    y[E<0]=0\n",
    "    return y\n",
    "\n",
    "def extract_Y_wSmear(E_er, E_nr, E_ng, fer, fnr, fng, Y_max, E_nr_step=1,nIt=2):\n",
    "    #Assumed global variables:\n",
    "    #Ebins: eVee bins\n",
    "    #R_meas: Measured, bkg-subtracted, efficiency-corrected rate\n",
    "    #tlive_er(nr,ng): livetime of ER(NR,NG) hits\n",
    "    global Ebins,R_meas,tlive_er,tlive_nr,tlive_ng, V, eps\n",
    "    \n",
    "    \n",
    "    #Initial yield, with no resolution effects\n",
    "    E_nrs,Ys=extract_Y(E_er, E_nr, E_ng, fer, fnr, fng, Y_max, E_nr_step)\n",
    "    \n",
    "    iIt=0\n",
    "    while iIt<nIt:\n",
    "        iIt+=1\n",
    "        \n",
    "        cFit=(E_nrs>0) & (np.isfinite(E_nrs)) & (np.insert(np.diff(E_nrs)>0,-1,True))\n",
    "        Y_fCS=CubicSpline(E_nrs[cFit],Ys[cFit],extrapolate=True)\n",
    "\n",
    "        Y_fit = lambda E: Y_conditioned(E,Y_fCS,E_nrs[0],0,E_nrs[-1],Ys[-1])\n",
    "        Y=Yield.Yield('User',[Y_fit])\n",
    "        #E_nr_sm=ERtoNR(spec.getSmeared(NRtoER(E_nr,Y,V,eps)),Y,V,eps)#Overflow and slow\n",
    "        #E_ng_sm1=ERtoNR(spec.getSmeared(NRtoER(E_ng,Y,V,eps)),Y,V,eps)\n",
    "        \n",
    "        E_nr_eVee=NRtoER(E_nr,Y,V,eps)\n",
    "        E_ng_eVee=NRtoER(E_ng,Y,V,eps)\n",
    "\n",
    "        #Use this correspondence to map back to NR\n",
    "        cFit=(E_nrs>0) & (np.isfinite(E_nrs)) & (np.insert(np.diff(E_nrs)>0,-1,True))\n",
    "        ERtoNR_fCS=CubicSpline(NRtoER(E_nrs[cFit],Y,V,eps),E_nrs[cFit])\n",
    "\n",
    "        E_er_sm=spec.getSmeared(E_er)\n",
    "        E_er_sm[E_er_sm<0]=0\n",
    "        E_nr_sm=ERtoNR_fCS(spec.getSmeared(E_nr_eVee))\n",
    "        E_nr_sm[E_nr_sm<0]=0\n",
    "        E_ng_sm=ERtoNR_fCS(spec.getSmeared(E_ng_eVee))\n",
    "        E_ng_sm[E_ng_sm<0]=0\n",
    "        \n",
    "        E_nrs,Ys=extract_Y(E_er_sm, E_nr_sm, E_ng_sm, fer, fnr, fng, Y_max, E_nr_step)\n",
    "        \n",
    "    return (E_nrs,Ys)\n",
    "\n",
    "def Y_conditioned(E, Y_fCS, Emin, Ymin, Emax, Ymax):\n",
    "    y=Y_fCS(E)\n",
    "    y[E>=Emax]=Ymax\n",
    "    y[E<=Emin]=Ymin\n",
    "    return y\n",
    "\n",
    "#TODO: use this same function every time we do this\n",
    "def getYfitCond(E_nrs,Ys):\n",
    "    cFit=(Ebin_ctr>50) &(E_nrs>0) & (np.isfinite(E_nrs)) & (np.insert(np.diff(E_nrs)>0,-1,True))\n",
    "    Y_fCS=CubicSpline(E_nrs[cFit],Ys[cFit],extrapolate=True)\n",
    "    Y_fit = lambda E: Y_conditioned(E,Y_fCS,E_nrs[cFit][0],Ys[cFit][0],E_nrs[-1],Ys[-1])\n",
    "    return Yield.Yield('User',[Y_fit])\n",
    "\n",
    "#Find the full enevelope of yield curves\n",
    "#Includes first and last point of each curve and the min and max Y at each Enr\n",
    "\n",
    "def getEYenvelope(lE_nrs_sample,lYs_sample,eVeeMin=50):\n",
    "    Yenv_left=[]\n",
    "    Yenv_right=[]\n",
    "    Enr_env_left=[]\n",
    "    Enr_env_right=[]\n",
    "\n",
    "    for E_nrs,Ys in zip(lE_nrs_sample,lYs_sample):\n",
    "        cFit=(Ebin_ctr>50) &(E_nrs>0) & (np.isfinite(E_nrs)) & (np.insert(np.diff(E_nrs)>0,-1,True))\n",
    "        Yenv_left.append(Ys[cFit&(Ebin_ctr>eVeeMin)][0])\n",
    "        Enr_env_left.append(E_nrs[cFit&(Ebin_ctr>eVeeMin)][0])\n",
    "        Yenv_right.append(Ys[cFit&(Ebin_ctr>eVeeMin)][-1])\n",
    "        Enr_env_right.append(E_nrs[cFit&(Ebin_ctr>eVeeMin)][-1])\n",
    "        \n",
    "    Enr_env_right=np.array(Enr_env_right)\n",
    "    Yenv_right=np.array(Yenv_right)\n",
    "    Enr_env_left=np.array(Enr_env_left)\n",
    "    Yenv_left=np.array(Yenv_left)\n",
    "\n",
    "    Enr_env_top=np.linspace(Enr_env_left[np.argmax(Yenv_left)],Enr_env_right[np.argmax(Yenv_right)],1000)\n",
    "    Ytestmax=[]\n",
    "    for E_nrs,Ys in zip(lE_nrs_sample,lYs_sample):\n",
    "        cFit=(Ebin_ctr>50) &(E_nrs>0) & (np.isfinite(E_nrs)) & (np.insert(np.diff(E_nrs)>0,-1,True))\n",
    "        Y=getYfitCond(E_nrs,Ys)\n",
    "        Ytesti=Y.calc(Enr_env_top)\n",
    "        cgoodval=(Enr_env_top>=np.min(E_nrs[Ebin_ctr>eVeeMin]))\n",
    "        Ytesti[~cgoodval]=-99\n",
    "        Ytestmax.append(Ytesti)\n",
    "    Yenv_top=np.max(np.array(Ytestmax),axis=0)        \n",
    "\n",
    "    Enr_env_bottom=np.linspace(Enr_env_left[np.argmin(Yenv_left)],Enr_env_right[np.argmin(Yenv_right)],1000)\n",
    "    Ytestmin=[]\n",
    "    for E_nrs,Ys in zip(lE_nrs_sample,lYs_sample):\n",
    "        cFit=(Ebin_ctr>50) &(E_nrs>0) & (np.isfinite(E_nrs)) & (np.insert(np.diff(E_nrs)>0,-1,True))\n",
    "        Y=getYfitCond(E_nrs,Ys)\n",
    "        Ytesti=Y.calc(Enr_env_bottom)\n",
    "        cgoodval=(Enr_env_bottom>=np.min(E_nrs[Ebin_ctr>eVeeMin]))\n",
    "        Ytesti[~cgoodval]=99\n",
    "        Ytestmin.append(Ytesti)\n",
    "    Yenv_bottom=np.min(np.array(Ytestmin),axis=0)        \n",
    "\n",
    "    #Need to sort the points so that they form a closed polygon\n",
    "    #Go clockwise from top left\n",
    "\n",
    "    Enr_env=np.concatenate( (Enr_env_top, Enr_env_right[np.argsort(Enr_env_right)], Enr_env_bottom[::-1], Enr_env_left[np.argsort(Enr_env_left)][::-1]) )\n",
    "    Yenv=np.concatenate((Yenv_top, Yenv_right[np.argsort(Enr_env_right)], Yenv_bottom[::-1], Yenv_left[np.argsort(Enr_env_left)][::-1]))\n",
    "\n",
    "    return (Enr_env, Yenv)\n",
    "\n",
    "#Find the full range of rates for each component for plotting\n",
    "def getERminmax(lE_nrs_sample,lYs_sample,lfer_sample,lfnr_sample,lfng_sample,dosmear=True,FanoER=0.1161,FanoNR=0.1161):\n",
    "    R_er_test=[]\n",
    "    R_nr_test=[]\n",
    "    R_ng_test=[]\n",
    "    \n",
    "    for E_nrs,Ys,fer,fnr,fng in zip(lE_nrs_sample,lYs_sample,lfer_sample,lfnr_sample,lfng_sample):\n",
    "        Y=getYfitCond(E_nrs,Ys)\n",
    "        \n",
    "        if dosmear:\n",
    "            E_er_sm=spec.getSmeared(E_er,seed=seed,F=FanoER)\n",
    "            #E_er_sm[E_er_sm<0]=0\n",
    "            E_nr_eVee_sm=spec.getSmeared(NRtoER(E_nr,Y,V,eps),seed=seed,F=FanoNR)\n",
    "            #E_nr_eVee_sm[E_nr_eVee_sm<0]=0\n",
    "            E_ng_eVee_sm=spec.getSmeared(NRtoER(E_ng,Y,V,eps),seed=seed,F=FanoNR)\n",
    "            #E_ng_eVee_sm[E_ng_eVee_sm<0]=0\n",
    "        else:\n",
    "            E_er_sm=E_er\n",
    "            E_nr_eVee_sm=NRtoER(E_nr,Y,V,eps)\n",
    "            E_ng_eVee_sm=NRtoER(E_ng,Y,V,eps)\n",
    "\n",
    "\n",
    "        C_er,_=np.histogram(E_er_sm,bins=Ebins)\n",
    "        R_er=fer*C_er/tlive_er\n",
    "\n",
    "        C_nr,_=np.histogram(E_nr_eVee_sm,bins=Ebins)\n",
    "        R_nr=fnr*C_nr/tlive_nr\n",
    "\n",
    "        C_ng,_=np.histogram(E_ng_eVee_sm,bins=Ebins)\n",
    "        R_ng=fng*C_ng/tlive_ng\n",
    "\n",
    "        R_er_test.append(R_er)\n",
    "        R_nr_test.append(R_nr)\n",
    "        R_ng_test.append(R_ng)\n",
    "    \n",
    "    R_er_test=np.array(R_er_test)\n",
    "    R_nr_test=np.array(R_nr_test)\n",
    "    R_ng_test=np.array(R_ng_test)\n",
    "    \n",
    "    R_total_test=R_er_test+R_nr_test+R_ng_test\n",
    "\n",
    "    Renvelopes={'eVee':Ebin_ctr,\n",
    "                'ER':{'max':np.max(R_er_test,axis=0),'min':np.min(R_er_test,axis=0)},\n",
    "                'NR':{'max':np.max(R_nr_test,axis=0),'min':np.min(R_nr_test,axis=0)},\n",
    "                'NG':{'max':np.max(R_ng_test,axis=0),'min':np.min(R_ng_test,axis=0)},\n",
    "                'Total':{'max':np.max(R_total_test,axis=0),'min':np.min(R_total_test,axis=0)},\n",
    "               }\n",
    "    return Renvelopes\n",
    "\n",
    "def extract_Y_v3(E_er, E_nr, E_ng, fer, fnr, fng, Y_max, Ebins=None):\n",
    "    #Assumed global variables:\n",
    "    #Ebins: eVee bins\n",
    "    #R_meas: Measured, bkg-subtracted, efficiency-corrected rate\n",
    "    #tlive_er(nr,ng): livetime of ER(NR,NG) hits\n",
    "    global tlive_er,tlive_nr,tlive_ng, V, eps\n",
    "    \n",
    "    if Ebins is None:\n",
    "        Ebins=np.linspace(0,2e3,201)\n",
    "    Ebin_ctr=(Ebins[:-1]+Ebins[1:])/2\n",
    "    \n",
    "    R_meas,dR_meas=spec.doBkgSub(meas, Ebins, Efit_min=50,Efit_max=2e3,\n",
    "                                 doEffsyst=False, doBurstLeaksyst=False,\n",
    "                                 output='reco-rate')\n",
    "    \n",
    "    E_er_max=Ebins[-1]\n",
    "    E_nr_max=ERtoNR(E_er_max,Y_max,V,eps)\n",
    "\n",
    "    Ebin_ctr_rev=Ebin_ctr[::-1]\n",
    "\n",
    "    rev_csum_meas=np.cumsum(R_meas[::-1])\n",
    "\n",
    "    R_sim_er=fer*np.histogram(E_er,Ebins)[0]/tlive_er\n",
    "    rev_csum_er=np.cumsum(R_sim_er[::-1])\n",
    "\n",
    "    w_nr=fnr/tlive_nr*np.ones(np.sum(E_nr<=E_nr_max))\n",
    "    w_ng=fng/tlive_ng*np.ones(np.sum(E_ng<=E_nr_max))\n",
    "        \n",
    "    E_nrng=np.concatenate((E_nr[E_nr<=E_nr_max],E_ng[E_ng<=E_nr_max]))\n",
    "    w_nrng=np.concatenate((w_nr,w_ng))\n",
    "\n",
    "    E_nrng_rev_srt=(E_nrng[np.argsort(E_nrng)])[::-1]\n",
    "    w_nrng_rev_srt=(w_nrng[np.argsort(E_nrng)])[::-1]\n",
    "    rev_csum_nrng=np.cumsum(w_nrng_rev_srt)\n",
    "\n",
    "    diff=rev_csum_meas-rev_csum_er\n",
    "    E_nrs=[]\n",
    "    error=[]\n",
    "    for entry in diff:\n",
    "        if np.isfinite(entry):\n",
    "            args=np.argwhere(rev_csum_nrng>=entry)\n",
    "            if len(args)==0:\n",
    "                E_nrs.append(-99)\n",
    "            else:\n",
    "                E_nr_this=E_nrng_rev_srt[args[0][0]]\n",
    "                error.append(rev_csum_nrng[args[0][0]]-entry)\n",
    "                if len(E_nrs)>0:\n",
    "                    E_nrs.append(min(E_nr_this,E_nrs[-1]))\n",
    "                else:\n",
    "                    E_nrs.append(E_nr_this)\n",
    "        else:\n",
    "            E_nrs.append(-999)\n",
    "            error.append(-999)\n",
    "    E_nrs=np.array(E_nrs[::-1])\n",
    "    Ys=((Ebins[:-1]/E_nrs)*(1+V/eps)-1)*eps/V\n",
    "    error=np.array(error)\n",
    "    \n",
    "    return (E_nrs,Ys,error)\n",
    "\n",
    "def extract_Y_wSmear_v3(E_er, E_nr, E_ng, fer, fnr, fng, Y_max, nIt=2, FanoER=0.1161, FanoNR=0.1161, Ebins=None, seed=None):\n",
    "    #Assumed global variables:\n",
    "    #Ebins: eVee bins\n",
    "    #R_meas: Measured, bkg-subtracted, efficiency-corrected rate\n",
    "    #tlive_er(nr,ng): livetime of ER(NR,NG) hits\n",
    "    global tlive_er,tlive_nr,tlive_ng, V, eps\n",
    "    \n",
    "    if Ebins is None:\n",
    "        Ebins=np.linspace(0,2e3,201)\n",
    "    Ebin_ctr=(Ebins[:-1]+Ebins[1:])/2\n",
    "    \n",
    "    #Initial yield, with no resolution effects\n",
    "    E_nrs,Ys,errors=extract_Y_v2(E_er, E_nr, E_ng, fer, fnr, fng, Y_max, Ebins)\n",
    "    \n",
    "    iIt=0\n",
    "    while iIt<nIt:\n",
    "        iIt+=1\n",
    "        \n",
    "        Y=getYfitCond(E_nrs,Ys)\n",
    "\n",
    "        E_nr_eVee=NRtoER(E_nr,Y,V,eps)\n",
    "        E_ng_eVee=NRtoER(E_ng,Y,V,eps)\n",
    "\n",
    "        ERtoNR_fit=getEEtoNRfitCond(E_nrs,Y)\n",
    "        \n",
    "        E_er_sm=spec.getSmeared(E_er,seed=seed,F=FanoER)\n",
    "        E_nr_sm=ERtoNR_fit(spec.getSmeared(E_nr_eVee,seed=seed,F=FanoNR))\n",
    "        E_ng_sm=ERtoNR_fit(spec.getSmeared(E_ng_eVee,seed=seed,F=FanoNR))\n",
    "        E_nrs,Ys,errors=extract_Y_v3(E_er_sm, E_nr_sm, E_ng_sm, fer, fnr, fng, Y_max, Ebins)\n",
    "        \n",
    "    return (E_nrs,Ys,errors)\n",
    "\n",
    "#Find the full range of rates for each component for plotting\n",
    "def getERminmax_v3(scanData,cut,dosmear=True,seed=None,nAvg=1):\n",
    "    R_er_test=[]\n",
    "    R_nr_test=[]\n",
    "    R_ng_test=[]\n",
    "    \n",
    "    for i in range(len(scanData['lE_nrs'][cut])):\n",
    "        E_nrs=scanData['lE_nrs'][cut][i]\n",
    "        Ys=scanData['lYs'][cut][i]\n",
    "        fer=scanData['lfer'][cut][i]\n",
    "        fnr=scanData['lfnr'][cut][i]\n",
    "        fng=scanData['lfng'][cut][i]\n",
    "        FanoER=scanData['lFanoER'][cut][i]\n",
    "        FanoNR=scanData['lFanoNR'][cut][i]\n",
    "        \n",
    "        Y=getYfitCond(E_nrs,Ys)\n",
    "        \n",
    "        \n",
    "        R_er_avg=[]\n",
    "        R_nr_avg=[]\n",
    "        R_ng_avg=[]\n",
    "        for iteration in range(nAvg):\n",
    "            if dosmear:\n",
    "                E_er_sm=spec.getSmeared(E_er,seed=seed,F=FanoER)\n",
    "                E_nr_eVee_sm=spec.getSmeared(NRtoER(E_nr,Y,V,eps),seed=seed,F=FanoNR)\n",
    "                E_ng_eVee_sm=spec.getSmeared(NRtoER(E_ng,Y,V,eps),seed=seed,F=FanoNR)\n",
    "            else:\n",
    "                E_er_sm=E_er\n",
    "                E_nr_eVee_sm=NRtoER(E_nr,Y,V,eps)\n",
    "                E_ng_eVee_sm=NRtoER(E_ng,Y,V,eps)\n",
    "\n",
    "\n",
    "            C_er,_=np.histogram(E_er_sm,bins=Ebins)\n",
    "            R_er=fer*C_er/tlive_er\n",
    "\n",
    "            C_nr,_=np.histogram(E_nr_eVee_sm,bins=Ebins)\n",
    "            R_nr=fnr*C_nr/tlive_nr\n",
    "\n",
    "            C_ng,_=np.histogram(E_ng_eVee_sm,bins=Ebins)\n",
    "            R_ng=fng*C_ng/tlive_ng\n",
    "            \n",
    "            R_er_avg.append(R_er)\n",
    "            R_nr_avg.append(R_nr)\n",
    "            R_ng_avg.append(R_ng)\n",
    "\n",
    "        R_er_test.append(np.mean(np.array(R_er_avg),axis=0))\n",
    "        R_nr_test.append(np.mean(np.array(R_nr_avg),axis=0))\n",
    "        R_ng_test.append(np.mean(np.array(R_ng_avg),axis=0))\n",
    "    \n",
    "    R_er_test=np.array(R_er_test)\n",
    "    R_nr_test=np.array(R_nr_test)\n",
    "    R_ng_test=np.array(R_ng_test)\n",
    "    \n",
    "    R_total_test=R_er_test+R_nr_test+R_ng_test\n",
    "\n",
    "    Renvelopes={'eVee':Ebin_ctr,\n",
    "                'ER':{'max':np.max(R_er_test,axis=0),'min':np.min(R_er_test,axis=0)},\n",
    "                'NR':{'max':np.max(R_nr_test,axis=0),'min':np.min(R_nr_test,axis=0)},\n",
    "                'NG':{'max':np.max(R_ng_test,axis=0),'min':np.min(R_ng_test,axis=0)},\n",
    "                'Total':{'max':np.max(R_total_test,axis=0),'min':np.min(R_total_test,axis=0)},\n",
    "               }\n",
    "    return Renvelopes\n",
    "\n",
    "def Y_conditioned(E, Y_fCS, Emin, Ymin, Emax, Ymax):\n",
    "    y=Y_fCS(E)\n",
    "    y[E>=Emax]=Ymax\n",
    "    y[E<=Emin]=Ymin\n",
    "    return y\n",
    "\n",
    "def getYfitCond(E_nrs,Ys):\n",
    "    cFit=(Ebin_ctr>50) &(E_nrs>0) & (np.isfinite(E_nrs)) & (np.insert(np.diff(E_nrs)>0,-1,True))\n",
    "    Y_fCS=CubicSpline(E_nrs[cFit],Ys[cFit],extrapolate=True)\n",
    "    Y_fit = lambda E: Y_conditioned(E,Y_fCS,E_nrs[cFit][0],Ys[cFit][0],E_nrs[-1],Ys[-1])\n",
    "    return Yield.Yield('User',[Y_fit])\n",
    "\n",
    "#Fitted function to map from eVee back to eVnr\n",
    "#But need to condition it outside of the spline region.\n",
    "#Just extrapolate with linear from each end\n",
    "def getEEtoNRfitCond(E_nrs,Y):\n",
    "    cFit=(Ebin_ctr>50) &(E_nrs>0) & (np.isfinite(E_nrs)) & (np.insert(np.diff(E_nrs)>0,-1,True))\n",
    "    \n",
    "    xx=NRtoER(E_nrs[cFit],Y,V,eps)\n",
    "    yy=E_nrs[cFit]\n",
    "    \n",
    "    ERtoNR_fCS=CubicSpline(xx,yy,extrapolate=True)\n",
    "    pf_low=np.poly1d(np.polyfit([0,xx[0]], [0,yy[0]], 1))#Should maintain const Y at low end\n",
    "    pf_hi=np.poly1d(np.polyfit(xx[-10:], yy[-10:], 1))\n",
    "    EEtoNR_fcombo = lambda E: (E<xx[0])*pf_low(E) + (E>=xx[0])*(E<=xx[-1])*ERtoNR_fCS(E) + (E>xx[-1])*pf_hi(E)\n",
    "\n",
    "    return EEtoNR_fcombo\n",
    "\n",
    "#v4: Remove R_meas calculation and use global value.\n",
    "#Assumes R_meas matches Ebins.\n",
    "def extract_Y_v4(E_er, E_nr, E_ng, fer, fnr, fng, Y_max, Ebins=None):\n",
    "    #Assumed global variables:\n",
    "    #Ebins: eVee bins\n",
    "    #R_meas: Measured, bkg-subtracted, efficiency-corrected rate\n",
    "    #tlive_er(nr,ng): livetime of ER(NR,NG) hits\n",
    "    global tlive_er,tlive_nr,tlive_ng, V, eps, R_meas\n",
    "    \n",
    "    if Ebins is None:\n",
    "        Ebins=np.linspace(0,2e3,201)\n",
    "    Ebin_ctr=(Ebins[:-1]+Ebins[1:])/2\n",
    "    \n",
    "    #R_meas,dR_meas=spec.doBkgSub(meas, Ebins, Efit_min=50,Efit_max=2e3,\n",
    "    #                             doEffsyst=False, doBurstLeaksyst=False,\n",
    "    #                             output='reco-rate')\n",
    "    \n",
    "    E_er_max=Ebins[-1]\n",
    "    E_nr_max=ERtoNR(E_er_max,Y_max,V,eps)\n",
    "\n",
    "    Ebin_ctr_rev=Ebin_ctr[::-1]\n",
    "\n",
    "    rev_csum_meas=np.cumsum(R_meas[::-1])\n",
    "\n",
    "    R_sim_er=fer*np.histogram(E_er,Ebins)[0]/tlive_er\n",
    "    rev_csum_er=np.cumsum(R_sim_er[::-1])\n",
    "\n",
    "    w_nr=fnr/tlive_nr*np.ones(np.sum(E_nr<=E_nr_max))\n",
    "    w_ng=fng/tlive_ng*np.ones(np.sum(E_ng<=E_nr_max))\n",
    "        \n",
    "    E_nrng=np.concatenate((E_nr[E_nr<=E_nr_max],E_ng[E_ng<=E_nr_max]))\n",
    "    w_nrng=np.concatenate((w_nr,w_ng))\n",
    "\n",
    "    E_nrng_rev_srt=(E_nrng[np.argsort(E_nrng)])[::-1]\n",
    "    w_nrng_rev_srt=(w_nrng[np.argsort(E_nrng)])[::-1]\n",
    "    rev_csum_nrng=np.cumsum(w_nrng_rev_srt)\n",
    "\n",
    "    diff=rev_csum_meas-rev_csum_er\n",
    "    E_nrs=[]\n",
    "    error=[]\n",
    "    for entry in diff:\n",
    "        if np.isfinite(entry):\n",
    "            args=np.argwhere(rev_csum_nrng>=entry)\n",
    "            if len(args)==0:\n",
    "                E_nrs.append(-99)\n",
    "            else:\n",
    "                E_nr_this=E_nrng_rev_srt[args[0][0]]\n",
    "                error.append(rev_csum_nrng[args[0][0]]-entry)\n",
    "                if len(E_nrs)>0:\n",
    "                    E_nrs.append(min(E_nr_this,E_nrs[-1]))\n",
    "                else:\n",
    "                    E_nrs.append(E_nr_this)\n",
    "        else:\n",
    "            E_nrs.append(-999)\n",
    "            error.append(-999)\n",
    "    E_nrs=np.array(E_nrs[::-1])\n",
    "    Ys=((Ebins[:-1]/E_nrs)*(1+V/eps)-1)*eps/V\n",
    "    error=np.array(error)\n",
    "    \n",
    "    return (E_nrs,Ys,error)\n",
    "\n",
    "def extract_Y_wSmear_v4(E_er, E_nr, E_ng, fer, fnr, fng, Y_max,\n",
    "                        nItMax=2, fit_frac_all_goal=0.8, fit_frac_low_goal=1,\n",
    "                        FanoER=0.1161, FanoNR=0.1161, Ebins=None, seed=None):\n",
    "    #Assumed global variables:\n",
    "    #Ebins: eVee bins\n",
    "    #R_meas: Measured, bkg-subtracted, efficiency-corrected rate\n",
    "    #tlive_er(nr,ng): livetime of ER(NR,NG) hits\n",
    "    global tlive_er,tlive_nr,tlive_ng, V, eps\n",
    "    \n",
    "    if Ebins is None:\n",
    "        Ebins=np.linspace(0,2e3,201)\n",
    "    Ebin_ctr=(Ebins[:-1]+Ebins[1:])/2\n",
    "    \n",
    "    #Initial yield, with no resolution effects\n",
    "    E_nrs,Ys,errors=extract_Y_v4(E_er, E_nr, E_ng, fer, fnr, fng, Y_max, Ebins)\n",
    "    \n",
    "    iIt=0\n",
    "    while iIt<nItMax:\n",
    "        \n",
    "        Y=getYfitCond_v4(E_nrs,Ys)\n",
    "\n",
    "        E_nr_eVee=NRtoER(E_nr,Y,V,eps)\n",
    "        E_ng_eVee=NRtoER(E_ng,Y,V,eps)\n",
    "\n",
    "        ERtoNR_fit=getEEtoNRfitCond_v4(E_nrs,Y)\n",
    "        \n",
    "        E_er_sm=spec.getSmeared(E_er,seed=seed,F=FanoER)\n",
    "        E_nr_eVee_sm=spec.getSmeared(E_nr_eVee,seed=seed,F=FanoNR)\n",
    "        E_ng_eVee_sm=spec.getSmeared(E_ng_eVee,seed=seed,F=FanoNR)\n",
    "\n",
    "        #Check if the currently smeared version agrees with the measurement\n",
    "        C_er,_=np.histogram(E_er_sm,bins=Ebins)\n",
    "        R_er=fer*C_er/tlive_er\n",
    "\n",
    "        C_nr,_=np.histogram(E_nr_eVee_sm,bins=Ebins)\n",
    "        R_nr=fnr*C_nr/tlive_nr\n",
    "\n",
    "        C_ng,_=np.histogram(E_ng_eVee_sm,bins=Ebins)\n",
    "        R_ng=fng*C_ng/tlive_ng\n",
    "\n",
    "        R_tot=R_er+R_nr+R_ng\n",
    "        \n",
    "        #Some goodness of fit condition\n",
    "        #Hard to get this right because we want the whole thing to fit well, but are \n",
    "        #  especially concerned about the lowest few bins which tend to go astray\n",
    "        R_max=R_meas[Ebin_ctr>50]+1*dR_meas[0][Ebin_ctr>50]\n",
    "        R_min=R_meas[Ebin_ctr>50]-1*dR_meas[1][Ebin_ctr>50]\n",
    "        #fracion of bins within error bars\n",
    "        fit_frac_all=np.sum((R_tot[Ebin_ctr>50]<=R_max)&(R_tot[Ebin_ctr>50]>=R_min))/np.sum(Ebin_ctr>50)\n",
    "        #Fraction of lowest 10 bins within error bars\n",
    "        fit_frac_low=np.sum((R_tot[Ebin_ctr>50][:10]<=R_max[:10])&(R_tot[Ebin_ctr>50][:10]>=R_min[:10]))/10\n",
    "        \n",
    "        if (fit_frac_all>=fit_frac_all_goal) and (fit_frac_low>=fit_frac_low_goal):\n",
    "            break\n",
    "            \n",
    "        #Continue to the next iteration\n",
    "        iIt+=1\n",
    "        E_nr_sm=ERtoNR_fit(E_nr_eVee_sm)\n",
    "        E_ng_sm=ERtoNR_fit(E_ng_eVee_sm)\n",
    "        \n",
    "        E_nrs,Ys,errors=extract_Y_v4(E_er_sm, E_nr_sm, E_ng_sm, fer, fnr, fng, Y_max, Ebins)\n",
    "        \n",
    "    return (E_nrs,Ys,errors,iIt)\n",
    "\n",
    "def Y_conditioned_v4(E, Y_fit_func, E_nrs_fit, Ys_fit):\n",
    "    y=Y_fit_func(E)\n",
    "    \n",
    "    ylow=np.poly1d(np.polyfit(E_nrs_fit[:2],Ys_fit[:2], 1))\n",
    "    y[E<=E_nrs_fit[0]]=ylow(E[E<=E_nrs_fit[0]])\n",
    "    \n",
    "    yhi=np.poly1d(np.polyfit(E_nrs_fit[-2:],Ys_fit[-2:], 1))\n",
    "    y[E>=E_nrs_fit[-1]]=yhi(E[E>=E_nrs_fit[-1]])\n",
    "\n",
    "    y[y<0]=0\n",
    "    return y\n",
    "\n",
    "def getYfitCond_v4(E_nrs,Ys):\n",
    "    cFit=(Ebin_ctr>50) &(E_nrs>0) & (np.isfinite(E_nrs)) & (np.insert(np.diff(E_nrs)>0,-1,True))\n",
    "    Y_fit_func=lambda E: np.interp(E,E_nrs[cFit],Ys[cFit])\n",
    "    Y_fit = lambda E: Y_conditioned_v4(E,Y_fit_func,E_nrs[cFit],Ys[cFit])\n",
    "    return Yield.Yield('User',[Y_fit])\n",
    "\n",
    "#Fitted function to map from eVee back to eVnr\n",
    "#But need to condition it outside of the spline region.\n",
    "#Just extrapolate with linear from each end\n",
    "def getEEtoNRfitCond_v4(E_nrs,Y):\n",
    "    cFit=(Ebin_ctr>50) &(E_nrs>0) & (np.isfinite(E_nrs)) & (np.insert(np.diff(E_nrs)>0,-1,True))\n",
    "    \n",
    "    xx=NRtoER(E_nrs[cFit],Y,V,eps)\n",
    "    yy=E_nrs[cFit]\n",
    "    \n",
    "    ERtoNR_fit_func=lambda E: np.interp(E,xx,yy)\n",
    "    pf_low=np.poly1d(np.polyfit([0,xx[0]], [0,yy[0]], 1))#Should maintain const Y at low end\n",
    "    pf_hi=np.poly1d(np.polyfit(xx[-10:], yy[-10:], 1))\n",
    "    EEtoNR_fcombo = lambda E: (E<xx[0])*pf_low(E) + (E>=xx[0])*(E<=xx[-1])*ERtoNR_fit_func(E) + (E>xx[-1])*pf_hi(E)\n",
    "\n",
    "    return EEtoNR_fcombo\n",
    "\n",
    "#Find the full range of rates for each component for plotting\n",
    "#v4: Updated getYfitCond version\n",
    "def getERminmax_v4(scanData,cut,dosmear=True,seed=None,nAvg=1):\n",
    "    R_er_test=[]\n",
    "    R_nr_test=[]\n",
    "    R_ng_test=[]\n",
    "    \n",
    "    for i in range(len(scanData['lE_nrs'][cut])):\n",
    "        E_nrs=scanData['lE_nrs'][cut][i]\n",
    "        Ys=scanData['lYs'][cut][i]\n",
    "        fer=scanData['lfer'][cut][i]\n",
    "        fnr=scanData['lfnr'][cut][i]\n",
    "        fng=scanData['lfng'][cut][i]\n",
    "        FanoER=scanData['lFanoER'][cut][i]\n",
    "        FanoNR=scanData['lFanoNR'][cut][i]\n",
    "        \n",
    "        Y=getYfitCond_v4(E_nrs,Ys)\n",
    "        \n",
    "        \n",
    "        R_er_avg=[]\n",
    "        R_nr_avg=[]\n",
    "        R_ng_avg=[]\n",
    "        for iteration in range(nAvg):\n",
    "            if dosmear:\n",
    "                E_er_sm=spec.getSmeared(E_er,seed=seed,F=FanoER)\n",
    "                E_nr_eVee_sm=spec.getSmeared(NRtoER(E_nr,Y,V,eps),seed=seed,F=FanoNR)\n",
    "                E_ng_eVee_sm=spec.getSmeared(NRtoER(E_ng,Y,V,eps),seed=seed,F=FanoNR)\n",
    "            else:\n",
    "                E_er_sm=E_er\n",
    "                E_nr_eVee_sm=NRtoER(E_nr,Y,V,eps)\n",
    "                E_ng_eVee_sm=NRtoER(E_ng,Y,V,eps)\n",
    "\n",
    "\n",
    "            C_er,_=np.histogram(E_er_sm,bins=Ebins)\n",
    "            R_er=fer*C_er/tlive_er\n",
    "\n",
    "            C_nr,_=np.histogram(E_nr_eVee_sm,bins=Ebins)\n",
    "            R_nr=fnr*C_nr/tlive_nr\n",
    "\n",
    "            C_ng,_=np.histogram(E_ng_eVee_sm,bins=Ebins)\n",
    "            R_ng=fng*C_ng/tlive_ng\n",
    "            \n",
    "            R_er_avg.append(R_er)\n",
    "            R_nr_avg.append(R_nr)\n",
    "            R_ng_avg.append(R_ng)\n",
    "\n",
    "        R_er_test.append(np.mean(np.array(R_er_avg),axis=0))\n",
    "        R_nr_test.append(np.mean(np.array(R_nr_avg),axis=0))\n",
    "        R_ng_test.append(np.mean(np.array(R_ng_avg),axis=0))\n",
    "    \n",
    "    R_er_test=np.array(R_er_test)\n",
    "    R_nr_test=np.array(R_nr_test)\n",
    "    R_ng_test=np.array(R_ng_test)\n",
    "    \n",
    "    R_total_test=R_er_test+R_nr_test+R_ng_test\n",
    "\n",
    "    Renvelopes={'eVee':Ebin_ctr,\n",
    "                'ER':{'max':np.max(R_er_test,axis=0),'min':np.min(R_er_test,axis=0)},\n",
    "                'NR':{'max':np.max(R_nr_test,axis=0),'min':np.min(R_nr_test,axis=0)},\n",
    "                'NG':{'max':np.max(R_ng_test,axis=0),'min':np.min(R_ng_test,axis=0)},\n",
    "                'Total':{'max':np.max(R_total_test,axis=0),'min':np.min(R_total_test,axis=0)},\n",
    "               }\n",
    "    return Renvelopes\n",
    "\n",
    "#Find the full enevelope of yield curves\n",
    "#Includes first and last point of each curve and the min and max Y at each Enr\n",
    "def getEYenvelope_v4(lE_nrs_sample,lYs_sample,eVeeMin=50):\n",
    "    Yenv_left=[]\n",
    "    Yenv_right=[]\n",
    "    Enr_env_left=[]\n",
    "    Enr_env_right=[]\n",
    "\n",
    "    for E_nrs,Ys in zip(lE_nrs_sample,lYs_sample):\n",
    "        cFit=(Ebin_ctr>50) &(E_nrs>0) & (np.isfinite(E_nrs)) & (np.insert(np.diff(E_nrs)>0,-1,True))\n",
    "        Yenv_left.append(Ys[cFit&(Ebin_ctr>eVeeMin)][0])\n",
    "        Enr_env_left.append(E_nrs[cFit&(Ebin_ctr>eVeeMin)][0])\n",
    "        Yenv_right.append(Ys[cFit&(Ebin_ctr>eVeeMin)][-1])\n",
    "        Enr_env_right.append(E_nrs[cFit&(Ebin_ctr>eVeeMin)][-1])\n",
    "        \n",
    "    Enr_env_right=np.array(Enr_env_right)\n",
    "    Yenv_right=np.array(Yenv_right)\n",
    "    Enr_env_left=np.array(Enr_env_left)\n",
    "    Yenv_left=np.array(Yenv_left)\n",
    "\n",
    "    Enr_env_top=np.linspace(Enr_env_left[np.argmax(Yenv_left)],Enr_env_right[np.argmax(Yenv_right)],1000)\n",
    "    Ytestmax=[]\n",
    "    for E_nrs,Ys in zip(lE_nrs_sample,lYs_sample):\n",
    "        cFit=(Ebin_ctr>50) &(E_nrs>0) & (np.isfinite(E_nrs)) & (np.insert(np.diff(E_nrs)>0,-1,True))\n",
    "        Y=getYfitCond_v4(E_nrs,Ys)\n",
    "        Ytesti=Y.calc(Enr_env_top)\n",
    "        cgoodval=(Enr_env_top>=np.min(E_nrs[Ebin_ctr>eVeeMin]))\n",
    "        Ytesti[~cgoodval]=-99\n",
    "        Ytestmax.append(Ytesti)\n",
    "    Yenv_top=np.max(np.array(Ytestmax),axis=0)        \n",
    "\n",
    "    Enr_env_bottom=np.linspace(Enr_env_left[np.argmin(Yenv_left)],Enr_env_right[np.argmin(Yenv_right)],1000)\n",
    "    Ytestmin=[]\n",
    "    for E_nrs,Ys in zip(lE_nrs_sample,lYs_sample):\n",
    "        cFit=(Ebin_ctr>50) &(E_nrs>0) & (np.isfinite(E_nrs)) & (np.insert(np.diff(E_nrs)>0,-1,True))\n",
    "        Y=getYfitCond_v4(E_nrs,Ys)\n",
    "        Ytesti=Y.calc(Enr_env_bottom)\n",
    "        cgoodval=(Enr_env_bottom>=np.min(E_nrs[Ebin_ctr>eVeeMin]))\n",
    "        Ytesti[~cgoodval]=99\n",
    "        Ytestmin.append(Ytesti)\n",
    "    Yenv_bottom=np.min(np.array(Ytestmin),axis=0)        \n",
    "\n",
    "    #Need to sort the points so that they form a closed polygon\n",
    "    #Go clockwise from top left\n",
    "\n",
    "    Enr_env=np.concatenate( (Enr_env_top, Enr_env_right[np.argsort(Enr_env_right)], Enr_env_bottom[::-1], Enr_env_left[np.argsort(Enr_env_left)][::-1]) )\n",
    "    Yenv=np.concatenate((Yenv_top, Yenv_right[np.argsort(Enr_env_right)], Yenv_bottom[::-1], Yenv_left[np.argsort(Enr_env_left)][::-1]))\n",
    "\n",
    "    return (Enr_env, Yenv)"
   ]
  },
  {
   "cell_type": "code",
   "execution_count": 3,
   "metadata": {},
   "outputs": [
    {
     "name": "stderr",
     "output_type": "stream",
     "text": [
      "../python/R68_spec_tools.py:55: RuntimeWarning: divide by zero encountered in true_divide\n",
      "  (eff.dcutEffFit_bkg(Ebins_ctr)/eff.cutEffFit_bkg(Ebins_ctr))**2 +\\\n",
      "../python/R68_spec_tools.py:60: RuntimeWarning: divide by zero encountered in true_divide\n",
      "  R_meas_Bkg = N_meas_Bkg/TE_Bkg\n"
     ]
    }
   ],
   "source": [
    "Emax = 2000 #eVee\n",
    "Ebins=np.linspace(0,Emax,201)\n",
    "\n",
    "Ebin_ctr=(Ebins[:-1]+Ebins[1:])/2\n",
    "\n",
    "tlive_er=g4['ER']['tlive']\n",
    "tlive_nr=g4['NR']['tlive']\n",
    "tlive_ng=cap['tlive']\n",
    "\n",
    "#uncertainty is (high,low)\n",
    "R_meas,dR_meas=spec.doBkgSub(meas, Ebins, Efit_min=50,Efit_max=2e3,\\\n",
    "                             doEffsyst=True, doBurstLeaksyst=True,\\\n",
    "                             output='reco-rate')"
   ]
  },
  {
   "cell_type": "code",
   "execution_count": 4,
   "metadata": {},
   "outputs": [],
   "source": [
    "#Illustration of method\n",
    "\n",
    "Elim_er=[255.0,505.0,1005.0,1505.0,1995.0]\n",
    "Elim_nr=[806.3832567888599, 1967.2490338155576, 4045.3075738134753, 5739.940139258986, 7281.31517699986]\n",
    "\n",
    "for Elim in Elim_er[:-1]:\n",
    "    cut=(Ebin_ctr>=Elim)&(Ebin_ctr<=Elim_er[-1])"
   ]
  },
  {
   "cell_type": "code",
   "execution_count": 5,
   "metadata": {},
   "outputs": [],
   "source": [
    "c,b=np.histogram(np.sum(g4['ER']['E'],axis=1),bins=Ebins)\n",
    "bctr=(b[:-1]+b[1:])/2\n",
    "\n",
    "for Elim in Elim_er[:-1]:\n",
    "    cut=(bctr>=Elim)&(bctr<=Elim_er[-1])\n",
    "\n",
    "Ebnr=np.linspace(0,7.3e3,200)\n",
    "c,b=np.histogram(np.sum(g4['NR']['E'],axis=1),bins=Ebnr)\n",
    "bctr=(b[:-1]+b[1:])/2\n",
    "\n",
    "for Elim in Elim_nr[:-1]:\n",
    "    cut=(bctr>=Elim)&(bctr<=Elim_nr[-1])\n",
    "\n",
    "c,b=np.histogram(np.sum(cap['dE'],axis=1),bins=Ebnr)\n",
    "bctr=(b[:-1]+b[1:])/2\n",
    "\n",
    "for Elim in Elim_nr[:-1]:\n",
    "    cut=(bctr>=Elim)&(bctr<=Elim_nr[-1])"
   ]
  },
  {
   "cell_type": "code",
   "execution_count": 6,
   "metadata": {},
   "outputs": [],
   "source": [
    "#For this analysis, we'll just use the total Edep of each event and apply yield to that.\n",
    "#How big of an assumption is this?\n",
    "E_er=np.sum(g4['ER']['E'],axis=1)\n",
    "E_nr=np.sum(g4['NR']['E'],axis=1)\n",
    "E_ng=np.sum(cap['dE'],axis=1)"
   ]
  },
  {
   "cell_type": "code",
   "execution_count": 7,
   "metadata": {},
   "outputs": [],
   "source": [
    "Emax_frac_er=np.max(g4['ER']['E'],axis=1)/np.sum(g4['ER']['E'],axis=1)\n",
    "Emax_frac_nr=np.max(g4['NR']['E'],axis=1)/np.sum(g4['NR']['E'],axis=1)\n",
    "Emax_frac_ng=np.max(cap['dE'],axis=1)/np.sum(cap['dE'],axis=1)"
   ]
  },
  {
   "cell_type": "code",
   "execution_count": 8,
   "metadata": {},
   "outputs": [],
   "source": [
    "#Trim events that won't figure into the analysis range\n",
    "E_er=E_er[(E_er>0) & (E_er<10e3)]\n",
    "E_nr=E_nr[(E_nr>0) & (E_nr<1000e3)]"
   ]
  },
  {
   "cell_type": "code",
   "execution_count": 9,
   "metadata": {},
   "outputs": [],
   "source": [
    "#Spectra with default livetimes and standard yield, Fano\n",
    "\n",
    "#Y=Yield.Yield('Lind',[0.146])\n",
    "Y=Yield.Yield('Chav',[0.146,1e3/0.247])\n",
    "\n",
    "N_er,_=np.histogram(E_er,bins=Ebins)\n",
    "N_nr,_=np.histogram(NRtoER(E_nr,Y,V,eps),bins=Ebins)\n",
    "N_ng,_=np.histogram(NRtoER(E_ng,Y,V,eps),bins=Ebins)\n",
    "\n",
    "R_er=N_er/g4['ER']['tlive']\n",
    "R_nr=N_nr/g4['NR']['tlive']\n",
    "R_ng=N_ng/cap['tlive']"
   ]
  },
  {
   "cell_type": "code",
   "execution_count": 10,
   "metadata": {},
   "outputs": [
    {
     "data": {
      "application/vnd.jupyter.widget-view+json": {
       "model_id": "6c686ab342b44b9cb02c7d8df6c2d578",
       "version_major": 2,
       "version_minor": 0
      },
      "text/plain": [
       "  0%|          | 0/200 [00:00<?, ?it/s]"
      ]
     },
     "metadata": {},
     "output_type": "display_data"
    }
   ],
   "source": [
    "#Need to set some NR max I think. \n",
    "#Not sure how to choose this because there's NRs up to 1 MeV\n",
    "#Do we need a fixed (Er,Y) to work from?\n",
    "\n",
    "Y=Yield.Yield('Lind',[0.146])\n",
    "E_nr_max=ERtoNR(Ebin_ctr[-1],Y,V,eps)[0]\n",
    "\n",
    "fg4=np.sum(R_meas[(Ebin_ctr>1.9e3)&(Ebin_ctr<2e3)]) / (Nint(E_er,1.9e3,2e3)/g4['ER']['tlive'] + Nint(E_nr,ERtoNR(1.9e3,Y,V,eps)[0],E_nr_max)/g4['NR']['tlive'])\n",
    "fng=0\n",
    "\n",
    "E_nrs=[]\n",
    "E_nr_step=1\n",
    "E_nr_test=E_nr_max\n",
    "for i in tqdm(range(len(Ebin_ctr))[::-1]):\n",
    "    if np.isfinite(R_meas[i]):\n",
    "        while True:\n",
    "            R_meas_this=np.sum(R_meas[(Ebin_ctr>Ebin_ctr[i])&(Ebin_ctr<2e3)])\n",
    "            R_sim_this=fg4*(Nint(E_er,Ebin_ctr[i],2e3)/g4['ER']['tlive'] + Nint(E_nr,E_nr_test,E_nr_max)/g4['NR']['tlive']) + fng*Nint(E_ng,E_nr_test,E_nr_max)/cap['tlive']\n",
    "\n",
    "            if (R_meas_this<R_sim_this) or (E_nr_test<0):\n",
    "                break\n",
    "            E_nr_test-=E_nr_step\n",
    "            \n",
    "        E_nrs.append(E_nr_test)\n",
    "    else:\n",
    "        E_nrs.append(np.inf)\n",
    "E_nrs=np.array(E_nrs[::-1])"
   ]
  },
  {
   "cell_type": "code",
   "execution_count": 11,
   "metadata": {},
   "outputs": [
    {
     "name": "stderr",
     "output_type": "stream",
     "text": [
      "/home/gerudo7/anaconda3/lib/python3.7/site-packages/numpy/lib/function_base.py:1281: RuntimeWarning: invalid value encountered in subtract\n",
      "  a = op(a[slice1], a[slice2])\n"
     ]
    }
   ],
   "source": [
    "Ys=((Ebin_ctr/E_nrs)*(1+V/eps)-1)*eps/V\n",
    "\n",
    "cFit=(np.isfinite(E_nrs)) & (np.insert(np.diff(E_nrs)>0,-1,True))\n",
    "Y_fCS=CubicSpline(E_nrs[cFit],Ys[cFit])\n",
    "\n",
    "Y=Yield.Yield('Chav',[0.146,1e3/0.247])"
   ]
  },
  {
   "cell_type": "code",
   "execution_count": 12,
   "metadata": {},
   "outputs": [],
   "source": [
    "C_er,_=np.histogram(E_er,bins=Ebins)\n",
    "R_er=fg4*C_er/g4['ER']['tlive']\n",
    "\n",
    "Y=Yield.Yield('User',[Y_fCS])\n",
    "C_nr,_=np.histogram(NRtoER(E_nr,Y,V,eps),bins=Ebins)\n",
    "R_nr=fg4*C_nr/g4['NR']['tlive']\n",
    "C_ng,_=np.histogram(NRtoER(E_ng,Y,V,eps),bins=Ebins)\n",
    "R_ng=fng*C_ng/cap['tlive']"
   ]
  },
  {
   "cell_type": "code",
   "execution_count": 13,
   "metadata": {},
   "outputs": [],
   "source": [
    "#Extract yield curve using the integral method\n",
    "#Treats each event as a single scatter of the total energy\n",
    "#fer: ER livetime factor\n",
    "#fnr: NR livetime factor\n",
    "#fng: NG livetime factor\n",
    "#Y_max: Yield value that corresponds to the highest bin edge of Ebins\n",
    "tlive_er=g4['ER']['tlive']\n",
    "tlive_nr=g4['NR']['tlive']\n",
    "tlive_ng=cap['tlive']"
   ]
  },
  {
   "cell_type": "code",
   "execution_count": 14,
   "metadata": {},
   "outputs": [
    {
     "data": {
      "application/vnd.jupyter.widget-view+json": {
       "model_id": "9c11a725793b48f5ba1bf71f30d5afbd",
       "version_major": 2,
       "version_minor": 0
      },
      "text/plain": [
       "  0%|          | 0/6 [00:00<?, ?it/s]"
      ]
     },
     "metadata": {},
     "output_type": "display_data"
    },
    {
     "data": {
      "application/vnd.jupyter.widget-view+json": {
       "model_id": "c91e315626d54f95b595a8ee555ffaa6",
       "version_major": 2,
       "version_minor": 0
      },
      "text/plain": [
       "  0%|          | 0/200 [00:00<?, ?it/s]"
      ]
     },
     "metadata": {},
     "output_type": "display_data"
    },
    {
     "data": {
      "application/vnd.jupyter.widget-view+json": {
       "model_id": "25965de95b654995beef194d5ca8ca87",
       "version_major": 2,
       "version_minor": 0
      },
      "text/plain": [
       "  0%|          | 0/200 [00:00<?, ?it/s]"
      ]
     },
     "metadata": {},
     "output_type": "display_data"
    },
    {
     "data": {
      "application/vnd.jupyter.widget-view+json": {
       "model_id": "ebfa08c0abe04f53b10d463a0dddec0b",
       "version_major": 2,
       "version_minor": 0
      },
      "text/plain": [
       "  0%|          | 0/200 [00:00<?, ?it/s]"
      ]
     },
     "metadata": {},
     "output_type": "display_data"
    },
    {
     "data": {
      "application/vnd.jupyter.widget-view+json": {
       "model_id": "6a7f11d0e4274aee9b9be330926b0bde",
       "version_major": 2,
       "version_minor": 0
      },
      "text/plain": [
       "  0%|          | 0/200 [00:00<?, ?it/s]"
      ]
     },
     "metadata": {},
     "output_type": "display_data"
    },
    {
     "data": {
      "application/vnd.jupyter.widget-view+json": {
       "model_id": "7de1d6478dd64b53bfa066bcefa47fae",
       "version_major": 2,
       "version_minor": 0
      },
      "text/plain": [
       "  0%|          | 0/200 [00:00<?, ?it/s]"
      ]
     },
     "metadata": {},
     "output_type": "display_data"
    },
    {
     "data": {
      "application/vnd.jupyter.widget-view+json": {
       "model_id": "084116a9f3b24b23baef98d55448205c",
       "version_major": 2,
       "version_minor": 0
      },
      "text/plain": [
       "  0%|          | 0/200 [00:00<?, ?it/s]"
      ]
     },
     "metadata": {},
     "output_type": "display_data"
    }
   ],
   "source": [
    "lY_max=np.linspace(0.1,0.6,6)\n",
    "lfer=[]\n",
    "lfnr=[]\n",
    "lE_nrs=[]\n",
    "lYs=[]\n",
    "for Y_max in tqdm(lY_max):\n",
    "    #Normalize so that ER+NR matches data near 2 keV\n",
    "    fg4=np.sum(R_meas[(Ebin_ctr>1.9e3)&(Ebin_ctr<2e3)]) / (Nint(E_er,1.9e3,2e3)/g4['ER']['tlive'] + Nint(E_nr,ERtoNR(1.9e3,Y_max,V,eps),ERtoNR(2e3,Y_max,V,eps))/g4['NR']['tlive'])\n",
    "    lfer.append(fg4)\n",
    "    lfnr.append(fg4)\n",
    "    E_nrs,Ys=extract_Y(E_er, E_nr, E_ng, fer=fg4, fnr=fg4, fng=0, Y_max=Y_max, E_nr_step=1)\n",
    "    lE_nrs.append(E_nrs)\n",
    "    lYs.append(Ys)\n",
    "\n",
    "lfer=np.array(lfer)\n",
    "lfnr=np.array(lfnr)\n",
    "lE_nrs=np.array(lE_nrs)\n",
    "lYs=np.array(lYs)"
   ]
  },
  {
   "cell_type": "code",
   "execution_count": 15,
   "metadata": {},
   "outputs": [],
   "source": [
    "for E_nrs,Ys in zip(lE_nrs,lYs):\n",
    "    cFit=(np.isfinite(E_nrs)) & (np.insert(np.diff(E_nrs)>0,-1,True))\n",
    "    Y_fCS=CubicSpline(E_nrs[cFit],Ys[cFit],extrapolate=True)\n",
    "\n",
    "for E_nrs,Ys,fer,fnr in zip(lE_nrs,lYs,lfer,lfnr):\n",
    "    cFit=(np.isfinite(E_nrs)) & (np.insert(np.diff(E_nrs)>0,-1,True))\n",
    "    Y_fCS=CubicSpline(E_nrs[cFit],Ys[cFit],extrapolate=True)\n",
    "    \n",
    "    C_er,_=np.histogram(E_er,bins=Ebins)\n",
    "    R_er=fer*C_er/tlive_er\n",
    "    Y=Yield.Yield('User',[Y_fCS])\n",
    "    C_nr,_=np.histogram(NRtoER(E_nr,Y,V,eps),bins=Ebins)\n",
    "    R_nr=fnr*C_nr/tlive_nr\n",
    "    C_ng,_=np.histogram(NRtoER(E_ng,Y,V,eps),bins=Ebins)\n",
    "    R_ng=fng*C_ng/tlive_ng"
   ]
  },
  {
   "cell_type": "code",
   "execution_count": 16,
   "metadata": {},
   "outputs": [],
   "source": [
    "bins=np.linspace(-100,2500,100)\n",
    "#Looks like that's doing the right thing. Maybe need to truncate at 0\n",
    "ERsmeared=spec.getSmeared(NRtoER(E_ng,0.2,V,eps))\n",
    "ERsmeared[ERsmeared<0]=0"
   ]
  },
  {
   "cell_type": "code",
   "execution_count": 17,
   "metadata": {},
   "outputs": [
    {
     "data": {
      "application/vnd.jupyter.widget-view+json": {
       "model_id": "9243255859bb41d7a7a29cc4d32ce98b",
       "version_major": 2,
       "version_minor": 0
      },
      "text/plain": [
       "  0%|          | 0/200 [00:00<?, ?it/s]"
      ]
     },
     "metadata": {},
     "output_type": "display_data"
    }
   ],
   "source": [
    "Y_max=0.25\n",
    "#Normalize so that ER+NR matches data near 2 keV\n",
    "fg4=np.sum(R_meas[(Ebin_ctr>1.9e3)&(Ebin_ctr<2e3)]) / (Nint(E_er,1.9e3,2e3)/g4['ER']['tlive'] + Nint(E_nr,ERtoNR(1.9e3,Y_max,V,eps),ERtoNR(2e3,Y_max,V,eps))/g4['NR']['tlive'])\n",
    "\n",
    "E_nrs,Ys=extract_Y(E_er, E_nr, E_ng, fer=fg4, fnr=fg4, fng=1, Y_max=Y_max, E_nr_step=1)\n",
    "cFit=(np.isfinite(E_nrs)) & (np.insert(np.diff(E_nrs)>0,-1,True))\n",
    "Y_fCS=CubicSpline(E_nrs[cFit],Ys[cFit],extrapolate=True)"
   ]
  },
  {
   "cell_type": "code",
   "execution_count": 18,
   "metadata": {},
   "outputs": [],
   "source": [
    "Y=Yield.Yield('User',[Y_fit])\n",
    "E_nr_eVee=NRtoER(E_nr,Y,V,eps)\n",
    "E_ng_eVee=NRtoER(E_ng,Y,V,eps)\n",
    "\n",
    "#Use this correspondence to map back to NR\n",
    "cFit=(E_nrs>0) & (np.isfinite(E_nrs)) & (np.insert(np.diff(E_nrs)>0,-1,True))\n",
    "ERtoNR_fCS=CubicSpline(NRtoER(E_nrs[cFit],Y,V,eps),E_nrs[cFit])\n",
    "\n",
    "E_nr_sm=ERtoNR_fCS(spec.getSmeared(E_nr_eVee))\n",
    "E_ng_sm=ERtoNR_fCS(spec.getSmeared(E_ng_eVee))\n",
    "E_ng_sm2=ERtoNR_fCS(spec.getSmeared(E_ng_eVee))\n",
    "\n",
    "Ebnr=np.linspace(0,3e3,200)"
   ]
  },
  {
   "cell_type": "code",
   "execution_count": 19,
   "metadata": {},
   "outputs": [
    {
     "data": {
      "application/vnd.jupyter.widget-view+json": {
       "model_id": "87d9a80def6645bea9bd0216ee35a15e",
       "version_major": 2,
       "version_minor": 0
      },
      "text/plain": [
       "  0%|          | 0/200 [00:00<?, ?it/s]"
      ]
     },
     "metadata": {},
     "output_type": "display_data"
    }
   ],
   "source": [
    "E_nrs_0=E_nrs\n",
    "Ys_0=Ys\n",
    "E_nrs,Ys=extract_Y(E_er, E_nr_sm, E_ng_sm, fer=fg4, fnr=fg4, fng=1, Y_max=Y_max, E_nr_step=1)\n",
    "cFit=(E_nrs>0) & (np.isfinite(E_nrs)) & (np.insert(np.diff(E_nrs)>0,-1,True))\n",
    "Y_fCS=CubicSpline(E_nrs[cFit],Ys[cFit],extrapolate=True)"
   ]
  },
  {
   "cell_type": "code",
   "execution_count": 20,
   "metadata": {},
   "outputs": [],
   "source": [
    "tlive_er=g4['ER']['tlive']\n",
    "tlive_nr=g4['NR']['tlive']\n",
    "tlive_ng=cap['tlive']"
   ]
  },
  {
   "cell_type": "code",
   "execution_count": 21,
   "metadata": {},
   "outputs": [
    {
     "data": {
      "application/vnd.jupyter.widget-view+json": {
       "model_id": "5fe02291bb59491bb2ee4778f6620151",
       "version_major": 2,
       "version_minor": 0
      },
      "text/plain": [
       "  0%|          | 0/200 [00:00<?, ?it/s]"
      ]
     },
     "metadata": {},
     "output_type": "display_data"
    },
    {
     "data": {
      "application/vnd.jupyter.widget-view+json": {
       "model_id": "1c0acf7ac869409b920606361f0db62b",
       "version_major": 2,
       "version_minor": 0
      },
      "text/plain": [
       "  0%|          | 0/200 [00:00<?, ?it/s]"
      ]
     },
     "metadata": {},
     "output_type": "display_data"
    },
    {
     "data": {
      "application/vnd.jupyter.widget-view+json": {
       "model_id": "bc8dbc15f9f34b2baefe7b12bf44b4a8",
       "version_major": 2,
       "version_minor": 0
      },
      "text/plain": [
       "  0%|          | 0/200 [00:00<?, ?it/s]"
      ]
     },
     "metadata": {},
     "output_type": "display_data"
    }
   ],
   "source": [
    "Y_max=0.25\n",
    "#Normalize so that ER+NR matches data near 2 keV\n",
    "fg4=np.sum(R_meas[(Ebin_ctr>1.9e3)&(Ebin_ctr<2e3)]) / (Nint(E_er,1.9e3,2e3)/g4['ER']['tlive'] + Nint(E_nr,ERtoNR(1.9e3,Y_max,V,eps),ERtoNR(2e3,Y_max,V,eps))/g4['NR']['tlive'])\n",
    "\n",
    "E_nrs,Ys=extract_Y(E_er, E_nr, E_ng, fer=fg4, fnr=fg4, fng=1, Y_max=Y_max, E_nr_step=1)\n",
    "\n",
    "cFit=(E_nrs>0) & (np.isfinite(E_nrs)) & (np.insert(np.diff(E_nrs)>0,-1,True))\n",
    "Y_fCS=CubicSpline(E_nrs[cFit],Ys[cFit],extrapolate=True)\n",
    "Y_fit = lambda E: Y_conditioned(E,Y_fCS,E_nrs[E_nrs>0][0],0,E_nrs[-1],Ys[-1])\n",
    "\n",
    "E_nrs,Ys=extract_Y_wSmear(E_er, E_nr, E_ng, fer=fg4, fnr=fg4, fng=1, Y_max=Y_max, nIt=1, E_nr_step=1)\n",
    "\n",
    "cFit=(E_nrs>0) & (np.isfinite(E_nrs)) & (np.insert(np.diff(E_nrs)>0,-1,True))\n",
    "Y_fCS=CubicSpline(E_nrs[cFit],Ys[cFit],extrapolate=True)\n",
    "Y_fit = lambda E: Y_conditioned(E,Y_fCS,E_nrs[E_nrs>0][0],0,E_nrs[-1],Ys[-1])"
   ]
  },
  {
   "cell_type": "code",
   "execution_count": 22,
   "metadata": {},
   "outputs": [
    {
     "data": {
      "application/vnd.jupyter.widget-view+json": {
       "model_id": "02b5b1f983714b7ebb0b20025c0a8016",
       "version_major": 2,
       "version_minor": 0
      },
      "text/plain": [
       "  0%|          | 0/1 [00:00<?, ?it/s]"
      ]
     },
     "metadata": {},
     "output_type": "display_data"
    },
    {
     "data": {
      "application/vnd.jupyter.widget-view+json": {
       "model_id": "b349919a43fb4d47b30a8392a0055104",
       "version_major": 2,
       "version_minor": 0
      },
      "text/plain": [
       "  0%|          | 0/200 [00:00<?, ?it/s]"
      ]
     },
     "metadata": {},
     "output_type": "display_data"
    },
    {
     "data": {
      "application/vnd.jupyter.widget-view+json": {
       "model_id": "5dc647eebe9243fdb49e7fe7cb27f727",
       "version_major": 2,
       "version_minor": 0
      },
      "text/plain": [
       "  0%|          | 0/200 [00:00<?, ?it/s]"
      ]
     },
     "metadata": {},
     "output_type": "display_data"
    }
   ],
   "source": [
    "lY_max=[0.3]\n",
    "lfer=[]\n",
    "lfnr=[]\n",
    "lfng=[]\n",
    "lE_nrs=[]\n",
    "lYs=[]\n",
    "for Y_max in tqdm(lY_max):\n",
    "    #Normalize so that ER+NR matches data near 2 keV\n",
    "    fg4=np.sum(R_meas[(Ebin_ctr>1.9e3)&(Ebin_ctr<2e3)]) / (Nint(E_er,1.9e3,2e3)/g4['ER']['tlive'] + Nint(E_nr,ERtoNR(1.9e3,Y_max,V,eps),ERtoNR(2e3,Y_max,V,eps))/g4['NR']['tlive'])\n",
    "    lfer.append(fg4)\n",
    "    lfnr.append(fg4)\n",
    "    lfng.append(1)\n",
    "    E_nrs,Ys=extract_Y_wSmear(E_er, E_nr, E_ng, fer=fg4, fnr=fg4, fng=1, Y_max=Y_max,\n",
    "                              nIt=1, E_nr_step=1)\n",
    "    lE_nrs.append(E_nrs)\n",
    "    lYs.append(Ys)\n",
    "\n",
    "lfer=np.array(lfer)\n",
    "lfnr=np.array(lfnr)\n",
    "lE_nrs=np.array(lE_nrs)\n",
    "lYs=np.array(lYs)"
   ]
  },
  {
   "cell_type": "code",
   "execution_count": 23,
   "metadata": {},
   "outputs": [],
   "source": [
    "for E_nrs,Ys,fer,fnr,fng in zip(lE_nrs,lYs,lfer,lfnr,lfng):\n",
    "    cFit=(np.isfinite(E_nrs)) & (np.insert(np.diff(E_nrs)>0,-1,True))\n",
    "    Y_fCS=CubicSpline(E_nrs[cFit],Ys[cFit],extrapolate=True)\n",
    "    \n",
    "    #Smear\n",
    "    Y_fit = lambda E: Y_conditioned(E,Y_fCS,E_nrs[0],0,E_nrs[-1],Ys[-1])\n",
    "    Y=Yield.Yield('User',[Y_fit])\n",
    "    \n",
    "    E_er_sm=spec.getSmeared(E_er)\n",
    "    E_nr_eVee_sm=spec.getSmeared(NRtoER(E_nr,Y,V,eps))\n",
    "    E_ng_eVee_sm=spec.getSmeared(NRtoER(E_ng,Y,V,eps))\n",
    "    \n",
    "    C_er,_=np.histogram(E_er_sm,bins=Ebins)\n",
    "    R_er=fer*C_er/tlive_er\n",
    "    C_nr,_=np.histogram(E_nr_eVee_sm,bins=Ebins)\n",
    "    R_nr=fnr*C_nr/tlive_nr\n",
    "    C_ng,_=np.histogram(E_ng_eVee_sm,bins=Ebins)\n",
    "    R_ng=fng*C_ng/tlive_ng"
   ]
  },
  {
   "cell_type": "code",
   "execution_count": 24,
   "metadata": {},
   "outputs": [],
   "source": [
    "Y_max=0.3\n",
    "\n",
    "R0_meas=np.sum(R_meas[(Ebin_ctr>1.9e3)&(Ebin_ctr<2e3)])\n",
    "R0_er=Nint(E_er,1.9e3,2e3)/g4['ER']['tlive']\n",
    "R0_nr=Nint(E_nr,ERtoNR(1.9e3,Y_max,V,eps),ERtoNR(2e3,Y_max,V,eps))/g4['NR']['tlive']\n",
    "\n",
    "fer=0\n",
    "fnr=(R0_meas)/R0_nr\n",
    "fng=0\n",
    "\n",
    "E_er_max=2e3\n",
    "E_nr_max=ERtoNR(E_er_max,Y_max,V,eps)\n",
    "\n",
    "Ebin_ctr_rev=Ebin_ctr[::-1]\n",
    "\n",
    "rev_csum_meas=np.cumsum(R_meas[::-1])\n",
    "\n",
    "R_sim_er=fer*np.histogram(E_er,Ebins)[0]/tlive_er\n",
    "rev_csum_er=np.cumsum(R_sim_er[::-1])\n",
    "\n",
    "w_nr=fnr/tlive_nr*np.ones(np.sum(E_nr<=E_nr_max))\n",
    "w_ng=fng/tlive_ng*np.ones(np.sum(E_ng<=E_nr_max))\n",
    "\n",
    "E_nrng=np.concatenate((E_nr[E_nr<=E_nr_max],E_ng[E_ng<=E_nr_max]))\n",
    "w_nrng=np.concatenate((w_nr,w_ng))\n",
    "\n",
    "E_nrng_rev_srt=(E_nrng[np.argsort(E_nrng)])[::-1]\n",
    "w_nrng_rev_srt=(w_nrng[np.argsort(E_nrng)])[::-1]\n",
    "rev_csum_nrng=np.cumsum(w_nrng_rev_srt)\n",
    "\n",
    "diff=rev_csum_meas-rev_csum_er\n",
    "E_nrs=[]\n",
    "error=[]\n",
    "for entry in diff:\n",
    "    if np.isfinite(entry):\n",
    "        args=np.argwhere(rev_csum_nrng>=entry)\n",
    "        if len(args)==0:\n",
    "            E_nrs.append(-99)\n",
    "        else:\n",
    "            E_nr_this=E_nrng_rev_srt[args[0][0]]\n",
    "            error.append(rev_csum_nrng[args[0][0]]-entry)\n",
    "            if len(E_nrs)>0:\n",
    "                E_nrs.append(min(E_nr_this,E_nrs[-1]))\n",
    "            else:\n",
    "                E_nrs.append(E_nr_this)\n",
    "    else:\n",
    "        E_nrs.append(-999)\n",
    "        error.append(-999)\n",
    "E_nrs=np.array(E_nrs[::-1])\n",
    "Ys=((Ebins[:-1]/E_nrs)*(1+V/eps)-1)*eps/V"
   ]
  },
  {
   "cell_type": "code",
   "execution_count": 25,
   "metadata": {},
   "outputs": [],
   "source": [
    "cFit=(Ebin_ctr>50) & (E_nrs>0) & (np.isfinite(E_nrs)) & (np.insert(np.diff(E_nrs)>0,-1,True))\n",
    "Y_fCS=CubicSpline(E_nrs[cFit],Ys[cFit],extrapolate=True)\n",
    "\n",
    "Y_fit = lambda E: Y_conditioned(E,Y_fCS,E_nrs[cFit][0],Ys[cFit][0],E_nrs[-1],Ys[-1])\n",
    "Y=Yield.Yield('User',[Y_fit])\n",
    "\n",
    "E_er_sm=E_er\n",
    "E_nr_eVee_sm=NRtoER(E_nr,Y,V,eps)\n",
    "E_ng_eVee_sm=NRtoER(E_ng,Y,V,eps)\n",
    "\n",
    "C_er,_=np.histogram(E_er_sm,bins=Ebins)\n",
    "R_er=fer*C_er/tlive_er\n",
    "C_nr,_=np.histogram(E_nr_eVee_sm,bins=Ebins)\n",
    "R_nr=fnr*C_nr/tlive_nr\n",
    "C_ng,_=np.histogram(E_ng_eVee_sm,bins=Ebins)\n",
    "R_ng=fng*C_ng/tlive_ng"
   ]
  },
  {
   "cell_type": "code",
   "execution_count": 26,
   "metadata": {},
   "outputs": [],
   "source": [
    "E_nr_eVee=NRtoER(E_nr,Y,V,eps)\n",
    "E_ng_eVee=NRtoER(E_ng,Y,V,eps)\n",
    "\n",
    "#Use this correspondence to map back to NR\n",
    "#But need to condition it outside of the spline region.\n",
    "#Just extrapolate with linear from each end\n",
    "xx=NRtoER(E_nrs[cFit],Y,V,eps)\n",
    "yy=E_nrs[cFit]\n",
    "ERtoNR_fCS=CubicSpline(xx,yy,extrapolate=True)\n",
    "pf_low=np.poly1d(np.polyfit([0,xx[0]], [0,yy[0]], 1))\n",
    "pf_hi=np.poly1d(np.polyfit(xx[-10:], yy[-10:], 1))\n",
    "ERtoNR_fcombo = lambda E: (E<xx[0])*pf_low(E) + (E>=xx[0])*(E<=xx[-1])*ERtoNR_fCS(E) + (E>xx[-1])*pf_hi(E)\n",
    "\n",
    "E_er_sm=spec.getSmeared(E_er,seed=None,F=F)\n",
    "E_er_sm[E_er_sm<0]=0\n",
    "E_nr_sm=ERtoNR_fcombo(spec.getSmeared(E_nr_eVee,seed=None,F=F))\n",
    "E_ng_sm=ERtoNR_fcombo(spec.getSmeared(E_ng_eVee,seed=None,F=F))"
   ]
  },
  {
   "cell_type": "code",
   "execution_count": 27,
   "metadata": {},
   "outputs": [
    {
     "name": "stderr",
     "output_type": "stream",
     "text": [
      "../python/R68_spec_tools.py:69: RuntimeWarning: invalid value encountered in multiply\n",
      "  doEffsyst*(dTE_Bkg/TE_Bkg)**2 )\n"
     ]
    }
   ],
   "source": [
    "E_nrs,Ys,errors=extract_Y_v2(E_er_sm, E_nr_sm, E_ng_sm, fer, fnr, fng, Y_max, Ebins)\n",
    "\n",
    "cFit=(Ebin_ctr>50) & (E_nrs>0) & (np.isfinite(E_nrs)) & (np.insert(np.diff(E_nrs)>0,-1,True))\n",
    "Y_fCS=CubicSpline(E_nrs[cFit],Ys[cFit],extrapolate=True)\n",
    "\n",
    "Y_fit = lambda E: Y_conditioned(E,Y_fCS,E_nrs[cFit][0],Ys[cFit][0],E_nrs[-1],Ys[-1])\n",
    "Y=Yield.Yield('User',[Y_fit])\n",
    "\n",
    "E_nr_eVee=NRtoER(E_nr,Y,V,eps)\n",
    "E_ng_eVee=NRtoER(E_ng,Y,V,eps)\n",
    "\n",
    "#Use this correspondence to map back to NR\n",
    "#But need to condition it outside of the spline region.\n",
    "#Just extrapolate with linear from each end\n",
    "xx=NRtoER(E_nrs[cFit],Y,V,eps)\n",
    "yy=E_nrs[cFit]\n",
    "ERtoNR_fCS=CubicSpline(xx,yy,extrapolate=True)\n",
    "pf_low=np.poly1d(np.polyfit([0,xx[0]], [0,yy[0]], 1))\n",
    "pf_hi=np.poly1d(np.polyfit(xx[-10:], yy[-10:], 1))\n",
    "ERtoNR_fcombo = lambda E: (E<xx[0])*pf_low(E) + (E>=xx[0])*(E<=xx[-1])*ERtoNR_fCS(E) + (E>xx[-1])*pf_hi(E)\n",
    "\n",
    "E_er_sm2=spec.getSmeared(E_er,seed=None,F=F)\n",
    "E_nr_sm2=ERtoNR_fcombo(spec.getSmeared(E_nr_eVee,seed=None,F=F))\n",
    "E_ng_sm2=ERtoNR_fcombo(spec.getSmeared(E_ng_eVee,seed=None,F=F))"
   ]
  },
  {
   "cell_type": "code",
   "execution_count": 28,
   "metadata": {},
   "outputs": [],
   "source": [
    "E_nrs,Ys,errors=extract_Y_v2(E_er_sm2, E_nr_sm2, E_ng_sm2, fer, fnr, fng, Y_max, Ebins)\n",
    "\n",
    "cFit=(Ebin_ctr>50) & (E_nrs>0) & (np.isfinite(E_nrs)) & (np.insert(np.diff(E_nrs)>0,-1,True))\n",
    "Y_fCS=CubicSpline(E_nrs[cFit],Ys[cFit],extrapolate=True)\n",
    "\n",
    "Y_fit = lambda E: Y_conditioned(E,Y_fCS,E_nrs[cFit][0],Ys[cFit][0],E_nrs[-1],Ys[-1])\n",
    "Y=Yield.Yield('User',[Y_fit])\n",
    "\n",
    "E_nr_eVee=NRtoER(E_nr,Y,V,eps)\n",
    "E_ng_eVee=NRtoER(E_ng,Y,V,eps)\n",
    "\n",
    "#Use this correspondence to map back to NR\n",
    "#But need to condition it outside of the spline region.\n",
    "#Just extrapolate with linear from each end\n",
    "xx=NRtoER(E_nrs[cFit],Y,V,eps)\n",
    "yy=E_nrs[cFit]\n",
    "ERtoNR_fCS=CubicSpline(xx,yy,extrapolate=True)\n",
    "pf_low=np.poly1d(np.polyfit([0,xx[0]], [0,yy[0]], 1))\n",
    "pf_hi=np.poly1d(np.polyfit(xx[-10:], yy[-10:], 1))\n",
    "ERtoNR_fcombo = lambda E: (E<xx[0])*pf_low(E) + (E>=xx[0])*(E<=xx[-1])*ERtoNR_fCS(E) + (E>xx[-1])*pf_hi(E)\n",
    "\n",
    "E_er_sm3=spec.getSmeared(E_er,seed=None,F=F)\n",
    "E_nr_sm3=ERtoNR_fcombo(spec.getSmeared(E_nr_eVee,seed=None,F=F))\n",
    "E_ng_sm3=ERtoNR_fcombo(spec.getSmeared(E_ng_eVee,seed=None,F=F))"
   ]
  },
  {
   "cell_type": "code",
   "execution_count": 29,
   "metadata": {},
   "outputs": [],
   "source": [
    "E_nrs,Ys,errors=extract_Y_v2(E_er_sm, E_nr_sm, E_ng_sm, fer, fnr, fng, Y_max, Ebins)\n",
    "\n",
    "cFit=(Ebin_ctr>50) & (E_nrs>0) & (np.isfinite(E_nrs)) & (np.insert(np.diff(E_nrs)>0,-1,True))\n",
    "Y_fCS=CubicSpline(E_nrs[cFit],Ys[cFit],extrapolate=True)\n",
    "\n",
    "Y_fit = lambda E: Y_conditioned(E,Y_fCS,E_nrs[cFit][0],Ys[cFit][0],E_nrs[-1],Ys[-1])\n",
    "Y=Yield.Yield('User',[Y_fit])"
   ]
  },
  {
   "cell_type": "code",
   "execution_count": 30,
   "metadata": {},
   "outputs": [
    {
     "data": {
      "application/vnd.jupyter.widget-view+json": {
       "model_id": "4ed911520b244667a9baabfb520f5e3c",
       "version_major": 2,
       "version_minor": 0
      },
      "text/plain": [
       "  0%|          | 0/5 [00:00<?, ?it/s]"
      ]
     },
     "metadata": {},
     "output_type": "display_data"
    }
   ],
   "source": [
    "tlive_er=g4['ER']['tlive']\n",
    "tlive_nr=g4['NR']['tlive']\n",
    "tlive_ng=cap['tlive']\n",
    "\n",
    "lY_max=np.linspace(0.2,0.3,5)\n",
    "lfer=[]\n",
    "lfnr=[]\n",
    "lfng=[]\n",
    "lE_nrs=[]\n",
    "lYs=[]\n",
    "lerrors=[]\n",
    "\n",
    "for Y_max in tqdm(lY_max):\n",
    "    #Normalize so that ER+NR matches data near 2 keV\n",
    "\n",
    "    R0_meas=np.sum(R_meas[(Ebin_ctr>1.99e3)&(Ebin_ctr<2e3)])\n",
    "    R0_er=Nint(E_er,1.99e3,2e3)/g4['ER']['tlive']\n",
    "    R0_nr=Nint(E_nr,ERtoNR(1.99e3,Y_max,V,eps),ERtoNR(2e3,Y_max,V,eps))/g4['NR']['tlive']\n",
    "\n",
    "    fnr=6\n",
    "    fer=(R0_meas-fnr*R0_nr)/R0_er\n",
    "    fng=2#2.037\n",
    "\n",
    "    lfer.append(fer)\n",
    "    lfnr.append(fnr)\n",
    "    lfng.append(fng)\n",
    "    E_nrs,Ys,errors=extract_Y_wSmear_v2(E_er, E_nr, E_ng, fer, fnr, fng, Y_max=Y_max,\n",
    "                              nIt=1, Ebins=np.linspace(0,2e3,201), seed=None)\n",
    "    #If binning is too small, will get some errors and things won't work.\n",
    "    #Probably in bkg_sub, but not exactly sure\n",
    "    lE_nrs.append(E_nrs)\n",
    "    lYs.append(Ys)\n",
    "    lerrors.append(errors)\n",
    "\n",
    "lfer=np.array(lfer)\n",
    "lfnr=np.array(lfnr)\n",
    "lE_nrs=np.array(lE_nrs)\n",
    "lYs=np.array(lYs)\n",
    "lerrors=np.array(lerrors)"
   ]
  },
  {
   "cell_type": "code",
   "execution_count": 31,
   "metadata": {},
   "outputs": [
    {
     "name": "stderr",
     "output_type": "stream",
     "text": [
      "/home/gerudo7/anaconda3/lib/python3.7/site-packages/ipykernel_launcher.py:35: RuntimeWarning: invalid value encountered in true_divide\n"
     ]
    }
   ],
   "source": [
    "dosmear=True\n",
    "seed=None\n",
    "\n",
    "#Add other measurements from lit\n",
    "for E_nrs,Ys,fer,fnr,fng in zip(lE_nrs,lYs,lfer,lfnr,lfng):\n",
    "    cFit=(Ebin_ctr>50) &(E_nrs>0) & (np.isfinite(E_nrs)) & (np.insert(np.diff(E_nrs)>0,-1,True))\n",
    "    Y_fCS=CubicSpline(E_nrs[cFit],Ys[cFit],extrapolate=True)\n",
    "    Y_fCS=lambda E: np.interp(E,E_nrs[cFit],Ys[cFit])\n",
    "    \n",
    "    #Smear\n",
    "    Y_fit = lambda E: Y_conditioned_test(E,Y_fCS,E_nrs[cFit],Ys[cFit])\n",
    "    Y=Yield.Yield('User',[Y_fit])\n",
    "    \n",
    "    if dosmear:\n",
    "        E_er_sm=spec.getSmeared(E_er,seed=seed)\n",
    "        E_er_sm[E_er_sm<0]=0\n",
    "        E_nr_eVee_sm=spec.getSmeared(NRtoER(E_nr,Y,V,eps),seed=seed)\n",
    "        E_nr_eVee_sm[E_nr_eVee_sm<0]=0\n",
    "        E_nr_sm=NRtoER(E_nr,Y,V,eps)\n",
    "        E_ng_eVee_sm=spec.getSmeared(NRtoER(E_ng,Y,V,eps),seed=seed)\n",
    "        E_ng_eVee_sm[E_ng_eVee_sm<0]=0\n",
    "    else:\n",
    "        E_er_sm=E_er\n",
    "        E_nr_eVee_sm=NRtoER(E_nr,Y,V,eps)\n",
    "        E_ng_eVee_sm=NRtoER(E_ng,Y,V,eps)\n",
    "    \n",
    "    C_er,_=np.histogram(E_er_sm,bins=Ebins)\n",
    "    R_er=fer*C_er/tlive_er\n",
    "    C_nr,_=np.histogram(E_nr_eVee_sm,bins=Ebins)\n",
    "    R_nr=fnr*C_nr/tlive_nr\n",
    "    C_ng,_=np.histogram(E_ng_eVee_sm,bins=Ebins)\n",
    "    R_ng=fng*C_ng/tlive_ng\n",
    "\n",
    "    R_tot=R_er+R_nr+R_ng\n",
    "    chi=np.mean((((R_tot-R_meas)/((dR_meas[0]+dR_meas[1])/2))**2)[Ebin_ctr>50])"
   ]
  },
  {
   "cell_type": "code",
   "execution_count": 32,
   "metadata": {},
   "outputs": [
    {
     "data": {
      "application/vnd.jupyter.widget-view+json": {
       "model_id": "033080b9f5424b5a8fbc616b25260ca2",
       "version_major": 2,
       "version_minor": 0
      },
      "text/plain": [
       "  0%|          | 0/8 [00:00<?, ?it/s]"
      ]
     },
     "metadata": {},
     "output_type": "display_data"
    }
   ],
   "source": [
    "lnIt=[0,1,2,5,10,15,20,30]\n",
    "lY_max=[]\n",
    "lfer=[]\n",
    "lfnr=[]\n",
    "lfng=[]\n",
    "lE_nrs=[]\n",
    "lYs=[]\n",
    "lerrors=[]\n",
    "\n",
    "for nIt in tqdm(lnIt):\n",
    "\n",
    "    Y_max=0.25\n",
    "    \n",
    "    R0_meas=np.sum(R_meas[(Ebin_ctr>1.99e3)&(Ebin_ctr<2e3)])\n",
    "    R0_er=Nint(E_er,1.99e3,2e3)/g4['ER']['tlive']\n",
    "    R0_nr=Nint(E_nr,ERtoNR(1.99e3,Y_max,V,eps),ERtoNR(2e3,Y_max,V,eps))/g4['NR']['tlive']\n",
    "    \n",
    "    \n",
    "    lY_max.append(Y_max)\n",
    "    fnr=6\n",
    "    fer=(R0_meas-fnr*R0_nr)/R0_er\n",
    "    fng=4#2.037+0.41\n",
    "\n",
    "    lfer.append(fer)\n",
    "    lfnr.append(fnr)\n",
    "    lfng.append(fng)\n",
    "    E_nrs,Ys,errors=extract_Y_wSmear_v2(E_er, E_nr, E_ng, fer, fnr, fng, Y_max=Y_max,\n",
    "                              nIt=nIt, Ebins=np.linspace(0,2e3,201), seed=None)\n",
    "    #If binning is too small, will get some errors and things won't work.\n",
    "    #Probably in bkg_sub, but not exactly sure\n",
    "    lE_nrs.append(E_nrs)\n",
    "    lYs.append(Ys)\n",
    "    lerrors.append(errors)\n",
    "\n",
    "lfer=np.array(lfer)\n",
    "lfnr=np.array(lfnr)\n",
    "lE_nrs=np.array(lE_nrs)\n",
    "lYs=np.array(lYs)\n",
    "lerrors=np.array(lerrors)"
   ]
  },
  {
   "cell_type": "code",
   "execution_count": 33,
   "metadata": {},
   "outputs": [
    {
     "name": "stderr",
     "output_type": "stream",
     "text": [
      "/home/gerudo7/anaconda3/lib/python3.7/site-packages/ipykernel_launcher.py:37: RuntimeWarning: invalid value encountered in true_divide\n"
     ]
    }
   ],
   "source": [
    "dosmear=True\n",
    "seed=None\n",
    "\n",
    "#Add other measurements from lit\n",
    "\n",
    "for E_nrs,Ys,fer,fnr,fng,nIt in zip(lE_nrs,lYs,lfer,lfnr,lfng,lnIt):\n",
    "    \n",
    "    cFit=(Ebin_ctr>50) & (E_nrs>0) & (np.isfinite(E_nrs)) & (np.insert(np.diff(E_nrs)>0,-1,True))\n",
    "    Y_fCS=lambda E: np.interp(E,E_nrs[cFit],Ys[cFit])\n",
    "    \n",
    "    #Smear\n",
    "    Y_fit = lambda E: Y_conditioned_test(E,Y_fCS,E_nrs[cFit],Ys[cFit])\n",
    "    \n",
    "    Y=Yield.Yield('User',[Y_fit])\n",
    "    \n",
    "    if nIt>0:\n",
    "        E_er_sm=spec.getSmeared(E_er,seed=seed)\n",
    "        E_er_sm[E_er_sm<0]=0\n",
    "        E_nr_eVee_sm=spec.getSmeared(NRtoER(E_nr,Y,V,eps),seed=seed)\n",
    "        E_nr_eVee_sm[E_nr_eVee_sm<0]=0\n",
    "        E_nr_sm=NRtoER(E_nr,Y,V,eps)\n",
    "        E_ng_eVee_sm=spec.getSmeared(NRtoER(E_ng,Y,V,eps),seed=seed)\n",
    "        E_ng_eVee_sm[E_ng_eVee_sm<0]=0\n",
    "    else:\n",
    "        E_er_sm=E_er\n",
    "        E_nr_eVee_sm=NRtoER(E_nr,Y,V,eps)\n",
    "        E_ng_eVee_sm=NRtoER(E_ng,Y,V,eps)\n",
    "    \n",
    "    C_er,_=np.histogram(E_er_sm,bins=Ebins)\n",
    "    R_er=fer*C_er/tlive_er\n",
    "    C_nr,_=np.histogram(E_nr_eVee_sm,bins=Ebins)\n",
    "    R_nr=fnr*C_nr/tlive_nr\n",
    "    C_ng,_=np.histogram(E_ng_eVee_sm,bins=Ebins)\n",
    "    R_ng=fng*C_ng/tlive_ng\n",
    "\n",
    "    R_tot=R_er+R_nr+R_ng\n",
    "    chi=np.mean((((R_tot-R_meas)/((dR_meas[0]+dR_meas[1])/2))**2)[Ebin_ctr>50])"
   ]
  },
  {
   "cell_type": "code",
   "execution_count": 34,
   "metadata": {},
   "outputs": [],
   "source": [
    "E_nrs=lE_nrs[4]\n",
    "Ys=lYs[4]\n",
    "\n",
    "cFit=(Ebin_ctr>50) & (E_nrs>0) & (np.isfinite(E_nrs)) & (np.insert(np.diff(E_nrs)>0,-1,True))\n",
    "Y_fCS=CubicSpline(E_nrs[cFit],Ys[cFit],extrapolate=True)\n",
    "Y_fCS=lambda E: np.interp(E,E_nrs[cFit],Ys[cFit])\n",
    "\n",
    "#Smear\n",
    "Y_fit = lambda E: Y_conditioned_test(E,Y_fCS,E_nrs[cFit],Ys[cFit])\n",
    "Y=Yield.Yield('User',[Y_fit])"
   ]
  },
  {
   "cell_type": "code",
   "execution_count": 35,
   "metadata": {},
   "outputs": [
    {
     "data": {
      "application/vnd.jupyter.widget-view+json": {
       "model_id": "75de2dae4c3d479c83bd1b885ee98542",
       "version_major": 2,
       "version_minor": 0
      },
      "text/plain": [
       "  0%|          | 0/10 [00:00<?, ?it/s]"
      ]
     },
     "metadata": {},
     "output_type": "display_data"
    }
   ],
   "source": [
    "lY_max=np.concatenate((np.linspace(0.2,0.3,5),np.linspace(0.2,0.3,5)))\n",
    "lfer=[]\n",
    "lfnr=[]\n",
    "lfng=np.concatenate(((2.037+0.408)*np.ones(5),(2.037-0.408)*np.ones(5)))\n",
    "lE_nrs=[]\n",
    "lYs=[]\n",
    "lerrors=[]\n",
    "\n",
    "for Y_max,fng in zip(tqdm(lY_max),lfng):\n",
    "    #Normalize near 2keV\n",
    "    R0_meas=np.sum(R_meas[(Ebin_ctr>1.99e3)&(Ebin_ctr<2e3)])\n",
    "    R0_er=Nint(E_er,1.99e3,2e3)/g4['ER']['tlive']\n",
    "    R0_nr=Nint(E_nr,ERtoNR(1.99e3,Y_max,V,eps),ERtoNR(2e3,Y_max,V,eps))/g4['NR']['tlive']\n",
    "\n",
    "    fer=(R0_meas)/(R0_er+R0_nr)\n",
    "    fnr=fer\n",
    "\n",
    "    lfer.append(fer)\n",
    "    lfnr.append(fnr)\n",
    "    \n",
    "    E_nrs,Ys,errors=extract_Y_wSmear_v2(E_er, E_nr, E_ng, fer, fnr, fng, Y_max=Y_max,\n",
    "                              nIt=1, Ebins=np.linspace(0,2e3,201), seed=0)\n",
    "    #If binning is too small, will get some errors and things won't work.\n",
    "    #Probably in bkg_sub, but not exactly sure\n",
    "    lE_nrs.append(E_nrs)\n",
    "    lYs.append(Ys)\n",
    "    lerrors.append(errors)\n",
    "\n",
    "lfer=np.array(lfer)\n",
    "lfnr=np.array(lfnr)\n",
    "lE_nrs=np.array(lE_nrs)\n",
    "lYs=np.array(lYs)\n",
    "lerrors=np.array(lerrors)"
   ]
  },
  {
   "cell_type": "code",
   "execution_count": 36,
   "metadata": {},
   "outputs": [
    {
     "name": "stderr",
     "output_type": "stream",
     "text": [
      "/home/gerudo7/anaconda3/lib/python3.7/site-packages/ipykernel_launcher.py:47: RuntimeWarning: invalid value encountered in true_divide\n"
     ]
    }
   ],
   "source": [
    "dosmear=True\n",
    "seed=0\n",
    "\n",
    "#Add other measurements from lit\n",
    "\n",
    "N=len(lE_nrs)\n",
    "for i in range(int(N/2)):    \n",
    "    \n",
    "    cFit1=(Ebin_ctr>50) &(lE_nrs[i]>0) & (np.isfinite(lE_nrs[i])) & (np.insert(np.diff(lE_nrs[i])>0,-1,True))\n",
    "    E_nrs1=lE_nrs[i][cFit1]\n",
    "    Ys1=lYs[i][cFit1]\n",
    "    Y_fCS1=CubicSpline(E_nrs1,Ys1,extrapolate=True)\n",
    "    \n",
    "    cFit2=(Ebin_ctr>50) &(lE_nrs[i+int(N/2)]>0) & (np.isfinite(lE_nrs[i+int(N/2)])) & (np.insert(np.diff(lE_nrs[i+int(N/2)])>0,-1,True))\n",
    "    E_nrs2=lE_nrs[i+int(N/2)][cFit2]\n",
    "    Ys2=lYs[i+int(N/2)][cFit2]\n",
    "    Y_fCS2=CubicSpline(E_nrs2,Ys2,extrapolate=True)\n",
    "    \n",
    "    #Smear\n",
    "    \n",
    "    Y_fit1 = lambda E: Y_conditioned(E,Y_fCS1,E_nrs1[0],Ys1[0],E_nrs1[-1],Ys1[-1])\n",
    "    Y1=Yield.Yield('User',[Y_fit1])\n",
    "    Y_fit2 = lambda E: Y_conditioned(E,Y_fCS2,E_nrs2[0],Ys2[0],E_nrs2[-1],Ys2[-1])\n",
    "    Y2=Yield.Yield('User',[Y_fit2])\n",
    "    \n",
    "    if dosmear:\n",
    "        E_er_sm=spec.getSmeared(E_er,seed=seed)\n",
    "        E_er_sm[E_er_sm<0]=0\n",
    "        E_nr_eVee_sm=spec.getSmeared(NRtoER(E_nr,Y1,V,eps),seed=seed)\n",
    "        E_nr_eVee_sm[E_nr_eVee_sm<0]=0\n",
    "        E_nr_sm=NRtoER(E_nr,Y1,V,eps)\n",
    "        E_ng_eVee_sm=spec.getSmeared(NRtoER(E_ng,Y1,V,eps),seed=seed)\n",
    "        E_ng_eVee_sm[E_ng_eVee_sm<0]=0\n",
    "    else:\n",
    "        E_er_sm=E_er\n",
    "        E_nr_eVee_sm=NRtoER(E_nr,Y1,V,eps)\n",
    "        E_ng_eVee_sm=NRtoER(E_ng,Y1,V,eps)\n",
    "    \n",
    "    C_er,_=np.histogram(E_er_sm,bins=Ebins)\n",
    "    R_er=lfer[i]*C_er/tlive_er\n",
    "    C_nr,_=np.histogram(E_nr_eVee_sm,bins=Ebins)\n",
    "    R_nr=lfnr[i]*C_nr/tlive_nr\n",
    "    C_ng,_=np.histogram(E_ng_eVee_sm,bins=Ebins)\n",
    "    R_ng=lfng[i]*C_ng/tlive_ng\n",
    "    \n",
    "    R_tot=R_er+R_nr+R_ng\n",
    "    chi=np.mean((((R_tot-R_meas)/((dR_meas[0]+dR_meas[1])/2))**2)[Ebin_ctr>50])"
   ]
  },
  {
   "cell_type": "code",
   "execution_count": 37,
   "metadata": {},
   "outputs": [],
   "source": [
    "izr=pt.get_old_Y_data()\n",
    "Y_izr_up=CubicSpline(izr['Enr'],izr['Y'],extrapolate=True)\n",
    "\n",
    "Y_fit = lambda E: Y_conditioned(E,Y_izr_up,izr['Enr'][0],(izr['Y'])[0],izr['Enr'][-1],(izr['Y'])[-1])\n",
    "Y=Yield.Yield('User',[Y_fit])\n",
    "xx=np.linspace(0,30e3,1000)"
   ]
  },
  {
   "cell_type": "code",
   "execution_count": 38,
   "metadata": {},
   "outputs": [],
   "source": [
    "#Load data if possible. If not possible, save for future use.\n",
    "save = False\n",
    "try:\n",
    "    with open( \"data/cdf_results.p\", \"rb\" ) as file:\n",
    "        results = pickle.load( file )\n",
    "    lY_max=results['lY_max']\n",
    "    lfer=results['lfer']\n",
    "    lfnr=results['lfnr']\n",
    "    lfng=results['lfng']\n",
    "    lE_nrs=results['lE_nrs']\n",
    "    lYs=results['lYs']\n",
    "    lerrors=results['lerrors']\n",
    "except:\n",
    "    save = True"
   ]
  },
  {
   "cell_type": "code",
   "execution_count": 39,
   "metadata": {},
   "outputs": [],
   "source": [
    "#Let's scan through a bunch of scalings and then only retain those which are consistent with Izr\n",
    "\n",
    "if save:\n",
    "    lY_max=[]\n",
    "    lfer=[]\n",
    "    lfnr=[]\n",
    "    lfng=[]\n",
    "    lE_nrs=[]\n",
    "    lYs=[]\n",
    "    lerrors=[]\n",
    "    for Y_max in tqdm(np.linspace(0.25,0.29,20)):\n",
    "        for fnr in np.linspace(4,9,20):\n",
    "            for fng in [0,2.037+0.408,2.037-0.408]:\n",
    "\n",
    "                lY_max.append(Y_max)\n",
    "                #Normalize near 2keV\n",
    "                R0_meas=np.sum(R_meas[(Ebin_ctr>1.99e3)&(Ebin_ctr<2e3)])\n",
    "                R0_er=Nint(E_er,1.99e3,2e3)/g4['ER']['tlive']\n",
    "                R0_nr=Nint(E_nr,ERtoNR(1.99e3,Y_max,V,eps),ERtoNR(2e3,Y_max,V,eps))/g4['NR']['tlive']\n",
    "\n",
    "                fer=(R0_meas-fnr*R0_nr)/R0_er\n",
    "\n",
    "                lfer.append(fer)\n",
    "                lfnr.append(fnr)\n",
    "                lfng.append(fng)\n",
    "\n",
    "                E_nrs,Ys,errors=extract_Y_wSmear_v2(E_er, E_nr, E_ng, fer, fnr, fng, Y_max=Y_max,\n",
    "                                          nIt=1, Ebins=np.linspace(0,2e3,201), seed=0, F=0.1161)\n",
    "                #If binning is too small, will get some errors and things won't work.\n",
    "                #Probably in bkg_sub, but not exactly sure\n",
    "                lE_nrs.append(E_nrs)\n",
    "                lYs.append(Ys)\n",
    "                lerrors.append(errors)\n",
    "    results={'lY_max':lY_max, 'lfer':lfer, 'lfnr':lfnr, 'lfng':lfng, 'lE_nrs':lE_nrs, 'lYs':lYs, 'lerrors':lerrors}\n",
    "    with open( \"data/cdf_results.p\", \"wb\" ) as file:\n",
    "        pickle.dump( results, file )\n",
    "\n",
    "lY_max=np.array(lY_max)\n",
    "lfer=np.array(lfer)\n",
    "lfnr=np.array(lfnr)\n",
    "lfng=np.array(lfng)\n",
    "lE_nrs=np.array(lE_nrs)\n",
    "lYs=np.array(lYs)\n",
    "lerrors=np.array(lerrors)"
   ]
  },
  {
   "cell_type": "code",
   "execution_count": 40,
   "metadata": {},
   "outputs": [],
   "source": [
    "#Find those which are consistent with Izr\n",
    "cgood=[]\n",
    "Y_1keV=[]\n",
    "for E_nrs,Ys in zip(lE_nrs,lYs):\n",
    "    Y=getYfitCond(E_nrs,Ys)\n",
    "    \n",
    "    cizr=izr['Enr']<E_nrs[-1]\n",
    "    Y_1keV.append(Y.calc(1e3))\n",
    "    \n",
    "    cgood.append(((np.abs(Y.calc(izr['Enr'])-izr['Y'])<1*izr['dY'])[cizr]).all())\n",
    "cgood=np.array(cgood)\n",
    "Y_1keV=np.array(Y_1keV)"
   ]
  },
  {
   "cell_type": "code",
   "execution_count": 41,
   "metadata": {},
   "outputs": [],
   "source": [
    "dosmear=True\n",
    "seed=0\n",
    "Fthis=0.1161\n",
    "\n",
    "#Add other measurements from lit\n",
    "\n",
    "for E_nrs,Ys,fer,fnr,fng,good in zip(lE_nrs,lYs,lfer,lfnr,lfng,cgood):\n",
    "    if not good:\n",
    "        continue\n",
    "    cFit=(Ebin_ctr>50) &(E_nrs>0) & (np.isfinite(E_nrs)) & (np.insert(np.diff(E_nrs)>0,-1,True))\n",
    "    Y_fCS=CubicSpline(E_nrs[cFit],Ys[cFit],extrapolate=True)\n",
    "    \n",
    "    if fng==0:\n",
    "        color='red'\n",
    "    else:\n",
    "        color='gray'\n",
    "    \n",
    "    #Smear\n",
    "    Y_fit = lambda E: Y_conditioned(E,Y_fCS,E_nrs[cFit][0],Ys[cFit][0],E_nrs[-1],Ys[-1])\n",
    "    Y=Yield.Yield('User',[Y_fit])\n",
    "    \n",
    "    if dosmear:\n",
    "        E_er_sm=spec.getSmeared(E_er,seed=seed,F=Fthis)\n",
    "        E_er_sm[E_er_sm<0]=0\n",
    "        E_nr_eVee_sm=spec.getSmeared(NRtoER(E_nr,Y,V,eps),seed=seed,F=Fthis)\n",
    "        E_nr_eVee_sm[E_nr_eVee_sm<0]=0\n",
    "        E_ng_eVee_sm=spec.getSmeared(NRtoER(E_ng,Y,V,eps),seed=seed,F=Fthis)\n",
    "        E_ng_eVee_sm[E_ng_eVee_sm<0]=0\n",
    "    else:\n",
    "        E_er_sm=E_er\n",
    "        E_nr_eVee_sm=NRtoER(E_nr,Y,V,eps)\n",
    "        E_ng_eVee_sm=NRtoER(E_ng,Y,V,eps)\n",
    "    \n",
    "    C_er,_=np.histogram(E_er_sm,bins=Ebins)\n",
    "    R_er=fer*C_er/tlive_er\n",
    "    C_nr,_=np.histogram(E_nr_eVee_sm,bins=Ebins)\n",
    "    R_nr=fnr*C_nr/tlive_nr\n",
    "    C_ng,_=np.histogram(E_ng_eVee_sm,bins=Ebins)\n",
    "    R_ng=fng*C_ng/tlive_ng"
   ]
  },
  {
   "cell_type": "code",
   "execution_count": 42,
   "metadata": {},
   "outputs": [],
   "source": [
    "#Pick mins and maxes at a given energy\n",
    "#This isn't quite right, since envelope is not jsut from a single curve\n",
    "\n",
    "ifng0=np.argwhere(cgood&(lfng==0))\n",
    "ifng0_min=ifng0[np.argmin(Y_1keV[ifng0])][0]\n",
    "ifng0_max=ifng0[np.argmax(Y_1keV[ifng0])][0]\n",
    "\n",
    "ifng=np.argwhere(cgood&(lfng!=0))\n",
    "ifng_min=ifng[np.argmin(Y_1keV[ifng])][0]\n",
    "ifng_max=ifng[np.argmax(Y_1keV[ifng])][0]"
   ]
  },
  {
   "cell_type": "code",
   "execution_count": 43,
   "metadata": {},
   "outputs": [],
   "source": [
    "dosmear=True\n",
    "seed=0\n",
    "Fthis=0.1161\n",
    "\n",
    "#Add other measurements from lit\n",
    "\n",
    "labels=[r'no (n,$\\gamma$)',r'with (n,$\\gamma$)']\n",
    "colors=['red','gray']\n",
    "\n",
    "for inds,label,color in zip([[ifng0_max,ifng0_min],[ifng_max,ifng_min]],labels,colors):\n",
    "#for E_nrs,Ys,fer,fnr,fng,good in zip(lE_nrs,lYs,lfer,lfnr,lfng,cgood):\n",
    "\n",
    "    i=inds[0]\n",
    "    j=inds[1]\n",
    "    \n",
    "    cFit1=(Ebin_ctr>50) &(lE_nrs[i]>0) & (np.isfinite(lE_nrs[i])) & (np.insert(np.diff(lE_nrs[i])>0,-1,True))\n",
    "    E_nrs1=lE_nrs[i][cFit1]\n",
    "    Ys1=lYs[i][cFit1]\n",
    "    Y_fCS1=CubicSpline(E_nrs1,Ys1,extrapolate=True)\n",
    "    \n",
    "    cFit2=(Ebin_ctr>50) &(lE_nrs[j]>0) & (np.isfinite(lE_nrs[j])) & (np.insert(np.diff(lE_nrs[j])>0,-1,True))\n",
    "    E_nrs2=lE_nrs[j][cFit2]\n",
    "    Ys2=lYs[j][cFit2]\n",
    "    Y_fCS2=CubicSpline(E_nrs2,Ys2,extrapolate=True)\n",
    "    \n",
    "    #Smear\n",
    "    Y_fit1 = lambda E: Y_conditioned(E,Y_fCS1,E_nrs1[0],Ys1[0],E_nrs1[-1],Ys1[-1])\n",
    "    Y1=Yield.Yield('User',[Y_fit1])\n",
    "    Y_fit2 = lambda E: Y_conditioned(E,Y_fCS2,E_nrs2[0],Ys2[0],E_nrs2[-1],Ys2[-1])\n",
    "    Y2=Yield.Yield('User',[Y_fit2])\n",
    "    \n",
    "    if dosmear:\n",
    "        E_er_sm=spec.getSmeared(E_er,seed=seed,F=Fthis)\n",
    "        E_er_sm[E_er_sm<0]=0\n",
    "        \n",
    "        E_nr_eVee_sm1=spec.getSmeared(NRtoER(E_nr,Y1,V,eps),seed=seed,F=Fthis)\n",
    "        E_nr_eVee_sm1[E_nr_eVee_sm1<0]=0\n",
    "        E_nr_eVee_sm2=spec.getSmeared(NRtoER(E_nr,Y2,V,eps),seed=seed,F=Fthis)\n",
    "        E_nr_eVee_sm2[E_nr_eVee_sm2<0]=0\n",
    "        \n",
    "        E_ng_eVee_sm1=spec.getSmeared(NRtoER(E_ng,Y1,V,eps),seed=seed,F=Fthis)\n",
    "        E_ng_eVee_sm1[E_ng_eVee_sm1<0]=0\n",
    "        E_ng_eVee_sm2=spec.getSmeared(NRtoER(E_ng,Y2,V,eps),seed=seed,F=Fthis)\n",
    "        E_ng_eVee_sm2[E_ng_eVee_sm2<0]=0\n",
    "    else:\n",
    "        E_er_sm=E_er\n",
    "        E_nr_eVee_sm1=NRtoER(E_nr,Y1,V,eps)\n",
    "        E_nr_eVee_sm2=NRtoER(E_nr,Y2,V,eps)\n",
    "        E_ng_eVee_sm1=NRtoER(E_ng,Y1,V,eps)\n",
    "        E_ng_eVee_sm2=NRtoER(E_ng,Y2,V,eps)\n",
    "    \n",
    "    C_er1,_=np.histogram(E_er_sm,bins=Ebins)\n",
    "    R_er1=lfer[i]*C_er1/tlive_er\n",
    "    C_er2,_=np.histogram(E_er_sm,bins=Ebins)\n",
    "    R_er2=lfer[j]*C_er2/tlive_er\n",
    "    \n",
    "    C_nr1,_=np.histogram(E_nr_eVee_sm1,bins=Ebins)\n",
    "    R_nr1=lfnr[i]*C_nr1/tlive_nr\n",
    "    C_nr2,_=np.histogram(E_nr_eVee_sm2,bins=Ebins)\n",
    "    R_nr2=lfnr[j]*C_nr2/tlive_nr\n",
    "    \n",
    "    C_ng1,_=np.histogram(E_ng_eVee_sm1,bins=Ebins)\n",
    "    R_ng1=lfng[i]*C_ng1/tlive_ng\n",
    "    C_ng2,_=np.histogram(E_ng_eVee_sm2,bins=Ebins)\n",
    "    R_ng2=lfng[j]*C_ng2/tlive_ng"
   ]
  },
  {
   "cell_type": "code",
   "execution_count": 44,
   "metadata": {},
   "outputs": [],
   "source": [
    "cut=cgood&(lfng!=0)\n",
    "ERenvData=getERminmax(lE_nrs[cut],lYs[cut],lfer[cut],lfnr[cut],lfng[cut])"
   ]
  },
  {
   "cell_type": "code",
   "execution_count": 45,
   "metadata": {},
   "outputs": [],
   "source": [
    "cut=cgood&(lfng!=0)\n",
    "cut=cgood&(lfng==0)\n",
    "\n",
    "#Add other measurements from lit\n",
    "ERenvData=getERminmax(lE_nrs[cut],lYs[cut],lfer[cut],lfnr[cut],lfng[cut])"
   ]
  },
  {
   "cell_type": "code",
   "execution_count": 46,
   "metadata": {},
   "outputs": [],
   "source": [
    "#Extract yield curve using the integral method\n",
    "#Treats each event as a single scatter of the total energy\n",
    "#fer: ER livetime factor\n",
    "#fnr: NR livetime factor\n",
    "#fng: NG livetime factor\n",
    "#Y_max: Yield value that corresponds to the highest bin edge of Ebins\n",
    "\n",
    "#v3: Separate ER and NR Fanos. Also allow smeared energies to be negative\n",
    "\n",
    "tlive_er=g4['ER']['tlive']\n",
    "tlive_nr=g4['NR']['tlive']\n",
    "tlive_ng=cap['tlive']"
   ]
  },
  {
   "cell_type": "code",
   "execution_count": 47,
   "metadata": {},
   "outputs": [],
   "source": [
    "save = False\n",
    "try:\n",
    "    with open( \"data/intmeth_scan_v3.p\", \"rb\" ) as file:\n",
    "        scanData = pickle.load( file )\n",
    "except:\n",
    "    save = True"
   ]
  },
  {
   "cell_type": "code",
   "execution_count": 48,
   "metadata": {},
   "outputs": [],
   "source": [
    "#Single data structure to hold all those arrays of stuff\n",
    "if save:\n",
    "    scanData={'lY_max':[], 'lfer':[], 'lfnr':[], 'lfng':[],\n",
    "              'lE_nrs':[], 'lYs':[], 'lerrors':[], 'lFanoER':[],'lFanoNR':[]}\n",
    "\n",
    "    for Y_max in tqdm(np.linspace(0.25,0.29,20)):\n",
    "        for fnr in np.linspace(4,9,20):\n",
    "            for fng in [0,2.037+0.408,2.037,2.037-0.408]:\n",
    "                for FanoNR in [0.1161,1,2,5]:\n",
    "\n",
    "                    scanData['lY_max'].append(Y_max)\n",
    "\n",
    "                    #Normalize near 2keV\n",
    "                    R0_meas=np.sum(R_meas[(Ebin_ctr>1.99e3)&(Ebin_ctr<2e3)])\n",
    "                    R0_er=Nint(E_er,1.99e3,2e3)/g4['ER']['tlive']\n",
    "                    R0_nr=Nint(E_nr,ERtoNR(1.99e3,Y_max,V,eps),ERtoNR(2e3,Y_max,V,eps))/g4['NR']['tlive']\n",
    "\n",
    "                    fer=(R0_meas-fnr*R0_nr)/R0_er\n",
    "\n",
    "                    scanData['lfer'].append(fer)\n",
    "                    scanData['lfnr'].append(fnr)\n",
    "                    scanData['lfng'].append(fng)\n",
    "\n",
    "                    scanData['lFanoER'].append(0.1161)\n",
    "                    scanData['lFanoNR'].append(FanoNR)\n",
    "\n",
    "\n",
    "                    E_nrs,Ys,errors=extract_Y_wSmear_v3(E_er, E_nr, E_ng, fer, fnr, fng, Y_max=Y_max,\n",
    "                                                        nIt=1, Ebins=np.linspace(0,2e3,201), seed=0,\n",
    "                                                        FanoER=0.1161, FanoNR=FanoNR)\n",
    "\n",
    "\n",
    "                    scanData['lE_nrs'].append(E_nrs)\n",
    "                    scanData['lYs'].append(Ys)\n",
    "                    scanData['lerrors'].append(errors)\n",
    "\n",
    "    with open( \"data/intmeth_scan_v3.p\", \"wb\" ) as file:\n",
    "        pickle.dump( scanData, file )\n",
    "\n",
    "for key in scanData.keys():\n",
    "    scanData[key]=np.array(scanData[key])\n",
    "    \n",
    "scanData['N']=len(scanData['lY_max'])"
   ]
  },
  {
   "cell_type": "code",
   "execution_count": 49,
   "metadata": {},
   "outputs": [],
   "source": [
    "#Find those which are consistent with Izr\n",
    "scanData['cgood']=[]\n",
    "scanData['IzrChi']=[]\n",
    "\n",
    "for i in zip(range(scanData['N'])):\n",
    "    Y=getYfitCond(scanData['lE_nrs'][i],scanData['lYs'][i])\n",
    "    cizr=izr['Enr']<scanData['lE_nrs'][i][-1]\n",
    "\n",
    "    scanData['IzrChi'].append(np.sum((((Y.calc(izr['Enr'])-izr['Y'])/izr['dY'])[cizr])**2))\n",
    "    scanData['cgood'].append(((np.abs(Y.calc(izr['Enr'])-izr['Y'])<1*izr['dY'])[cizr]).all())\n",
    "    \n",
    "scanData['cgood']=np.array(scanData['cgood'])\n",
    "scanData['IzrChi']=np.array(scanData['IzrChi'])"
   ]
  },
  {
   "cell_type": "code",
   "execution_count": 50,
   "metadata": {},
   "outputs": [
    {
     "data": {
      "image/png": "[encoded data removed]",
      "text/plain": [
       "<Figure size 1296x486 with 2 Axes>"
      ]
     },
     "metadata": {
      "needs_background": "light"
     },
     "output_type": "display_data"
    }
   ],
   "source": [
    "fig_w=9\n",
    "fig,axs=subplots(1,2,figsize=(2*fig_w, fig_w*(.75)))\n",
    "\n",
    "cut=scanData['cgood']&(scanData['lfng']==0)&(scanData['lFanoNR']==0.1161)\n",
    "\n",
    "iPlot=0\n",
    "\n",
    "#Best fit to Izr\n",
    "iBest=np.argwhere(cut)[:,0][np.argmin(scanData['IzrChi'][cut])]\n",
    "\n",
    "labels=[r'no (n,$\\gamma$)',r'with (n,$\\gamma$)']\n",
    "colors=['gray','green']\n",
    "\n",
    "#Add other measurements from lit\n",
    "pt.plotOldYs_noSat(axs[0],fmt='o',markersize=6)\n",
    "axs[0].fill(*getEYenvelope(scanData['lE_nrs'][cut],scanData['lYs'][cut],eVeeMin=70),\n",
    "            colors[iPlot],alpha=0.5,label=labels[iPlot])\n",
    "\n",
    "\n",
    "axs[0].plot(scanData['lE_nrs'][iBest][Ebin_ctr>70],scanData['lYs'][iBest][Ebin_ctr>70], colors[iPlot], linestyle='--')\n",
    "\n",
    "Yiso = lambda Enr,Eee: Eee/Enr*(1+eps/V)-eps/V\n",
    "axs[0].plot(np.logspace(-2,5,100),Yiso(np.logspace(-2,5,100),50),'--m')\n",
    "axs[0].plot(np.logspace(-2,5,100),Yiso(np.logspace(-2,5,100),2e3),'--m')\n",
    "\n",
    "axs[0].text(2e2,0.2,r'50 $eV_{ee}$',size=16,color='m',rotation=-72)\n",
    "axs[0].text(1e4,0.15,r'2 $keV_{ee}$',size=16,color='m',rotation=-65)\n",
    "\n",
    "axs[1].errorbar(Ebin_ctr[Ebin_ctr>50],R_meas[Ebin_ctr>50],(dR_meas.T[Ebin_ctr>50]).T,\n",
    "                ecolor='k', marker='o',markersize=6,color='k', linestyle='none',label='Measured',zorder=5)\n",
    "\n",
    "axs[0].set_prop_cycle(None)#Reset color cycle\n",
    "axs[1].set_prop_cycle(None)\n",
    "\n",
    "\n",
    "ERenvData=getERminmax_v3(scanData,cut,nAvg=1)\n",
    "ERmidData=getERminmax_v3(scanData,np.arange(len(scanData['lE_nrs']))==iBest,nAvg=5)#Cheat to get mid. min==max\n",
    "\n",
    "axs[1].step(ERmidData['eVee'],ERmidData['NR']['min'],color='r',where='mid')\n",
    "axs[1].step(ERmidData['eVee'],ERmidData['ER']['min'],color='k',where='mid')\n",
    "axs[1].step(ERmidData['eVee'],ERmidData['NG']['min'],color='b',where='mid')\n",
    "axs[1].step(ERmidData['eVee'],ERmidData['Total']['min'],color='g',where='mid')\n",
    "\n",
    "axs[1].fill_between(ERenvData['eVee'],ERenvData['NR']['min'],ERenvData['NR']['max'],color='r',alpha=0.5,step='mid',label='NR')\n",
    "axs[1].fill_between(ERenvData['eVee'],ERenvData['ER']['min'],ERenvData['ER']['max'],color='k',alpha=0.5,step='mid',label='ER')\n",
    "axs[1].fill_between(ERenvData['eVee'],ERenvData['NG']['min'],ERenvData['NG']['max'],color='b',alpha=0.5,step='mid',label=r'(n,$\\gamma)$')\n",
    "axs[1].fill_between(ERenvData['eVee'],ERenvData['Total']['min'],ERenvData['Total']['max'],color='g',alpha=0.5,step='mid',label='Total')\n",
    "\n",
    "axs[0].set_xlim(1e2,5e4);\n",
    "axs[0].set_xscale('log')\n",
    "axs[0].set_ylim(0,0.4)\n",
    "axs[0].yaxis.set_major_locator(plt.MultipleLocator(0.1))\n",
    "axs[0].set_xlabel('Energy [eVnr]')\n",
    "axs[0].set_ylabel('Y')\n",
    "axs[0].legend(loc='lower right',ncol=2,prop={'size': 16})\n",
    "\n",
    "axs[1].axvline(50,linestyle='--',color='m')\n",
    "\n",
    "axs[1].set_ylim(0,0.04)\n",
    "axs[1].yaxis.set_major_locator(plt.MultipleLocator(0.01))\n",
    "axs[1].set_xlim(0,1e3)\n",
    "axs[1].set_xlabel('Energy [eVee]')\n",
    "axs[1].set_ylabel('Rate [1/bin/s]')\n",
    "\n",
    "axs[1].legend(loc='upper right', prop={'size': 16})\n",
    "\n",
    "tight_layout()"
   ]
  },
  {
   "cell_type": "code",
   "execution_count": 51,
   "metadata": {},
   "outputs": [
    {
     "name": "stderr",
     "output_type": "stream",
     "text": [
      "/home/gerudo7/anaconda3/lib/python3.7/site-packages/ipykernel/ipkernel.py:287: DeprecationWarning: `should_run_async` will not call `transform_cell` automatically in the future. Please pass the result to `transformed_cell` argument and any exception that happen during thetransform in `preprocessing_exc_tuple` in IPython 7.17 and above.\n",
      "  and should_run_async(code)\n"
     ]
    }
   ],
   "source": [
    "#Extract yield curve using the integral method\n",
    "#Treats each event as a single scatter of the total energy\n",
    "#fer: ER livetime factor\n",
    "#fnr: NR livetime factor\n",
    "#fng: NG livetime factor\n",
    "#Y_max: Yield value that corresponds to the highest bin edge of Ebins\n",
    "\n",
    "#v3: Separate ER and NR Fanos. Also allow smeared energies to be negative\n",
    "#v4: Add dynamic smearing iteration. Stop if smeared matches measured via some measure of closeness.\n",
    "tlive_er=g4['ER']['tlive']\n",
    "tlive_nr=g4['NR']['tlive']\n",
    "tlive_ng=cap['tlive']"
   ]
  },
  {
   "cell_type": "code",
   "execution_count": 52,
   "metadata": {},
   "outputs": [
    {
     "data": {
      "application/vnd.jupyter.widget-view+json": {
       "model_id": "515995b8d94a42dfafb4aea0484c4816",
       "version_major": 2,
       "version_minor": 0
      },
      "text/plain": [
       "  0%|          | 0/8 [00:00<?, ?it/s]"
      ]
     },
     "metadata": {},
     "output_type": "display_data"
    }
   ],
   "source": [
    "#Single data structure to hold all those arrays of stuff\n",
    "\n",
    "scanData={'lY_max':[], 'lfer':[], 'lfnr':[], 'lfng':[],\n",
    "          'lE_nrs':[], 'lYs':[], 'lerrors':[], 'lFanoER':[],'lFanoNR':[],\n",
    "          'lnItMax':[],'liIt':[]}\n",
    "Y_max=0.25\n",
    "FanoNR=0#0.1161\n",
    "fnr=4\n",
    "fng=4#2.037+0.41\n",
    "\n",
    "for nIt in tqdm([0,1,2,5,10,15,20,30]):\n",
    "    scanData['lnItMax'].append(nIt)\n",
    "    scanData['lY_max'].append(Y_max)\n",
    "\n",
    "    #Normalize near 2keV\n",
    "    R0_meas=np.sum(R_meas[(Ebin_ctr>1.99e3)&(Ebin_ctr<2e3)])\n",
    "    R0_er=Nint(E_er,1.99e3,2e3)/g4['ER']['tlive']\n",
    "    R0_nr=Nint(E_nr,ERtoNR(1.99e3,Y_max,V,eps),ERtoNR(2e3,Y_max,V,eps))/g4['NR']['tlive']\n",
    "\n",
    "    fer=(R0_meas-fnr*R0_nr)/R0_er\n",
    "\n",
    "\n",
    "    scanData['lfer'].append(fer)\n",
    "    scanData['lfnr'].append(fnr)\n",
    "    scanData['lfng'].append(fng)\n",
    "\n",
    "    scanData['lFanoER'].append(0.1161)\n",
    "    scanData['lFanoNR'].append(FanoNR)\n",
    "\n",
    "    E_nrs,Ys,errors,iIt=extract_Y_wSmear_v4(E_er, E_nr, E_ng, fer, fnr, fng, Y_max=Y_max,\n",
    "                                            nItMax=nIt, fit_frac_all_goal=0.83, Ebins=np.linspace(0,2e3,201),\n",
    "                                            seed=0,FanoER=0.1161, FanoNR=FanoNR)\n",
    "    scanData['liIt'].append(iIt)\n",
    "    scanData['lE_nrs'].append(E_nrs)\n",
    "    scanData['lYs'].append(Ys)\n",
    "    scanData['lerrors'].append(errors)\n",
    "\n",
    "\n",
    "for key in scanData.keys():\n",
    "    scanData[key]=np.array(scanData[key])\n",
    "    \n",
    "scanData['N']=len(scanData['lY_max'])"
   ]
  },
  {
   "cell_type": "code",
   "execution_count": 53,
   "metadata": {
    "tags": []
   },
   "outputs": [],
   "source": [
    "fig_w=9\n",
    "seed=0\n",
    "\n",
    "for i in range(scanData['N']):\n",
    "    E_nrs=scanData['lE_nrs'][i]\n",
    "    Ys=scanData['lYs'][i]\n",
    "    fer=scanData['lfer'][i]\n",
    "    fnr=scanData['lfnr'][i]\n",
    "    fng=scanData['lfng'][i]\n",
    "    FanoER=scanData['lFanoER'][i]\n",
    "    FanoNR=scanData['lFanoNR'][i]\n",
    "    \n",
    "    Y=getYfitCond_v4(E_nrs,Ys)\n",
    "\n",
    "    E_nr_eVee=NRtoER(E_nr,Y,V,eps)\n",
    "    E_ng_eVee=NRtoER(E_ng,Y,V,eps)\n",
    "\n",
    "    if nIt>0:\n",
    "        E_er_sm=spec.getSmeared(E_er,seed=seed,F=FanoER)\n",
    "        E_nr_eVee_sm=spec.getSmeared(NRtoER(E_nr,Y,V,eps),seed=seed,F=FanoNR)\n",
    "        E_ng_eVee_sm=spec.getSmeared(NRtoER(E_ng,Y,V,eps),seed=seed,F=FanoNR)\n",
    "    else:\n",
    "        E_er_sm=E_er\n",
    "        E_nr_eVee_sm=NRtoER(E_nr,Y,V,eps)\n",
    "        E_ng_eVee_sm=NRtoER(E_ng,Y,V,eps)\n",
    "\n",
    "\n",
    "    C_er,_=np.histogram(E_er_sm,bins=Ebins)\n",
    "    R_er=fer*C_er/tlive_er\n",
    "\n",
    "    C_nr,_=np.histogram(E_nr_eVee_sm,bins=Ebins)\n",
    "    R_nr=fnr*C_nr/tlive_nr\n",
    "\n",
    "    C_ng,_=np.histogram(E_ng_eVee_sm,bins=Ebins)\n",
    "    R_ng=fng*C_ng/tlive_ng\n",
    "\n",
    "    R_tot=R_er+R_nr+R_ng\n",
    "\n",
    "    R_max=R_meas[Ebin_ctr>50]+1*dR_meas[0][Ebin_ctr>50]\n",
    "    R_min=R_meas[Ebin_ctr>50]-1*dR_meas[1][Ebin_ctr>50]"
   ]
  },
  {
   "cell_type": "code",
   "execution_count": 54,
   "metadata": {},
   "outputs": [],
   "source": [
    "save = False\n",
    "try:\n",
    "    with open( \"data/intmeth_prescan_v4.p\", \"rb\" ) as file:\n",
    "        temp = pickle.load( file )\n",
    "        Y_max_test=temp['Y_max_test']\n",
    "        fnr_test=temp['fnr_test']\n",
    "        matchIzr_test=temp['matchIzr_test']\n",
    "except:\n",
    "    save = True"
   ]
  },
  {
   "cell_type": "code",
   "execution_count": 55,
   "metadata": {},
   "outputs": [],
   "source": [
    "#Do a first pass w/o smearing to determine the set of Y_max,fnr values that are even close.\n",
    "if save:    \n",
    "    Y_max_test_1d=np.linspace(0.25,0.29,100)\n",
    "    fnr_test_1d=np.linspace(4,9,100)\n",
    "    Y_max_test,fnr_test= np.meshgrid(Y_max_test_1d,fnr_test_1d)\n",
    "    Y_max_test=Y_max_test.flatten()\n",
    "    fnr_test=fnr_test.flatten()\n",
    "\n",
    "    matchIzr_test=[]\n",
    "    for Y_max,fnr in zip(tqdm(Y_max_test),fnr_test):\n",
    "        #Normalize near 2keV\n",
    "        R0_meas=np.sum(R_meas[(Ebin_ctr>1.99e3)&(Ebin_ctr<2e3)])\n",
    "        R0_er=Nint(E_er,1.99e3,2e3)/g4['ER']['tlive']\n",
    "        R0_nr=Nint(E_nr,ERtoNR(1.99e3,Y_max,V,eps),ERtoNR(2e3,Y_max,V,eps))/g4['NR']['tlive']\n",
    "\n",
    "        fer=(R0_meas-fnr*R0_nr)/R0_er\n",
    "\n",
    "        E_nrs,Ys,errors,iIt=extract_Y_wSmear_v4(E_er, E_nr, E_ng, fer, fnr, fng, Y_max=Y_max,\n",
    "                                                nItMax=0, fit_frac_all_goal=0.8, fit_frac_low_goal=1,\n",
    "                                                Ebins=np.linspace(0,2e3,201),\n",
    "                                                seed=None,FanoER=0.1161, FanoNR=0.1161)\n",
    "\n",
    "        Y=getYfitCond_v4(E_nrs,Ys)\n",
    "        cizr=izr['Enr']<E_nrs[-1]\n",
    "\n",
    "        matchIzr_test.append(((np.abs(Y.calc(izr['Enr'])-izr['Y'])<1*izr['dY'])[cizr]).all())\n",
    "\n",
    "    matchIzr_test=np.array(matchIzr_test)\n",
    "    temp={'Y_max_test':Y_max_test, 'fnr_test':fnr_test, 'matchIzr_test':matchIzr_test}\n",
    "    with open( \"data/intmeth_prescan_v4.p\", \"wb\" ) as file:\n",
    "        pickle.dump( temp, file )"
   ]
  },
  {
   "cell_type": "code",
   "execution_count": 56,
   "metadata": {
    "tags": []
   },
   "outputs": [],
   "source": [
    "save = False\n",
    "try:\n",
    "    with open( \"data/intmeth_scan_v4.p\", \"rb\" ) as file:\n",
    "        scanData = pickle.load( file )\n",
    "except:\n",
    "    save=True"
   ]
  },
  {
   "cell_type": "code",
   "execution_count": 57,
   "metadata": {},
   "outputs": [],
   "source": [
    "#Calculate using those initally good pairs of values\n",
    "# But now we'll allow a few rounds of smearing and try different fng and FanoNR values.\n",
    "if save:\n",
    "    #Single data structure to hold all those arrays of stuff\n",
    "    scanData={'lY_max':[], 'lfer':[], 'lfnr':[], 'lfng':[],\n",
    "              'lE_nrs':[], 'lYs':[], 'lerrors':[], 'lFanoER':[],'lFanoNR':[],\n",
    "              'lnItMax':[],'liIt':[]}\n",
    "    nItMax=4\n",
    "\n",
    "    for Y_max,fnr in zip(tqdm(Y_max_test[matchIzr_test]),fnr_test[matchIzr_test]):\n",
    "            for fng in [0,2.037+0.408,2.037,2.037-0.408]:\n",
    "                for FanoNR in [0.1161,1,2,5]:\n",
    "\n",
    "                    scanData['lnItMax'].append(nItMax)\n",
    "                    scanData['lY_max'].append(Y_max)\n",
    "\n",
    "                    #Normalize near 2keV\n",
    "                    R0_meas=np.sum(R_meas[(Ebin_ctr>1.99e3)&(Ebin_ctr<2e3)])\n",
    "                    R0_er=Nint(E_er,1.99e3,2e3)/g4['ER']['tlive']\n",
    "                    R0_nr=Nint(E_nr,ERtoNR(1.99e3,Y_max,V,eps),ERtoNR(2e3,Y_max,V,eps))/g4['NR']['tlive']\n",
    "\n",
    "                    fer=(R0_meas-fnr*R0_nr)/R0_er\n",
    "\n",
    "\n",
    "                    scanData['lfer'].append(fer)\n",
    "                    scanData['lfnr'].append(fnr)\n",
    "                    scanData['lfng'].append(fng)\n",
    "\n",
    "                    scanData['lFanoER'].append(0.1161)\n",
    "                    scanData['lFanoNR'].append(FanoNR)\n",
    "\n",
    "                    E_nrs,Ys,errors,iIt=extract_Y_wSmear_v4(E_er, E_nr, E_ng, fer, fnr, fng, Y_max=Y_max,\n",
    "                                                            nItMax=nItMax, fit_frac_all_goal=0.8, fit_frac_low_goal=1,\n",
    "                                                            Ebins=np.linspace(0,2e3,201),\n",
    "                                                            seed=None,FanoER=0.1161, FanoNR=FanoNR)\n",
    "                    scanData['liIt'].append(iIt)\n",
    "                    scanData['lE_nrs'].append(E_nrs)\n",
    "                    scanData['lYs'].append(Ys)\n",
    "                    scanData['lerrors'].append(errors)\n",
    "\n",
    "\n",
    "    for key in scanData.keys():\n",
    "        scanData[key]=np.array(scanData[key])\n",
    "\n",
    "    scanData['N']=len(scanData['lY_max'])\n",
    "    \n",
    "    with open( \"data/intmeth_scan_v4.p\", \"wb\" ) as file:\n",
    "        pickle.dump( scanData, file )"
   ]
  },
  {
   "cell_type": "raw",
   "metadata": {},
   "source": [
    "#Save results\n",
    "save = False\n",
    "\n",
    "try:\n",
    "    with open( \"data/intmeth_scan_v5.p\", \"rb\" ) as file:\n",
    "        scanData = pickle.load( file )\n",
    "except:\n",
    "    save = True\n",
    "    \n",
    "scanData.keys()"
   ]
  },
  {
   "cell_type": "code",
   "execution_count": 58,
   "metadata": {},
   "outputs": [],
   "source": [
    "#Find those which are consistent with Izr\n",
    "save = True\n",
    "\n",
    "if save:\n",
    "    scanData['cgood']=[]\n",
    "    scanData['IzrChi']=[]\n",
    "    scanData['Y1keV']=[]\n",
    "\n",
    "    for i in zip(range(scanData['N'])):\n",
    "        Y=getYfitCond_v4(scanData['lE_nrs'][i],scanData['lYs'][i])\n",
    "        cizr=izr['Enr']<scanData['lE_nrs'][i][-1]\n",
    "\n",
    "        scanData['Y1keV'].append(Y.calc(np.array([1e3])))\n",
    "        scanData['IzrChi'].append(np.sum((((Y.calc(izr['Enr'])-izr['Y'])/izr['dY'])[cizr])**2))\n",
    "        scanData['cgood'].append(((np.abs(Y.calc(izr['Enr'])-izr['Y'])<1*izr['dY'])[cizr]).all())\n",
    "\n",
    "    scanData['cgood']=np.array(scanData['cgood'])\n",
    "    scanData['IzrChi']=np.array(scanData['IzrChi'])\n",
    "    scanData['Y1keV']=np.array(scanData['Y1keV'])\n",
    "    with open( \"data/intmeth_scan_v5.p\", \"wb\" ) as file:\n",
    "        pickle.dump( scanData, file )"
   ]
  },
  {
   "cell_type": "code",
   "execution_count": 59,
   "metadata": {},
   "outputs": [],
   "source": [
    "#Collect the things we want to plot since it can take a while\n",
    "EYenvelopes=[]\n",
    "ERenvData=[]\n",
    "ERmidData=[]\n",
    "iBest=[]\n",
    "\n",
    "mask=np.zeros(len(cut),dtype=bool)\n",
    "mask[:]=True\n",
    "\n",
    "#No NG\n",
    "cut_noNG=(scanData['cgood'])&(scanData['lfng']==0)&(scanData['lFanoNR']==0.1161)&(scanData['liIt']<=3)"
   ]
  },
  {
   "cell_type": "code",
   "execution_count": 60,
   "metadata": {},
   "outputs": [],
   "source": [
    "iBest=[]\n",
    "\n",
    "cut_noNG=(scanData['cgood'])&(scanData['lfng']==0)&(scanData['lFanoNR']==0.1161)&(scanData['liIt']<=3)"
   ]
  },
  {
   "cell_type": "code",
   "execution_count": 61,
   "metadata": {},
   "outputs": [],
   "source": [
    "#NR equivalent threshold values for some yield models\n",
    "#Also compare with arb threshold of 10 eVee\n",
    "\n",
    "#Lindhard (k=0.146 for Si)\n",
    "Y=Yield.Yield('Lind',[0.146])"
   ]
  },
  {
   "cell_type": "code",
   "execution_count": 62,
   "metadata": {},
   "outputs": [],
   "source": [
    "#Should really put these calculations somewhere more useful\n",
    "#Lindhard for Ge (Si) at 100(110) eV, that's the assumed SNOLAB iZIP threshold\n",
    "Y=Yield.Yield('Lind',[0.157]) #Used <A>=72.8\n",
    "\n",
    "Y=Yield.Yield('Lind',[0.146])"
   ]
  },
  {
   "cell_type": "code",
   "execution_count": 63,
   "metadata": {},
   "outputs": [
    {
     "data": {
      "text/plain": [
       "<module 'R68_plot_tools' from '../python/R68_plot_tools.py'>"
      ]
     },
     "execution_count": 63,
     "metadata": {},
     "output_type": "execute_result"
    }
   ],
   "source": [
    "importlib.reload(pt)"
   ]
  },
  {
   "cell_type": "code",
   "execution_count": 64,
   "metadata": {},
   "outputs": [
    {
     "name": "stderr",
     "output_type": "stream",
     "text": [
      "../python/R68_spec_tools.py:55: RuntimeWarning: divide by zero encountered in true_divide\n",
      "  (eff.dcutEffFit_bkg(Ebins_ctr)/eff.cutEffFit_bkg(Ebins_ctr))**2 +\\\n",
      "../python/R68_spec_tools.py:60: RuntimeWarning: divide by zero encountered in true_divide\n",
      "  R_meas_Bkg = N_meas_Bkg/TE_Bkg\n"
     ]
    }
   ],
   "source": [
    "Emax = 2000 #eVee\n",
    "Ebins=np.linspace(0,Emax,201)\n",
    "\n",
    "Ebin_ctr=(Ebins[:-1]+Ebins[1:])/2\n",
    "\n",
    "tlive_er=g4['ER']['tlive']\n",
    "tlive_nr=g4['NR']['tlive']\n",
    "tlive_ng=cap['tlive']\n",
    "\n",
    "#uncertainty is (high,low)\n",
    "R_meas,dR_meas=spec.doBkgSub(meas, Ebins, Efit_min=50,Efit_max=2e3,\\\n",
    "                             doEffsyst=True, doBurstLeaksyst=True,\\\n",
    "                             output='reco-rate')"
   ]
  },
  {
   "cell_type": "code",
   "execution_count": 65,
   "metadata": {},
   "outputs": [],
   "source": [
    "#Illustration of method\n",
    "\n",
    "Elim_er=[255.0,505.0,1005.0,1505.0,1995.0]\n",
    "Elim_nr=[806.3832567888599, 1967.2490338155576, 4045.3075738134753, 5739.940139258986, 7281.31517699986]\n",
    "\n",
    "for Elim in Elim_er[:-1]:\n",
    "    cut=(Ebin_ctr>=Elim)&(Ebin_ctr<=Elim_er[-1])"
   ]
  },
  {
   "cell_type": "code",
   "execution_count": 66,
   "metadata": {},
   "outputs": [],
   "source": [
    "c,b=np.histogram(np.sum(g4['ER']['E'],axis=1),bins=Ebins)\n",
    "bctr=(b[:-1]+b[1:])/2\n",
    "\n",
    "for Elim in Elim_er[:-1]:\n",
    "    cut=(bctr>=Elim)&(bctr<=Elim_er[-1])\n",
    "\n",
    "Ebnr=np.linspace(0,7.3e3,200)\n",
    "c,b=np.histogram(np.sum(g4['NR']['E'],axis=1),bins=Ebnr)\n",
    "bctr=(b[:-1]+b[1:])/2\n",
    "\n",
    "for Elim in Elim_nr[:-1]:\n",
    "    cut=(bctr>=Elim)&(bctr<=Elim_nr[-1])\n",
    "\n",
    "c,b=np.histogram(np.sum(cap['dE'],axis=1),bins=Ebnr)\n",
    "bctr=(b[:-1]+b[1:])/2\n",
    "\n",
    "for Elim in Elim_nr[:-1]:\n",
    "    cut=(bctr>=Elim)&(bctr<=Elim_nr[-1])"
   ]
  },
  {
   "cell_type": "code",
   "execution_count": 67,
   "metadata": {},
   "outputs": [],
   "source": [
    "#For this analysis, we'll just use the total Edep of each event and apply yield to that.\n",
    "#How big of an assumption is this?\n",
    "E_er=np.sum(g4['ER']['E'],axis=1)\n",
    "E_nr=np.sum(g4['NR']['E'],axis=1)\n",
    "E_ng=np.sum(cap['dE'],axis=1)"
   ]
  },
  {
   "cell_type": "code",
   "execution_count": 68,
   "metadata": {},
   "outputs": [],
   "source": [
    "Emax_frac_er=np.max(g4['ER']['E'],axis=1)/np.sum(g4['ER']['E'],axis=1)\n",
    "Emax_frac_nr=np.max(g4['NR']['E'],axis=1)/np.sum(g4['NR']['E'],axis=1)\n",
    "Emax_frac_ng=np.max(cap['dE'],axis=1)/np.sum(cap['dE'],axis=1)"
   ]
  },
  {
   "cell_type": "code",
   "execution_count": 69,
   "metadata": {},
   "outputs": [],
   "source": [
    "#Trim events that won't figure into the analysis range\n",
    "E_er=E_er[(E_er>0) & (E_er<10e3)]\n",
    "E_nr=E_nr[(E_nr>0) & (E_nr<1000e3)]"
   ]
  },
  {
   "cell_type": "code",
   "execution_count": 70,
   "metadata": {},
   "outputs": [],
   "source": [
    "#Spectra with default livetimes and standard yield, Fano\n",
    "\n",
    "#Y=Yield.Yield('Lind',[0.146])\n",
    "Y=Yield.Yield('Chav',[0.146,1e3/0.247])\n",
    "\n",
    "N_er,_=np.histogram(E_er,bins=Ebins)\n",
    "N_nr,_=np.histogram(NRtoER(E_nr,Y,V,eps),bins=Ebins)\n",
    "N_ng,_=np.histogram(NRtoER(E_ng,Y,V,eps),bins=Ebins)\n",
    "\n",
    "R_er=N_er/g4['ER']['tlive']\n",
    "R_nr=N_nr/g4['NR']['tlive']\n",
    "R_ng=N_ng/cap['tlive']"
   ]
  },
  {
   "cell_type": "code",
   "execution_count": 71,
   "metadata": {},
   "outputs": [
    {
     "data": {
      "application/vnd.jupyter.widget-view+json": {
       "model_id": "b6aa2132baf14d23af0f19a8572f8ff0",
       "version_major": 2,
       "version_minor": 0
      },
      "text/plain": [
       "  0%|          | 0/200 [00:00<?, ?it/s]"
      ]
     },
     "metadata": {},
     "output_type": "display_data"
    }
   ],
   "source": [
    "#Need to set some NR max I think. \n",
    "#Not sure how to choose this because there's NRs up to 1 MeV\n",
    "#Do we need a fixed (Er,Y) to work from?\n",
    "\n",
    "Y=Yield.Yield('Lind',[0.146])\n",
    "E_nr_max=ERtoNR(Ebin_ctr[-1],Y,V,eps)[0]\n",
    "\n",
    "fg4=np.sum(R_meas[(Ebin_ctr>1.9e3)&(Ebin_ctr<2e3)]) / (Nint(E_er,1.9e3,2e3)/g4['ER']['tlive'] + Nint(E_nr,ERtoNR(1.9e3,Y,V,eps)[0],E_nr_max)/g4['NR']['tlive'])\n",
    "fng=0\n",
    "\n",
    "E_nrs=[]\n",
    "E_nr_step=1\n",
    "E_nr_test=E_nr_max\n",
    "for i in tqdm(range(len(Ebin_ctr))[::-1]):\n",
    "    if np.isfinite(R_meas[i]):\n",
    "        while True:\n",
    "            R_meas_this=np.sum(R_meas[(Ebin_ctr>Ebin_ctr[i])&(Ebin_ctr<2e3)])\n",
    "            R_sim_this=fg4*(Nint(E_er,Ebin_ctr[i],2e3)/g4['ER']['tlive'] + Nint(E_nr,E_nr_test,E_nr_max)/g4['NR']['tlive']) + fng*Nint(E_ng,E_nr_test,E_nr_max)/cap['tlive']\n",
    "\n",
    "            if (R_meas_this<R_sim_this) or (E_nr_test<0):\n",
    "                break\n",
    "            E_nr_test-=E_nr_step\n",
    "            \n",
    "        E_nrs.append(E_nr_test)\n",
    "    else:\n",
    "        E_nrs.append(np.inf)\n",
    "E_nrs=np.array(E_nrs[::-1])"
   ]
  },
  {
   "cell_type": "code",
   "execution_count": 72,
   "metadata": {},
   "outputs": [
    {
     "name": "stderr",
     "output_type": "stream",
     "text": [
      "/home/gerudo7/anaconda3/lib/python3.7/site-packages/numpy/lib/function_base.py:1281: RuntimeWarning: invalid value encountered in subtract\n",
      "  a = op(a[slice1], a[slice2])\n"
     ]
    }
   ],
   "source": [
    "Ys=((Ebin_ctr/E_nrs)*(1+V/eps)-1)*eps/V\n",
    "\n",
    "cFit=(np.isfinite(E_nrs)) & (np.insert(np.diff(E_nrs)>0,-1,True))\n",
    "Y_fCS=CubicSpline(E_nrs[cFit],Ys[cFit])\n",
    "\n",
    "Y=Yield.Yield('Chav',[0.146,1e3/0.247])"
   ]
  },
  {
   "cell_type": "code",
   "execution_count": 73,
   "metadata": {},
   "outputs": [],
   "source": [
    "C_er,_=np.histogram(E_er,bins=Ebins)\n",
    "R_er=fg4*C_er/g4['ER']['tlive']\n",
    "\n",
    "Y=Yield.Yield('User',[Y_fCS])\n",
    "C_nr,_=np.histogram(NRtoER(E_nr,Y,V,eps),bins=Ebins)\n",
    "R_nr=fg4*C_nr/g4['NR']['tlive']\n",
    "C_ng,_=np.histogram(NRtoER(E_ng,Y,V,eps),bins=Ebins)\n",
    "R_ng=fng*C_ng/cap['tlive']"
   ]
  },
  {
   "cell_type": "code",
   "execution_count": 74,
   "metadata": {},
   "outputs": [],
   "source": [
    "#Extract yield curve using the integral method\n",
    "#Treats each event as a single scatter of the total energy\n",
    "#fer: ER livetime factor\n",
    "#fnr: NR livetime factor\n",
    "#fng: NG livetime factor\n",
    "#Y_max: Yield value that corresponds to the highest bin edge of Ebins\n",
    "tlive_er=g4['ER']['tlive']\n",
    "tlive_nr=g4['NR']['tlive']\n",
    "tlive_ng=cap['tlive']"
   ]
  },
  {
   "cell_type": "code",
   "execution_count": 75,
   "metadata": {},
   "outputs": [
    {
     "data": {
      "application/vnd.jupyter.widget-view+json": {
       "model_id": "e6036ef45bbd41cfb5fa97d789fde91e",
       "version_major": 2,
       "version_minor": 0
      },
      "text/plain": [
       "  0%|          | 0/6 [00:00<?, ?it/s]"
      ]
     },
     "metadata": {},
     "output_type": "display_data"
    },
    {
     "data": {
      "application/vnd.jupyter.widget-view+json": {
       "model_id": "20a2da9a1e1e41939578067ee3d7c12e",
       "version_major": 2,
       "version_minor": 0
      },
      "text/plain": [
       "  0%|          | 0/200 [00:00<?, ?it/s]"
      ]
     },
     "metadata": {},
     "output_type": "display_data"
    },
    {
     "data": {
      "application/vnd.jupyter.widget-view+json": {
       "model_id": "5781bb2099914bf6bb21919c35c7f0ae",
       "version_major": 2,
       "version_minor": 0
      },
      "text/plain": [
       "  0%|          | 0/200 [00:00<?, ?it/s]"
      ]
     },
     "metadata": {},
     "output_type": "display_data"
    },
    {
     "data": {
      "application/vnd.jupyter.widget-view+json": {
       "model_id": "9147021e5e3c40c9ac0b23528ee40419",
       "version_major": 2,
       "version_minor": 0
      },
      "text/plain": [
       "  0%|          | 0/200 [00:00<?, ?it/s]"
      ]
     },
     "metadata": {},
     "output_type": "display_data"
    },
    {
     "data": {
      "application/vnd.jupyter.widget-view+json": {
       "model_id": "207eeed4bf184b3fa87b838657e3e62b",
       "version_major": 2,
       "version_minor": 0
      },
      "text/plain": [
       "  0%|          | 0/200 [00:00<?, ?it/s]"
      ]
     },
     "metadata": {},
     "output_type": "display_data"
    },
    {
     "data": {
      "application/vnd.jupyter.widget-view+json": {
       "model_id": "4e12a64dea224b0e8816d8f8feb0aa0f",
       "version_major": 2,
       "version_minor": 0
      },
      "text/plain": [
       "  0%|          | 0/200 [00:00<?, ?it/s]"
      ]
     },
     "metadata": {},
     "output_type": "display_data"
    },
    {
     "data": {
      "application/vnd.jupyter.widget-view+json": {
       "model_id": "7b93a79de2f04097ab8ac2711d4eaf4a",
       "version_major": 2,
       "version_minor": 0
      },
      "text/plain": [
       "  0%|          | 0/200 [00:00<?, ?it/s]"
      ]
     },
     "metadata": {},
     "output_type": "display_data"
    }
   ],
   "source": [
    "lY_max=np.linspace(0.1,0.6,6)\n",
    "lfer=[]\n",
    "lfnr=[]\n",
    "lE_nrs=[]\n",
    "lYs=[]\n",
    "for Y_max in tqdm(lY_max):\n",
    "    #Normalize so that ER+NR matches data near 2 keV\n",
    "    fg4=np.sum(R_meas[(Ebin_ctr>1.9e3)&(Ebin_ctr<2e3)]) / (Nint(E_er,1.9e3,2e3)/g4['ER']['tlive'] + Nint(E_nr,ERtoNR(1.9e3,Y_max,V,eps),ERtoNR(2e3,Y_max,V,eps))/g4['NR']['tlive'])\n",
    "    lfer.append(fg4)\n",
    "    lfnr.append(fg4)\n",
    "    E_nrs,Ys=extract_Y(E_er, E_nr, E_ng, fer=fg4, fnr=fg4, fng=0, Y_max=Y_max, E_nr_step=1)\n",
    "    lE_nrs.append(E_nrs)\n",
    "    lYs.append(Ys)\n",
    "\n",
    "lfer=np.array(lfer)\n",
    "lfnr=np.array(lfnr)\n",
    "lE_nrs=np.array(lE_nrs)\n",
    "lYs=np.array(lYs)"
   ]
  },
  {
   "cell_type": "code",
   "execution_count": 76,
   "metadata": {},
   "outputs": [],
   "source": [
    "for E_nrs,Ys in zip(lE_nrs,lYs):\n",
    "    cFit=(np.isfinite(E_nrs)) & (np.insert(np.diff(E_nrs)>0,-1,True))\n",
    "    Y_fCS=CubicSpline(E_nrs[cFit],Ys[cFit],extrapolate=True)\n",
    "\n",
    "for E_nrs,Ys,fer,fnr in zip(lE_nrs,lYs,lfer,lfnr):\n",
    "    cFit=(np.isfinite(E_nrs)) & (np.insert(np.diff(E_nrs)>0,-1,True))\n",
    "    Y_fCS=CubicSpline(E_nrs[cFit],Ys[cFit],extrapolate=True)\n",
    "    \n",
    "    C_er,_=np.histogram(E_er,bins=Ebins)\n",
    "    R_er=fer*C_er/tlive_er\n",
    "    Y=Yield.Yield('User',[Y_fCS])\n",
    "    C_nr,_=np.histogram(NRtoER(E_nr,Y,V,eps),bins=Ebins)\n",
    "    R_nr=fnr*C_nr/tlive_nr\n",
    "    C_ng,_=np.histogram(NRtoER(E_ng,Y,V,eps),bins=Ebins)\n",
    "    R_ng=fng*C_ng/tlive_ng"
   ]
  },
  {
   "cell_type": "code",
   "execution_count": 77,
   "metadata": {},
   "outputs": [],
   "source": [
    "bins=np.linspace(-100,2500,100)\n",
    "#Looks like that's doing the right thing. Maybe need to truncate at 0\n",
    "ERsmeared=spec.getSmeared(NRtoER(E_ng,0.2,V,eps))\n",
    "ERsmeared[ERsmeared<0]=0"
   ]
  },
  {
   "cell_type": "code",
   "execution_count": 78,
   "metadata": {},
   "outputs": [
    {
     "data": {
      "application/vnd.jupyter.widget-view+json": {
       "model_id": "07d8c671f87548429bfbbdee20c09586",
       "version_major": 2,
       "version_minor": 0
      },
      "text/plain": [
       "  0%|          | 0/200 [00:00<?, ?it/s]"
      ]
     },
     "metadata": {},
     "output_type": "display_data"
    }
   ],
   "source": [
    "Y_max=0.25\n",
    "#Normalize so that ER+NR matches data near 2 keV\n",
    "fg4=np.sum(R_meas[(Ebin_ctr>1.9e3)&(Ebin_ctr<2e3)]) / (Nint(E_er,1.9e3,2e3)/g4['ER']['tlive'] + Nint(E_nr,ERtoNR(1.9e3,Y_max,V,eps),ERtoNR(2e3,Y_max,V,eps))/g4['NR']['tlive'])\n",
    "\n",
    "E_nrs,Ys=extract_Y(E_er, E_nr, E_ng, fer=fg4, fnr=fg4, fng=1, Y_max=Y_max, E_nr_step=1)\n",
    "cFit=(np.isfinite(E_nrs)) & (np.insert(np.diff(E_nrs)>0,-1,True))\n",
    "Y_fCS=CubicSpline(E_nrs[cFit],Ys[cFit],extrapolate=True)"
   ]
  },
  {
   "cell_type": "code",
   "execution_count": 79,
   "metadata": {},
   "outputs": [],
   "source": [
    "Y=Yield.Yield('User',[Y_fit])\n",
    "E_nr_eVee=NRtoER(E_nr,Y,V,eps)\n",
    "E_ng_eVee=NRtoER(E_ng,Y,V,eps)\n",
    "\n",
    "#Use this correspondence to map back to NR\n",
    "cFit=(E_nrs>0) & (np.isfinite(E_nrs)) & (np.insert(np.diff(E_nrs)>0,-1,True))\n",
    "ERtoNR_fCS=CubicSpline(NRtoER(E_nrs[cFit],Y,V,eps),E_nrs[cFit])\n",
    "\n",
    "E_nr_sm=ERtoNR_fCS(spec.getSmeared(E_nr_eVee))\n",
    "E_ng_sm=ERtoNR_fCS(spec.getSmeared(E_ng_eVee))\n",
    "E_ng_sm2=ERtoNR_fCS(spec.getSmeared(E_ng_eVee))\n",
    "\n",
    "Ebnr=np.linspace(0,3e3,200)"
   ]
  },
  {
   "cell_type": "code",
   "execution_count": 80,
   "metadata": {},
   "outputs": [
    {
     "data": {
      "application/vnd.jupyter.widget-view+json": {
       "model_id": "1eaa71a0a2be488f9db2efe266331380",
       "version_major": 2,
       "version_minor": 0
      },
      "text/plain": [
       "  0%|          | 0/200 [00:00<?, ?it/s]"
      ]
     },
     "metadata": {},
     "output_type": "display_data"
    }
   ],
   "source": [
    "E_nrs_0=E_nrs\n",
    "Ys_0=Ys\n",
    "E_nrs,Ys=extract_Y(E_er, E_nr_sm, E_ng_sm, fer=fg4, fnr=fg4, fng=1, Y_max=Y_max, E_nr_step=1)\n",
    "cFit=(E_nrs>0) & (np.isfinite(E_nrs)) & (np.insert(np.diff(E_nrs)>0,-1,True))\n",
    "Y_fCS=CubicSpline(E_nrs[cFit],Ys[cFit],extrapolate=True)"
   ]
  },
  {
   "cell_type": "code",
   "execution_count": 81,
   "metadata": {},
   "outputs": [],
   "source": [
    "tlive_er=g4['ER']['tlive']\n",
    "tlive_nr=g4['NR']['tlive']\n",
    "tlive_ng=cap['tlive']"
   ]
  },
  {
   "cell_type": "code",
   "execution_count": 82,
   "metadata": {},
   "outputs": [
    {
     "data": {
      "application/vnd.jupyter.widget-view+json": {
       "model_id": "286824854e284d75935579c602c7081b",
       "version_major": 2,
       "version_minor": 0
      },
      "text/plain": [
       "  0%|          | 0/200 [00:00<?, ?it/s]"
      ]
     },
     "metadata": {},
     "output_type": "display_data"
    },
    {
     "data": {
      "application/vnd.jupyter.widget-view+json": {
       "model_id": "494a90bdad5647f18639e49482fe85ad",
       "version_major": 2,
       "version_minor": 0
      },
      "text/plain": [
       "  0%|          | 0/200 [00:00<?, ?it/s]"
      ]
     },
     "metadata": {},
     "output_type": "display_data"
    },
    {
     "data": {
      "application/vnd.jupyter.widget-view+json": {
       "model_id": "1d5fb49f68504b42b7ee181712b82a95",
       "version_major": 2,
       "version_minor": 0
      },
      "text/plain": [
       "  0%|          | 0/200 [00:00<?, ?it/s]"
      ]
     },
     "metadata": {},
     "output_type": "display_data"
    }
   ],
   "source": [
    "Y_max=0.25\n",
    "#Normalize so that ER+NR matches data near 2 keV\n",
    "fg4=np.sum(R_meas[(Ebin_ctr>1.9e3)&(Ebin_ctr<2e3)]) / (Nint(E_er,1.9e3,2e3)/g4['ER']['tlive'] + Nint(E_nr,ERtoNR(1.9e3,Y_max,V,eps),ERtoNR(2e3,Y_max,V,eps))/g4['NR']['tlive'])\n",
    "\n",
    "E_nrs,Ys=extract_Y(E_er, E_nr, E_ng, fer=fg4, fnr=fg4, fng=1, Y_max=Y_max, E_nr_step=1)\n",
    "\n",
    "cFit=(E_nrs>0) & (np.isfinite(E_nrs)) & (np.insert(np.diff(E_nrs)>0,-1,True))\n",
    "Y_fCS=CubicSpline(E_nrs[cFit],Ys[cFit],extrapolate=True)\n",
    "Y_fit = lambda E: Y_conditioned(E,Y_fCS,E_nrs[E_nrs>0][0],0,E_nrs[-1],Ys[-1])\n",
    "\n",
    "E_nrs,Ys=extract_Y_wSmear(E_er, E_nr, E_ng, fer=fg4, fnr=fg4, fng=1, Y_max=Y_max, nIt=1, E_nr_step=1)\n",
    "\n",
    "cFit=(E_nrs>0) & (np.isfinite(E_nrs)) & (np.insert(np.diff(E_nrs)>0,-1,True))\n",
    "Y_fCS=CubicSpline(E_nrs[cFit],Ys[cFit],extrapolate=True)\n",
    "Y_fit = lambda E: Y_conditioned(E,Y_fCS,E_nrs[E_nrs>0][0],0,E_nrs[-1],Ys[-1])"
   ]
  },
  {
   "cell_type": "code",
   "execution_count": 83,
   "metadata": {},
   "outputs": [
    {
     "data": {
      "application/vnd.jupyter.widget-view+json": {
       "model_id": "19b381baffa0458eb87228f7aae81f01",
       "version_major": 2,
       "version_minor": 0
      },
      "text/plain": [
       "  0%|          | 0/1 [00:00<?, ?it/s]"
      ]
     },
     "metadata": {},
     "output_type": "display_data"
    },
    {
     "data": {
      "application/vnd.jupyter.widget-view+json": {
       "model_id": "800282c85eaf4e3191c0c73899722c28",
       "version_major": 2,
       "version_minor": 0
      },
      "text/plain": [
       "  0%|          | 0/200 [00:00<?, ?it/s]"
      ]
     },
     "metadata": {},
     "output_type": "display_data"
    },
    {
     "data": {
      "application/vnd.jupyter.widget-view+json": {
       "model_id": "40b39bf0f498480e85e565b97d797fc3",
       "version_major": 2,
       "version_minor": 0
      },
      "text/plain": [
       "  0%|          | 0/200 [00:00<?, ?it/s]"
      ]
     },
     "metadata": {},
     "output_type": "display_data"
    }
   ],
   "source": [
    "lY_max=[0.3]\n",
    "lfer=[]\n",
    "lfnr=[]\n",
    "lfng=[]\n",
    "lE_nrs=[]\n",
    "lYs=[]\n",
    "for Y_max in tqdm(lY_max):\n",
    "    #Normalize so that ER+NR matches data near 2 keV\n",
    "    fg4=np.sum(R_meas[(Ebin_ctr>1.9e3)&(Ebin_ctr<2e3)]) / (Nint(E_er,1.9e3,2e3)/g4['ER']['tlive'] + Nint(E_nr,ERtoNR(1.9e3,Y_max,V,eps),ERtoNR(2e3,Y_max,V,eps))/g4['NR']['tlive'])\n",
    "    lfer.append(fg4)\n",
    "    lfnr.append(fg4)\n",
    "    lfng.append(1)\n",
    "    E_nrs,Ys=extract_Y_wSmear(E_er, E_nr, E_ng, fer=fg4, fnr=fg4, fng=1, Y_max=Y_max,\n",
    "                              nIt=1, E_nr_step=1)\n",
    "    lE_nrs.append(E_nrs)\n",
    "    lYs.append(Ys)\n",
    "\n",
    "lfer=np.array(lfer)\n",
    "lfnr=np.array(lfnr)\n",
    "lE_nrs=np.array(lE_nrs)\n",
    "lYs=np.array(lYs)"
   ]
  },
  {
   "cell_type": "code",
   "execution_count": 84,
   "metadata": {},
   "outputs": [],
   "source": [
    "for E_nrs,Ys,fer,fnr,fng in zip(lE_nrs,lYs,lfer,lfnr,lfng):\n",
    "    cFit=(np.isfinite(E_nrs)) & (np.insert(np.diff(E_nrs)>0,-1,True))\n",
    "    Y_fCS=CubicSpline(E_nrs[cFit],Ys[cFit],extrapolate=True)\n",
    "    \n",
    "    #Smear\n",
    "    Y_fit = lambda E: Y_conditioned(E,Y_fCS,E_nrs[0],0,E_nrs[-1],Ys[-1])\n",
    "    Y=Yield.Yield('User',[Y_fit])\n",
    "    \n",
    "    E_er_sm=spec.getSmeared(E_er)\n",
    "    E_nr_eVee_sm=spec.getSmeared(NRtoER(E_nr,Y,V,eps))\n",
    "    E_ng_eVee_sm=spec.getSmeared(NRtoER(E_ng,Y,V,eps))\n",
    "    \n",
    "    C_er,_=np.histogram(E_er_sm,bins=Ebins)\n",
    "    R_er=fer*C_er/tlive_er\n",
    "    C_nr,_=np.histogram(E_nr_eVee_sm,bins=Ebins)\n",
    "    R_nr=fnr*C_nr/tlive_nr\n",
    "    C_ng,_=np.histogram(E_ng_eVee_sm,bins=Ebins)\n",
    "    R_ng=fng*C_ng/tlive_ng"
   ]
  },
  {
   "cell_type": "code",
   "execution_count": 85,
   "metadata": {},
   "outputs": [],
   "source": [
    "Y_max=0.3\n",
    "\n",
    "R0_meas=np.sum(R_meas[(Ebin_ctr>1.9e3)&(Ebin_ctr<2e3)])\n",
    "R0_er=Nint(E_er,1.9e3,2e3)/g4['ER']['tlive']\n",
    "R0_nr=Nint(E_nr,ERtoNR(1.9e3,Y_max,V,eps),ERtoNR(2e3,Y_max,V,eps))/g4['NR']['tlive']\n",
    "\n",
    "fer=0\n",
    "fnr=(R0_meas)/R0_nr\n",
    "fng=0\n",
    "\n",
    "E_er_max=2e3\n",
    "E_nr_max=ERtoNR(E_er_max,Y_max,V,eps)\n",
    "\n",
    "Ebin_ctr_rev=Ebin_ctr[::-1]\n",
    "\n",
    "rev_csum_meas=np.cumsum(R_meas[::-1])\n",
    "\n",
    "R_sim_er=fer*np.histogram(E_er,Ebins)[0]/tlive_er\n",
    "rev_csum_er=np.cumsum(R_sim_er[::-1])\n",
    "\n",
    "w_nr=fnr/tlive_nr*np.ones(np.sum(E_nr<=E_nr_max))\n",
    "w_ng=fng/tlive_ng*np.ones(np.sum(E_ng<=E_nr_max))\n",
    "\n",
    "E_nrng=np.concatenate((E_nr[E_nr<=E_nr_max],E_ng[E_ng<=E_nr_max]))\n",
    "w_nrng=np.concatenate((w_nr,w_ng))\n",
    "\n",
    "E_nrng_rev_srt=(E_nrng[np.argsort(E_nrng)])[::-1]\n",
    "w_nrng_rev_srt=(w_nrng[np.argsort(E_nrng)])[::-1]\n",
    "rev_csum_nrng=np.cumsum(w_nrng_rev_srt)\n",
    "\n",
    "diff=rev_csum_meas-rev_csum_er\n",
    "E_nrs=[]\n",
    "error=[]\n",
    "for entry in diff:\n",
    "    if np.isfinite(entry):\n",
    "        args=np.argwhere(rev_csum_nrng>=entry)\n",
    "        if len(args)==0:\n",
    "            E_nrs.append(-99)\n",
    "        else:\n",
    "            E_nr_this=E_nrng_rev_srt[args[0][0]]\n",
    "            error.append(rev_csum_nrng[args[0][0]]-entry)\n",
    "            if len(E_nrs)>0:\n",
    "                E_nrs.append(min(E_nr_this,E_nrs[-1]))\n",
    "            else:\n",
    "                E_nrs.append(E_nr_this)\n",
    "    else:\n",
    "        E_nrs.append(-999)\n",
    "        error.append(-999)\n",
    "E_nrs=np.array(E_nrs[::-1])\n",
    "Ys=((Ebins[:-1]/E_nrs)*(1+V/eps)-1)*eps/V"
   ]
  },
  {
   "cell_type": "code",
   "execution_count": 86,
   "metadata": {},
   "outputs": [],
   "source": [
    "cFit=(Ebin_ctr>50) & (E_nrs>0) & (np.isfinite(E_nrs)) & (np.insert(np.diff(E_nrs)>0,-1,True))\n",
    "Y_fCS=CubicSpline(E_nrs[cFit],Ys[cFit],extrapolate=True)\n",
    "\n",
    "Y_fit = lambda E: Y_conditioned(E,Y_fCS,E_nrs[cFit][0],Ys[cFit][0],E_nrs[-1],Ys[-1])\n",
    "Y=Yield.Yield('User',[Y_fit])\n",
    "\n",
    "E_er_sm=E_er\n",
    "E_nr_eVee_sm=NRtoER(E_nr,Y,V,eps)\n",
    "E_ng_eVee_sm=NRtoER(E_ng,Y,V,eps)\n",
    "\n",
    "C_er,_=np.histogram(E_er_sm,bins=Ebins)\n",
    "R_er=fer*C_er/tlive_er\n",
    "C_nr,_=np.histogram(E_nr_eVee_sm,bins=Ebins)\n",
    "R_nr=fnr*C_nr/tlive_nr\n",
    "C_ng,_=np.histogram(E_ng_eVee_sm,bins=Ebins)\n",
    "R_ng=fng*C_ng/tlive_ng"
   ]
  },
  {
   "cell_type": "code",
   "execution_count": 87,
   "metadata": {},
   "outputs": [],
   "source": [
    "E_nr_eVee=NRtoER(E_nr,Y,V,eps)\n",
    "E_ng_eVee=NRtoER(E_ng,Y,V,eps)\n",
    "\n",
    "#Use this correspondence to map back to NR\n",
    "#But need to condition it outside of the spline region.\n",
    "#Just extrapolate with linear from each end\n",
    "xx=NRtoER(E_nrs[cFit],Y,V,eps)\n",
    "yy=E_nrs[cFit]\n",
    "ERtoNR_fCS=CubicSpline(xx,yy,extrapolate=True)\n",
    "pf_low=np.poly1d(np.polyfit([0,xx[0]], [0,yy[0]], 1))\n",
    "pf_hi=np.poly1d(np.polyfit(xx[-10:], yy[-10:], 1))\n",
    "ERtoNR_fcombo = lambda E: (E<xx[0])*pf_low(E) + (E>=xx[0])*(E<=xx[-1])*ERtoNR_fCS(E) + (E>xx[-1])*pf_hi(E)\n",
    "\n",
    "E_er_sm=spec.getSmeared(E_er,seed=None,F=F)\n",
    "E_er_sm[E_er_sm<0]=0\n",
    "E_nr_sm=ERtoNR_fcombo(spec.getSmeared(E_nr_eVee,seed=None,F=F))\n",
    "E_ng_sm=ERtoNR_fcombo(spec.getSmeared(E_ng_eVee,seed=None,F=F))"
   ]
  },
  {
   "cell_type": "code",
   "execution_count": 88,
   "metadata": {},
   "outputs": [
    {
     "name": "stderr",
     "output_type": "stream",
     "text": [
      "../python/R68_spec_tools.py:69: RuntimeWarning: invalid value encountered in multiply\n",
      "  doEffsyst*(dTE_Bkg/TE_Bkg)**2 )\n"
     ]
    }
   ],
   "source": [
    "E_nrs,Ys,errors=extract_Y_v2(E_er_sm, E_nr_sm, E_ng_sm, fer, fnr, fng, Y_max, Ebins)\n",
    "\n",
    "cFit=(Ebin_ctr>50) & (E_nrs>0) & (np.isfinite(E_nrs)) & (np.insert(np.diff(E_nrs)>0,-1,True))\n",
    "Y_fCS=CubicSpline(E_nrs[cFit],Ys[cFit],extrapolate=True)\n",
    "\n",
    "Y_fit = lambda E: Y_conditioned(E,Y_fCS,E_nrs[cFit][0],Ys[cFit][0],E_nrs[-1],Ys[-1])\n",
    "Y=Yield.Yield('User',[Y_fit])\n",
    "\n",
    "E_nr_eVee=NRtoER(E_nr,Y,V,eps)\n",
    "E_ng_eVee=NRtoER(E_ng,Y,V,eps)\n",
    "\n",
    "#Use this correspondence to map back to NR\n",
    "#But need to condition it outside of the spline region.\n",
    "#Just extrapolate with linear from each end\n",
    "xx=NRtoER(E_nrs[cFit],Y,V,eps)\n",
    "yy=E_nrs[cFit]\n",
    "ERtoNR_fCS=CubicSpline(xx,yy,extrapolate=True)\n",
    "pf_low=np.poly1d(np.polyfit([0,xx[0]], [0,yy[0]], 1))\n",
    "pf_hi=np.poly1d(np.polyfit(xx[-10:], yy[-10:], 1))\n",
    "ERtoNR_fcombo = lambda E: (E<xx[0])*pf_low(E) + (E>=xx[0])*(E<=xx[-1])*ERtoNR_fCS(E) + (E>xx[-1])*pf_hi(E)\n",
    "\n",
    "E_er_sm2=spec.getSmeared(E_er,seed=None,F=F)\n",
    "E_nr_sm2=ERtoNR_fcombo(spec.getSmeared(E_nr_eVee,seed=None,F=F))\n",
    "E_ng_sm2=ERtoNR_fcombo(spec.getSmeared(E_ng_eVee,seed=None,F=F))"
   ]
  },
  {
   "cell_type": "code",
   "execution_count": 89,
   "metadata": {},
   "outputs": [],
   "source": [
    "E_nrs,Ys,errors=extract_Y_v2(E_er_sm2, E_nr_sm2, E_ng_sm2, fer, fnr, fng, Y_max, Ebins)\n",
    "\n",
    "cFit=(Ebin_ctr>50) & (E_nrs>0) & (np.isfinite(E_nrs)) & (np.insert(np.diff(E_nrs)>0,-1,True))\n",
    "Y_fCS=CubicSpline(E_nrs[cFit],Ys[cFit],extrapolate=True)\n",
    "\n",
    "Y_fit = lambda E: Y_conditioned(E,Y_fCS,E_nrs[cFit][0],Ys[cFit][0],E_nrs[-1],Ys[-1])\n",
    "Y=Yield.Yield('User',[Y_fit])\n",
    "\n",
    "E_nr_eVee=NRtoER(E_nr,Y,V,eps)\n",
    "E_ng_eVee=NRtoER(E_ng,Y,V,eps)\n",
    "\n",
    "#Use this correspondence to map back to NR\n",
    "#But need to condition it outside of the spline region.\n",
    "#Just extrapolate with linear from each end\n",
    "xx=NRtoER(E_nrs[cFit],Y,V,eps)\n",
    "yy=E_nrs[cFit]\n",
    "ERtoNR_fCS=CubicSpline(xx,yy,extrapolate=True)\n",
    "pf_low=np.poly1d(np.polyfit([0,xx[0]], [0,yy[0]], 1))\n",
    "pf_hi=np.poly1d(np.polyfit(xx[-10:], yy[-10:], 1))\n",
    "ERtoNR_fcombo = lambda E: (E<xx[0])*pf_low(E) + (E>=xx[0])*(E<=xx[-1])*ERtoNR_fCS(E) + (E>xx[-1])*pf_hi(E)\n",
    "\n",
    "E_er_sm3=spec.getSmeared(E_er,seed=None,F=F)\n",
    "E_nr_sm3=ERtoNR_fcombo(spec.getSmeared(E_nr_eVee,seed=None,F=F))\n",
    "E_ng_sm3=ERtoNR_fcombo(spec.getSmeared(E_ng_eVee,seed=None,F=F))"
   ]
  },
  {
   "cell_type": "code",
   "execution_count": 90,
   "metadata": {},
   "outputs": [],
   "source": [
    "E_nrs,Ys,errors=extract_Y_v2(E_er_sm, E_nr_sm, E_ng_sm, fer, fnr, fng, Y_max, Ebins)\n",
    "\n",
    "cFit=(Ebin_ctr>50) & (E_nrs>0) & (np.isfinite(E_nrs)) & (np.insert(np.diff(E_nrs)>0,-1,True))\n",
    "Y_fCS=CubicSpline(E_nrs[cFit],Ys[cFit],extrapolate=True)\n",
    "\n",
    "Y_fit = lambda E: Y_conditioned(E,Y_fCS,E_nrs[cFit][0],Ys[cFit][0],E_nrs[-1],Ys[-1])\n",
    "Y=Yield.Yield('User',[Y_fit])"
   ]
  },
  {
   "cell_type": "code",
   "execution_count": 91,
   "metadata": {},
   "outputs": [
    {
     "data": {
      "application/vnd.jupyter.widget-view+json": {
       "model_id": "85abf4c7daa3464b89da99dd2c042510",
       "version_major": 2,
       "version_minor": 0
      },
      "text/plain": [
       "  0%|          | 0/5 [00:00<?, ?it/s]"
      ]
     },
     "metadata": {},
     "output_type": "display_data"
    }
   ],
   "source": [
    "tlive_er=g4['ER']['tlive']\n",
    "tlive_nr=g4['NR']['tlive']\n",
    "tlive_ng=cap['tlive']\n",
    "\n",
    "lY_max=np.linspace(0.2,0.3,5)\n",
    "lfer=[]\n",
    "lfnr=[]\n",
    "lfng=[]\n",
    "lE_nrs=[]\n",
    "lYs=[]\n",
    "lerrors=[]\n",
    "\n",
    "for Y_max in tqdm(lY_max):\n",
    "    #Normalize so that ER+NR matches data near 2 keV\n",
    "\n",
    "    R0_meas=np.sum(R_meas[(Ebin_ctr>1.99e3)&(Ebin_ctr<2e3)])\n",
    "    R0_er=Nint(E_er,1.99e3,2e3)/g4['ER']['tlive']\n",
    "    R0_nr=Nint(E_nr,ERtoNR(1.99e3,Y_max,V,eps),ERtoNR(2e3,Y_max,V,eps))/g4['NR']['tlive']\n",
    "\n",
    "    fnr=6\n",
    "    fer=(R0_meas-fnr*R0_nr)/R0_er\n",
    "    fng=2#2.037\n",
    "\n",
    "    lfer.append(fer)\n",
    "    lfnr.append(fnr)\n",
    "    lfng.append(fng)\n",
    "    E_nrs,Ys,errors=extract_Y_wSmear_v2(E_er, E_nr, E_ng, fer, fnr, fng, Y_max=Y_max,\n",
    "                              nIt=1, Ebins=np.linspace(0,2e3,201), seed=None)\n",
    "    #If binning is too small, will get some errors and things won't work.\n",
    "    #Probably in bkg_sub, but not exactly sure\n",
    "    lE_nrs.append(E_nrs)\n",
    "    lYs.append(Ys)\n",
    "    lerrors.append(errors)\n",
    "\n",
    "lfer=np.array(lfer)\n",
    "lfnr=np.array(lfnr)\n",
    "lE_nrs=np.array(lE_nrs)\n",
    "lYs=np.array(lYs)\n",
    "lerrors=np.array(lerrors)"
   ]
  },
  {
   "cell_type": "code",
   "execution_count": 92,
   "metadata": {},
   "outputs": [
    {
     "name": "stderr",
     "output_type": "stream",
     "text": [
      "/home/gerudo7/anaconda3/lib/python3.7/site-packages/ipykernel_launcher.py:35: RuntimeWarning: invalid value encountered in true_divide\n"
     ]
    }
   ],
   "source": [
    "dosmear=True\n",
    "seed=None\n",
    "\n",
    "#Add other measurements from lit\n",
    "for E_nrs,Ys,fer,fnr,fng in zip(lE_nrs,lYs,lfer,lfnr,lfng):\n",
    "    cFit=(Ebin_ctr>50) &(E_nrs>0) & (np.isfinite(E_nrs)) & (np.insert(np.diff(E_nrs)>0,-1,True))\n",
    "    Y_fCS=CubicSpline(E_nrs[cFit],Ys[cFit],extrapolate=True)\n",
    "    Y_fCS=lambda E: np.interp(E,E_nrs[cFit],Ys[cFit])\n",
    "    \n",
    "    #Smear\n",
    "    Y_fit = lambda E: Y_conditioned_test(E,Y_fCS,E_nrs[cFit],Ys[cFit])\n",
    "    Y=Yield.Yield('User',[Y_fit])\n",
    "    \n",
    "    if dosmear:\n",
    "        E_er_sm=spec.getSmeared(E_er,seed=seed)\n",
    "        E_er_sm[E_er_sm<0]=0\n",
    "        E_nr_eVee_sm=spec.getSmeared(NRtoER(E_nr,Y,V,eps),seed=seed)\n",
    "        E_nr_eVee_sm[E_nr_eVee_sm<0]=0\n",
    "        E_nr_sm=NRtoER(E_nr,Y,V,eps)\n",
    "        E_ng_eVee_sm=spec.getSmeared(NRtoER(E_ng,Y,V,eps),seed=seed)\n",
    "        E_ng_eVee_sm[E_ng_eVee_sm<0]=0\n",
    "    else:\n",
    "        E_er_sm=E_er\n",
    "        E_nr_eVee_sm=NRtoER(E_nr,Y,V,eps)\n",
    "        E_ng_eVee_sm=NRtoER(E_ng,Y,V,eps)\n",
    "    \n",
    "    C_er,_=np.histogram(E_er_sm,bins=Ebins)\n",
    "    R_er=fer*C_er/tlive_er\n",
    "    C_nr,_=np.histogram(E_nr_eVee_sm,bins=Ebins)\n",
    "    R_nr=fnr*C_nr/tlive_nr\n",
    "    C_ng,_=np.histogram(E_ng_eVee_sm,bins=Ebins)\n",
    "    R_ng=fng*C_ng/tlive_ng\n",
    "\n",
    "    R_tot=R_er+R_nr+R_ng\n",
    "    chi=np.mean((((R_tot-R_meas)/((dR_meas[0]+dR_meas[1])/2))**2)[Ebin_ctr>50])"
   ]
  },
  {
   "cell_type": "code",
   "execution_count": 93,
   "metadata": {},
   "outputs": [
    {
     "data": {
      "application/vnd.jupyter.widget-view+json": {
       "model_id": "5c3ae350f1af49f194b072945a4f28be",
       "version_major": 2,
       "version_minor": 0
      },
      "text/plain": [
       "  0%|          | 0/8 [00:00<?, ?it/s]"
      ]
     },
     "metadata": {},
     "output_type": "display_data"
    }
   ],
   "source": [
    "#lnIt=np.arange(11)\n",
    "lnIt=[0,1,2,5,10,15,20,30]\n",
    "lY_max=[]\n",
    "lfer=[]\n",
    "lfnr=[]\n",
    "lfng=[]\n",
    "lE_nrs=[]\n",
    "lYs=[]\n",
    "lerrors=[]\n",
    "\n",
    "for nIt in tqdm(lnIt):\n",
    "\n",
    "    Y_max=0.25\n",
    "    \n",
    "    R0_meas=np.sum(R_meas[(Ebin_ctr>1.99e3)&(Ebin_ctr<2e3)])\n",
    "    R0_er=Nint(E_er,1.99e3,2e3)/g4['ER']['tlive']\n",
    "    R0_nr=Nint(E_nr,ERtoNR(1.99e3,Y_max,V,eps),ERtoNR(2e3,Y_max,V,eps))/g4['NR']['tlive']\n",
    "    \n",
    "    \n",
    "    lY_max.append(Y_max)\n",
    "    fnr=6\n",
    "    fer=(R0_meas-fnr*R0_nr)/R0_er\n",
    "    fng=4#2.037+0.41\n",
    "\n",
    "    lfer.append(fer)\n",
    "    lfnr.append(fnr)\n",
    "    lfng.append(fng)\n",
    "    E_nrs,Ys,errors=extract_Y_wSmear_v2(E_er, E_nr, E_ng, fer, fnr, fng, Y_max=Y_max,\n",
    "                              nIt=nIt, Ebins=np.linspace(0,2e3,201), seed=None)\n",
    "    #If binning is too small, will get some errors and things won't work.\n",
    "    #Probably in bkg_sub, but not exactly sure\n",
    "    lE_nrs.append(E_nrs)\n",
    "    lYs.append(Ys)\n",
    "    lerrors.append(errors)\n",
    "\n",
    "lfer=np.array(lfer)\n",
    "lfnr=np.array(lfnr)\n",
    "lE_nrs=np.array(lE_nrs)\n",
    "lYs=np.array(lYs)\n",
    "lerrors=np.array(lerrors)"
   ]
  },
  {
   "cell_type": "code",
   "execution_count": 94,
   "metadata": {},
   "outputs": [
    {
     "name": "stderr",
     "output_type": "stream",
     "text": [
      "/home/gerudo7/anaconda3/lib/python3.7/site-packages/ipykernel_launcher.py:37: RuntimeWarning: invalid value encountered in true_divide\n"
     ]
    }
   ],
   "source": [
    "dosmear=True\n",
    "seed=None\n",
    "\n",
    "#Add other measurements from lit\n",
    "\n",
    "for E_nrs,Ys,fer,fnr,fng,nIt in zip(lE_nrs,lYs,lfer,lfnr,lfng,lnIt):\n",
    "    \n",
    "    cFit=(Ebin_ctr>50) & (E_nrs>0) & (np.isfinite(E_nrs)) & (np.insert(np.diff(E_nrs)>0,-1,True))\n",
    "    Y_fCS=lambda E: np.interp(E,E_nrs[cFit],Ys[cFit])\n",
    "    \n",
    "    #Smear\n",
    "    Y_fit = lambda E: Y_conditioned_test(E,Y_fCS,E_nrs[cFit],Ys[cFit])\n",
    "    \n",
    "    Y=Yield.Yield('User',[Y_fit])\n",
    "    \n",
    "    if nIt>0:\n",
    "        E_er_sm=spec.getSmeared(E_er,seed=seed)\n",
    "        E_er_sm[E_er_sm<0]=0\n",
    "        E_nr_eVee_sm=spec.getSmeared(NRtoER(E_nr,Y,V,eps),seed=seed)\n",
    "        E_nr_eVee_sm[E_nr_eVee_sm<0]=0\n",
    "        E_nr_sm=NRtoER(E_nr,Y,V,eps)\n",
    "        E_ng_eVee_sm=spec.getSmeared(NRtoER(E_ng,Y,V,eps),seed=seed)\n",
    "        E_ng_eVee_sm[E_ng_eVee_sm<0]=0\n",
    "    else:\n",
    "        E_er_sm=E_er\n",
    "        E_nr_eVee_sm=NRtoER(E_nr,Y,V,eps)\n",
    "        E_ng_eVee_sm=NRtoER(E_ng,Y,V,eps)\n",
    "    \n",
    "    C_er,_=np.histogram(E_er_sm,bins=Ebins)\n",
    "    R_er=fer*C_er/tlive_er\n",
    "    C_nr,_=np.histogram(E_nr_eVee_sm,bins=Ebins)\n",
    "    R_nr=fnr*C_nr/tlive_nr\n",
    "    C_ng,_=np.histogram(E_ng_eVee_sm,bins=Ebins)\n",
    "    R_ng=fng*C_ng/tlive_ng\n",
    "\n",
    "    R_tot=R_er+R_nr+R_ng\n",
    "    chi=np.mean((((R_tot-R_meas)/((dR_meas[0]+dR_meas[1])/2))**2)[Ebin_ctr>50])"
   ]
  },
  {
   "cell_type": "code",
   "execution_count": 95,
   "metadata": {},
   "outputs": [],
   "source": [
    "E_nrs=lE_nrs[4]\n",
    "Ys=lYs[4]\n",
    "\n",
    "cFit=(Ebin_ctr>50) & (E_nrs>0) & (np.isfinite(E_nrs)) & (np.insert(np.diff(E_nrs)>0,-1,True))\n",
    "Y_fCS=CubicSpline(E_nrs[cFit],Ys[cFit],extrapolate=True)\n",
    "Y_fCS=lambda E: np.interp(E,E_nrs[cFit],Ys[cFit])\n",
    "\n",
    "#Smear\n",
    "Y_fit = lambda E: Y_conditioned_test(E,Y_fCS,E_nrs[cFit],Ys[cFit])\n",
    "Y=Yield.Yield('User',[Y_fit])"
   ]
  },
  {
   "cell_type": "code",
   "execution_count": 96,
   "metadata": {},
   "outputs": [
    {
     "data": {
      "application/vnd.jupyter.widget-view+json": {
       "model_id": "2bf3e12a7b954dfe9ac2bc2d827ad9f8",
       "version_major": 2,
       "version_minor": 0
      },
      "text/plain": [
       "  0%|          | 0/10 [00:00<?, ?it/s]"
      ]
     },
     "metadata": {},
     "output_type": "display_data"
    }
   ],
   "source": [
    "lY_max=np.concatenate((np.linspace(0.2,0.3,5),np.linspace(0.2,0.3,5)))\n",
    "lfer=[]\n",
    "lfnr=[]\n",
    "lfng=np.concatenate(((2.037+0.408)*np.ones(5),(2.037-0.408)*np.ones(5)))\n",
    "lE_nrs=[]\n",
    "lYs=[]\n",
    "lerrors=[]\n",
    "\n",
    "for Y_max,fng in zip(tqdm(lY_max),lfng):\n",
    "    #Normalize near 2keV\n",
    "    R0_meas=np.sum(R_meas[(Ebin_ctr>1.99e3)&(Ebin_ctr<2e3)])\n",
    "    R0_er=Nint(E_er,1.99e3,2e3)/g4['ER']['tlive']\n",
    "    R0_nr=Nint(E_nr,ERtoNR(1.99e3,Y_max,V,eps),ERtoNR(2e3,Y_max,V,eps))/g4['NR']['tlive']\n",
    "\n",
    "    fer=(R0_meas)/(R0_er+R0_nr)\n",
    "    fnr=fer\n",
    "\n",
    "    lfer.append(fer)\n",
    "    lfnr.append(fnr)\n",
    "    \n",
    "    E_nrs,Ys,errors=extract_Y_wSmear_v2(E_er, E_nr, E_ng, fer, fnr, fng, Y_max=Y_max,\n",
    "                              nIt=1, Ebins=np.linspace(0,2e3,201), seed=0)\n",
    "    #If binning is too small, will get some errors and things won't work.\n",
    "    #Probably in bkg_sub, but not exactly sure\n",
    "    lE_nrs.append(E_nrs)\n",
    "    lYs.append(Ys)\n",
    "    lerrors.append(errors)\n",
    "\n",
    "lfer=np.array(lfer)\n",
    "lfnr=np.array(lfnr)\n",
    "lE_nrs=np.array(lE_nrs)\n",
    "lYs=np.array(lYs)\n",
    "lerrors=np.array(lerrors)"
   ]
  },
  {
   "cell_type": "code",
   "execution_count": 97,
   "metadata": {},
   "outputs": [
    {
     "name": "stderr",
     "output_type": "stream",
     "text": [
      "/home/gerudo7/anaconda3/lib/python3.7/site-packages/ipykernel_launcher.py:47: RuntimeWarning: invalid value encountered in true_divide\n"
     ]
    }
   ],
   "source": [
    "dosmear=True\n",
    "seed=0\n",
    "\n",
    "#Add other measurements from lit\n",
    "\n",
    "N=len(lE_nrs)\n",
    "for i in range(int(N/2)):    \n",
    "    \n",
    "    cFit1=(Ebin_ctr>50) &(lE_nrs[i]>0) & (np.isfinite(lE_nrs[i])) & (np.insert(np.diff(lE_nrs[i])>0,-1,True))\n",
    "    E_nrs1=lE_nrs[i][cFit1]\n",
    "    Ys1=lYs[i][cFit1]\n",
    "    Y_fCS1=CubicSpline(E_nrs1,Ys1,extrapolate=True)\n",
    "    \n",
    "    cFit2=(Ebin_ctr>50) &(lE_nrs[i+int(N/2)]>0) & (np.isfinite(lE_nrs[i+int(N/2)])) & (np.insert(np.diff(lE_nrs[i+int(N/2)])>0,-1,True))\n",
    "    E_nrs2=lE_nrs[i+int(N/2)][cFit2]\n",
    "    Ys2=lYs[i+int(N/2)][cFit2]\n",
    "    Y_fCS2=CubicSpline(E_nrs2,Ys2,extrapolate=True)\n",
    "    \n",
    "    #Smear\n",
    "    \n",
    "    Y_fit1 = lambda E: Y_conditioned(E,Y_fCS1,E_nrs1[0],Ys1[0],E_nrs1[-1],Ys1[-1])\n",
    "    Y1=Yield.Yield('User',[Y_fit1])\n",
    "    Y_fit2 = lambda E: Y_conditioned(E,Y_fCS2,E_nrs2[0],Ys2[0],E_nrs2[-1],Ys2[-1])\n",
    "    Y2=Yield.Yield('User',[Y_fit2])\n",
    "    \n",
    "    if dosmear:\n",
    "        E_er_sm=spec.getSmeared(E_er,seed=seed)\n",
    "        E_er_sm[E_er_sm<0]=0\n",
    "        E_nr_eVee_sm=spec.getSmeared(NRtoER(E_nr,Y1,V,eps),seed=seed)\n",
    "        E_nr_eVee_sm[E_nr_eVee_sm<0]=0\n",
    "        E_nr_sm=NRtoER(E_nr,Y1,V,eps)\n",
    "        E_ng_eVee_sm=spec.getSmeared(NRtoER(E_ng,Y1,V,eps),seed=seed)\n",
    "        E_ng_eVee_sm[E_ng_eVee_sm<0]=0\n",
    "    else:\n",
    "        E_er_sm=E_er\n",
    "        E_nr_eVee_sm=NRtoER(E_nr,Y1,V,eps)\n",
    "        E_ng_eVee_sm=NRtoER(E_ng,Y1,V,eps)\n",
    "    \n",
    "    C_er,_=np.histogram(E_er_sm,bins=Ebins)\n",
    "    R_er=lfer[i]*C_er/tlive_er\n",
    "    C_nr,_=np.histogram(E_nr_eVee_sm,bins=Ebins)\n",
    "    R_nr=lfnr[i]*C_nr/tlive_nr\n",
    "    C_ng,_=np.histogram(E_ng_eVee_sm,bins=Ebins)\n",
    "    R_ng=lfng[i]*C_ng/tlive_ng\n",
    "    \n",
    "    R_tot=R_er+R_nr+R_ng\n",
    "    chi=np.mean((((R_tot-R_meas)/((dR_meas[0]+dR_meas[1])/2))**2)[Ebin_ctr>50])"
   ]
  },
  {
   "cell_type": "code",
   "execution_count": 98,
   "metadata": {},
   "outputs": [],
   "source": [
    "izr=pt.get_old_Y_data()\n",
    "Y_izr_up=CubicSpline(izr['Enr'],izr['Y'],extrapolate=True)\n",
    "\n",
    "Y_fit = lambda E: Y_conditioned(E,Y_izr_up,izr['Enr'][0],(izr['Y'])[0],izr['Enr'][-1],(izr['Y'])[-1])\n",
    "Y=Yield.Yield('User',[Y_fit])\n",
    "xx=np.linspace(0,30e3,1000)"
   ]
  },
  {
   "cell_type": "raw",
   "metadata": {},
   "source": [
    "save = False\n",
    "try:\n",
    "    with open( \"data/cdf_results.p\", \"rb\" ) as file:\n",
    "        results = pickle.load( file )\n",
    "    lY_max=results['lY_max']\n",
    "    lfer=results['lfer']\n",
    "    lfnr=results['lfnr']\n",
    "    lfng=results['lfng']\n",
    "    lE_nrs=results['lE_nrs']\n",
    "    lYs=results['lYs']\n",
    "    lerrors=results['lerrors']\n",
    "except: \n",
    "    save = True"
   ]
  },
  {
   "cell_type": "code",
   "execution_count": 99,
   "metadata": {},
   "outputs": [
    {
     "data": {
      "application/vnd.jupyter.widget-view+json": {
       "model_id": "eb4d6f0db7a84c17b558fd50e6ad1f20",
       "version_major": 2,
       "version_minor": 0
      },
      "text/plain": [
       "  0%|          | 0/20 [00:00<?, ?it/s]"
      ]
     },
     "metadata": {},
     "output_type": "display_data"
    }
   ],
   "source": [
    "#Let's scan through a bunch of scalings and then only retain those which are consistent with Izr\n",
    "save = True\n",
    "\n",
    "if save:\n",
    "    lY_max=[]\n",
    "    lfer=[]\n",
    "    lfnr=[]\n",
    "    lfng=[]\n",
    "    lE_nrs=[]\n",
    "    lYs=[]\n",
    "    lerrors=[]\n",
    "\n",
    "    for Y_max in tqdm(np.linspace(0.25,0.29,20)):\n",
    "        for fnr in np.linspace(4,9,20):\n",
    "            for fng in [0,2.037+0.408,2.037-0.408]:\n",
    "\n",
    "                lY_max.append(Y_max)\n",
    "                #Normalize near 2keV\n",
    "                R0_meas=np.sum(R_meas[(Ebin_ctr>1.99e3)&(Ebin_ctr<2e3)])\n",
    "                R0_er=Nint(E_er,1.99e3,2e3)/g4['ER']['tlive']\n",
    "                R0_nr=Nint(E_nr,ERtoNR(1.99e3,Y_max,V,eps),ERtoNR(2e3,Y_max,V,eps))/g4['NR']['tlive']\n",
    "\n",
    "                fer=(R0_meas-fnr*R0_nr)/R0_er\n",
    "\n",
    "                lfer.append(fer)\n",
    "                lfnr.append(fnr)\n",
    "                lfng.append(fng)\n",
    "\n",
    "                E_nrs,Ys,errors=extract_Y_wSmear_v2(E_er, E_nr, E_ng, fer, fnr, fng, Y_max=Y_max,\n",
    "                                          nIt=1, Ebins=np.linspace(0,2e3,201), seed=0, F=0.1161)\n",
    "                #If binning is too small, will get some errors and things won't work.\n",
    "                #Probably in bkg_sub, but not exactly sure\n",
    "                lE_nrs.append(E_nrs)\n",
    "                lYs.append(Ys)\n",
    "                lerrors.append(errors)\n",
    "\n",
    "    lY_max=np.array(lY_max)\n",
    "    lfer=np.array(lfer)\n",
    "    lfnr=np.array(lfnr)\n",
    "    lfng=np.array(lfng)\n",
    "    lE_nrs=np.array(lE_nrs)\n",
    "    lYs=np.array(lYs)\n",
    "    lerrors=np.array(lerrors)\n",
    "    results={'lY_max':lY_max, 'lfer':lfer, 'lfnr':lfnr, 'lfng':lfng, 'lE_nrs':lE_nrs, 'lYs':lYs, 'lerrors':lerrors}\n",
    "    with open( \"data/cdf_results.p\", \"wb\" ) as file:\n",
    "        pickle.dump( results, file )"
   ]
  },
  {
   "cell_type": "code",
   "execution_count": 100,
   "metadata": {},
   "outputs": [],
   "source": [
    "#Find those which are consistent with Izr\n",
    "cgood=[]\n",
    "Y_1keV=[]\n",
    "for E_nrs,Ys in zip(lE_nrs,lYs):\n",
    "    Y=getYfitCond(E_nrs,Ys)\n",
    "    \n",
    "    cizr=izr['Enr']<E_nrs[-1]\n",
    "    Y_1keV.append(Y.calc(1e3))\n",
    "    \n",
    "    cgood.append(((np.abs(Y.calc(izr['Enr'])-izr['Y'])<1*izr['dY'])[cizr]).all())\n",
    "cgood=np.array(cgood)\n",
    "Y_1keV=np.array(Y_1keV)"
   ]
  },
  {
   "cell_type": "code",
   "execution_count": 101,
   "metadata": {},
   "outputs": [],
   "source": [
    "dosmear=True\n",
    "seed=0\n",
    "Fthis=0.1161\n",
    "\n",
    "#Add other measurements from lit\n",
    "\n",
    "for E_nrs,Ys,fer,fnr,fng,good in zip(lE_nrs,lYs,lfer,lfnr,lfng,cgood):\n",
    "    if not good:\n",
    "        continue\n",
    "    cFit=(Ebin_ctr>50) &(E_nrs>0) & (np.isfinite(E_nrs)) & (np.insert(np.diff(E_nrs)>0,-1,True))\n",
    "    Y_fCS=CubicSpline(E_nrs[cFit],Ys[cFit],extrapolate=True)\n",
    "    \n",
    "    if fng==0:\n",
    "        color='red'\n",
    "    else:\n",
    "        color='gray'\n",
    "    \n",
    "    #Smear\n",
    "    Y_fit = lambda E: Y_conditioned(E,Y_fCS,E_nrs[cFit][0],Ys[cFit][0],E_nrs[-1],Ys[-1])\n",
    "    Y=Yield.Yield('User',[Y_fit])\n",
    "    \n",
    "    if dosmear:\n",
    "        E_er_sm=spec.getSmeared(E_er,seed=seed,F=Fthis)\n",
    "        E_er_sm[E_er_sm<0]=0\n",
    "        E_nr_eVee_sm=spec.getSmeared(NRtoER(E_nr,Y,V,eps),seed=seed,F=Fthis)\n",
    "        E_nr_eVee_sm[E_nr_eVee_sm<0]=0\n",
    "        E_ng_eVee_sm=spec.getSmeared(NRtoER(E_ng,Y,V,eps),seed=seed,F=Fthis)\n",
    "        E_ng_eVee_sm[E_ng_eVee_sm<0]=0\n",
    "    else:\n",
    "        E_er_sm=E_er\n",
    "        E_nr_eVee_sm=NRtoER(E_nr,Y,V,eps)\n",
    "        E_ng_eVee_sm=NRtoER(E_ng,Y,V,eps)\n",
    "    \n",
    "    C_er,_=np.histogram(E_er_sm,bins=Ebins)\n",
    "    R_er=fer*C_er/tlive_er\n",
    "    C_nr,_=np.histogram(E_nr_eVee_sm,bins=Ebins)\n",
    "    R_nr=fnr*C_nr/tlive_nr\n",
    "    C_ng,_=np.histogram(E_ng_eVee_sm,bins=Ebins)\n",
    "    R_ng=fng*C_ng/tlive_ng"
   ]
  },
  {
   "cell_type": "code",
   "execution_count": 102,
   "metadata": {},
   "outputs": [],
   "source": [
    "#Pick mins and maxes at a given energy\n",
    "#This isn't quite right, since envelope is not jsut from a single curve\n",
    "\n",
    "ifng0=np.argwhere(cgood&(lfng==0))\n",
    "ifng0_min=ifng0[np.argmin(Y_1keV[ifng0])][0]\n",
    "ifng0_max=ifng0[np.argmax(Y_1keV[ifng0])][0]\n",
    "\n",
    "ifng=np.argwhere(cgood&(lfng!=0))\n",
    "ifng_min=ifng[np.argmin(Y_1keV[ifng])][0]\n",
    "ifng_max=ifng[np.argmax(Y_1keV[ifng])][0]"
   ]
  },
  {
   "cell_type": "code",
   "execution_count": 103,
   "metadata": {},
   "outputs": [],
   "source": [
    "dosmear=True\n",
    "seed=0\n",
    "Fthis=0.1161\n",
    "\n",
    "#Add other measurements from lit\n",
    "\n",
    "labels=[r'no (n,$\\gamma$)',r'with (n,$\\gamma$)']\n",
    "colors=['red','gray']\n",
    "\n",
    "for inds,label,color in zip([[ifng0_max,ifng0_min],[ifng_max,ifng_min]],labels,colors):\n",
    "#for E_nrs,Ys,fer,fnr,fng,good in zip(lE_nrs,lYs,lfer,lfnr,lfng,cgood):\n",
    "\n",
    "    i=inds[0]\n",
    "    j=inds[1]\n",
    "    \n",
    "    cFit1=(Ebin_ctr>50) &(lE_nrs[i]>0) & (np.isfinite(lE_nrs[i])) & (np.insert(np.diff(lE_nrs[i])>0,-1,True))\n",
    "    E_nrs1=lE_nrs[i][cFit1]\n",
    "    Ys1=lYs[i][cFit1]\n",
    "    Y_fCS1=CubicSpline(E_nrs1,Ys1,extrapolate=True)\n",
    "    \n",
    "    cFit2=(Ebin_ctr>50) &(lE_nrs[j]>0) & (np.isfinite(lE_nrs[j])) & (np.insert(np.diff(lE_nrs[j])>0,-1,True))\n",
    "    E_nrs2=lE_nrs[j][cFit2]\n",
    "    Ys2=lYs[j][cFit2]\n",
    "    Y_fCS2=CubicSpline(E_nrs2,Ys2,extrapolate=True)\n",
    "    \n",
    "    #Smear\n",
    "    Y_fit1 = lambda E: Y_conditioned(E,Y_fCS1,E_nrs1[0],Ys1[0],E_nrs1[-1],Ys1[-1])\n",
    "    Y1=Yield.Yield('User',[Y_fit1])\n",
    "    Y_fit2 = lambda E: Y_conditioned(E,Y_fCS2,E_nrs2[0],Ys2[0],E_nrs2[-1],Ys2[-1])\n",
    "    Y2=Yield.Yield('User',[Y_fit2])\n",
    "    \n",
    "    if dosmear:\n",
    "        E_er_sm=spec.getSmeared(E_er,seed=seed,F=Fthis)\n",
    "        E_er_sm[E_er_sm<0]=0\n",
    "        \n",
    "        E_nr_eVee_sm1=spec.getSmeared(NRtoER(E_nr,Y1,V,eps),seed=seed,F=Fthis)\n",
    "        E_nr_eVee_sm1[E_nr_eVee_sm1<0]=0\n",
    "        E_nr_eVee_sm2=spec.getSmeared(NRtoER(E_nr,Y2,V,eps),seed=seed,F=Fthis)\n",
    "        E_nr_eVee_sm2[E_nr_eVee_sm2<0]=0\n",
    "        \n",
    "        E_ng_eVee_sm1=spec.getSmeared(NRtoER(E_ng,Y1,V,eps),seed=seed,F=Fthis)\n",
    "        E_ng_eVee_sm1[E_ng_eVee_sm1<0]=0\n",
    "        E_ng_eVee_sm2=spec.getSmeared(NRtoER(E_ng,Y2,V,eps),seed=seed,F=Fthis)\n",
    "        E_ng_eVee_sm2[E_ng_eVee_sm2<0]=0\n",
    "    else:\n",
    "        E_er_sm=E_er\n",
    "        E_nr_eVee_sm1=NRtoER(E_nr,Y1,V,eps)\n",
    "        E_nr_eVee_sm2=NRtoER(E_nr,Y2,V,eps)\n",
    "        E_ng_eVee_sm1=NRtoER(E_ng,Y1,V,eps)\n",
    "        E_ng_eVee_sm2=NRtoER(E_ng,Y2,V,eps)\n",
    "    \n",
    "    C_er1,_=np.histogram(E_er_sm,bins=Ebins)\n",
    "    R_er1=lfer[i]*C_er1/tlive_er\n",
    "    C_er2,_=np.histogram(E_er_sm,bins=Ebins)\n",
    "    R_er2=lfer[j]*C_er2/tlive_er\n",
    "    \n",
    "    C_nr1,_=np.histogram(E_nr_eVee_sm1,bins=Ebins)\n",
    "    R_nr1=lfnr[i]*C_nr1/tlive_nr\n",
    "    C_nr2,_=np.histogram(E_nr_eVee_sm2,bins=Ebins)\n",
    "    R_nr2=lfnr[j]*C_nr2/tlive_nr\n",
    "    \n",
    "    C_ng1,_=np.histogram(E_ng_eVee_sm1,bins=Ebins)\n",
    "    R_ng1=lfng[i]*C_ng1/tlive_ng\n",
    "    C_ng2,_=np.histogram(E_ng_eVee_sm2,bins=Ebins)\n",
    "    R_ng2=lfng[j]*C_ng2/tlive_ng"
   ]
  },
  {
   "cell_type": "code",
   "execution_count": 104,
   "metadata": {},
   "outputs": [],
   "source": [
    "cut=cgood&(lfng!=0)\n",
    "ERenvData=getERminmax(lE_nrs[cut],lYs[cut],lfer[cut],lfnr[cut],lfng[cut])"
   ]
  },
  {
   "cell_type": "code",
   "execution_count": 105,
   "metadata": {},
   "outputs": [],
   "source": [
    "cut=cgood&(lfng!=0)\n",
    "cut=cgood&(lfng==0)\n",
    "\n",
    "#Add other measurements from lit\n",
    "ERenvData=getERminmax(lE_nrs[cut],lYs[cut],lfer[cut],lfnr[cut],lfng[cut])"
   ]
  },
  {
   "cell_type": "code",
   "execution_count": 106,
   "metadata": {},
   "outputs": [],
   "source": [
    "#Extract yield curve using the integral method\n",
    "#Treats each event as a single scatter of the total energy\n",
    "#fer: ER livetime factor\n",
    "#fnr: NR livetime factor\n",
    "#fng: NG livetime factor\n",
    "#Y_max: Yield value that corresponds to the highest bin edge of Ebins\n",
    "\n",
    "#v3: Separate ER and NR Fanos. Also allow smeared energies to be negative\n",
    "\n",
    "tlive_er=g4['ER']['tlive']\n",
    "tlive_nr=g4['NR']['tlive']\n",
    "tlive_ng=cap['tlive']"
   ]
  },
  {
   "cell_type": "code",
   "execution_count": 107,
   "metadata": {},
   "outputs": [],
   "source": [
    "#Find those which are consistent with Izr\n",
    "scanData['cgood']=[]\n",
    "scanData['IzrChi']=[]\n",
    "\n",
    "for i in zip(range(scanData['N'])):\n",
    "    Y=getYfitCond(scanData['lE_nrs'][i],scanData['lYs'][i])\n",
    "    cizr=izr['Enr']<scanData['lE_nrs'][i][-1]\n",
    "\n",
    "    scanData['IzrChi'].append(np.sum((((Y.calc(izr['Enr'])-izr['Y'])/izr['dY'])[cizr])**2))\n",
    "    scanData['cgood'].append(((np.abs(Y.calc(izr['Enr'])-izr['Y'])<1*izr['dY'])[cizr]).all())\n",
    "    \n",
    "scanData['cgood']=np.array(scanData['cgood'])\n",
    "scanData['IzrChi']=np.array(scanData['IzrChi'])"
   ]
  },
  {
   "cell_type": "code",
   "execution_count": 108,
   "metadata": {},
   "outputs": [
    {
     "data": {
      "image/png": "[encoded data removed]",
      "text/plain": [
       "<Figure size 1296x486 with 2 Axes>"
      ]
     },
     "metadata": {
      "needs_background": "light"
     },
     "output_type": "display_data"
    }
   ],
   "source": [
    "fig_w=9\n",
    "fig,axs=subplots(1,2,figsize=(2*fig_w, fig_w*(.75)))\n",
    "\n",
    "cut=scanData['cgood']&(scanData['lfng']==0)&(scanData['lFanoNR']==0.1161)\n",
    "\n",
    "iPlot=0\n",
    "\n",
    "#Best fit to Izr\n",
    "iBest=np.argwhere(cut)[:,0][np.argmin(scanData['IzrChi'][cut])]\n",
    "\n",
    "labels=[r'no (n,$\\gamma$)',r'with (n,$\\gamma$)']\n",
    "colors=['gray','green']\n",
    "\n",
    "#Add other measurements from lit\n",
    "pt.plotOldYs_noSat(axs[0],fmt='o',markersize=6)\n",
    "axs[0].fill(*getEYenvelope(scanData['lE_nrs'][cut],scanData['lYs'][cut],eVeeMin=70),\n",
    "            colors[iPlot],alpha=0.5,label=labels[iPlot])\n",
    "\n",
    "\n",
    "axs[0].plot(scanData['lE_nrs'][iBest][Ebin_ctr>70],scanData['lYs'][iBest][Ebin_ctr>70], colors[iPlot], linestyle='--')\n",
    "\n",
    "Yiso = lambda Enr,Eee: Eee/Enr*(1+eps/V)-eps/V\n",
    "axs[0].plot(np.logspace(-2,5,100),Yiso(np.logspace(-2,5,100),50),'--m')\n",
    "axs[0].plot(np.logspace(-2,5,100),Yiso(np.logspace(-2,5,100),2e3),'--m')\n",
    "\n",
    "axs[0].text(2e2,0.2,r'50 $eV_{ee}$',size=16,color='m',rotation=-72)\n",
    "axs[0].text(1e4,0.15,r'2 $keV_{ee}$',size=16,color='m',rotation=-65)\n",
    "\n",
    "axs[1].errorbar(Ebin_ctr[Ebin_ctr>50],R_meas[Ebin_ctr>50],(dR_meas.T[Ebin_ctr>50]).T,\n",
    "                ecolor='k', marker='o',markersize=6,color='k', linestyle='none',label='Measured',zorder=5)\n",
    "\n",
    "axs[0].set_prop_cycle(None)#Reset color cycle\n",
    "axs[1].set_prop_cycle(None)\n",
    "\n",
    "\n",
    "ERenvData=getERminmax_v3(scanData,cut,nAvg=1)\n",
    "ERmidData=getERminmax_v3(scanData,np.arange(len(scanData['lE_nrs']))==iBest,nAvg=5)#Cheat to get mid. min==max\n",
    "\n",
    "axs[1].step(ERmidData['eVee'],ERmidData['NR']['min'],color='r',where='mid')\n",
    "axs[1].step(ERmidData['eVee'],ERmidData['ER']['min'],color='k',where='mid')\n",
    "axs[1].step(ERmidData['eVee'],ERmidData['NG']['min'],color='b',where='mid')\n",
    "axs[1].step(ERmidData['eVee'],ERmidData['Total']['min'],color='g',where='mid')\n",
    "\n",
    "axs[1].fill_between(ERenvData['eVee'],ERenvData['NR']['min'],ERenvData['NR']['max'],color='r',alpha=0.5,step='mid',label='NR')\n",
    "axs[1].fill_between(ERenvData['eVee'],ERenvData['ER']['min'],ERenvData['ER']['max'],color='k',alpha=0.5,step='mid',label='ER')\n",
    "axs[1].fill_between(ERenvData['eVee'],ERenvData['NG']['min'],ERenvData['NG']['max'],color='b',alpha=0.5,step='mid',label=r'(n,$\\gamma)$')\n",
    "axs[1].fill_between(ERenvData['eVee'],ERenvData['Total']['min'],ERenvData['Total']['max'],color='g',alpha=0.5,step='mid',label='Total')\n",
    "\n",
    "axs[0].set_xlim(1e2,5e4);\n",
    "axs[0].set_xscale('log')\n",
    "axs[0].set_ylim(0,0.4)\n",
    "axs[0].yaxis.set_major_locator(plt.MultipleLocator(0.1))\n",
    "axs[0].set_xlabel('Energy [eVnr]')\n",
    "axs[0].set_ylabel('Y')\n",
    "axs[0].legend(loc='lower right',ncol=2,prop={'size': 16})\n",
    "\n",
    "axs[1].axvline(50,linestyle='--',color='m')\n",
    "\n",
    "axs[1].set_ylim(0,0.04)\n",
    "axs[1].yaxis.set_major_locator(plt.MultipleLocator(0.01))\n",
    "axs[1].set_xlim(0,1e3)\n",
    "axs[1].set_xlabel('Energy [eVee]')\n",
    "axs[1].set_ylabel('Rate [1/bin/s]')\n",
    "\n",
    "axs[1].legend(loc='upper right', prop={'size': 16})\n",
    "\n",
    "tight_layout()"
   ]
  },
  {
   "cell_type": "code",
   "execution_count": 109,
   "metadata": {},
   "outputs": [
    {
     "name": "stderr",
     "output_type": "stream",
     "text": [
      "/home/gerudo7/anaconda3/lib/python3.7/site-packages/ipykernel/ipkernel.py:287: DeprecationWarning: `should_run_async` will not call `transform_cell` automatically in the future. Please pass the result to `transformed_cell` argument and any exception that happen during thetransform in `preprocessing_exc_tuple` in IPython 7.17 and above.\n",
      "  and should_run_async(code)\n"
     ]
    }
   ],
   "source": [
    "#Extract yield curve using the integral method\n",
    "#Treats each event as a single scatter of the total energy\n",
    "#fer: ER livetime factor\n",
    "#fnr: NR livetime factor\n",
    "#fng: NG livetime factor\n",
    "#Y_max: Yield value that corresponds to the highest bin edge of Ebins\n",
    "\n",
    "#v3: Separate ER and NR Fanos. Also allow smeared energies to be negative\n",
    "#v4: Add dynamic smearing iteration. Stop if smeared matches measured via some measure of closeness.\n",
    "tlive_er=g4['ER']['tlive']\n",
    "tlive_nr=g4['NR']['tlive']\n",
    "tlive_ng=cap['tlive']"
   ]
  },
  {
   "cell_type": "raw",
   "metadata": {},
   "source": [
    "save = False\n",
    "try:\n",
    "    with open( \"data/R_Cal.p\", \"rb\" ) as file:\n",
    "        temp = pickle.load( file )\n",
    "    R_er = temp['R_er']\n",
    "    R_nr = temp['R_nr']\n",
    "    R_ng = temp['R_ng']\n",
    "    R_tot = temp['R_tot']\n",
    "    R_max = temp['R_max']\n",
    "    R_min = temp['R_min']\n",
    "except:\n",
    "    save = True"
   ]
  },
  {
   "cell_type": "code",
   "execution_count": 110,
   "metadata": {
    "tags": []
   },
   "outputs": [],
   "source": [
    "fig_w=9\n",
    "seed=0\n",
    "\n",
    "save = True\n",
    "\n",
    "#Tried speeding this up by only including the last entry as intermediate ones aren't saved\n",
    "#But that resulted in errors later on... :/\n",
    "if save:\n",
    "    for i in range(scanData['N']):\n",
    "        E_nrs=scanData['lE_nrs'][i]\n",
    "        Ys=scanData['lYs'][i]\n",
    "        fer=scanData['lfer'][i]\n",
    "        fnr=scanData['lfnr'][i]\n",
    "        fng=scanData['lfng'][i]\n",
    "        FanoER=scanData['lFanoER'][i]\n",
    "        FanoNR=scanData['lFanoNR'][i]\n",
    "\n",
    "        Y=getYfitCond_v4(E_nrs,Ys)\n",
    "\n",
    "        E_nr_eVee=NRtoER(E_nr,Y,V,eps)\n",
    "        E_ng_eVee=NRtoER(E_ng,Y,V,eps)\n",
    "\n",
    "        if nIt>0:\n",
    "            E_er_sm=spec.getSmeared(E_er,seed=seed,F=FanoER)\n",
    "            E_nr_eVee_sm=spec.getSmeared(NRtoER(E_nr,Y,V,eps),seed=seed,F=FanoNR)\n",
    "            E_ng_eVee_sm=spec.getSmeared(NRtoER(E_ng,Y,V,eps),seed=seed,F=FanoNR)\n",
    "        else:\n",
    "            E_er_sm=E_er\n",
    "            E_nr_eVee_sm=NRtoER(E_nr,Y,V,eps)\n",
    "            E_ng_eVee_sm=NRtoER(E_ng,Y,V,eps)\n",
    "\n",
    "\n",
    "        C_er,_=np.histogram(E_er_sm,bins=Ebins)\n",
    "        R_er=fer*C_er/tlive_er\n",
    "\n",
    "        C_nr,_=np.histogram(E_nr_eVee_sm,bins=Ebins)\n",
    "        R_nr=fnr*C_nr/tlive_nr\n",
    "\n",
    "        C_ng,_=np.histogram(E_ng_eVee_sm,bins=Ebins)\n",
    "        R_ng=fng*C_ng/tlive_ng\n",
    "\n",
    "        R_tot=R_er+R_nr+R_ng\n",
    "\n",
    "        R_max=R_meas[Ebin_ctr>50]+1*dR_meas[0][Ebin_ctr>50]\n",
    "        R_min=R_meas[Ebin_ctr>50]-1*dR_meas[1][Ebin_ctr>50]\n",
    "\n",
    "        with open( \"data/R_Cal.p\" , \"wb\" ) as file:\n",
    "            temp = {'R_er':R_er, 'R_nr':R_nr, 'R_ng':R_ng, 'R_tot':R_tot, 'R_max':R_max, 'R_min': R_min}\n",
    "            pickle.dump( temp, file )"
   ]
  },
  {
   "cell_type": "code",
   "execution_count": 111,
   "metadata": {},
   "outputs": [
    {
     "data": {
      "text/plain": [
       "895"
      ]
     },
     "execution_count": 111,
     "metadata": {},
     "output_type": "execute_result"
    }
   ],
   "source": [
    "#How many are a good match?\n",
    "np.sum(matchIzr_test)"
   ]
  },
  {
   "cell_type": "raw",
   "metadata": {},
   "source": [
    "#Save results\n",
    "save = False\n",
    "    \n",
    "try:\n",
    "    with open( \"data/intmeth_scan_v6.p\", \"rb\" ) as file:\n",
    "        scanData = pickle.load( file )\n",
    "except:\n",
    "    save = True"
   ]
  },
  {
   "cell_type": "code",
   "execution_count": 112,
   "metadata": {},
   "outputs": [],
   "source": [
    "#Find those which are consistent with Izr\n",
    "save = True\n",
    "\n",
    "if save:\n",
    "    scanData['cgood']=[]\n",
    "    scanData['IzrChi']=[]\n",
    "    scanData['Y1keV']=[]\n",
    "\n",
    "    for i in zip(range(scanData['N'])):\n",
    "        Y=getYfitCond_v4(scanData['lE_nrs'][i],scanData['lYs'][i])\n",
    "        cizr=izr['Enr']<scanData['lE_nrs'][i][-1]\n",
    "\n",
    "        scanData['Y1keV'].append(Y.calc(np.array([1e3])))\n",
    "        scanData['IzrChi'].append(np.sum((((Y.calc(izr['Enr'])-izr['Y'])/izr['dY'])[cizr])**2))\n",
    "        scanData['cgood'].append(((np.abs(Y.calc(izr['Enr'])-izr['Y'])<1*izr['dY'])[cizr]).all())\n",
    "\n",
    "    scanData['cgood']=np.array(scanData['cgood'])\n",
    "    scanData['IzrChi']=np.array(scanData['IzrChi'])\n",
    "    scanData['Y1keV']=np.array(scanData['Y1keV'])\n",
    "\n",
    "    with open( \"data/intmeth_scan_v6.p\", \"wb\" ) as file:\n",
    "            pickle.dump( scanData, file )"
   ]
  },
  {
   "cell_type": "raw",
   "metadata": {},
   "source": [
    "save = False\n",
    "\n",
    "try:\n",
    "    with open( \"data/collect.p\", \"rb\") as file:\n",
    "        temp = pickle.load(file)\n",
    "        EYenvelopes = temp['EYenvelopes']\n",
    "        ERenvData = temp['ERenvData']\n",
    "        ERmidData = temp['ERmidData']\n",
    "        iBest = temp['iBest']\n",
    "except:\n",
    "    save = True"
   ]
  },
  {
   "cell_type": "code",
   "execution_count": 113,
   "metadata": {},
   "outputs": [],
   "source": [
    "#Collect the things we want to plot since it can take a while\n",
    "save = True\n",
    "\n",
    "if save:\n",
    "    EYenvelopes=[]\n",
    "    ERenvData=[]\n",
    "    ERmidData=[]\n",
    "    iBest=[]\n",
    "\n",
    "    mask=np.zeros(len(cut),dtype=bool)\n",
    "    mask[:]=True\n",
    "\n",
    "    #No NG\n",
    "    cut_noNG=(scanData['cgood'])&(scanData['lfng']==0)&(scanData['lFanoNR']==0.1161)&(scanData['liIt']<=3)\n",
    "    cut_noNG&mask\n",
    "\n",
    "    iBest=np.argwhere(cut)[:,0][np.argmin(scanData['IzrChi'][cut])]#Best fit to Izr\n",
    "\n",
    "    EYenvelopes.append(getEYenvelope_v4(scanData['lE_nrs'][cut],scanData['lYs'][cut],eVeeMin=50))\n",
    "    #This part is slow, please be patient\n",
    "    ERenvData.append(getERminmax_v4(scanData,cut,nAvg=5))\n",
    "\n",
    "    #Cheat to get mid. min==max\n",
    "    ERmidData.append(getERminmax_v4(scanData,np.arange(len(scanData['lE_nrs']))==iBest,nAvg=5))\n",
    "\n",
    "    #With NG\n",
    "    cut_wNG=(scanData['cgood'])&(scanData['lfng']!=0)&(scanData['lFanoNR']==0.1161)&(scanData['liIt']<=3)\n",
    "    cut=cut_wNG&mask\n",
    "\n",
    "    iBest=np.argwhere(cut)[:,0][np.argmin(scanData['IzrChi'][cut])]#Best fit to Izr\n",
    "\n",
    "    EYenvelopes.append(getEYenvelope_v4(scanData['lE_nrs'][cut],scanData['lYs'][cut],eVeeMin=50))\n",
    "    ERenvData.append(getERminmax_v4(scanData,cut,nAvg=5))\n",
    "    #Cheat to get mid. min==max\n",
    "    ERmidData.append(getERminmax_v4(scanData,np.arange(len(scanData['lE_nrs']))==iBest,nAvg=5))\n",
    "    \n",
    "    with open( \"data/collect.p\", \"wb\") as file:\n",
    "        temp = {'EYenvelopes':EYenvelopes, 'ERenvData':ERenvData, 'ERmidData':ERmidData, 'iBest':iBest}\n",
    "        pickle.dump( temp, file )"
   ]
  },
  {
   "cell_type": "code",
   "execution_count": 114,
   "metadata": {},
   "outputs": [],
   "source": [
    "iBest=[]\n",
    "\n",
    "cut_noNG=(scanData['cgood'])&(scanData['lfng']==0)&(scanData['lFanoNR']==0.1161)&(scanData['liIt']<=3)\n",
    "cut=cut_noNG&mask\n",
    "\n",
    "iBest.append(np.argwhere(cut)[:,0][np.argmin(scanData['IzrChi'][cut])])\n",
    "\n",
    "cut_wNG=(scanData['cgood'])&(scanData['lfng']!=0)&(scanData['lFanoNR']==0.1161)&(scanData['liIt']<=3)\n",
    "cut=cut_wNG&mask\n",
    "\n",
    "iBest.append(np.argwhere(cut)[:,0][np.argmin(scanData['IzrChi'][cut])])\n"
   ]
  },
  {
   "cell_type": "code",
   "execution_count": 115,
   "metadata": {},
   "outputs": [
    {
     "data": {
      "image/png": "[encoded data removed]",
      "text/plain": [
       "<Figure size 1296x486 with 2 Axes>"
      ]
     },
     "metadata": {
      "needs_background": "light"
     },
     "output_type": "display_data"
    }
   ],
   "source": [
    "fig_w=9\n",
    "fig,axs=subplots(1,2,figsize=(2*fig_w, fig_w*(.75)))\n",
    "\n",
    "iPlot=1\n",
    "\n",
    "if iPlot==0:\n",
    "    cut=cut_noNG\n",
    "else:\n",
    "    cut=cut_wNG\n",
    "\n",
    "labels=[r'no (n,$\\gamma$)',r'with (n,$\\gamma$)']\n",
    "colors=['gray','green']\n",
    "\n",
    "#Add other measurements from lit\n",
    "pt.plotOldYs(axs[0],datasets=['chav','izr','dough','gerb','zech','agnese'],\n",
    "             labels=['Chavarria','Izraelevitch','Dougherty','Gerbier','Zecher','Agnese'],\n",
    "             fmt='o',markersize=6)\n",
    "\n",
    "axs[0].fill(*EYenvelopes[iPlot],colors[iPlot],alpha=0.5,label=labels[iPlot])\n",
    "\n",
    "axs[0].plot(scanData['lE_nrs'][iBest[iPlot]][Ebin_ctr>50],scanData['lYs'][iBest[iPlot]][Ebin_ctr>50], colors[iPlot],linestyle='--')\n",
    "\n",
    "axs[1].errorbar(Ebin_ctr[Ebin_ctr>50],R_meas[Ebin_ctr>50],(dR_meas.T[Ebin_ctr>50]).T,\n",
    "                ecolor='k', marker='o',markersize=6,color='k', linestyle='none',label='Measured',zorder=5)\n",
    "\n",
    "axs[0].set_prop_cycle(None)#Reset color cycle\n",
    "axs[1].set_prop_cycle(None)\n",
    "\n",
    "axs[1].step(ERmidData[iPlot]['eVee'],ERmidData[iPlot]['NR']['min'],color='r',where='mid')\n",
    "axs[1].step(ERmidData[iPlot]['eVee'],ERmidData[iPlot]['ER']['min'],color='k',where='mid')\n",
    "axs[1].step(ERmidData[iPlot]['eVee'],ERmidData[iPlot]['NG']['min'],color='b',where='mid')\n",
    "axs[1].step(ERmidData[iPlot]['eVee'],ERmidData[iPlot]['Total']['min'],color='g',where='mid')\n",
    "\n",
    "axs[1].fill_between(ERenvData[iPlot]['eVee'],ERenvData[iPlot]['NR']['min'],ERenvData[iPlot]['NR']['max'],color='r',alpha=0.5,step='mid',label='NR')\n",
    "axs[1].fill_between(ERenvData[iPlot]['eVee'],ERenvData[iPlot]['ER']['min'],ERenvData[iPlot]['ER']['max'],color='k',alpha=0.5,step='mid',label='ER')\n",
    "axs[1].fill_between(ERenvData[iPlot]['eVee'],ERenvData[iPlot]['NG']['min'],ERenvData[iPlot]['NG']['max'],color='b',alpha=0.5,step='mid',label=r'(n,$\\gamma)$')\n",
    "axs[1].fill_between(ERenvData[iPlot]['eVee'],ERenvData[iPlot]['Total']['min'],ERenvData[iPlot]['Total']['max'],color='g',alpha=0.5,step='mid',label='Total')\n",
    "\n",
    "\n",
    "#Analysis Range\n",
    "axs[1].axvline(50,linestyle='--',color='m',label='Threshold')\n",
    "\n",
    "Yiso = lambda Enr,Eee: Eee/Enr*(1+eps/V)-eps/V\n",
    "axs[0].plot(np.logspace(-2,5,100),Yiso(np.logspace(-2,5,100),50),'--m')\n",
    "axs[0].plot(np.logspace(-2,5,100),Yiso(np.logspace(-2,5,100),2e3),'--m')\n",
    "\n",
    "axs[0].text(2e2,0.2,r'50 $eV_{ee}$',size=16,color='m',rotation=-72)\n",
    "axs[0].text(1e4,0.15,r'2 $keV_{ee}$',size=16,color='m',rotation=-65)\n",
    "\n",
    "#Axes\n",
    "axs[0].set_xlim(1e2,5e4);\n",
    "axs[0].set_xscale('log')\n",
    "axs[0].set_ylim(0,0.4)\n",
    "axs[0].yaxis.set_major_locator(plt.MultipleLocator(0.1))\n",
    "axs[0].set_xlabel('Energy [eVnr]')\n",
    "axs[0].set_ylabel('Y')\n",
    "axs[0].legend(loc='lower right',ncol=2,prop={'size': 16})\n",
    "\n",
    "axs[1].set_ylim(0,0.04)\n",
    "axs[1].yaxis.set_major_locator(plt.MultipleLocator(0.01))\n",
    "axs[1].set_xlim(0,1e3)\n",
    "\n",
    "axs[1].set_xlabel('Energy [eVee]')\n",
    "axs[1].set_ylabel('Rate [1/bin/s]')\n",
    "\n",
    "axs[1].legend(loc='upper right', prop={'size': 16})\n",
    "\n",
    "tight_layout()"
   ]
  }
 ],
 "metadata": {
  "kernelspec": {
   "display_name": "Python 3",
   "language": "python",
   "name": "python3"
  },
  "language_info": {
   "codemirror_mode": {
    "name": "ipython",
    "version": 3
   },
   "file_extension": ".py",
   "mimetype": "text/x-python",
   "name": "python",
   "nbconvert_exporter": "python",
   "pygments_lexer": "ipython3",
   "version": "3.7.9"
  }
 },
 "nbformat": 4,
 "nbformat_minor": 4
}
