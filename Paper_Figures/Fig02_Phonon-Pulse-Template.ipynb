{
 "cells": [
  {
   "cell_type": "markdown",
   "metadata": {},
   "source": [
    "From code on a private computer (UMN linux): `/home/mastx027/cdms/analysis/run068/templates/final_template_plots.c`"
   ]
  },
  {
   "cell_type": "markdown",
   "metadata": {},
   "source": [
    "# Setup"
   ]
  },
  {
   "cell_type": "raw",
   "metadata": {},
   "source": [
    ".L /home/mastx027/cdms/analysis/root/analysisUtils.c\n",
    "\n",
    "gStyle->SetOptStat(0);\n",
    "gStyle->SetHistLineWidth(2);"
   ]
  },
  {
   "cell_type": "code",
   "execution_count": null,
   "metadata": {},
   "outputs": [],
   "source": [
    "from matplotlib.pyplot import *\n",
    "style.use('../mplstyles/stylelib/standard.mplstyle')\n",
    "import uproot\n",
    "import sys\n",
    "sys.path.append('../python/')\n",
    "from analysisUtils import * #.L /home/mastx027/cdms/analysisUtils.c\n",
    "\n",
    "#gStyle.SetOptStat(0);\n",
    "#gStyle.SetHistLineWidth(2)"
   ]
  },
  {
   "cell_type": "markdown",
   "metadata": {},
   "source": [
    "# Plot just PT template"
   ]
  },
  {
   "cell_type": "raw",
   "metadata": {},
   "source": [
    "TFile *fo = new TFile(\"templates/Z1_Templates_UMN_R68_n125_v9.root\",\"READ\");\n",
    "fo->cd(\"zip1\");\n",
    "\n",
    "//4:3 aspect ratio\n",
    "int ww=400\n",
    "TCanvas *c1 = new TCanvas(\"c1\",\"c1\",ww,ww*0.75)\n",
    "\n",
    "TH1D *hPT = rescaleX(PT,-400,0.8)\n",
    "hPT->SetLineColor(kBlack)\n",
    "hPT->SetLineWidth(2)\n",
    "hPT->SetTitle(\"PT Template;time [#mus];Amplitude\")\n",
    "hPT->SetAxisRange(-50,500)\n",
    "hPT->Draw()"
   ]
  },
  {
   "cell_type": "code",
   "execution_count": null,
   "metadata": {},
   "outputs": [],
   "source": [
    "TFile = uproot.open('templates/Z1_Templates_UMN_R68_n125_v9.root') #TFile *fo = new TFile(\"templates/Z1_Templates_UMN_R68_n125_v9.root\",\"READ\");\n",
    "print(TFile.keys())\n",
    "\n",
    "#fo->cd(\"zip1\")\n",
    "\n",
    "ww = 400 #int ww=400\n",
    "fig,ax = figure(figsize=(ww,ww*0.75)) #TCanvas *c1 = new TCanvas(\"c1\",\"c1\",ww,ww*0.75)\n",
    "#Not sure what \"c1\",\"c1\" does? Docs: https://root.cern.ch/doc/master/classTCanvas.html\n",
    "\n",
    "#TH1D *hPT = rescaleX(PT,-400,0.8)\n",
    "\n",
    "plot(,linewidth=2,color='black') #hPT -> SetLineColor(kBlack); hPT->SetLineWidth(2);\n",
    "fig.setTitle(\"PT Template; time [#mus];Amplitude\") #hPT->SetTitle(\"PT Template;time [#mus];Amplitude)\n",
    "ax.set_xlim([-50,500]) #hPT->SetAxisRange(-50,500)\n",
    "#Might need to do ylim also? Not sure\n",
    "\n",
    "show()"
   ]
  },
  {
   "cell_type": "markdown",
   "metadata": {},
   "source": [
    "# Plot a good fit to a pulse"
   ]
  },
  {
   "cell_type": "raw",
   "metadata": {},
   "source": [
    "TChain *z, *p;\n",
    "TChain *e;\n",
    "\n",
    "z=new TChain(\"rqDir/zip1\");\n",
    "e=new TChain(\"rqDir/eventTree\");\n",
    "p=new TChain(\"RawTraces\");\n",
    "z->AddFriend(e);\n",
    "z->AddFriend(p,\"p\");\n",
    "\n",
    "//TString directory=\"/data/chocula/fritts/data/k100proc/midasrq/byseries/\";\n",
    "TString directory=\"/data/chocula/k100/reprocessing/run068_1/midasrq/byseries/\";\n",
    "//PuBe data\n",
    "TString series[]={\"07180924_1710\"};//07180925_1329\"};\n",
    "int nSer=1;\n",
    "\n",
    "for(int i=0;i<nSer;i++){z->Add(Form(\"%s%s/umn*.root\",directory.Data(),series[i].Data()));e->Add(Form(\"%s%s/umn*.root\",directory.Data(),series[i].Data()));p->Add(Form(\"/home/mastx027/cdms/analysis/run068/trigger/%s_traces.root\",series[i].Data()));}\n",
    "\n",
    "z->GetEntries()\n",
    "p->GetEntries()"
   ]
  },
  {
   "cell_type": "code",
   "execution_count": null,
   "metadata": {},
   "outputs": [],
   "source": [
    "#z = new TChain(\"rqDir/zip1\");\n",
    "#e = new TChain(\"rqDir/eventTree\");\n",
    "#p=new TChain(\"RawTraces\");\n",
    "#z->AddFriend(e);\n",
    "#z->AddFriend(p,\"p\");\n",
    "\n",
    "directory = 'data/byseries' #TString directory='/data/chocula/k100/reprocessing/run068_1/midasrq/byseries/'\n",
    "series = ['07180924_1710'] #TString series[]={\"07180924_1710\"};//07180925_1329\"};\n",
    "nSer = 1 #int nSer=1;\n",
    "\n",
    "i = 0\n",
    "while i<nSer: #for(int i=0;i<nSer;i++){\n",
    "    #z->Add(Form(\"%s%s/umn*.root\",directory.Data(),series[i].Data()));\n",
    "    #e->Add(Form(\"%s%s/umn*.root\",directory.Data(),series[i].Data()));\n",
    "    #p->Add(Form(\"/home/mastx027/cdms/analysis/run068/trigger/%s_traces.root\",series[i].Data()));}\n",
    "    i++    "
   ]
  },
  {
   "cell_type": "markdown",
   "metadata": {},
   "source": [
    "## Cuts"
   ]
  },
  {
   "cell_type": "raw",
   "metadata": {},
   "source": [
    "TCut crand = \"EventCategory\";\n",
    "TCut cBShi=\"PFbs-PFbsmean>1500\";\n",
    "TCut cFstd=\"PFstd<2.5e-7\";\n",
    "TCut cofdel=\"(PTOFdelay<23e-6 && PTOFdelay>-74e-6)\";\n",
    "TCut cofwktiming = \"(PTOFdelay*1e6<PTWKr50*1e6-390 && PTOFdelay*1e6>PTWKr50*1e6-470)\";\n",
    "TCut cglitch = \"1e6*(PTWKf20-PTWKr100)<12\";\n",
    "TCut cspikey = \"1e6*(PTWKf20-PTWKr100)<35\";\n",
    "TCut cchit = \"PTOFchisq<(PTOFamps>6e-6)*((PTOFamps-6e-6)/3e-8)**2+PTOFamps/2e-9+5e3\";\n",
    "\n",
    "z->SetAlias(\"PTINTall_PTdbscorr\",\"PTINTall-(PTdbs<0)*0.5*(PTdbs*4096./PAnorm)\")\n",
    "z->SetAlias(\"PTINTall_PTdbscorr_bscorr\",\"PTINTall_PTdbscorr*(1.+0.20*(PFbs-PFbsmean)/2e3)\")\n",
    "\n",
    "TCut cofintHi_PuBe=\"PTINTall_PTdbscorr_bscorr> (PTOFamps>9.59954e-06)*1.22032e+07*(PTOFamps-9.59954e-06)**2+171.253*PTOFamps+1e-4\"\n",
    "\n",
    "TCut cnopulsepus=cofdel&&!cofintHi_PuBe&&cofwktiming"
   ]
  },
  {
   "cell_type": "code",
   "execution_count": null,
   "metadata": {},
   "outputs": [],
   "source": [
    "crand = \"EventCategory\" #TCut crand = \"EventCategory\";\n",
    "cBShi=\"PFbs-PFbsmean>1500\" #TCut cBShi=\"PFbs-PFbsmean>1500\";\n",
    "cFstd=\"PFstd<2.5e-7\" #TCut cFstd=\"PFstd<2.5e-7\";\n",
    "cofdel=\"(PTOFdelay<23e-6 && PTOFdelay>-74e-6)\" #TCut cofdel=\"(PTOFdelay<23e-6 && PTOFdelay>-74e-6)\";\n",
    "cofwktiming = \"(PTOFdelay*1e6<PTWKr50*1e6-390 && PTOFdelay*1e6>PTWKr50*1e6-470)\" #TCut cofwktiming = \"(PTOFdelay*1e6<PTWKr50*1e6-390 && PTOFdelay*1e6>PTWKr50*1e6-470)\";\n",
    "cglitch = \"1e6*(PTWKf20-PTWKr100)<12\" #TCut cglitch = \"1e6*(PTWKf20-PTWKr100)<12\";\n",
    "cspikey = \"1e6*(PTWKf20-PTWKr100)<35\" #TCut cspikey = \"1e6*(PTWKf20-PTWKr100)<35\";\n",
    "cchit = \"PTOFchisq<(PTOFamps>6e-6)*((PTOFamps-6e-6)/3e-8)**2+PTOFamps/2e-9+5e3\" #TCut cchit = \"PTOFchisq<(PTOFamps>6e-6)*((PTOFamps-6e-6)/3e-8)**2+PTOFamps/2e-9+5e3\";\n",
    "\n",
    "#z->SetAlias(\"PTINTall_PTdbscorr\",\"PTINTall-(PTdbs<0)*0.5*(PTdbs*4096./PAnorm)\")\n",
    "#z->SetAlias(\"PTINTall_PTdbscorr_bscorr\",\"PTINTall_PTdbscorr*(1.+0.20*(PFbs-PFbsmean)/2e3)\")\n",
    "\n",
    "cofintHi_PuBe=\"PTINTall_PTdbscorr_bscorr> (PTOFamps>9.59954e-06)*1.22032e+07*(PTOFamps-9.59954e-06)**2+171.253*PTOFamps+1e-4\" #TCut TCut cofintHi_PuBe=\"PTINTall_PTdbscorr_bscorr> (PTOFamps>9.59954e-06)*1.22032e+07*(PTOFamps-9.59954e-06)**2+171.253*PTOFamps+1e-4\" #TCut cofintHi_PuBe=\"PTINTall_PTdbscorr_bscorr> (PTOFamps>9.59954e-06)*1.22032e+07*(PTOFamps-9.59954e-06)**2+171.253*PTOFamps+1e-4\" #TCut TCut cofintHi_PuBe=\"PTINTall_PTdbscorr_bscorr> (PTOFamps>9.59954e-06)*1.22032e+07*(PTOFamps-9.59954e-06)**2+171.253*PTOFamps+1e-4\";\n",
    "\n",
    "cnopulsepus=cofdel&&!cofintHi_PuBe&&cofwktiming #TCut cnopulsepus=cofdel&&!cofintHi_PuBe&&cofwktiming"
   ]
  },
  {
   "cell_type": "markdown",
   "metadata": {},
   "source": [
    "## Calibration"
   ]
  },
  {
   "cell_type": "raw",
   "metadata": {},
   "source": [
    "float line14 = 13.95, line18 = 17.74;//[keV]\n",
    "float peak14 = 1.11291e-05, peak18 = 1.30754e-05;//OFamps\n",
    "\n",
    "float pquad = (peak18*line14-peak14*line18)/(peak18*peak14**2-peak14*peak18**2);\n",
    "float plin = (peak14**2*line18-peak18**2*line14)/(peak18*peak14**2-peak14*peak18**2);\n",
    "z->SetAlias(\"PTOFkeV\",Form(\"%e*PTOFamps+%e*PTOFamps**2\",plin,pquad));"
   ]
  },
  {
   "cell_type": "code",
   "execution_count": null,
   "metadata": {},
   "outputs": [],
   "source": [
    "line14 = 13.95; line18 = 17.74 #float line14 = 13.95, line18 = 17.74;//[keV]\n",
    "peak14 = 1.11291e-05; peak18 = 1.30754e-05#float peak14 = 1.11291e-05, peak18 = 1.30754e-05;//OFamps\n",
    "\n",
    "pquad = (peak18*line14-peak14*line18)/(peak18*peak14**2-peak14*peak18**2) #float pquad = (peak18*line14-peak14*line18)/(peak18*peak14**2-peak14*peak18**2);\n",
    "plin = (peak14**2*line18-peak18**2*line14)/(peak18*peak14**2-peak14*peak18**2) #float plin = (peak14**2*line18-peak18**2*line14)/(peak18*peak14**2-peak14*peak18**2);\n",
    "#z->SetAlias(\"PTOFkeV\",Form(\"%e*PTOFamps+%e*PTOFamps**2\",plin,pquad));"
   ]
  },
  {
   "cell_type": "markdown",
   "metadata": {},
   "source": [
    "## Load Pulses"
   ]
  },
  {
   "cell_type": "raw",
   "metadata": {},
   "source": [
    "TString names[]={\"PA\",\"PB\",\"PC\",\"PD\",\"PE\",\"PF\",\"PT\"};\n",
    "\n",
    "Double_t bs[7]={0,0,0,0,0,0,0};\n",
    "TH1D *rawPulse[7]={0,0,0,0,0,0,0};\n",
    "TH1D *temp[7]={0,0,0,0,0,0,0};\n",
    "\n",
    "for(Int_t i=0;i<6;i++){z->SetBranchAddress(names[i],&rawPulse[i]);}\n",
    "for(Int_t i=0;i<6;i++){z->SetBranchAddress(names[i]+\"bs\",&bs[i]);}"
   ]
  },
  {
   "cell_type": "code",
   "execution_count": null,
   "metadata": {},
   "outputs": [],
   "source": [
    "names = [\"PA\",\"PB\",\"PC\",\"PD\",\"PE\",\"PF\",\"PT\"] #TString names[]={\"PA\",\"PB\",\"PC\",\"PD\",\"PE\",\"PF\",\"PT\"};\n",
    "\n",
    "bs = [0,0,0,0,0,0,0] #Double_t bs[7]={0,0,0,0,0,0,0};\n",
    "rawPulse = [0,0,0,0,0,0,0] #TH1D *rawPulse[7]={0,0,0,0,0,0,0};\n",
    "temp = [0,0,0,0,0,0,0] #TH1D *temp[7]={0,0,0,0,0,0,0};\n",
    "\n",
    "i = 0\n",
    "while i<6:#for(Int_t i=0;i<6;i++){\n",
    "    #z->SetBranchAddress(names[i],&rawPulse[i]);}\n",
    "    i++\n",
    "\n",
    "while i<6:#for(Int_t i=0;i<6;i++){\n",
    "    #z->SetBranchAddress(names[i]+\"bs\",&bs[i]);}\n",
    "    i++"
   ]
  },
  {
   "cell_type": "raw",
   "metadata": {},
   "source": [
    "//RCs from Matt's analysis\n",
    "//v9\n",
    "double PTrc[6]={1.128, 1.323, 0.732, 1.24, 0.929, 0.647}\n",
    "\n",
    "//Generate good event lists\n",
    "//z->Draw(\">>elist2\",cgood&&\"PTOFkeV>0.45&&PTOFkeV<0.55\")\n",
    "z->Draw(\">>elist2\",!crand&&cchit&&\"PTOFkeV>100e-3&&PTOFkeV<150e-3\")\n",
    "//z->GetEntry(elist2->GetEntry(1));\n",
    "\n",
    "//z->Scan(\"PFbs-PFbspost:PTOFkeV\",!crand&&cchit&&\"PTOFkeV<100e-3&&PTOFkeV>50e-3&&PFbs-PFbspost<5\")\n",
    "\n",
    "int iEntry=36046 //0.46 keV\n",
    "z->GetEntry(iEntry)\n",
    "//z->GetEntry(63104)//86 eV, okay\n",
    "//z->GetEntry(34779)//43 eV, okay\n",
    "//z->GetEntry(53495)//94 eV, decent\n",
    "\n",
    "\n",
    "//flat bs subtract, zero first 8 bins, and scale by PT weighting\n",
    "for(int iChan=0;iChan<6;iChan++){BSsubtract(rawPulse[iChan],bs[iChan]);zeroFirst8(rawPulse[iChan]);rawPulse[iChan]->Scale(PTrc[iChan]);}\n",
    "//build PT\n",
    "rawPulse[6]=(TH1D*)rawPulse[0]->Clone();\n",
    "rawPulse[6]->SetTitle(\"PT\");rawPulse[6]->SetName(\"PT\");\n",
    "for(int iChan=1;iChan<6;iChan++){rawPulse[6]->Add(rawPulse[iChan]);}\n",
    "\n",
    "TH1D *hPTraw = rescaleX(rawPulse[6],-400,0.8)\n",
    "\n",
    "bool ADC=true //Plot in ADC units as opposed to \"amps\""
   ]
  },
  {
   "cell_type": "code",
   "execution_count": null,
   "metadata": {},
   "outputs": [],
   "source": [
    "PTrc=[1.128, 1.323, 0.732, 1.24, 0.929, 0.647] #double PTrc[6]={1.128, 1.323, 0.732, 1.24, 0.929, 0.647}\n",
    "\n",
    "#z->Draw(\">>elist2\",!crand&&cchit&&\"PTOFkeV>100e-3&&PTOFkeV<150e-3\")\n",
    "\n",
    "iEntry=36046 #0.46 keV\n",
    "#z->GetEntry(iEntry)\n",
    "\n",
    "#flat bs subtract, zero first 8 bins, and scale by PT weighting\n",
    "iChan = 0\n",
    "while i<6:#for(int iChan=0;iChan<6;iChan++){\n",
    "    #BSsubtract(rawPulse[iChan],bs[iChan]);\n",
    "    #zeroFirst8(rawPulse[iChan]);\n",
    "    #rawPulse[iChan]->Scale(PTrc[iChan]);}\n",
    "    iChan++\n",
    "#build PT\n",
    "#rawPulse[6]=(TH1D*)rawPulse[0]->Clone();\n",
    "#rawPulse[6]->SetTitle(\"PT\");rawPulse[6]->SetName(\"PT\");\n",
    "iChan=1\n",
    "while iChan<6:#for(int iChan=1;iChan<6;iChan++){\n",
    "    #rawPulse[6]->Add(rawPulse[iChan]);}\n",
    "    iChan++\n",
    "\n",
    "#TH1D *hPTraw = rescaleX(rawPulse[6],-400,0.8)\n",
    "\n",
    "ADC = True #bool ADC=true //Plot in ADC units as opposed to \"amps\""
   ]
  },
  {
   "cell_type": "raw",
   "metadata": {},
   "source": [
    "//Scale by (incorrect) normalization to amps\n",
    "norm = z->GetLeaf(\"PAnorm\")->GetValue()\n",
    "\n",
    "if(!ADC){hPTraw->Scale(1e6/norm);}\n",
    "\n",
    "TH1D *hPT = rescaleX(PT,-400,0.8)\n",
    "hPT->SetLineColor(kBlack)\n",
    "hPT->SetLineWidth(2)\n",
    "OFamps=z->GetLeaf(\"PTOFamps\")->GetValue()\n",
    "\n",
    "if(!ADC){hPT->Scale(OFamps*1e6);}else{hPT->Scale(OFamps*norm);}\n",
    "\n",
    "shiftTrace(hPT,int((z->GetLeaf(\"PTOFdelay\")->GetValue())/0.8e-6))\n",
    "\n",
    "//Get OFkeV\n",
    "z->Draw(\"PTOFkeV\",Form(\"Entry$==%i\",iEntry))\n",
    "double OFenergy=z->GetV1()[0]"
   ]
  },
  {
   "cell_type": "code",
   "execution_count": null,
   "metadata": {},
   "outputs": [],
   "source": [
    "#//Scale by (incorrect) normalization to amps\n",
    "#norm = z->GetLeaf(\"PAnorm\")->GetValue()\n",
    "\n",
    "if !ADC: #if(!ADC){\n",
    "    #hPTraw->Scale(1e6/norm);}\n",
    "\n",
    "#TH1D *hPT = rescaleX(PT,-400,0.8)\n",
    "#hPT->SetLineColor(kBlack)\n",
    "#hPT->SetLineWidth(2)\n",
    "#OFamps=z->GetLeaf(\"PTOFamps\")->GetValue()\n",
    "\n",
    "if !ADC: #if(!ADC){\n",
    "    #hPT->Scale(OFamps*1e6);}else{hPT->Scale(OFamps*norm);}\n",
    "\n",
    "#shiftTrace(hPT,int((z->GetLeaf(\"PTOFdelay\")->GetValue())/0.8e-6))\n",
    "\n",
    "#//Get OFkeV\n",
    "#z->Draw(\"PTOFkeV\",Form(\"Entry$==%i\",iEntry))\n",
    "#double OFenergy=z->GetV1()[0]"
   ]
  },
  {
   "cell_type": "raw",
   "metadata": {},
   "source": [
    "//Pretty plot\n",
    "hPTraw->SetLineColor(kBlack)\n",
    "hPTraw->SetLineWidth(2)\n",
    "if(!ADC){hPTraw->SetTitle(\";time [#mus];Amplitude [#muA]\");}else{hPTraw->SetTitle(\";time [#mus];Amplitude [ADC]\");}\n",
    "hPTraw->GetXaxis()->CenterTitle()\n",
    "hPTraw->GetXaxis()->SetTitleSize(0.05)\n",
    "hPTraw->GetXaxis()->SetTitleOffset(0.95)\n",
    "hPTraw->GetYaxis()->CenterTitle()\n",
    "hPTraw->GetYaxis()->SetTitleSize(0.05)\n",
    "hPTraw->GetYaxis()->SetTitleOffset(0.92)\n",
    "hPTraw->SetAxisRange(-200,800)\n",
    "hPT->SetAxisRange(-200,800)\n",
    "\n",
    "//Just draw the axis first\n",
    "hPTraw->SetLineWidth(1)\n",
    "hPTraw->Draw()\n",
    "\n",
    "//Include OF delay window on bottom layer\n",
    "TLine *l1 = new TLine()\n",
    "l1->SetLineColor(kBlue)\n",
    "l1->SetLineWidth(3)\n",
    "l1->DrawLine(-75,c1->GetUymin(),-75,c1->GetUymax())\n",
    "l1->DrawLine(25,c1->GetUymin(),25,c1->GetUymax())\n",
    "\n",
    "TBox *b1 = new TBox(-75,c1->GetUymin(),25,c1->GetUymax())\n",
    "b1->SetFillStyle(3005)\n",
    "//gStyle->SetHatchesLineWidth(2)\n",
    "//b1->SetFillStyle(3945)\n",
    "b1->SetFillColor(kBlue)\n",
    "//b1->Draw(\"same\")\n",
    "\n",
    "//Then draw pulses\n",
    "hPTraw->SetLineWidth(2)\n",
    "hPTraw->Draw(\"same\")\n",
    "hPT->SetLineColor(kRed)\n",
    "hPT->SetLineStyle(7)\n",
    "hPT->SetLineWidth(3)\n",
    "hPT->Draw(\"same\")\n",
    "\n",
    "TLegend *leg = new TLegend(0.6,0.6,0.9,0.9)\n",
    "leg->AddEntry(hPTraw,\"Raw PT\",\"L\")\n",
    "//leg->AddEntry(hPT,Form(\"OF fit, %i eVee\",int(1e3*OFenergy)),\"L\")\n",
    "leg->AddEntry(hPT,\"OF fit\",\"L\")\n",
    "//leg->AddEntry(b1,\"OFdelay window\",\"F\")\n",
    "leg->AddEntry(l1,\"OFdelay window\",\"L\")\n",
    "leg->Draw(\"same\")\n",
    "\n",
    "//c1->SaveAs(\"/home/mast/cdms/analysis/run068/images/paper/r68_n125_PT_template_egfit.eps\")\n",
    "//c1->SaveAs(\"/home/mast/cdms/analysis/run068/images/paper/r68_n125_PT_template_egfit.pdf\")\n",
    "\n",
    "//c1->SaveAs(\"/home/mastx027/cdms/analysis/run068/images/paper/r68_n125_PT_template_egfit.png\")\n",
    "//c1->SaveAs(\"/home/mastx027/cdms/analysis/run068/images/paper/r68_n125_PT_template_egfit.eps\")\n",
    "//c1->SaveAs(\"/home/mastx027/cdms/analysis/run068/images/paper/r68_n125_PT_template_egfit.pdf\")\n",
    "\n",
    "c1->SaveAs(\"/home/mastx027/cdms/analysis/run068/images/paper/r68_n125_PT_template_egfit_noNRG.png\")\n",
    "c1->SaveAs(\"/home/mastx027/cdms/analysis/run068/images/paper/r68_n125_PT_template_egfit_noNRG.eps\")\n",
    "c1->SaveAs(\"/home/mastx027/cdms/analysis/run068/images/paper/r68_n125_PT_template_egfit_noNRG.pdf\")\n",
    "c1->SaveAs(\"/home/mastx027/cdms/analysis/run068/images/paper/r68_n125_PT_template_egfit_noNRG.root\")"
   ]
  },
  {
   "cell_type": "code",
   "execution_count": null,
   "metadata": {},
   "outputs": [],
   "source": [
    "#//Pretty plot\n",
    "\n",
    "fig = figure()\n",
    "\n",
    "if !ADC:#if(!ADC){\n",
    "    fig.set_xlabel(\"time [#mus]\") #hPTraw->SetTitle(\";time [#mus];\n",
    "    fig.set_ylabel(\"Amplitude [#muA]\") #Amplitude [#muA]\");}\n",
    "else:#else{\n",
    "    fig.set_xlabel(\"time [#mus]\")#hPTraw->SetTitle(\";time [#mus];\n",
    "    fig.set_ylabel(\"Amplitude [ADC]\")#Amplitude [ADC]\");}\n",
    "title.fontsize=(5) #hPTraw->GetXaxis()->SetTitleSize(0.05)\n",
    "\n",
    "fig.set_xlim([-200,800]) #hPTraw->SetAxisRange(-200,800); hPT->SetAxisRange(-200,800)\n",
    "\n",
    "#//Just draw the axis first\n",
    "#hPTraw->SetLineWidth(1)\n",
    "plot(,color='black',linewidth='2') #hPTraw->SetLineColor(kBlack); hPTraw->SetLineWidth(2); hPTraw->Draw()\n",
    "\n",
    "#//Include OF delay window on bottom layer\n",
    "#TLine *l1 = new TLine()\n",
    "\n",
    "plot(color='blue',linewidth=3) #l1->SetLineColor(kBlue); l1->SetLineWidth(3)\n",
    "#l1->DrawLine(-75,c1->GetUymin(),-75,c1->GetUymax())\n",
    "#l1->DrawLine(25,c1->GetUymin(),25,c1->GetUymax())\n",
    "\n",
    "#TBox *b1 = new TBox(-75,c1->GetUymin(),25,c1->GetUymax())\n",
    "fill_between(color='blue') #b1->SetFillColor(kBlue)\n",
    "\n",
    "#//Then draw pulses\n",
    "plot(color='red',linewidth=2) #hPTraw->SetLineWidth(2)\n",
    "#hPTraw->Draw(\"same\")\n",
    "plot(color='red',linewidth=3) #hPT->SetLineColor(kRed); hPT->SetLineWidth(3)\n",
    "#hPT->Draw(\"same\")\n",
    "\n",
    "legend(labels=[\"Raw PT\", \"OF fit\", \"OFdelay window\"])#TLegend *leg = new TLegend(0.6,0.6,0.9,0.9); leg->AddEntry(hPTraw,\"Raw PT\",\"L\"); leg->AddEntry(hPT,\"OF fit\",\"L\"); leg->AddEntry(l1,\"OFdelay window\",\"L\"); \n",
    "\n",
    "savefig('figures/r68_n125_PT_template_egfit_noNRG.pdf')#c1->SaveAs(\"/home/mastx027/cdms/analysis/run068/images/paper/r68_n125_PT_template_egfit_noNRG.pdf\")\n",
    "show()#leg->Draw(\"same\")"
   ]
  }
 ],
 "metadata": {
  "kernelspec": {
   "display_name": "Python 3",
   "language": "python",
   "name": "python3"
  },
  "language_info": {
   "codemirror_mode": {
    "name": "ipython",
    "version": 3
   },
   "file_extension": ".py",
   "mimetype": "text/x-python",
   "name": "python",
   "nbconvert_exporter": "python",
   "pygments_lexer": "ipython3",
   "version": "3.7.9"
  }
 },
 "nbformat": 4,
 "nbformat_minor": 4
}
