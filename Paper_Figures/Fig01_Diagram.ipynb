{
 "cells": [
  {
   "cell_type": "markdown",
   "id": "fd3295a7-5437-4f4b-a865-e2629d177f69",
   "metadata": {},
   "source": [
    "(From a private presentation.)"
   ]
  },
  {
   "cell_type": "markdown",
   "id": "04d2031c-f616-49f0-b803-a7a334ca093a",
   "metadata": {},
   "source": [
    "![Fig01](figures/Fig01_Copy.svg)"
   ]
  }
 ],
 "metadata": {
  "kernelspec": {
   "display_name": "Python 3",
   "language": "python",
   "name": "python3"
  },
  "language_info": {
   "codemirror_mode": {
    "name": "ipython",
    "version": 3
   },
   "file_extension": ".py",
   "mimetype": "text/x-python",
   "name": "python",
   "nbconvert_exporter": "python",
   "pygments_lexer": "ipython3",
   "version": "3.6.9"
  }
 },
 "nbformat": 4,
 "nbformat_minor": 5
}
