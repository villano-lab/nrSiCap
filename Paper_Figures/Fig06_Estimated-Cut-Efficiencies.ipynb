{
 "cells": [
  {
   "cell_type": "markdown",
   "metadata": {},
   "source": [
    "From `analysis_notebooks/R68_eff_plot.ipynb`"
   ]
  },
  {
   "cell_type": "code",
   "execution_count": 1,
   "metadata": {},
   "outputs": [
    {
     "data": {
      "text/html": [
       "<style>.container { width:100% !important; }</style>"
      ],
      "text/plain": [
       "<IPython.core.display.HTML object>"
      ]
     },
     "metadata": {},
     "output_type": "display_data"
    },
    {
     "name": "stdout",
     "output_type": "stream",
     "text": [
      "../mplstyles\n",
      "3.4.2\n",
      "/mnt/d/git/R68_paper2019/mplstyles\n"
     ]
    },
    {
     "ename": "ModuleNotFoundError",
     "evalue": "No module named 'R68_efficiencies'",
     "output_type": "error",
     "traceback": [
      "\u001b[0;31m---------------------------------------------------------------------------\u001b[0m",
      "\u001b[0;31mModuleNotFoundError\u001b[0m                       Traceback (most recent call last)",
      "\u001b[0;32m<ipython-input-1-3ba94d3b2adb>\u001b[0m in \u001b[0;36m<module>\u001b[0;34m\u001b[0m\n\u001b[1;32m     10\u001b[0m \u001b[0mstyle\u001b[0m\u001b[0;34m.\u001b[0m\u001b[0muse\u001b[0m\u001b[0;34m(\u001b[0m\u001b[0;34m'../mplstyles/stylelib/standard.mplstyle'\u001b[0m\u001b[0;34m)\u001b[0m\u001b[0;34m\u001b[0m\u001b[0;34m\u001b[0m\u001b[0m\n\u001b[1;32m     11\u001b[0m \u001b[0;34m\u001b[0m\u001b[0m\n\u001b[0;32m---> 12\u001b[0;31m \u001b[0;32mfrom\u001b[0m \u001b[0mR68_efficiencies\u001b[0m \u001b[0;32mimport\u001b[0m \u001b[0;34m*\u001b[0m\u001b[0;34m\u001b[0m\u001b[0;34m\u001b[0m\u001b[0m\n\u001b[0m",
      "\u001b[0;31mModuleNotFoundError\u001b[0m: No module named 'R68_efficiencies'"
     ]
    }
   ],
   "source": [
    "#Import libraries & such\n",
    "\n",
    "from IPython.core.display import display, HTML\n",
    "from scipy.optimize import curve_fit\n",
    "display(HTML(\"<style>.container { width:100% !important; }</style>\"))\n",
    "\n",
    "exec(open(\"../analysis_notebooks/nb_setup.py\").read()) #Is there a better way to do this?\n",
    "\n",
    "from matplotlib import *\n",
    "style.use('../mplstyles/stylelib/standard.mplstyle')\n",
    "\n",
    "from R68_efficiencies import *"
   ]
  },
  {
   "cell_type": "code",
   "execution_count": null,
   "metadata": {},
   "outputs": [],
   "source": [
    "E_thresh=50 #[eV] Possible analysis threshold\n",
    "E_test=np.logspace(-5,3.5,2000)\n",
    "\n",
    "fig_w=7"
   ]
  },
  {
   "cell_type": "code",
   "execution_count": null,
   "metadata": {},
   "outputs": [],
   "source": [
    "#Cut efficiencies\n",
    "#fig,ax = plt.subplots(1,1,figsize=(16,12),sharex=True)\n",
    "fig,ax = plt.subplots(1,1)\n",
    "\n",
    "ax.axhline(eff_tail, color = next(ax._get_lines.prop_cycler)['color'], label='ctail')\n",
    "ax.axhspan(eff_tail-deff_tail, eff_tail+deff_tail, alpha=0.5)\n",
    "\n",
    "ax.axhline(eff_pileup, color = next(ax._get_lines.prop_cycler)['color'], label='cpileup ')\n",
    "ax.axhspan(eff_pileup-deff_pileup, eff_pileup+deff_pileup, alpha=0.5)\n",
    "\n",
    "line,=ax.plot(E_test, spikeEff(E_test), label='cSpikey')\n",
    "ax.fill_between(E_test, spikeEff(E_test)-dspikeEff(E_test)[1], spikeEff(E_test)+dspikeEff(E_test)[0], \n",
    "                alpha=0.5, color=line.get_color())\n",
    "\n",
    "line,=ax.plot(E_test,chisqEff(E_test), label='cchit')\n",
    "ax.fill_between(E_test, chisqEff(E_test)-dchisqEff(E_test)[1], chisqEff(E_test)+dchisqEff(E_test)[0], \n",
    "                alpha=0.5, color=line.get_color())\n",
    "\n",
    "line,=ax.plot(E_test, cutEff(E_test), label='Total')\n",
    "ax.fill_between(E_test, cutEff(E_test)-dcutEff(E_test)[1], cutEff(E_test)+dcutEff(E_test)[0], \n",
    "                alpha=0.5, color=line.get_color())\n",
    "\n",
    "line,=ax.plot(E_test, trigburstEff(E_test), label='ctrigburst')\n",
    "ax.fill_between(E_test, trigburstEff(E_test)-dtrigburstEff(E_test)[1], trigburstEff(E_test)+dtrigburstEff(E_test)[0], \n",
    "                alpha=0.5, color=line.get_color())\n",
    "\n",
    "ax.axvline(E_thresh, color='m', linestyle='--', linewidth=2, label='Threshold')\n",
    "\n",
    "#Fit a smooth function to total efficiency\n",
    "def effFit_func(x,x0,sigma,a,b):\n",
    "    return (x>x0)*(a+b*x)*(1-np.exp(-(x-x0)/sigma))\n",
    "Efitmin=50\n",
    "Efitmax=1000\n",
    "cfit=(E_test>=Efitmin) & (E_test<Efitmax)\n",
    "popt,pcov=curve_fit(effFit_func,E_test[cfit], cutEff(E_test)[cfit],p0=[30,30,0.45,1e-4])\n",
    "\n",
    "#Set a single uncertainty for the fit to encompass all the 1-sigma discrepancies in the measured curve\n",
    "maxneg=np.max(np.abs( effFit_func(E_test,*popt) - (cutEff(E_test)-dcutEff(E_test)[1]))[cfit])\n",
    "maxpos=np.max(np.abs( effFit_func(E_test,*popt) - (cutEff(E_test)+dcutEff(E_test)[0]))[cfit])\n",
    "\n",
    "dEffFit=max(maxneg,maxpos)\n",
    "\n",
    "def cutEffFit(E):\n",
    "    eff=np.ones_like(E)\n",
    "    eff[(E>=50)&(E<1000)]=effFit_func(E[(E>=50)&(E<1000)], 2.16419228e+01, 1.61938240e+01, 4.28262762e-01, 3.17895378e-05)\n",
    "    eff[E>=1000]=0.51633498\n",
    "    return eff\n",
    "\n",
    "def dcutEffFit(E):\n",
    "    deff=np.zeros_like(E)\n",
    "    deff[(E>=50)&(E<1000)]=0.02975340974950752\n",
    "    deff[E>=1000]=0.01294113\n",
    "    return deff\n",
    "\n",
    "ax.plot(E_test[E_test>Efitmin],cutEffFit(E_test[E_test>Efitmin]),'k',label='Cut Efficiency Fit')\n",
    "ax.fill_between(E_test[E_test>Efitmin],(cutEffFit(E_test)-dcutEffFit(E_test))[E_test>Efitmin],(cutEffFit(E_test)+dcutEffFit(E_test))[E_test>Efitmin],color='k',alpha=0.2)\n",
    "\n",
    "fig.suptitle('R68 PuBe Cut Efficiencies')\n",
    "ax.set_xlim(30,2e3)\n",
    "ax.set_xscale('log')\n",
    "ax.set_ylim(0,1.05)\n",
    "ax.set_xlabel(r'$E_{recoil}$ [eV]')\n",
    "ax.set_ylabel('Efficiency')\n",
    "ax.legend(ncol=2)\n",
    "\n",
    "plt.tight_layout()\n",
    "\n",
    "plt.savefig('figures/cut_effs.pdf')\n",
    "plt.show()"
   ]
  },
  {
   "cell_type": "code",
   "execution_count": null,
   "metadata": {},
   "outputs": [],
   "source": [
    "#Cut efficiencies for bkg data\n",
    "\n",
    "fig,ax = plt.subplots(1,1,figsize=(9.0,8.0),sharex=True)\n",
    "\n",
    "\n",
    "ax.axhline(eff_tail_bkg, color = next(ax._get_lines.prop_cycler)['color'], label='ctail')\n",
    "ax.axhspan(eff_tail_bkg-deff_tail_bkg, eff_tail_bkg+deff_tail_bkg, alpha=0.5)\n",
    "\n",
    "ax.axhline(eff_pileup_bkg, color = next(ax._get_lines.prop_cycler)['color'], label='cpileup ')\n",
    "ax.axhspan(eff_pileup_bkg-deff_pileup_bkg, eff_pileup_bkg+deff_pileup_bkg, alpha=0.5)\n",
    "\n",
    "\n",
    "\n",
    "line,=ax.plot(E_test, spikeEff_bkg(E_test), label='cSpikey')\n",
    "ax.fill_between(E_test, spikeEff_bkg(E_test)-dspikeEff_bkg(E_test)[1], spikeEff_bkg(E_test)+dspikeEff_bkg(E_test)[0], \n",
    "                alpha=0.5, color=line.get_color())\n",
    "\n",
    "line,=ax.plot(E_test,chisqEff_bkg(E_test), label='cchit')\n",
    "ax.fill_between(E_test, chisqEff_bkg(E_test)-dchisqEff_bkg(E_test)[1], chisqEff_bkg(E_test)+dchisqEff_bkg(E_test)[0], \n",
    "                alpha=0.5, color=line.get_color())\n",
    "\n",
    "line,=ax.plot(E_test, cutEff_bkg(E_test), label='Total')\n",
    "ax.fill_between(E_test, cutEff_bkg(E_test)-dcutEff_bkg(E_test)[1], cutEff_bkg(E_test)+dcutEff_bkg(E_test)[0], \n",
    "                alpha=0.5, color=line.get_color())\n",
    "\n",
    "next(ax._get_lines.prop_cycler)['color']\n",
    "\n",
    "ax.axvline(E_thresh, color='m', linestyle='--', linewidth=2, label='Threshold')\n",
    "\n",
    "#Fit with smooth function\n",
    "Efitmin=50\n",
    "popt,pcov=curve_fit(effFit_func,E_test[E_test>Efitmin], cutEff_bkg(E_test)[E_test>Efitmin],p0=[30,30,0.45,1e-4])\n",
    "\n",
    "#Set a single uncertainty for the fir to encompass all the 1-sigma discrepancies in the measured curve\n",
    "maxneg=np.max(np.abs( effFit_func(E_test,*popt) - (cutEff_bkg(E_test)-dcutEff_bkg(E_test)[1]))[E_test>Efitmin])\n",
    "maxpos=np.max(np.abs( effFit_func(E_test,*popt) - (cutEff_bkg(E_test)+dcutEff_bkg(E_test)[0]))[E_test>Efitmin])\n",
    "dEffFit_bkg=max(maxneg,maxpos)\n",
    "\n",
    "def cutEffFit_bkg(E):\n",
    "    return effFit_func(E, 4.23508507e+01,  7.61590223e+00,  7.14511426e-01, -5.10367727e-06)\n",
    "def dcutEffFit_bkg(E):\n",
    "    return 0.16643841685131444\n",
    "\n",
    "ax.plot(E_test[E_test>Efitmin],cutEffFit_bkg(E_test[E_test>Efitmin]),'k',label='Cut Efficiency Fit')\n",
    "ax.fill_between(E_test[E_test>Efitmin],(cutEffFit_bkg(E_test)-dcutEffFit_bkg(E_test))[E_test>Efitmin],(cutEffFit_bkg(E_test)+dcutEffFit_bkg(E_test))[E_test>Efitmin],color='k',alpha=0.2)\n",
    "\n",
    "fig.suptitle('R68 Bkg Cut Efficiencies')\n",
    "ax.set_xlim(30,2e3)\n",
    "ax.set_xscale('log')\n",
    "ax.set_ylim(0,1.05)\n",
    "ax.set_xlabel(r'$E_{recoil}$ [eV]')\n",
    "ax.set_ylabel('Efficiency')\n",
    "ax.legend(ncol=2)\n",
    "\n",
    "#plt.tight_layout()\n",
    "\n",
    "plt.savefig('figures/cut_effs_bkg.pdf')\n",
    "plt.show()"
   ]
  },
  {
   "cell_type": "code",
   "execution_count": null,
   "metadata": {},
   "outputs": [],
   "source": []
  }
 ],
 "metadata": {
  "kernelspec": {
   "display_name": "Python 3",
   "language": "python",
   "name": "python3"
  },
  "language_info": {
   "codemirror_mode": {
    "name": "ipython",
    "version": 3
   },
   "file_extension": ".py",
   "mimetype": "text/x-python",
   "name": "python",
   "nbconvert_exporter": "python",
   "pygments_lexer": "ipython3",
   "version": "3.8.3"
  }
 },
 "nbformat": 4,
 "nbformat_minor": 4
}
