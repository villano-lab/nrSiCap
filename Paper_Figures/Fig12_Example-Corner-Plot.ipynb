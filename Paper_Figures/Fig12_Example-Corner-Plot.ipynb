{
 "cells": [
  {
   "cell_type": "markdown",
   "metadata": {},
   "source": [
    "From `analysis_notebooks/R68_MCMC_plots_v2.ipynb`"
   ]
  },
  {
   "cell_type": "code",
   "execution_count": 1,
   "metadata": {},
   "outputs": [
    {
     "data": {
      "text/html": [
       "<style>.container { width:100% !important; }</style>"
      ],
      "text/plain": [
       "<IPython.core.display.HTML object>"
      ]
     },
     "metadata": {},
     "output_type": "display_data"
    },
    {
     "name": "stdout",
     "output_type": "stream",
     "text": [
      "../mplstyles\n",
      "3.3.4\n",
      "/mnt/d/git/R68_paper2019/mplstyles\n",
      "dict_keys(['xx', 'yy', 'ex', 'ey'])\n"
     ]
    }
   ],
   "source": [
    "#Import libraries and settings\n",
    "\n",
    "from IPython.core.display import display, HTML\n",
    "display(HTML(\"<style>.container { width:100% !important; }</style>\"))\n",
    "exec(open(\"../analysis_notebooks/nb_setup.py\").read())#Is there a better way to do this?\n",
    "from constants import *\n",
    "import R68_spec_tools as spec\n",
    "import R68_yield as Yield\n",
    "from tqdm.notebook import tqdm\n",
    "from matplotlib.pyplot import *\n",
    "import pickle as pkl\n",
    "import corner\n",
    "\n",
    "fname='../analysis_notebooks/data/mcmc_Sor_128walk_50kstep_SNorm_v4.pkl' #Here is where we pick the file!"
   ]
  },
  {
   "cell_type": "code",
   "execution_count": 2,
   "metadata": {},
   "outputs": [],
   "source": [
    "#Turns out we need the helper functions to still be defined since the stored samplers rely on them.\n",
    "#Don't think it matters if they're exactly the same as what was used, since we don't use them here.\n",
    "def Fit_helper(theta):\n",
    "    return calc_log_prob(model='Sor', theta=theta, theta_bounds=((0,1),(0,3e-2),(0,10),(0,5)),\n",
    "                         spec_bounds=(5,101), likelihood='Pois')"
   ]
  },
  {
   "cell_type": "code",
   "execution_count": 3,
   "metadata": {},
   "outputs": [
    {
     "ename": "FileNotFoundError",
     "evalue": "[Errno 2] No such file or directory: '../analysis_notebooks/data/mcmc_Sor_128walk_50kstep_SNorm_v4.pkl'",
     "output_type": "error",
     "traceback": [
      "\u001b[0;31m---------------------------------------------------------------------------\u001b[0m",
      "\u001b[0;31mFileNotFoundError\u001b[0m                         Traceback (most recent call last)",
      "\u001b[0;32m<ipython-input-3-00c346b13d78>\u001b[0m in \u001b[0;36m<module>\u001b[0;34m\u001b[0m\n\u001b[1;32m      1\u001b[0m \u001b[0mbasename\u001b[0m\u001b[0;34m=\u001b[0m\u001b[0mos\u001b[0m\u001b[0;34m.\u001b[0m\u001b[0mpath\u001b[0m\u001b[0;34m.\u001b[0m\u001b[0msplitext\u001b[0m\u001b[0;34m(\u001b[0m\u001b[0mos\u001b[0m\u001b[0;34m.\u001b[0m\u001b[0mpath\u001b[0m\u001b[0;34m.\u001b[0m\u001b[0mbasename\u001b[0m\u001b[0;34m(\u001b[0m\u001b[0mfname\u001b[0m\u001b[0;34m)\u001b[0m\u001b[0;34m)\u001b[0m\u001b[0;34m[\u001b[0m\u001b[0;36m0\u001b[0m\u001b[0;34m]\u001b[0m\u001b[0;34m\u001b[0m\u001b[0;34m\u001b[0m\u001b[0m\n\u001b[1;32m      2\u001b[0m \u001b[0;34m\u001b[0m\u001b[0m\n\u001b[0;32m----> 3\u001b[0;31m \u001b[0;32mwith\u001b[0m \u001b[0mopen\u001b[0m\u001b[0;34m(\u001b[0m\u001b[0mfname\u001b[0m\u001b[0;34m,\u001b[0m\u001b[0;34m'rb'\u001b[0m\u001b[0;34m)\u001b[0m \u001b[0;32mas\u001b[0m \u001b[0mfile\u001b[0m\u001b[0;34m:\u001b[0m\u001b[0;34m\u001b[0m\u001b[0;34m\u001b[0m\u001b[0m\n\u001b[0m\u001b[1;32m      4\u001b[0m     \u001b[0mmcmc_data\u001b[0m\u001b[0;34m=\u001b[0m\u001b[0mpkl\u001b[0m\u001b[0;34m.\u001b[0m\u001b[0mload\u001b[0m\u001b[0;34m(\u001b[0m\u001b[0mfile\u001b[0m\u001b[0;34m)\u001b[0m\u001b[0;34m\u001b[0m\u001b[0;34m\u001b[0m\u001b[0m\n\u001b[1;32m      5\u001b[0m \u001b[0msampler\u001b[0m\u001b[0;34m=\u001b[0m\u001b[0mmcmc_data\u001b[0m\u001b[0;34m[\u001b[0m\u001b[0;34m'sampler'\u001b[0m\u001b[0;34m]\u001b[0m\u001b[0;34m\u001b[0m\u001b[0;34m\u001b[0m\u001b[0m\n",
      "\u001b[0;31mFileNotFoundError\u001b[0m: [Errno 2] No such file or directory: '../analysis_notebooks/data/mcmc_Sor_128walk_50kstep_SNorm_v4.pkl'"
     ]
    }
   ],
   "source": [
    "basename=os.path.splitext(os.path.basename(fname))[0]\n",
    "\n",
    "with open(fname,'rb') as file:\n",
    "    mcmc_data=pkl.load(file)\n",
    "sampler=mcmc_data['sampler']\n",
    "guesses=mcmc_data['guesses']\n",
    "labels=mcmc_data['labels']\n",
    "model=mcmc_data['Y_model']\n",
    "RQs=mcmc_data['RQs']"
   ]
  },
  {
   "cell_type": "code",
   "execution_count": null,
   "metadata": {},
   "outputs": [],
   "source": [
    "relabel=True\n",
    "if relabel:\n",
    "    for i in range(len(labels)):\n",
    "        labels[i]=labels[i].replace('scale','f')\n",
    "labels"
   ]
  },
  {
   "cell_type": "code",
   "execution_count": null,
   "metadata": {},
   "outputs": [],
   "source": [
    "#######Warning, rescaling factors for plotting##############\n",
    "f_rescale=np.ones(len(labels))\n",
    "f_rescale[5]=2.04"
   ]
  },
  {
   "cell_type": "code",
   "execution_count": null,
   "metadata": {},
   "outputs": [],
   "source": [
    "#Look at the chain of parameter values\n",
    "samples = sampler.get_chain()\n",
    "ndim = samples.shape[2]"
   ]
  },
  {
   "cell_type": "code",
   "execution_count": null,
   "metadata": {},
   "outputs": [],
   "source": [
    "#Pretty version of Sorensen\n",
    "plt.clf()\n",
    "\n",
    "labsize_temp=rcParams['xtick.labelsize']\n",
    "matplotlib.rc('xtick', labelsize=16)\n",
    "matplotlib.rc('ytick', labelsize=16)\n",
    "\n",
    "fig,ax = subplots(ndim,ndim,figsize=(fig_w, fig_w*(.75)))\n",
    "#ranges=[[0.145,0.165],[0.0016,0.0023],[3.5,6],[3.8,4.3],[5.3,5.9],[3.4,4.1]]\n",
    "flat_samples_plot=flat_samples/f_rescale*np.array([1,1e3,1,1,1,1])\n",
    "labels_plot=labels.copy()\n",
    "labels_plot[1]+=' ($10^{-3}$)'\n",
    "\n",
    "fig = corner.corner(\n",
    "    flat_samples_plot, labels=labels_plot, quantiles=[0.16, 0.5, 0.84], show_titles=True, title_fmt='0.3f',\n",
    "    fig=fig,range=0.99*np.ones(ndim),max_n_ticks=3);\n",
    "\n",
    "\n",
    "matplotlib.rc('xtick', labelsize=labsize_temp)\n",
    "matplotlib.rc('ytick', labelsize=labsize_temp)\n",
    "\n",
    "#fig.text(0.3, 0.3, 'PRELIMINARY', color='r', rotation=-45, fontsize=75, alpha=0.5)\n",
    "savefig('figures/mcmc/'+basename+'_corner_pretty.png')"
   ]
  }
 ],
 "metadata": {
  "kernelspec": {
   "display_name": "Python 3",
   "language": "python",
   "name": "python3"
  },
  "language_info": {
   "codemirror_mode": {
    "name": "ipython",
    "version": 3
   },
   "file_extension": ".py",
   "mimetype": "text/x-python",
   "name": "python",
   "nbconvert_exporter": "python",
   "pygments_lexer": "ipython3",
   "version": "3.7.9"
  }
 },
 "nbformat": 4,
 "nbformat_minor": 4
}
