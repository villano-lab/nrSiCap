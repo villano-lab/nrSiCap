{
 "cells": [
  {
   "cell_type": "markdown",
   "metadata": {},
   "source": [
    "From `analysis_notebooks/R68_MCMC_paper_plots.ipynb`"
   ]
  },
  {
   "cell_type": "code",
   "execution_count": 1,
   "metadata": {},
   "outputs": [
    {
     "data": {
      "text/html": [
       "<style>.container { width:100% !important; }</style>"
      ],
      "text/plain": [
       "<IPython.core.display.HTML object>"
      ]
     },
     "metadata": {},
     "output_type": "display_data"
    },
    {
     "name": "stdout",
     "output_type": "stream",
     "text": [
      "../mplstyles\n",
      "3.3.4\n",
      "/mnt/d/git/R68_paper2019/mplstyles\n",
      "dict_keys(['xx', 'yy', 'ex', 'ey'])\n"
     ]
    }
   ],
   "source": [
    "#Import libraries and settings\n",
    "from IPython.core.display import display, HTML\n",
    "display(HTML(\"<style>.container { width:100% !important; }</style>\"))\n",
    "exec(open(\"../analysis_notebooks/nb_setup.py\").read())#Is there a better way to do this?\n",
    "from constants import *\n",
    "import R68_spec_tools as spec\n",
    "import R68_yield as Yield\n",
    "from tqdm.notebook import tqdm\n",
    "from matplotlib.pyplot import *\n",
    "style.use('../mplstyles/stylelib/standard.mplstyle')\n",
    "import R68_plot_tools as pt\n",
    "import matplotlib.patches as mpatches\n",
    "import pickle as pkl\n",
    "from scipy.optimize import fsolve\n",
    "from scipy.special import erf\n",
    "import R68_plot_tools as pt\n",
    "\n",
    "fig_w=9\n",
    "\n",
    "plot_fill_colors=['g','g']\n",
    "plot_alphas=[1,0.5]\n",
    "plot_zorders=[2,1,0]\n",
    "plot_labels=['This work: Stat','Stat+Syst']#,'+BurstSyst']"
   ]
  },
  {
   "cell_type": "code",
   "execution_count": 2,
   "metadata": {},
   "outputs": [],
   "source": [
    "#Function Definitions\n",
    "\n",
    "#Turns out we need the helper functions to still be defined since the stored samplers rely on them.\n",
    "#Don't think it matters if they're exactly the same as what was used, since we don't use them here.\n",
    "def Fit_helper(theta):\n",
    "    return calc_log_prob(model='Sor', theta=theta, theta_bounds=((0,1),(0,3e-2),(0,10),(0,5)),\n",
    "                         spec_bounds=(5,101), likelihood='Pois')\n",
    "\n",
    "def ERtoNR(ER,Y,V,eps):\n",
    "    func = lambda NR : NR-ER*(1+V/eps)/(1+Y.calc(NR)*V/eps)\n",
    "    NR_guess = ER\n",
    "    return fsolve(func, NR_guess)\n",
    "\n",
    "def NRtoER(NR,Y,V,eps):\n",
    "    return NR*(1+Y.calc(NR)*V/eps)/(1+V/eps)"
   ]
  },
  {
   "cell_type": "code",
   "execution_count": 3,
   "metadata": {},
   "outputs": [
    {
     "ename": "FileNotFoundError",
     "evalue": "[Errno 2] No such file or directory: 'data/mcmc_Lind_128walk_50kstep_SNorm_v1.pkl'",
     "output_type": "error",
     "traceback": [
      "\u001b[0;31m---------------------------------------------------------------------------\u001b[0m",
      "\u001b[0;31mFileNotFoundError\u001b[0m                         Traceback (most recent call last)",
      "\u001b[0;32m<ipython-input-3-eb90df4d3b8e>\u001b[0m in \u001b[0;36m<module>\u001b[0;34m\u001b[0m\n\u001b[1;32m      1\u001b[0m \u001b[0mmcmc_datas\u001b[0m\u001b[0;34m=\u001b[0m\u001b[0;34m[\u001b[0m\u001b[0;34m]\u001b[0m\u001b[0;34m\u001b[0m\u001b[0;34m\u001b[0m\u001b[0m\n\u001b[1;32m      2\u001b[0m \u001b[0;32mfor\u001b[0m \u001b[0mfname\u001b[0m \u001b[0;32min\u001b[0m \u001b[0mfnames\u001b[0m\u001b[0;34m:\u001b[0m\u001b[0;34m\u001b[0m\u001b[0;34m\u001b[0m\u001b[0m\n\u001b[0;32m----> 3\u001b[0;31m     \u001b[0;32mwith\u001b[0m \u001b[0mopen\u001b[0m\u001b[0;34m(\u001b[0m\u001b[0mfname\u001b[0m\u001b[0;34m,\u001b[0m\u001b[0;34m'rb'\u001b[0m\u001b[0;34m)\u001b[0m \u001b[0;32mas\u001b[0m \u001b[0mfile\u001b[0m\u001b[0;34m:\u001b[0m\u001b[0;34m\u001b[0m\u001b[0;34m\u001b[0m\u001b[0m\n\u001b[0m\u001b[1;32m      4\u001b[0m         \u001b[0mmcmc_datas\u001b[0m\u001b[0;34m.\u001b[0m\u001b[0mappend\u001b[0m\u001b[0;34m(\u001b[0m\u001b[0mpkl\u001b[0m\u001b[0;34m.\u001b[0m\u001b[0mload\u001b[0m\u001b[0;34m(\u001b[0m\u001b[0mfile\u001b[0m\u001b[0;34m)\u001b[0m\u001b[0;34m)\u001b[0m\u001b[0;34m\u001b[0m\u001b[0;34m\u001b[0m\u001b[0m\n\u001b[1;32m      5\u001b[0m \u001b[0mRQss\u001b[0m\u001b[0;34m=\u001b[0m\u001b[0;34m[\u001b[0m\u001b[0;34m]\u001b[0m\u001b[0;34m\u001b[0m\u001b[0;34m\u001b[0m\u001b[0m\n",
      "\u001b[0;31mFileNotFoundError\u001b[0m: [Errno 2] No such file or directory: 'data/mcmc_Lind_128walk_50kstep_SNorm_v1.pkl'"
     ]
    }
   ],
   "source": [
    "#First run Lindhard\n",
    "\n",
    "model_label='Lindhard'\n",
    "fnames=['data/mcmc_Lind_128walk_50kstep_SNorm_v1.pkl',\n",
    "        'data/mcmc_Lind_128walk_50kstep_SNorm_v2.pkl']\n",
    "\n",
    "mcmc_datas=[]\n",
    "for fname in fnames:\n",
    "    with open(fname,'rb') as file:\n",
    "        mcmc_datas.append(pkl.load(file))\n",
    "RQss=[]\n",
    "for datai in mcmc_datas:\n",
    "    RQss.append(datai['RQs'])"
   ]
  },
  {
   "cell_type": "code",
   "execution_count": null,
   "metadata": {},
   "outputs": [],
   "source": [
    "fig,axs=subplots(1,2,figsize=(2*fig_w, fig_w*(.75)))\n",
    "\n",
    "#Add other measurements from lit\n",
    "pt.plotOldYs(axs[0],datasets=['chav','izr','dough','gerb','zech','agnese'],\n",
    "             labels=['Chavarria','Izraelevitch','Dougherty','Gerbier','Zecher','Agnese'],\n",
    "             fmt='o',markersize=6)\n",
    "\n",
    "axs[0].text(1.5e2,0.37,'Yield Model: '+model_label,size=16)\n",
    "\n",
    "for i,RQi in enumerate(RQss):\n",
    "    Er_Ycalc_plot=np.concatenate((RQi['Er_Ycalc'][0][:1],RQi['Er_Ycalc'][1],RQi['Er_Ycalc'][0][-1:],RQi['Er_Ycalc'][2][::-1]))\n",
    "    Ydist_plot=np.concatenate((RQi['Ydist'][0][:1],RQi['Ydist'][1],RQi['Ydist'][0][-1:],RQi['Ydist'][2][::-1]))\n",
    "\n",
    "    axs[0].fill(Er_Ycalc_plot,Ydist_plot,color=plot_fill_colors[i],zorder=plot_zorders[i], alpha=plot_alphas[i], label=plot_labels[i])\n",
    "\n",
    "\n",
    "\n",
    "Ebins=mcmc_datas[1]['Ebins']\n",
    "Ebin_ctr=(Ebins[:-1]+Ebins[1:])/2\n",
    "\n",
    "axs[1].errorbar(Ebin_ctr[Ebin_ctr>50],RQss[1]['N_meas'][Ebin_ctr>50],(RQss[1]['dN_meas'].T[Ebin_ctr>50]).T,\n",
    "                ecolor='k', marker='o',markersize=6,color='k', linestyle='none',label='Measured',zorder=5)\n",
    "\n",
    "axs[0].set_prop_cycle(None)#Reset color cycle\n",
    "axs[1].set_prop_cycle(None)\n",
    "\n",
    "axs[1].step(Ebin_ctr,RQss[1]['N_nr_plot'][0],color='r',where='mid')\n",
    "axs[1].step(Ebin_ctr,RQss[1]['N_er_plot'][0],color='k',where='mid')\n",
    "axs[1].step(Ebin_ctr,RQss[1]['N_ng_plot'][0],color='b',where='mid')\n",
    "axs[1].step(Ebin_ctr,RQss[1]['N_tot_plot'][0],color='g',where='mid')\n",
    "\n",
    "axs[1].fill_between(Ebin_ctr,RQss[1]['N_nr_plot'][1],RQss[1]['N_nr_plot'][2],color='r',alpha=0.5,step='mid',label='NR')\n",
    "axs[1].fill_between(Ebin_ctr,RQss[1]['N_er_plot'][1],RQss[1]['N_er_plot'][2],color='k',alpha=0.5,step='mid',label='ER')\n",
    "axs[1].fill_between(Ebin_ctr,RQss[1]['N_ng_plot'][1],RQss[1]['N_ng_plot'][2],color='b',alpha=0.5,step='mid',label=r'(n,$\\gamma)$')\n",
    "axs[1].fill_between(Ebin_ctr,RQss[1]['N_tot_plot'][1],RQss[1]['N_tot_plot'][2],color='g',alpha=0.5,step='mid',label='Total')\n",
    "\n",
    "#Analysis Range\n",
    "axs[1].axvline(50,linestyle='--',color='m',label='Threshold')\n",
    "\n",
    "Yiso = lambda Enr,Eee: Eee/Enr*(1+eps/V)-eps/V\n",
    "axs[0].plot(np.logspace(-2,5,100),Yiso(np.logspace(-2,5,100),50),'--m')\n",
    "axs[0].plot(np.logspace(-2,5,100),Yiso(np.logspace(-2,5,100),2e3),'--m')\n",
    "\n",
    "axs[0].text(2e2,0.2,r'50 $eV_{ee}$',size=16,color='m',rotation=-72)\n",
    "axs[0].text(1e4,0.15,r'2 $keV_{ee}$',size=16,color='m',rotation=-65)\n",
    "\n",
    "#Axes\n",
    "axs[0].set_xlim(1e2,5e4);\n",
    "axs[0].set_xscale('log')\n",
    "axs[0].set_ylim(0,0.4)\n",
    "axs[0].yaxis.set_major_locator(plt.MultipleLocator(0.1))\n",
    "axs[0].set_xlabel(r'Energy [$eV_{nr}$]')\n",
    "axs[0].set_ylabel('Y')\n",
    "axs[0].legend(loc='lower right',ncol=2,prop={'size': 16})\n",
    "\n",
    "axs[1].set_ylim(0,0.04)\n",
    "axs[1].yaxis.set_major_locator(plt.MultipleLocator(0.01))\n",
    "axs[1].set_xlim(0,1e3)\n",
    "axs[1].set_xlabel(r'Energy [$eV_{ee}$]')\n",
    "axs[1].set_ylabel('Rate [1/bin/s]')\n",
    "\n",
    "axs[1].legend(loc='upper right', prop={'size': 16})\n",
    "\n",
    "tight_layout()\n"
   ]
  },
  {
   "cell_type": "code",
   "execution_count": null,
   "metadata": {},
   "outputs": [],
   "source": [
    "#Now run Sorensen\n",
    "\n",
    "model_label='Sorensen'\n",
    "fnames=['data/mcmc_Sor_128walk_50kstep_SNorm_v3.pkl',\n",
    "        'data/mcmc_Sor_128walk_50kstep_SNorm_v4.pkl']\n",
    "\n",
    "mcmc_datas=[]\n",
    "for fname in fnames:\n",
    "    with open(fname,'rb') as file:\n",
    "        mcmc_datas.append(pkl.load(file))\n",
    "RQss=[]\n",
    "for datai in mcmc_datas:\n",
    "    RQss.append(datai['RQs'])"
   ]
  },
  {
   "cell_type": "code",
   "execution_count": null,
   "metadata": {},
   "outputs": [],
   "source": [
    "fig,axs=subplots(1,2,figsize=(2*fig_w, fig_w*(.75)))\n",
    "\n",
    "#Add other measurements from lit\n",
    "pt.plotOldYs(axs[0],datasets=['chav','izr','dough','gerb','zech','agnese'],\n",
    "             labels=['Chavarria','Izraelevitch','Dougherty','Gerbier','Zecher','Agnese'],\n",
    "             fmt='o',markersize=6)\n",
    "\n",
    "axs[0].text(1.5e2,0.37,'Yield Model: '+model_label,size=16)\n",
    "\n",
    "for i,RQi in enumerate(RQss):\n",
    "    Er_Ycalc_plot=np.concatenate((RQi['Er_Ycalc'][0][:1],RQi['Er_Ycalc'][1],RQi['Er_Ycalc'][0][-1:],RQi['Er_Ycalc'][2][::-1]))\n",
    "    Ydist_plot=np.concatenate((RQi['Ydist'][0][:1],RQi['Ydist'][1],RQi['Ydist'][0][-1:],RQi['Ydist'][2][::-1]))\n",
    "\n",
    "    axs[0].fill(Er_Ycalc_plot,Ydist_plot,color=plot_fill_colors[i],zorder=plot_zorders[i], alpha=plot_alphas[i], label=plot_labels[i])\n",
    "\n",
    "\n",
    "\n",
    "Ebins=mcmc_datas[1]['Ebins']\n",
    "Ebin_ctr=(Ebins[:-1]+Ebins[1:])/2\n",
    "\n",
    "axs[1].errorbar(Ebin_ctr[Ebin_ctr>50],RQss[1]['N_meas'][Ebin_ctr>50],(RQss[1]['dN_meas'].T[Ebin_ctr>50]).T,\n",
    "                ecolor='k', marker='o',markersize=6,color='k', linestyle='none',label='Measured',zorder=5)\n",
    "\n",
    "axs[0].set_prop_cycle(None)#Reset color cycle\n",
    "axs[1].set_prop_cycle(None)\n",
    "\n",
    "axs[1].step(Ebin_ctr,RQss[1]['N_nr_plot'][0],color='r',where='mid')\n",
    "axs[1].step(Ebin_ctr,RQss[1]['N_er_plot'][0],color='k',where='mid')\n",
    "axs[1].step(Ebin_ctr,RQss[1]['N_ng_plot'][0],color='b',where='mid')\n",
    "axs[1].step(Ebin_ctr,RQss[1]['N_tot_plot'][0],color='g',where='mid')\n",
    "\n",
    "axs[1].fill_between(Ebin_ctr,RQss[1]['N_nr_plot'][1],RQss[1]['N_nr_plot'][2],color='r',alpha=0.5,step='mid',label='NR')\n",
    "axs[1].fill_between(Ebin_ctr,RQss[1]['N_er_plot'][1],RQss[1]['N_er_plot'][2],color='k',alpha=0.5,step='mid',label='ER')\n",
    "axs[1].fill_between(Ebin_ctr,RQss[1]['N_ng_plot'][1],RQss[1]['N_ng_plot'][2],color='b',alpha=0.5,step='mid',label=r'(n,$\\gamma)$')\n",
    "axs[1].fill_between(Ebin_ctr,RQss[1]['N_tot_plot'][1],RQss[1]['N_tot_plot'][2],color='g',alpha=0.5,step='mid',label='Total')\n",
    "\n",
    "#Analysis Range\n",
    "axs[1].axvline(50,linestyle='--',color='m',label='Threshold')\n",
    "\n",
    "Yiso = lambda Enr,Eee: Eee/Enr*(1+eps/V)-eps/V\n",
    "axs[0].plot(np.logspace(-2,5,100),Yiso(np.logspace(-2,5,100),50),'--m')\n",
    "axs[0].plot(np.logspace(-2,5,100),Yiso(np.logspace(-2,5,100),2e3),'--m')\n",
    "\n",
    "axs[0].text(2e2,0.2,r'50 $eV_{ee}$',size=16,color='m',rotation=-72)\n",
    "axs[0].text(1e4,0.15,r'2 $keV_{ee}$',size=16,color='m',rotation=-65)\n",
    "\n",
    "#Axes\n",
    "axs[0].set_xlim(1e2,5e4);\n",
    "axs[0].set_xscale('log')\n",
    "axs[0].set_ylim(0,0.4)\n",
    "axs[0].yaxis.set_major_locator(plt.MultipleLocator(0.1))\n",
    "axs[0].set_xlabel(r'Energy [$eV_{nr}$]')\n",
    "axs[0].set_ylabel('Y')\n",
    "axs[0].legend(loc='lower right',ncol=2,prop={'size': 16})\n",
    "\n",
    "axs[1].set_ylim(0,0.04)\n",
    "axs[1].yaxis.set_major_locator(plt.MultipleLocator(0.01))\n",
    "axs[1].set_xlim(0,1e3)\n",
    "axs[1].set_xlabel(r'Energy [$eV_{ee}$]')\n",
    "axs[1].set_ylabel('Rate [1/bin/s]')\n",
    "\n",
    "axs[1].legend(loc='upper right', prop={'size': 16})\n",
    "\n",
    "tight_layout()\n"
   ]
  }
 ],
 "metadata": {
  "kernelspec": {
   "display_name": "Python 3",
   "language": "python",
   "name": "python3"
  },
  "language_info": {
   "codemirror_mode": {
    "name": "ipython",
    "version": 3
   },
   "file_extension": ".py",
   "mimetype": "text/x-python",
   "name": "python",
   "nbconvert_exporter": "python",
   "pygments_lexer": "ipython3",
   "version": "3.7.9"
  }
 },
 "nbformat": 4,
 "nbformat_minor": 4
}
