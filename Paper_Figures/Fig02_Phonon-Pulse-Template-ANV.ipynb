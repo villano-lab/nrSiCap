{
 "cells": [
  {
   "cell_type": "markdown",
   "metadata": {},
   "source": [
    "From code on a private computer, available as [final_template_plots.c on our OSF project](https://osf.io/a54h9/)."
   ]
  },
  {
   "cell_type": "markdown",
   "metadata": {},
   "source": [
    "# Setup"
   ]
  },
  {
   "cell_type": "raw",
   "metadata": {},
   "source": [
    ".L /home/mastx027/cdms/analysis/root/analysisUtils.c\n",
    "\n",
    "gStyle->SetOptStat(0);\n",
    "gStyle->SetHistLineWidth(2);"
   ]
  },
  {
   "cell_type": "code",
   "execution_count": 7,
   "metadata": {},
   "outputs": [],
   "source": [
    "import matplotlib.pyplot as plt\n",
    "plt.style.use('../mplstyles/stylelib/standard.mplstyle')\n",
    "import uproot\n",
    "import os\n",
    "import sys\n",
    "import numpy as np\n",
    "sys.path.append('../python/')\n",
    "#from analysisUtils import * #.L /home/mastx027/cdms/analysisUtils.c\n",
    "\n",
    "#ROOT.gStyle.SetOptStat(0);\n",
    "#ROOT.gStyle.SetHistLineWidth(2)"
   ]
  },
  {
   "cell_type": "markdown",
   "metadata": {},
   "source": [
    "# Plot just PT template"
   ]
  },
  {
   "cell_type": "raw",
   "metadata": {},
   "source": [
    "TFile *fo = new TFile(\"templates/Z1_Templates_UMN_R68_n125_v9.root\",\"READ\");\n",
    "fo->cd(\"zip1\");\n",
    "\n",
    "//4:3 aspect ratio\n",
    "int ww=400\n",
    "TCanvas *c1 = new TCanvas(\"c1\",\"c1\",ww,ww*0.75)\n",
    "\n",
    "TH1D *hPT = rescaleX(PT,-400,0.8)\n",
    "hPT->SetLineColor(kBlack)\n",
    "hPT->SetLineWidth(2)\n",
    "hPT->SetTitle(\"PT Template;time [#mus];Amplitude\")\n",
    "hPT->SetAxisRange(-50,500)\n",
    "hPT->Draw()"
   ]
  },
  {
   "cell_type": "code",
   "execution_count": 10,
   "metadata": {},
   "outputs": [
    {
     "ename": "NameError",
     "evalue": "name 'rescaleX' is not defined",
     "output_type": "error",
     "traceback": [
      "\u001b[0;31m---------------------------------------------------------------------------\u001b[0m",
      "\u001b[0;31mNameError\u001b[0m                                 Traceback (most recent call last)",
      "\u001b[0;32m<ipython-input-10-24690932b38d>\u001b[0m in \u001b[0;36m<module>\u001b[0;34m\u001b[0m\n\u001b[1;32m      6\u001b[0m \u001b[0mww\u001b[0m \u001b[0;34m=\u001b[0m \u001b[0;36m400\u001b[0m \u001b[0;31m#int ww=400\u001b[0m\u001b[0;34m\u001b[0m\u001b[0;34m\u001b[0m\u001b[0m\n\u001b[1;32m      7\u001b[0m \u001b[0;34m\u001b[0m\u001b[0m\n\u001b[0;32m----> 8\u001b[0;31m \u001b[0mhPT\u001b[0m \u001b[0;34m=\u001b[0m \u001b[0mrescaleX\u001b[0m\u001b[0;34m(\u001b[0m\u001b[0mPTbins\u001b[0m\u001b[0;34m,\u001b[0m\u001b[0;34m-\u001b[0m\u001b[0;36m400\u001b[0m\u001b[0;34m,\u001b[0m\u001b[0;36m0.8\u001b[0m\u001b[0;34m)\u001b[0m\u001b[0;34m\u001b[0m\u001b[0;34m\u001b[0m\u001b[0m\n\u001b[0m\u001b[1;32m      9\u001b[0m \u001b[0;31m#hPT = np.histogram(PTvals,len(PTbins))\u001b[0m\u001b[0;34m\u001b[0m\u001b[0;34m\u001b[0m\u001b[0;34m\u001b[0m\u001b[0m\n\u001b[1;32m     10\u001b[0m \u001b[0mprint\u001b[0m\u001b[0;34m(\u001b[0m\u001b[0mlen\u001b[0m\u001b[0;34m(\u001b[0m\u001b[0mhPT\u001b[0m\u001b[0;34m)\u001b[0m\u001b[0;34m)\u001b[0m\u001b[0;34m\u001b[0m\u001b[0;34m\u001b[0m\u001b[0m\n",
      "\u001b[0;31mNameError\u001b[0m: name 'rescaleX' is not defined"
     ]
    }
   ],
   "source": [
    "fo = uproot.open('templates/Z1_Templates_UMN_R68_n125_v9.root') #TFile *fo = new TFile(\"templates/Z1_Templates_UMN_R68_n125_v9.root\",\"READ\");\n",
    "PT = fo['zip1/PT;1']\n",
    "PTvals = PT.to_numpy()[0]\n",
    "PTbins = PT.to_numpy()[1]\n",
    "\n",
    "ww = 400 #int ww=400\n",
    "\n",
    "hPT = rescaleX(PTbins,-400,0.8)\n",
    "#hPT = np.histogram(PTvals,len(PTbins))\n",
    "print(len(hPT))\n",
    "print(len(PTvals))\n",
    "\n",
    "#fig = plt.figure(figsize=(ww,ww*0.75)) #TCanvas *c1 = new TCanvas(\"c1\",\"c1\",ww,ww*0.75)\n",
    "plt.step(hPT,PTvals, color='black', linewidth=2) #hPT.SetLineColor(kBlack) #hPT.SetLineWidth(2)\n",
    "plt.title(\"PT Template\")  #hPT.SetTitle(\"PT Template;\n",
    "plt.xlabel(\"time [#mus]\") #time [#mus];\n",
    "plt.ylabel(\"Amplitude\")   #Amplitude\")\n",
    "plt.xlim([-50,500]) #hPT.SetAxisRange(-50,500)\n",
    "\n",
    "plt.show() #hPT.Draw()"
   ]
  },
  {
   "cell_type": "markdown",
   "metadata": {},
   "source": [
    "# Plot a good fit to a pulse"
   ]
  },
  {
   "cell_type": "raw",
   "metadata": {},
   "source": [
    "TChain *z, *p;\n",
    "TChain *e;\n",
    "\n",
    "z=new TChain(\"rqDir/zip1\");\n",
    "e=new TChain(\"rqDir/eventTree\");\n",
    "p=new TChain(\"RawTraces\");\n",
    "z->AddFriend(e);\n",
    "z->AddFriend(p,\"p\");\n",
    "\n",
    "//TString directory=\"/data/chocula/fritts/data/k100proc/midasrq/byseries/\";\n",
    "TString directory=\"/data/chocula/k100/reprocessing/run068_1/midasrq/byseries/\";\n",
    "//PuBe data\n",
    "TString series[]={\"07180924_1710\"};//07180925_1329\"};\n",
    "int nSer=1;\n",
    "\n",
    "for(int i=0;i<nSer;i++){z->Add(Form(\"%s%s/umn*.root\",directory.Data(),series[i].Data()));e->Add(Form(\"%s%s/umn*.root\",directory.Data(),series[i].Data()));p->Add(Form(\"/home/mastx027/cdms/analysis/run068/trigger/%s_traces.root\",series[i].Data()));}\n",
    "\n",
    "z->GetEntries()\n",
    "p->GetEntries()"
   ]
  },
  {
   "cell_type": "code",
   "execution_count": 17,
   "metadata": {},
   "outputs": [
    {
     "name": "stdout",
     "output_type": "stream",
     "text": [
      "umn_07180924_1710_F0008.root\n",
      "umn_07180924_1710_F0004.root\n",
      "umn_07180924_1710_F0005.root\n",
      "07180924_1710_traces.root\n",
      "umn_07180924_1710_F0009.root\n",
      "umn_07180924_1710_F0002.root\n",
      "umn_07180924_1710_F0003.root\n",
      "umn_07180924_1710_F0001.root\n",
      "umn_07180924_1710_F0006.root\n",
      "umn_07180924_1710_F0010.root\n",
      "umn_07180924_1710_F0007.root\n"
     ]
    },
    {
     "ename": "ImportError",
     "evalue": "install the 'awkward' package with:\n\n    pip install awkward\n\nAlternatively, you can use ``library=\"np\"`` or globally set ``uproot.default_library``\nto output as NumPy arrays, rather than Awkward arrays.\n",
     "output_type": "error",
     "traceback": [
      "\u001b[0;31m---------------------------------------------------------------------------\u001b[0m",
      "\u001b[0;31mModuleNotFoundError\u001b[0m                       Traceback (most recent call last)",
      "\u001b[0;32m~/anaconda3/envs/nrCascadeSim/lib/python3.8/site-packages/uproot/extras.py\u001b[0m in \u001b[0;36mawkward\u001b[0;34m()\u001b[0m\n\u001b[1;32m     20\u001b[0m     \u001b[0;32mtry\u001b[0m\u001b[0;34m:\u001b[0m\u001b[0;34m\u001b[0m\u001b[0;34m\u001b[0m\u001b[0m\n\u001b[0;32m---> 21\u001b[0;31m         \u001b[0;32mimport\u001b[0m \u001b[0mawkward\u001b[0m\u001b[0;34m\u001b[0m\u001b[0;34m\u001b[0m\u001b[0m\n\u001b[0m\u001b[1;32m     22\u001b[0m     \u001b[0;32mexcept\u001b[0m \u001b[0mImportError\u001b[0m\u001b[0;34m:\u001b[0m\u001b[0;34m\u001b[0m\u001b[0;34m\u001b[0m\u001b[0m\n",
      "\u001b[0;31mModuleNotFoundError\u001b[0m: No module named 'awkward'",
      "\nDuring handling of the above exception, another exception occurred:\n",
      "\u001b[0;31mImportError\u001b[0m                               Traceback (most recent call last)",
      "\u001b[0;32m<ipython-input-17-d42cad520299>\u001b[0m in \u001b[0;36m<module>\u001b[0;34m\u001b[0m\n\u001b[1;32m     14\u001b[0m \u001b[0mz\u001b[0m \u001b[0;34m=\u001b[0m \u001b[0muproot\u001b[0m\u001b[0;34m.\u001b[0m\u001b[0miterate\u001b[0m\u001b[0;34m(\u001b[0m\u001b[0;34m[\u001b[0m\u001b[0mdirectory\u001b[0m\u001b[0;34m+\u001b[0m\u001b[0mseries\u001b[0m\u001b[0;34m[\u001b[0m\u001b[0;36m0\u001b[0m\u001b[0;34m]\u001b[0m\u001b[0;34m+\u001b[0m\u001b[0;34m'/*.root:rqDir/zip1'\u001b[0m\u001b[0;34m]\u001b[0m\u001b[0;34m,\u001b[0m\u001b[0mallow_missing\u001b[0m\u001b[0;34m=\u001b[0m\u001b[0;32mTrue\u001b[0m\u001b[0;34m)\u001b[0m \u001b[0;31m#ROOT.TChain(\"rqDir/zip1\")\u001b[0m\u001b[0;34m\u001b[0m\u001b[0;34m\u001b[0m\u001b[0m\n\u001b[1;32m     15\u001b[0m \u001b[0;34m\u001b[0m\u001b[0m\n\u001b[0;32m---> 16\u001b[0;31m \u001b[0;32mfor\u001b[0m \u001b[0mx\u001b[0m \u001b[0;32min\u001b[0m \u001b[0mz\u001b[0m\u001b[0;34m:\u001b[0m\u001b[0;34m\u001b[0m\u001b[0;34m\u001b[0m\u001b[0m\n\u001b[0m\u001b[1;32m     17\u001b[0m     \u001b[0mprint\u001b[0m\u001b[0;34m(\u001b[0m\u001b[0mx\u001b[0m\u001b[0;34m)\u001b[0m\u001b[0;34m\u001b[0m\u001b[0;34m\u001b[0m\u001b[0m\n",
      "\u001b[0;32m~/anaconda3/envs/nrCascadeSim/lib/python3.8/site-packages/uproot/behaviors/TBranch.py\u001b[0m in \u001b[0;36miterate\u001b[0;34m(files, expressions, cut, filter_name, filter_typename, filter_branch, aliases, language, step_size, decompression_executor, interpretation_executor, library, how, report, custom_classes, allow_missing, **options)\u001b[0m\n\u001b[1;32m    203\u001b[0m             \u001b[0;32mwith\u001b[0m \u001b[0mhasbranches\u001b[0m\u001b[0;34m:\u001b[0m\u001b[0;34m\u001b[0m\u001b[0;34m\u001b[0m\u001b[0m\n\u001b[1;32m    204\u001b[0m                 \u001b[0;32mtry\u001b[0m\u001b[0;34m:\u001b[0m\u001b[0;34m\u001b[0m\u001b[0;34m\u001b[0m\u001b[0m\n\u001b[0;32m--> 205\u001b[0;31m                     for item in hasbranches.iterate(\n\u001b[0m\u001b[1;32m    206\u001b[0m                         \u001b[0mexpressions\u001b[0m\u001b[0;34m=\u001b[0m\u001b[0mexpressions\u001b[0m\u001b[0;34m,\u001b[0m\u001b[0;34m\u001b[0m\u001b[0;34m\u001b[0m\u001b[0m\n\u001b[1;32m    207\u001b[0m                         \u001b[0mcut\u001b[0m\u001b[0;34m=\u001b[0m\u001b[0mcut\u001b[0m\u001b[0;34m,\u001b[0m\u001b[0;34m\u001b[0m\u001b[0;34m\u001b[0m\u001b[0m\n",
      "\u001b[0;32m~/anaconda3/envs/nrCascadeSim/lib/python3.8/site-packages/uproot/behaviors/TBranch.py\u001b[0m in \u001b[0;36miterate\u001b[0;34m(self, expressions, cut, filter_name, filter_typename, filter_branch, aliases, language, entry_start, entry_stop, step_size, decompression_executor, interpretation_executor, library, how, report)\u001b[0m\n\u001b[1;32m   1351\u001b[0m \u001b[0;34m\u001b[0m\u001b[0m\n\u001b[1;32m   1352\u001b[0m                 \u001b[0marrays\u001b[0m \u001b[0;34m=\u001b[0m \u001b[0;34m{\u001b[0m\u001b[0;34m}\u001b[0m\u001b[0;34m\u001b[0m\u001b[0;34m\u001b[0m\u001b[0m\n\u001b[0;32m-> 1353\u001b[0;31m                 _ranges_or_baskets_to_arrays(\n\u001b[0m\u001b[1;32m   1354\u001b[0m                     \u001b[0mself\u001b[0m\u001b[0;34m,\u001b[0m\u001b[0;34m\u001b[0m\u001b[0;34m\u001b[0m\u001b[0m\n\u001b[1;32m   1355\u001b[0m                     \u001b[0mranges_or_baskets\u001b[0m\u001b[0;34m,\u001b[0m\u001b[0;34m\u001b[0m\u001b[0;34m\u001b[0m\u001b[0m\n",
      "\u001b[0;32m~/anaconda3/envs/nrCascadeSim/lib/python3.8/site-packages/uproot/behaviors/TBranch.py\u001b[0m in \u001b[0;36m_ranges_or_baskets_to_arrays\u001b[0;34m(hasbranches, ranges_or_baskets, branchid_interpretation, entry_start, entry_stop, decompression_executor, interpretation_executor, library, arrays, update_ranges_or_baskets)\u001b[0m\n\u001b[1;32m   3476\u001b[0m \u001b[0;34m\u001b[0m\u001b[0m\n\u001b[1;32m   3477\u001b[0m         \u001b[0;32melif\u001b[0m \u001b[0misinstance\u001b[0m\u001b[0;34m(\u001b[0m\u001b[0mobj\u001b[0m\u001b[0;34m,\u001b[0m \u001b[0mtuple\u001b[0m\u001b[0;34m)\u001b[0m \u001b[0;32mand\u001b[0m \u001b[0mlen\u001b[0m\u001b[0;34m(\u001b[0m\u001b[0mobj\u001b[0m\u001b[0;34m)\u001b[0m \u001b[0;34m==\u001b[0m \u001b[0;36m3\u001b[0m\u001b[0;34m:\u001b[0m\u001b[0;34m\u001b[0m\u001b[0;34m\u001b[0m\u001b[0m\n\u001b[0;32m-> 3478\u001b[0;31m             \u001b[0muproot\u001b[0m\u001b[0;34m.\u001b[0m\u001b[0msource\u001b[0m\u001b[0;34m.\u001b[0m\u001b[0mfutures\u001b[0m\u001b[0;34m.\u001b[0m\u001b[0mdelayed_raise\u001b[0m\u001b[0;34m(\u001b[0m\u001b[0;34m*\u001b[0m\u001b[0mobj\u001b[0m\u001b[0;34m)\u001b[0m\u001b[0;34m\u001b[0m\u001b[0;34m\u001b[0m\u001b[0m\n\u001b[0m\u001b[1;32m   3479\u001b[0m \u001b[0;34m\u001b[0m\u001b[0m\n\u001b[1;32m   3480\u001b[0m         \u001b[0;32melse\u001b[0m\u001b[0;34m:\u001b[0m\u001b[0;34m\u001b[0m\u001b[0;34m\u001b[0m\u001b[0m\n",
      "\u001b[0;32m~/anaconda3/envs/nrCascadeSim/lib/python3.8/site-packages/uproot/source/futures.py\u001b[0m in \u001b[0;36mdelayed_raise\u001b[0;34m(exception_class, exception_value, traceback)\u001b[0m\n\u001b[1;32m     44\u001b[0m         \u001b[0mexec\u001b[0m\u001b[0;34m(\u001b[0m\u001b[0;34m\"raise exception_class, exception_value, traceback\"\u001b[0m\u001b[0;34m)\u001b[0m\u001b[0;34m\u001b[0m\u001b[0;34m\u001b[0m\u001b[0m\n\u001b[1;32m     45\u001b[0m     \u001b[0;32melse\u001b[0m\u001b[0;34m:\u001b[0m\u001b[0;34m\u001b[0m\u001b[0;34m\u001b[0m\u001b[0m\n\u001b[0;32m---> 46\u001b[0;31m         \u001b[0;32mraise\u001b[0m \u001b[0mexception_value\u001b[0m\u001b[0;34m.\u001b[0m\u001b[0mwith_traceback\u001b[0m\u001b[0;34m(\u001b[0m\u001b[0mtraceback\u001b[0m\u001b[0;34m)\u001b[0m\u001b[0;34m\u001b[0m\u001b[0;34m\u001b[0m\u001b[0m\n\u001b[0m\u001b[1;32m     47\u001b[0m \u001b[0;34m\u001b[0m\u001b[0m\n\u001b[1;32m     48\u001b[0m \u001b[0;34m\u001b[0m\u001b[0m\n",
      "\u001b[0;32m~/anaconda3/envs/nrCascadeSim/lib/python3.8/site-packages/uproot/behaviors/TBranch.py\u001b[0m in \u001b[0;36mbasket_to_array\u001b[0;34m(basket)\u001b[0m\n\u001b[1;32m   3446\u001b[0m \u001b[0;34m\u001b[0m\u001b[0m\n\u001b[1;32m   3447\u001b[0m             \u001b[0;32mif\u001b[0m \u001b[0mlen\u001b[0m\u001b[0;34m(\u001b[0m\u001b[0mbasket_arrays\u001b[0m\u001b[0;34m)\u001b[0m \u001b[0;34m==\u001b[0m \u001b[0mbranchid_num_baskets\u001b[0m\u001b[0;34m[\u001b[0m\u001b[0mbranch\u001b[0m\u001b[0;34m.\u001b[0m\u001b[0mcache_key\u001b[0m\u001b[0;34m]\u001b[0m\u001b[0;34m:\u001b[0m\u001b[0;34m\u001b[0m\u001b[0;34m\u001b[0m\u001b[0m\n\u001b[0;32m-> 3448\u001b[0;31m                 arrays[branch.cache_key] = interpretation.final_array(\n\u001b[0m\u001b[1;32m   3449\u001b[0m                     \u001b[0mbasket_arrays\u001b[0m\u001b[0;34m,\u001b[0m\u001b[0;34m\u001b[0m\u001b[0;34m\u001b[0m\u001b[0m\n\u001b[1;32m   3450\u001b[0m                     \u001b[0mentry_start\u001b[0m\u001b[0;34m,\u001b[0m\u001b[0;34m\u001b[0m\u001b[0;34m\u001b[0m\u001b[0m\n",
      "\u001b[0;32m~/anaconda3/envs/nrCascadeSim/lib/python3.8/site-packages/uproot/interpretation/numerical.py\u001b[0m in \u001b[0;36mfinal_array\u001b[0;34m(self, basket_arrays, entry_start, entry_stop, entry_offsets, library, branch)\u001b[0m\n\u001b[1;32m    113\u001b[0m         \u001b[0moutput\u001b[0m \u001b[0;34m=\u001b[0m \u001b[0mself\u001b[0m\u001b[0;34m.\u001b[0m\u001b[0m_wrap_almost_finalized\u001b[0m\u001b[0;34m(\u001b[0m\u001b[0moutput\u001b[0m\u001b[0;34m)\u001b[0m\u001b[0;34m\u001b[0m\u001b[0;34m\u001b[0m\u001b[0m\n\u001b[1;32m    114\u001b[0m \u001b[0;34m\u001b[0m\u001b[0m\n\u001b[0;32m--> 115\u001b[0;31m         \u001b[0moutput\u001b[0m \u001b[0;34m=\u001b[0m \u001b[0mlibrary\u001b[0m\u001b[0;34m.\u001b[0m\u001b[0mfinalize\u001b[0m\u001b[0;34m(\u001b[0m\u001b[0moutput\u001b[0m\u001b[0;34m,\u001b[0m \u001b[0mbranch\u001b[0m\u001b[0;34m,\u001b[0m \u001b[0mself\u001b[0m\u001b[0;34m,\u001b[0m \u001b[0mentry_start\u001b[0m\u001b[0;34m,\u001b[0m \u001b[0mentry_stop\u001b[0m\u001b[0;34m)\u001b[0m\u001b[0;34m\u001b[0m\u001b[0;34m\u001b[0m\u001b[0m\n\u001b[0m\u001b[1;32m    116\u001b[0m \u001b[0;34m\u001b[0m\u001b[0m\n\u001b[1;32m    117\u001b[0m         self.hook_after_final_array(\n",
      "\u001b[0;32m~/anaconda3/envs/nrCascadeSim/lib/python3.8/site-packages/uproot/interpretation/library.py\u001b[0m in \u001b[0;36mfinalize\u001b[0;34m(self, array, branch, interpretation, entry_start, entry_stop)\u001b[0m\n\u001b[1;32m    483\u001b[0m \u001b[0;34m\u001b[0m\u001b[0m\n\u001b[1;32m    484\u001b[0m     \u001b[0;32mdef\u001b[0m \u001b[0mfinalize\u001b[0m\u001b[0;34m(\u001b[0m\u001b[0mself\u001b[0m\u001b[0;34m,\u001b[0m \u001b[0marray\u001b[0m\u001b[0;34m,\u001b[0m \u001b[0mbranch\u001b[0m\u001b[0;34m,\u001b[0m \u001b[0minterpretation\u001b[0m\u001b[0;34m,\u001b[0m \u001b[0mentry_start\u001b[0m\u001b[0;34m,\u001b[0m \u001b[0mentry_stop\u001b[0m\u001b[0;34m)\u001b[0m\u001b[0;34m:\u001b[0m\u001b[0;34m\u001b[0m\u001b[0;34m\u001b[0m\u001b[0m\n\u001b[0;32m--> 485\u001b[0;31m         \u001b[0mawkward\u001b[0m \u001b[0;34m=\u001b[0m \u001b[0mself\u001b[0m\u001b[0;34m.\u001b[0m\u001b[0mimported\u001b[0m\u001b[0;34m\u001b[0m\u001b[0;34m\u001b[0m\u001b[0m\n\u001b[0m\u001b[1;32m    486\u001b[0m \u001b[0;34m\u001b[0m\u001b[0m\n\u001b[1;32m    487\u001b[0m         \u001b[0;32mif\u001b[0m \u001b[0misinstance\u001b[0m\u001b[0;34m(\u001b[0m\u001b[0marray\u001b[0m\u001b[0;34m,\u001b[0m \u001b[0mawkward\u001b[0m\u001b[0;34m.\u001b[0m\u001b[0mlayout\u001b[0m\u001b[0;34m.\u001b[0m\u001b[0mContent\u001b[0m\u001b[0;34m)\u001b[0m\u001b[0;34m:\u001b[0m\u001b[0;34m\u001b[0m\u001b[0;34m\u001b[0m\u001b[0m\n",
      "\u001b[0;32m~/anaconda3/envs/nrCascadeSim/lib/python3.8/site-packages/uproot/interpretation/library.py\u001b[0m in \u001b[0;36mimported\u001b[0;34m(self)\u001b[0m\n\u001b[1;32m    480\u001b[0m     \u001b[0;34m@\u001b[0m\u001b[0mproperty\u001b[0m\u001b[0;34m\u001b[0m\u001b[0;34m\u001b[0m\u001b[0m\n\u001b[1;32m    481\u001b[0m     \u001b[0;32mdef\u001b[0m \u001b[0mimported\u001b[0m\u001b[0;34m(\u001b[0m\u001b[0mself\u001b[0m\u001b[0;34m)\u001b[0m\u001b[0;34m:\u001b[0m\u001b[0;34m\u001b[0m\u001b[0;34m\u001b[0m\u001b[0m\n\u001b[0;32m--> 482\u001b[0;31m         \u001b[0;32mreturn\u001b[0m \u001b[0muproot\u001b[0m\u001b[0;34m.\u001b[0m\u001b[0mextras\u001b[0m\u001b[0;34m.\u001b[0m\u001b[0mawkward\u001b[0m\u001b[0;34m(\u001b[0m\u001b[0;34m)\u001b[0m\u001b[0;34m\u001b[0m\u001b[0;34m\u001b[0m\u001b[0m\n\u001b[0m\u001b[1;32m    483\u001b[0m \u001b[0;34m\u001b[0m\u001b[0m\n\u001b[1;32m    484\u001b[0m     \u001b[0;32mdef\u001b[0m \u001b[0mfinalize\u001b[0m\u001b[0;34m(\u001b[0m\u001b[0mself\u001b[0m\u001b[0;34m,\u001b[0m \u001b[0marray\u001b[0m\u001b[0;34m,\u001b[0m \u001b[0mbranch\u001b[0m\u001b[0;34m,\u001b[0m \u001b[0minterpretation\u001b[0m\u001b[0;34m,\u001b[0m \u001b[0mentry_start\u001b[0m\u001b[0;34m,\u001b[0m \u001b[0mentry_stop\u001b[0m\u001b[0;34m)\u001b[0m\u001b[0;34m:\u001b[0m\u001b[0;34m\u001b[0m\u001b[0;34m\u001b[0m\u001b[0m\n",
      "\u001b[0;32m~/anaconda3/envs/nrCascadeSim/lib/python3.8/site-packages/uproot/extras.py\u001b[0m in \u001b[0;36mawkward\u001b[0;34m()\u001b[0m\n\u001b[1;32m     21\u001b[0m         \u001b[0;32mimport\u001b[0m \u001b[0mawkward\u001b[0m\u001b[0;34m\u001b[0m\u001b[0;34m\u001b[0m\u001b[0m\n\u001b[1;32m     22\u001b[0m     \u001b[0;32mexcept\u001b[0m \u001b[0mImportError\u001b[0m\u001b[0;34m:\u001b[0m\u001b[0;34m\u001b[0m\u001b[0;34m\u001b[0m\u001b[0m\n\u001b[0;32m---> 23\u001b[0;31m         raise ImportError(\n\u001b[0m\u001b[1;32m     24\u001b[0m             \"\"\"install the 'awkward' package with:\n\u001b[1;32m     25\u001b[0m \u001b[0;34m\u001b[0m\u001b[0m\n",
      "\u001b[0;31mImportError\u001b[0m: install the 'awkward' package with:\n\n    pip install awkward\n\nAlternatively, you can use ``library=\"np\"`` or globally set ``uproot.default_library``\nto output as NumPy arrays, rather than Awkward arrays.\n"
     ]
    }
   ],
   "source": [
    "#This is all pseudo-code until I figure out how to work with the iterate function.\n",
    "\n",
    "directory = 'data/byseries/' #TString directory='/data/chocula/k100/reprocessing/run068_1/midasrq/byseries/'\n",
    "series = ['07180924_1710']  #TString series[]={\"07180924_1710\"};//07180925_1329\"};\n",
    "nSer = 1 #int nSer=1;        \n",
    "    \n",
    "#z = uproot.iterate([directory+series[0]+'/*.root:rqDir/zip1'],allow_missing=True) #ROOT.TChain(\"rqDir/zip1\")\n",
    "#e = uproot.iterate([directory+series[0]+\"/*.root:rqDir/eventTree\"],allow_missing=True)\n",
    "#p = uproot.open(directory+series[0]+\"/\"+series[0]+\"_traces.root:RawTraces\")#:RawTraces\n",
    "\n",
    "for file in os.listdir(directory+series[0]):\n",
    "    print(file)\n",
    " \n",
    "z = uproot.iterate([directory+series[0]+'/*.root:rqDir/zip1'],allow_missing=True) #ROOT.TChain(\"rqDir/zip1\")\n",
    "\n",
    "for x in z:\n",
    "    print(x)"
   ]
  },
  {
   "cell_type": "code",
   "execution_count": 11,
   "metadata": {},
   "outputs": [],
   "source": [
    "#This is all pseudo-code until I figure out how to work with the iterate function.\n",
    "\n",
    "directory = 'data/byseries/' #TString directory='/data/chocula/k100/reprocessing/run068_1/midasrq/byseries/'\n",
    "series = ['07180924_1710']  #TString series[]={\"07180924_1710\"};//07180925_1329\"};\n",
    "nSer = 1 #int nSer=1;        \n",
    "    \n",
    "#z = uproot.iterate([directory+series[0]+'/*.root:rqDir/zip1'],allow_missing=True) #ROOT.TChain(\"rqDir/zip1\")\n",
    "#e = uproot.iterate([directory+series[0]+\"/*.root:rqDir/eventTree\"],allow_missing=True)\n",
    "#p = uproot.open(directory+series[0]+\"/\"+series[0]+\"_traces.root:RawTraces\")#:RawTraces\n",
    "\n",
    "z = {}\n",
    "e = {}\n",
    "p = {}\n",
    "\n",
    "for file in os.listdir(directory+series[0]):\n",
    "    if file.endswith('.root') and not file.endswith('_traces.root'):\n",
    "        openfile = uproot.open(directory+series[0]+'/'+file+\":rqDir\")\n",
    "        for key in openfile[\"zip1\"].keys():\n",
    "            z.update({key : openfile[\"zip1\"][key]})\n",
    "            #print(zs[key])\n",
    "            #print(openfile[\"zip1\"][key]) \n",
    "            #Seems like the same output so I think this method will work!\n",
    "        for key in openfile[\"eventTree\"].keys():\n",
    "            e.update({key : openfile[\"eventTree\"][key]})\n",
    "    elif file.endswith('_traces.root'):\n",
    "        openfile = uproot.open(directory+series[0]+'/'+file+\":RawTraces\")\n",
    "        for key in openfile.keys():\n",
    "            p.update({key : openfile[key]})\n",
    "\n",
    "i = 0\n",
    "#z.Add(ROOT.Form(\"%s%s/umn*.root\",directory.Data(),series[i].Data()))\n",
    "while i<nSer: #for(int i=0;i<nSer;i++){\n",
    "    for file in os.listdir(directory+series[i]):\n",
    "        if file.startswith('umn') and file.endswith('.root'):\n",
    "            openfile = uproot.open(directory+series[i]+'/'+file)\n",
    "            for key in openfile.keys():\n",
    "                z.update(openfile[key])\n",
    "    #e.Add(ROOT.Form(\"%s%s/umn*.root\",directory.Data(),series[i].Data()))\n",
    "    for file in os.listdir(directory+series[i]):\n",
    "        if file.startswith('umn') and file.endswith('.root'):\n",
    "            openfile = uproot.open(directory+series[i]+'/'+file)\n",
    "            for key in openfile.keys():\n",
    "                e.update(openfile[key])\n",
    "    #p.Add(ROOT.Form(\"/home/mastx027/cdms/analysis/run068/trigger/%s_traces.root\",series[i].Data()))\n",
    "    with uproot.open(directory+series[i]+'/'+series[i]+'_traces.root') as openfile:\n",
    "        for key in openfile.keys():\n",
    "            p.update(openfile[key])\n",
    "    i += 1\n",
    "\n",
    "z.update(e) #z.AddFriend(e)\n",
    "z.update(p) #z.AddFriend(p,\"p\")"
   ]
  },
  {
   "cell_type": "markdown",
   "metadata": {},
   "source": [
    "## Cuts"
   ]
  },
  {
   "cell_type": "raw",
   "metadata": {},
   "source": [
    "TCut crand = \"EventCategory\";\n",
    "TCut cBShi=\"PFbs-PFbsmean>1500\";\n",
    "TCut cFstd=\"PFstd<2.5e-7\";\n",
    "TCut cofdel=\"(PTOFdelay<23e-6 && PTOFdelay>-74e-6)\";\n",
    "TCut cofwktiming = \"(PTOFdelay*1e6<PTWKr50*1e6-390 && PTOFdelay*1e6>PTWKr50*1e6-470)\";\n",
    "TCut cglitch = \"1e6*(PTWKf20-PTWKr100)<12\";\n",
    "TCut cspikey = \"1e6*(PTWKf20-PTWKr100)<35\";\n",
    "TCut cchit = \"PTOFchisq<(PTOFamps>6e-6)*((PTOFamps-6e-6)/3e-8)**2+PTOFamps/2e-9+5e3\";\n",
    "\n",
    "z->SetAlias(\"PTINTall_PTdbscorr\",\"PTINTall-(PTdbs<0)*0.5*(PTdbs*4096./PAnorm)\")\n",
    "z->SetAlias(\"PTINTall_PTdbscorr_bscorr\",\"PTINTall_PTdbscorr*(1.+0.20*(PFbs-PFbsmean)/2e3)\")\n",
    "\n",
    "TCut cofintHi_PuBe=\"PTINTall_PTdbscorr_bscorr> (PTOFamps>9.59954e-06)*1.22032e+07*(PTOFamps-9.59954e-06)**2+171.253*PTOFamps+1e-4\"\n",
    "\n",
    "TCut cnopulsepus=cofdel&&!cofintHi_PuBe&&cofwktiming"
   ]
  },
  {
   "cell_type": "code",
   "execution_count": 34,
   "metadata": {},
   "outputs": [
    {
     "ename": "AttributeError",
     "evalue": "'dict' object has no attribute 'aliases'",
     "output_type": "error",
     "traceback": [
      "\u001b[0;31m---------------------------------------------------------------------------\u001b[0m",
      "\u001b[0;31mAttributeError\u001b[0m                            Traceback (most recent call last)",
      "\u001b[0;32m<ipython-input-34-87c8a0a0d384>\u001b[0m in \u001b[0;36m<module>\u001b[0;34m\u001b[0m\n\u001b[1;32m     15\u001b[0m \u001b[0;31m#Problem could be avoided if I found a better way to replace AddFriend\u001b[0m\u001b[0;34m\u001b[0m\u001b[0;34m\u001b[0m\u001b[0;34m\u001b[0m\u001b[0m\n\u001b[1;32m     16\u001b[0m \u001b[0;34m\u001b[0m\u001b[0m\n\u001b[0;32m---> 17\u001b[0;31m \u001b[0mz\u001b[0m\u001b[0;34m.\u001b[0m\u001b[0maliases\u001b[0m\u001b[0;34m(\u001b[0m\u001b[0;34m\"PTINTall_PTdbscorr\"\u001b[0m\u001b[0;34m,\u001b[0m\u001b[0;34m\"PTINTall-(PTdbs<0)*0.5*(PTdbs*4096./PAnorm)\"\u001b[0m\u001b[0;34m)\u001b[0m\u001b[0;31m#z->SetAlias(\"PTINTall_PTdbscorr\",\"PTINTall-(PTdbs<0)*0.5*(PTdbs*4096./PAnorm)\")\u001b[0m\u001b[0;34m\u001b[0m\u001b[0;34m\u001b[0m\u001b[0m\n\u001b[0m\u001b[1;32m     18\u001b[0m \u001b[0mz\u001b[0m\u001b[0;34m.\u001b[0m\u001b[0maliases\u001b[0m\u001b[0;34m(\u001b[0m\u001b[0;34m\"PTINTall_PTdbscorr_bscorr\"\u001b[0m\u001b[0;34m,\u001b[0m\u001b[0;34m\"PTINTall_PTdbscorr*(1.+0.20*(PFbs-PFbsmean)/2e3)\"\u001b[0m\u001b[0;34m)\u001b[0m\u001b[0;31m#z->SetAlias(\"PTINTall_PTdbscorr_bscorr\",\"PTINTall_PTdbscorr*(1.+0.20*(PFbs-PFbsmean)/2e3)\")\u001b[0m\u001b[0;34m\u001b[0m\u001b[0;34m\u001b[0m\u001b[0m\n\u001b[1;32m     19\u001b[0m \u001b[0;34m\u001b[0m\u001b[0m\n",
      "\u001b[0;31mAttributeError\u001b[0m: 'dict' object has no attribute 'aliases'"
     ]
    }
   ],
   "source": [
    "#How do I make these actual cuts? Seems to use uproot .arrays \"aliases\" function\n",
    "#But how do I apply these in a more general sense?\n",
    "\n",
    "crand = \"EventCategory\" #TCut crand = \"EventCategory\";\n",
    "cBShi = \"PFbs-PFbsmean>1500\" #TCut cBShi=\"PFbs-PFbsmean>1500\";\n",
    "cFstd = \"PFstd<2.5e-7\" #TCut cFstd=\"PFstd<2.5e-7\";\n",
    "cofdel = \"(PTOFdelay<23e-6 and PTOFdelay>-74e-6)\" #TCut cofdel=\"(PTOFdelay<23e-6 && PTOFdelay>-74e-6)\";\n",
    "cofwktiming = \"(PTOFdelay*1e6<PTWKr50*1e6-390 and PTOFdelay*1e6>PTWKr50*1e6-470)\" #TCut cofwktiming = \"(PTOFdelay*1e6<PTWKr50*1e6-390 && PTOFdelay*1e6>PTWKr50*1e6-470)\";\n",
    "cglitch = \"1e6*(PTWKf20-PTWKr100)<12\" #TCut cglitch = \"1e6*(PTWKf20-PTWKr100)<12\";\n",
    "cspikey = \"1e6*(PTWKf20-PTWKr100)<35\" #TCut cspikey = \"1e6*(PTWKf20-PTWKr100)<35\";\n",
    "cchit = \"PTOFchisq<(PTOFamps>6e-6)*((PTOFamps-6e-6)/3e-8)**2+PTOFamps/2e-9+5e3\" #TCut cchit = \"PTOFchisq<(PTOFamps>6e-6)*((PTOFamps-6e-6)/3e-8)**2+PTOFamps/2e-9+5e3\";\n",
    "\n",
    "#zs needs to be in uproot's \"default\" format, but I can't figure out how to get it there\n",
    "#have tried appending, have tried using uproot.lazy and uproot.concatenate\n",
    "#Problem could be avoided if I found a better way to replace AddFriend\n",
    "\n",
    "z.aliases(\"PTINTall_PTdbscorr\",\"PTINTall-(PTdbs<0)*0.5*(PTdbs*4096./PAnorm)\")#z->SetAlias(\"PTINTall_PTdbscorr\",\"PTINTall-(PTdbs<0)*0.5*(PTdbs*4096./PAnorm)\")\n",
    "z.aliases(\"PTINTall_PTdbscorr_bscorr\",\"PTINTall_PTdbscorr*(1.+0.20*(PFbs-PFbsmean)/2e3)\")#z->SetAlias(\"PTINTall_PTdbscorr_bscorr\",\"PTINTall_PTdbscorr*(1.+0.20*(PFbs-PFbsmean)/2e3)\")\n",
    "\n",
    "cofintHi_PuBe = \"PTINTall_PTdbscorr_bscorr> (PTOFamps>9.59954e-06)*1.22032e+07*(PTOFamps-9.59954e-06)**2+171.253*PTOFamps+1e-4\" #TCut TCut cofintHi_PuBe=\"PTINTall_PTdbscorr_bscorr> (PTOFamps>9.59954e-06)*1.22032e+07*(PTOFamps-9.59954e-06)**2+171.253*PTOFamps+1e-4\" #TCut cofintHi_PuBe=\"PTINTall_PTdbscorr_bscorr> (PTOFamps>9.59954e-06)*1.22032e+07*(PTOFamps-9.59954e-06)**2+171.253*PTOFamps+1e-4\" #TCut TCut cofintHi_PuBe=\"PTINTall_PTdbscorr_bscorr> (PTOFamps>9.59954e-06)*1.22032e+07*(PTOFamps-9.59954e-06)**2+171.253*PTOFamps+1e-4\";\n",
    "\n",
    "cnopulsepus = cofdel and not cofintHi_PuBe and cofwktiming #TCut cnopulsepus=cofdel&&!cofintHi_PuBe&&cofwktiming"
   ]
  },
  {
   "cell_type": "markdown",
   "metadata": {},
   "source": [
    "## Calibration"
   ]
  },
  {
   "cell_type": "raw",
   "metadata": {},
   "source": [
    "float line14 = 13.95, line18 = 17.74;//[keV]\n",
    "float peak14 = 1.11291e-05, peak18 = 1.30754e-05;//OFamps\n",
    "\n",
    "float pquad = (peak18*line14-peak14*line18)/(peak18*peak14**2-peak14*peak18**2);\n",
    "float plin = (peak14**2*line18-peak18**2*line14)/(peak18*peak14**2-peak14*peak18**2);\n",
    "z->SetAlias(\"PTOFkeV\",Form(\"%e*PTOFamps+%e*PTOFamps**2\",plin,pquad));"
   ]
  },
  {
   "cell_type": "code",
   "execution_count": null,
   "metadata": {},
   "outputs": [],
   "source": [
    "line14 = 13.95 #float line14 = 13.95,\n",
    "line18 = 17.74 #line18 = 17.74;//[keV]\n",
    "peak14 = 1.11291e-05 #float peak14 = 1.11291e-05,\n",
    "peak18 = 1.30754e-05 #peak18 = 1.30754e-05;//OFamps\n",
    "\n",
    "pquad = (peak18*line14-peak14*line18)/(peak18*peak14**2-peak14*peak18**2)      #float pquad = (peak18*line14-peak14*line18)/(peak18*peak14**2-peak14*peak18**2);\n",
    "plin = (peak14**2*line18-peak18**2*line14)/(peak18*peak14**2-peak14*peak18**2) #float plin = (peak14**2*line18-peak18**2*line14)/(peak18*peak14**2-peak14*peak18**2);\n",
    "zs.SetAlias(\"PTOFkeV\",Form(\"%e*PTOFamps+%e*PTOFamps**2\",plin,pquad))#z->SetAlias(\"PTOFkeV\",Form(\"%e*PTOFamps+%e*PTOFamps**2\",plin,pquad));"
   ]
  },
  {
   "cell_type": "markdown",
   "metadata": {},
   "source": [
    "## Load Pulses"
   ]
  },
  {
   "cell_type": "raw",
   "metadata": {},
   "source": [
    "TString names[]={\"PA\",\"PB\",\"PC\",\"PD\",\"PE\",\"PF\",\"PT\"};\n",
    "\n",
    "Double_t bs[7]={0,0,0,0,0,0,0};\n",
    "TH1D *rawPulse[7]={0,0,0,0,0,0,0};\n",
    "TH1D *temp[7]={0,0,0,0,0,0,0};\n",
    "\n",
    "for(Int_t i=0;i<6;i++){z->SetBranchAddress(names[i],&rawPulse[i]);}\n",
    "for(Int_t i=0;i<6;i++){z->SetBranchAddress(names[i]+\"bs\",&bs[i]);}"
   ]
  },
  {
   "cell_type": "code",
   "execution_count": null,
   "metadata": {},
   "outputs": [],
   "source": [
    "names = [\"PA\",\"PB\",\"PC\",\"PD\",\"PE\",\"PF\",\"PT\"] #TString names[]={\"PA\",\"PB\",\"PC\",\"PD\",\"PE\",\"PF\",\"PT\"};\n",
    "\n",
    "bs = [0,0,0,0,0,0,0] #Double_t bs[7]={0,0,0,0,0,0,0};\n",
    "rawPulse = [0,0,0,0,0,0,0] #TH1D *rawPulse[7]={0,0,0,0,0,0,0};\n",
    "temp = [0,0,0,0,0,0,0] #TH1D *temp[7]={0,0,0,0,0,0,0};\n",
    "\n",
    "i = 0\n",
    "while i<6:#for(Int_t i=0;i<6;i++){\n",
    "    zs.SetBranchAddress(names[i],rawPulse[i])#z->SetBranchAddress(names[i],&rawPulse[i]);}\n",
    "    i += 1\n",
    "\n",
    "while i<6:#for(Int_t i=0;i<6;i++){\n",
    "    zs.SetBranchAddress(names[i]+\"bs\",bs[i])#z->SetBranchAddress(names[i]+\"bs\",&bs[i]);}\n",
    "    i += 1"
   ]
  },
  {
   "cell_type": "raw",
   "metadata": {},
   "source": [
    "//RCs from Matt's analysis\n",
    "//v9\n",
    "double PTrc[6]={1.128, 1.323, 0.732, 1.24, 0.929, 0.647}\n",
    "\n",
    "//Generate good event lists\n",
    "//z->Draw(\">>elist2\",cgood&&\"PTOFkeV>0.45&&PTOFkeV<0.55\")\n",
    "z->Draw(\">>elist2\",!crand&&cchit&&\"PTOFkeV>100e-3&&PTOFkeV<150e-3\")\n",
    "//z->GetEntry(elist2->GetEntry(1));\n",
    "\n",
    "//z->Scan(\"PFbs-PFbspost:PTOFkeV\",!crand&&cchit&&\"PTOFkeV<100e-3&&PTOFkeV>50e-3&&PFbs-PFbspost<5\")\n",
    "\n",
    "int iEntry=36046 //0.46 keV\n",
    "z->GetEntry(iEntry)\n",
    "//z->GetEntry(63104)//86 eV, okay\n",
    "//z->GetEntry(34779)//43 eV, okay\n",
    "//z->GetEntry(53495)//94 eV, decent\n",
    "\n",
    "\n",
    "//flat bs subtract, zero first 8 bins, and scale by PT weighting\n",
    "for(int iChan=0;iChan<6;iChan++){BSsubtract(rawPulse[iChan],bs[iChan]);zeroFirst8(rawPulse[iChan]);rawPulse[iChan]->Scale(PTrc[iChan]);}\n",
    "//build PT\n",
    "rawPulse[6]=(TH1D*)rawPulse[0]->Clone();\n",
    "rawPulse[6]->SetTitle(\"PT\");rawPulse[6]->SetName(\"PT\");\n",
    "for(int iChan=1;iChan<6;iChan++){rawPulse[6]->Add(rawPulse[iChan]);}\n",
    "\n",
    "TH1D *hPTraw = rescaleX(rawPulse[6],-400,0.8)\n",
    "\n",
    "bool ADC=true //Plot in ADC units as opposed to \"amps\""
   ]
  },
  {
   "cell_type": "code",
   "execution_count": null,
   "metadata": {},
   "outputs": [],
   "source": [
    "PTrc=[1.128, 1.323, 0.732, 1.24, 0.929, 0.647] #double PTrc[6]={1.128, 1.323, 0.732, 1.24, 0.929, 0.647}\n",
    "\n",
    "z.Draw(\">>elist2\",!crand&&cchit&&\"PTOFkeV>100e-3&&PTOFkeV<150e-3\")#z->Draw(\">>elist2\",!crand&&cchit&&\"PTOFkeV>100e-3&&PTOFkeV<150e-3\")\n",
    "\n",
    "iEntry=36046 #0.46 keV\n",
    "#z->GetEntry(iEntry)\n",
    "\n",
    "#flat bs subtract, zero first 8 bins, and scale by PT weighting\n",
    "iChan = 0\n",
    "while i<6:#for(int iChan=0;iChan<6;iChan++){\n",
    "    ROOT.BSsubtract(rawPulse[iChan],bs[iChan])\n",
    "    ROOT.zeroFirst8(rawPulse[iChan])\n",
    "    rawPulse[iChan].Scale(PTrc[iChan])\n",
    "    iChan++\n",
    "#build PT\n",
    "rawPulse[6]=rawPulse[0].Clone()#rawPulse[6]=(TH1D*)rawPulse[0]->Clone();\n",
    "rawPulse[6].SetTitle(\"PT\")#rawPulse[6]->SetTitle(\"PT\");\n",
    "rawPulse[6.SetName(\"PT\")  #rawPulse[6]->SetName(\"PT\");\n",
    "iChan=1\n",
    "while iChan<6:#for(int iChan=1;iChan<6;iChan++){\n",
    "    rawPulse[6].Add(rawPulse[iChan])#rawPulse[6]->Add(rawPulse[iChan]);}\n",
    "    iChan++\n",
    "\n",
    "hPTraw = rescaleX(rawPulse[6][0],-400,0.8) #TH1D *hPTraw = rescaleX(rawPulse[6],-400,0.8)\n",
    "\n",
    "ADC = True #bool ADC=true //Plot in ADC units as opposed to \"amps\""
   ]
  },
  {
   "cell_type": "raw",
   "metadata": {},
   "source": [
    "//Scale by (incorrect) normalization to amps\n",
    "norm = z->GetLeaf(\"PAnorm\")->GetValue()\n",
    "\n",
    "if(!ADC){hPTraw->Scale(1e6/norm);}\n",
    "\n",
    "TH1D *hPT = rescaleX(PT,-400,0.8)\n",
    "hPT->SetLineColor(kBlack)\n",
    "hPT->SetLineWidth(2)\n",
    "OFamps=z->GetLeaf(\"PTOFamps\")->GetValue()\n",
    "\n",
    "if(!ADC){hPT->Scale(OFamps*1e6);}else{hPT->Scale(OFamps*norm);}\n",
    "\n",
    "shiftTrace(hPT,int((z->GetLeaf(\"PTOFdelay\")->GetValue())/0.8e-6))\n",
    "\n",
    "//Get OFkeV\n",
    "z->Draw(\"PTOFkeV\",Form(\"Entry$==%i\",iEntry))\n",
    "double OFenergy=z->GetV1()[0]"
   ]
  },
  {
   "cell_type": "code",
   "execution_count": null,
   "metadata": {},
   "outputs": [],
   "source": [
    "#//Scale by (incorrect) normalization to amps\n",
    "#norm = z->GetLeaf(\"PAnorm\")->GetValue()\n",
    "\n",
    "if !ADC: #if(!ADC){\n",
    "    #hPTraw->Scale(1e6/norm);}\n",
    "\n",
    "#TH1D *hPT = rescaleX(PT,-400,0.8)\n",
    "#hPT->SetLineColor(kBlack)\n",
    "#hPT->SetLineWidth(2)\n",
    "#OFamps=z->GetLeaf(\"PTOFamps\")->GetValue()\n",
    "\n",
    "if !ADC: #if(!ADC){\n",
    "    #hPT->Scale(OFamps*1e6);}else{hPT->Scale(OFamps*norm);}\n",
    "\n",
    "#shiftTrace(hPT,int((z->GetLeaf(\"PTOFdelay\")->GetValue())/0.8e-6))\n",
    "\n",
    "#//Get OFkeV\n",
    "#z->Draw(\"PTOFkeV\",Form(\"Entry$==%i\",iEntry))\n",
    "#double OFenergy=z->GetV1()[0]"
   ]
  },
  {
   "cell_type": "raw",
   "metadata": {},
   "source": [
    "//Pretty plot\n",
    "hPTraw->SetLineColor(kBlack)\n",
    "hPTraw->SetLineWidth(2)\n",
    "if(!ADC){hPTraw->SetTitle(\";time [#mus];Amplitude [#muA]\");}else{hPTraw->SetTitle(\";time [#mus];Amplitude [ADC]\");}\n",
    "hPTraw->GetXaxis()->CenterTitle()\n",
    "hPTraw->GetXaxis()->SetTitleSize(0.05)\n",
    "hPTraw->GetXaxis()->SetTitleOffset(0.95)\n",
    "hPTraw->GetYaxis()->CenterTitle()\n",
    "hPTraw->GetYaxis()->SetTitleSize(0.05)\n",
    "hPTraw->GetYaxis()->SetTitleOffset(0.92)\n",
    "hPTraw->SetAxisRange(-200,800)\n",
    "hPT->SetAxisRange(-200,800)\n",
    "\n",
    "//Just draw the axis first\n",
    "hPTraw->SetLineWidth(1)\n",
    "hPTraw->Draw()\n",
    "\n",
    "//Include OF delay window on bottom layer\n",
    "TLine *l1 = new TLine()\n",
    "l1->SetLineColor(kBlue)\n",
    "l1->SetLineWidth(3)\n",
    "l1->DrawLine(-75,c1->GetUymin(),-75,c1->GetUymax())\n",
    "l1->DrawLine(25,c1->GetUymin(),25,c1->GetUymax())\n",
    "\n",
    "TBox *b1 = new TBox(-75,c1->GetUymin(),25,c1->GetUymax())\n",
    "b1->SetFillStyle(3005)\n",
    "//gStyle->SetHatchesLineWidth(2)\n",
    "//b1->SetFillStyle(3945)\n",
    "b1->SetFillColor(kBlue)\n",
    "//b1->Draw(\"same\")\n",
    "\n",
    "//Then draw pulses\n",
    "hPTraw->SetLineWidth(2)\n",
    "hPTraw->Draw(\"same\")\n",
    "hPT->SetLineColor(kRed)\n",
    "hPT->SetLineStyle(7)\n",
    "hPT->SetLineWidth(3)\n",
    "hPT->Draw(\"same\")\n",
    "\n",
    "TLegend *leg = new TLegend(0.6,0.6,0.9,0.9)\n",
    "leg->AddEntry(hPTraw,\"Raw PT\",\"L\")\n",
    "//leg->AddEntry(hPT,Form(\"OF fit, %i eVee\",int(1e3*OFenergy)),\"L\")\n",
    "leg->AddEntry(hPT,\"OF fit\",\"L\")\n",
    "//leg->AddEntry(b1,\"OFdelay window\",\"F\")\n",
    "leg->AddEntry(l1,\"OFdelay window\",\"L\")\n",
    "leg->Draw(\"same\")\n",
    "\n",
    "//c1->SaveAs(\"/home/mast/cdms/analysis/run068/images/paper/r68_n125_PT_template_egfit.eps\")\n",
    "//c1->SaveAs(\"/home/mast/cdms/analysis/run068/images/paper/r68_n125_PT_template_egfit.pdf\")\n",
    "\n",
    "//c1->SaveAs(\"/home/mastx027/cdms/analysis/run068/images/paper/r68_n125_PT_template_egfit.png\")\n",
    "//c1->SaveAs(\"/home/mastx027/cdms/analysis/run068/images/paper/r68_n125_PT_template_egfit.eps\")\n",
    "//c1->SaveAs(\"/home/mastx027/cdms/analysis/run068/images/paper/r68_n125_PT_template_egfit.pdf\")\n",
    "\n",
    "c1->SaveAs(\"/home/mastx027/cdms/analysis/run068/images/paper/r68_n125_PT_template_egfit_noNRG.png\")\n",
    "c1->SaveAs(\"/home/mastx027/cdms/analysis/run068/images/paper/r68_n125_PT_template_egfit_noNRG.eps\")\n",
    "c1->SaveAs(\"/home/mastx027/cdms/analysis/run068/images/paper/r68_n125_PT_template_egfit_noNRG.pdf\")\n",
    "c1->SaveAs(\"/home/mastx027/cdms/analysis/run068/images/paper/r68_n125_PT_template_egfit_noNRG.root\")"
   ]
  },
  {
   "cell_type": "code",
   "execution_count": null,
   "metadata": {},
   "outputs": [],
   "source": [
    "#//Pretty plot\n",
    "\n",
    "fig = figure()\n",
    "\n",
    "if !ADC:#if(!ADC){\n",
    "    fig.set_xlabel(\"time [#mus]\") #hPTraw->SetTitle(\";time [#mus];\n",
    "    fig.set_ylabel(\"Amplitude [#muA]\") #Amplitude [#muA]\");}\n",
    "else:#else{\n",
    "    fig.set_xlabel(\"time [#mus]\")#hPTraw->SetTitle(\";time [#mus];\n",
    "    fig.set_ylabel(\"Amplitude [ADC]\")#Amplitude [ADC]\");}\n",
    "title.fontsize=(5) #hPTraw->GetXaxis()->SetTitleSize(0.05)\n",
    "\n",
    "fig.set_xlim([-200,800]) #hPTraw->SetAxisRange(-200,800); hPT->SetAxisRange(-200,800)\n",
    "\n",
    "#//Just draw the axis first\n",
    "#hPTraw->SetLineWidth(1)\n",
    "plot(,color='black',linewidth='2') #hPTraw->SetLineColor(kBlack); hPTraw->SetLineWidth(2); hPTraw->Draw()\n",
    "\n",
    "#//Include OF delay window on bottom layer\n",
    "#TLine *l1 = new TLine()\n",
    "\n",
    "plot(color='blue',linewidth=3) #l1->SetLineColor(kBlue); l1->SetLineWidth(3)\n",
    "#l1->DrawLine(-75,c1->GetUymin(),-75,c1->GetUymax())\n",
    "#l1->DrawLine(25,c1->GetUymin(),25,c1->GetUymax())\n",
    "\n",
    "#TBox *b1 = new TBox(-75,c1->GetUymin(),25,c1->GetUymax())\n",
    "fill_between(color='blue') #b1->SetFillColor(kBlue)\n",
    "\n",
    "#//Then draw pulses\n",
    "plot(color='red',linewidth=2) #hPTraw->SetLineWidth(2)\n",
    "#hPTraw->Draw(\"same\")\n",
    "plot(color='red',linewidth=3) #hPT->SetLineColor(kRed); hPT->SetLineWidth(3)\n",
    "#hPT->Draw(\"same\")\n",
    "\n",
    "legend(labels=[\"Raw PT\", \"OF fit\", \"OFdelay window\"])#TLegend *leg = new TLegend(0.6,0.6,0.9,0.9); leg->AddEntry(hPTraw,\"Raw PT\",\"L\"); leg->AddEntry(hPT,\"OF fit\",\"L\"); leg->AddEntry(l1,\"OFdelay window\",\"L\"); \n",
    "\n",
    "savefig('figures/r68_n125_PT_template_egfit_noNRG.pdf')#c1->SaveAs(\"/home/mastx027/cdms/analysis/run068/images/paper/r68_n125_PT_template_egfit_noNRG.pdf\")\n",
    "show()#leg->Draw(\"same\")"
   ]
  }
 ],
 "metadata": {
  "kernelspec": {
   "display_name": "nrCascadeSim",
   "language": "python",
   "name": "nrcascadesim"
  },
  "language_info": {
   "codemirror_mode": {
    "name": "ipython",
    "version": 3
   },
   "file_extension": ".py",
   "mimetype": "text/x-python",
   "name": "python",
   "nbconvert_exporter": "python",
   "pygments_lexer": "ipython3",
   "version": "3.8.8"
  }
 },
 "nbformat": 4,
 "nbformat_minor": 4
}
