{
 "cells": [
  {
   "cell_type": "markdown",
   "id": "8473570c",
   "metadata": {},
   "source": [
    "(From a private presentation.)"
   ]
  },
  {
   "cell_type": "markdown",
   "id": "a066a7bc",
   "metadata": {},
   "source": [
    "![Fig01](../figures/Fig01_Copy.svg)"
   ]
  },
  {
   "cell_type": "code",
   "execution_count": null,
   "id": "1ecbca01",
   "metadata": {},
   "outputs": [],
   "source": []
  }
 ],
 "metadata": {
  "kernelspec": {
   "display_name": "Python 3",
   "language": "python",
   "name": "python3"
  },
  "language_info": {
   "codemirror_mode": {
    "name": "ipython",
    "version": 3
   },
   "file_extension": ".py",
   "mimetype": "text/x-python",
   "name": "python",
   "nbconvert_exporter": "python",
   "pygments_lexer": "ipython3",
   "version": "3.7.9"
  }
 },
 "nbformat": 4,
 "nbformat_minor": 5
}
