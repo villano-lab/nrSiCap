{
 "cells": [
  {
   "cell_type": "code",
   "execution_count": 1,
   "metadata": {},
   "outputs": [
    {
     "name": "stdout",
     "output_type": "stream",
     "text": [
      "dict_keys(['xx', 'yy', 'ex', 'ey'])\n"
     ]
    },
    {
     "data": {
      "text/html": [
       "<style>.container { width:100% !important; }</style>"
      ],
      "text/plain": [
       "<IPython.core.display.HTML object>"
      ]
     },
     "metadata": {},
     "output_type": "display_data"
    }
   ],
   "source": [
    "#Import libraries & data\n",
    "\n",
    "exec(open(\"../python/nb_setup.py\").read())#Is there a better way to do this?\n",
    "\n",
    "from IPython.core.display import display, HTML\n",
    "from matplotlib.pyplot import *\n",
    "style.use('../mplstyles/stylelib/standard.mplstyle')\n",
    "from tqdm.notebook import tqdm\n",
    "from scipy.optimize import fsolve\n",
    "from scipy.special import erf\n",
    "from scipy.interpolate import CubicSpline\n",
    "import pickle as pkl\n",
    "import sys\n",
    "sys.path.append('../python')\n",
    "import R68_yield as Yield\n",
    "import R68_spec_tools as spec\n",
    "import R68_plot_tools as pt\n",
    "display(HTML(\"<style>.container { width:100% !important; }</style>\"))\n",
    "import matplotlib.patches as mpatches\n",
    "\n",
    "#Set up notebook and load some R68 constants (V, eps, etc.)\n",
    "from constants import *"
   ]
  },
  {
   "cell_type": "code",
   "execution_count": 4,
   "metadata": {},
   "outputs": [],
   "source": [
    "#Function Definitions\n",
    "\n",
    "#Turns out we need the helper functions to still be defined since the stored samplers rely on them.\n",
    "#Don't think it matters if they're exactly the same as what was used, since we don't use them here.\n",
    "def Fit_helper(theta):\n",
    "    return calc_log_prob(model='Sor', theta=theta, theta_bounds=((0,1),(0,3e-2),(0,10),(0,5)),\n",
    "                         spec_bounds=(5,101), likelihood='Pois')\n",
    "\n",
    "def ERtoNR(ER,Y,V,eps):\n",
    "    func = lambda NR : NR-ER*(1+V/eps)/(1+Y.calc(NR)*V/eps)\n",
    "    NR_guess = ER\n",
    "    return fsolve(func, NR_guess)\n",
    "\n",
    "def NRtoER(NR,Y,V,eps):\n",
    "    return NR*(1+Y.calc(NR)*V/eps)/(1+V/eps)"
   ]
  },
  {
   "cell_type": "code",
   "execution_count": 5,
   "metadata": {},
   "outputs": [],
   "source": [
    "#Now run Sorensen\n",
    "\n",
    "model_label='Sorensen'\n",
    "fnames=['data/mcmc_Sor_128walk_50kstep_SNorm_v3.pkl',\n",
    "        'data/mcmc_Sor_128walk_50kstep_SNorm_v4.pkl']\n",
    "\n",
    "mcmc_datas=[]\n",
    "for fname in fnames:\n",
    "    with open(fname,'rb') as file:\n",
    "        mcmc_datas.append(pkl.load(file))\n",
    "RQss=[]\n",
    "for datai in mcmc_datas:\n",
    "    RQss.append(datai['RQs'])"
   ]
  },
  {
   "cell_type": "code",
   "execution_count": 10,
   "metadata": {},
   "outputs": [
    {
     "name": "stdout",
     "output_type": "stream",
     "text": [
      "[0.03458463 0.03495958]\n",
      "0.03458463040758847\n"
     ]
    }
   ],
   "source": [
    "ySor = lambda Er : Yield.ySor(Er,0.151,1.96e-3) \n",
    "ySorv = np.vectorize(ySor)\n",
    "\n",
    "print(ySorv([500,501]))\n",
    "print(Yield.ySor(500,0.151,1.96e-3))  #these are the parameters from the paper. "
   ]
  },
  {
   "cell_type": "code",
   "execution_count": null,
   "metadata": {},
   "outputs": [],
   "source": []
  }
 ],
 "metadata": {
  "kernelspec": {
   "display_name": "R68u",
   "language": "python",
   "name": "r68_uproot"
  },
  "language_info": {
   "codemirror_mode": {
    "name": "ipython",
    "version": 3
   },
   "file_extension": ".py",
   "mimetype": "text/x-python",
   "name": "python",
   "nbconvert_exporter": "python",
   "pygments_lexer": "ipython3",
   "version": "3.8.10"
  }
 },
 "nbformat": 4,
 "nbformat_minor": 4
}
