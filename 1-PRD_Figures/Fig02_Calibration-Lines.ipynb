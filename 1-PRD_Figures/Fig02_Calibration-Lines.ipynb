{
 "cells": [
  {
   "cell_type": "markdown",
   "metadata": {},
   "source": [
    "Code for figure generation not yet available. Static version of the figure below.\n",
    "\n",
    "![A spectrum of background data with calibration lines overlaid on the peaks of the spectrum. The clearest peaks are Am-241, but Pb, Au, and Ag fluorescent lines are present as well. A 60keV Comptom simulation with a flat background is also present, and roughly follows the curve of the data from 0 to 10 keV, but cannot account for the large peaks past this point.](../figures/r68_calall_bg_am_pb_au_ag.png)"
   ]
  }
 ],
 "metadata": {
  "kernelspec": {
   "display_name": "",
   "name": ""
  },
  "language_info": {
   "codemirror_mode": {
    "name": "ipython",
    "version": 3
   },
   "file_extension": ".py",
   "mimetype": "text/x-python",
   "name": "python",
   "nbconvert_exporter": "python",
   "pygments_lexer": "ipython3",
   "version": 3
  }
 },
 "nbformat": 4,
 "nbformat_minor": 4
}
