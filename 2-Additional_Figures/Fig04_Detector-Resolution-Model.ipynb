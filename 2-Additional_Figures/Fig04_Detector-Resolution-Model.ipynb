{
 "cells": [
  {
   "cell_type": "markdown",
   "metadata": {},
   "source": [
    "*Code for figure generation not yet available. Static version of the figure below.*\n",
    "\n",
    "![A best-fit line of resolution vs. energy over a few data points. Seven out of twelve data points were kept; the remaining five were rejected. The line has a chisquare 20.66 with 5 degrees of freedom. The parameter res0 is given as 10.27 ± 5.066 eVee and the parameter B is given as 1.941 ±0.05832 eVee. The line has the general shape of a square root function.](../figures/r68_bg_resolution_bparam.png)"
   ]
  }
 ],
 "metadata": {
  "kernelspec": {
   "display_name": "",
   "name": ""
  },
  "language_info": {
   "codemirror_mode": {
    "name": "ipython",
    "version": 3
   },
   "file_extension": ".py",
   "mimetype": "text/x-python",
   "name": "python",
   "nbconvert_exporter": "python",
   "pygments_lexer": "ipython3",
   "version": 3
  }
 },
 "nbformat": 4,
 "nbformat_minor": 4
}
