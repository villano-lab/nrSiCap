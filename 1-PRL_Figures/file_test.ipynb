{
 "cells": [
  {
   "cell_type": "code",
   "execution_count": 1,
   "metadata": {},
   "outputs": [],
   "source": [
    "import pickle as pkl"
   ]
  },
  {
   "cell_type": "code",
   "execution_count": 3,
   "metadata": {},
   "outputs": [
    {
     "name": "stdout",
     "output_type": "stream",
     "text": [
      "False\n"
     ]
    }
   ],
   "source": [
    "save = False\n",
    "with open( \"data/intmeth_prescan_v4.p\", 'rb') as file:\n",
    "    temp = pkl.load( file )\n",
    "    Y_max_test=temp['Y_max_test']\n",
    "    fnr_test=temp['fnr_test']\n",
    "    matchIzr_test=temp['matchIzr_test']\n",
    "try:\n",
    "    with open( \"data/intmeth_prescan_v4.p\", 'rb' ) as file:\n",
    "        temp = pkl.load( file )\n",
    "        Y_max_test=temp['Y_max_test']\n",
    "        fnr_test=temp['fnr_test']\n",
    "        matchIzr_test=temp['matchIzr_test']\n",
    "except:\n",
    "    save = True\n",
    "print(save)"
   ]
  },
  {
   "cell_type": "code",
   "execution_count": null,
   "metadata": {},
   "outputs": [],
   "source": []
  }
 ],
 "metadata": {
  "kernelspec": {
   "display_name": "R68u",
   "language": "python",
   "name": "r68_uproot"
  },
  "language_info": {
   "codemirror_mode": {
    "name": "ipython",
    "version": 3
   },
   "file_extension": ".py",
   "mimetype": "text/x-python",
   "name": "python",
   "nbconvert_exporter": "python",
   "pygments_lexer": "ipython3",
   "version": "3.8.10"
  }
 },
 "nbformat": 4,
 "nbformat_minor": 4
}
