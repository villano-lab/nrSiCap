{
 "cells": [
  {
   "cell_type": "markdown",
   "id": "fd3295a7-5437-4f4b-a865-e2629d177f69",
   "metadata": {},
   "source": [
    "(From a private presentation.)"
   ]
  },
  {
   "cell_type": "markdown",
   "id": "04d2031c-f616-49f0-b803-a7a334ca093a",
   "metadata": {},
   "source": [
    "![Fig01](../figures/Fig01_Copy.svg)"
   ]
  },
  {
   "cell_type": "code",
   "execution_count": null,
   "id": "a4ad3595-1e34-41de-92be-6461e9747b55",
   "metadata": {},
   "outputs": [],
   "source": []
  }
 ],
 "metadata": {
  "kernelspec": {
   "display_name": "Python 3",
   "language": "python",
   "name": "python3"
  },
  "language_info": {
   "codemirror_mode": {
    "name": "ipython",
    "version": 3
   },
   "file_extension": ".py",
   "mimetype": "text/x-python",
   "name": "python",
   "nbconvert_exporter": "python",
   "pygments_lexer": "ipython3",
   "version": "3.7.9"
  }
 },
 "nbformat": 4,
 "nbformat_minor": 5
}
